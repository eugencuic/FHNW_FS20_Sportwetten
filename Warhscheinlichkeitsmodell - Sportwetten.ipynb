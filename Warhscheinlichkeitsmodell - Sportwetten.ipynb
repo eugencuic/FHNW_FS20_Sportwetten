{
 "cells": [
  {
   "cell_type": "markdown",
   "metadata": {},
   "source": [
    "# FS20C8 -(Social) Media Analytics für Sportwetten\n",
    "# Eugen Cuic\n",
    "\n"
   ]
  },
  {
   "cell_type": "code",
   "execution_count": 3,
   "metadata": {},
   "outputs": [
    {
     "output_type": "stream",
     "name": "stderr",
     "text": "\nBad key \"text.kerning_factor\" on line 4 in\nC:\\Users\\M0268176\\Miniconda3\\lib\\site-packages\\matplotlib\\mpl-data\\stylelib\\_classic_test_patch.mplstyle.\nYou probably need to get an updated matplotlibrc file from\nhttps://github.com/matplotlib/matplotlib/blob/v3.1.2/matplotlibrc.template\nor from the matplotlib source distribution\n"
    }
   ],
   "source": [
    "#import http.client\n",
    "import requests\n",
    "import json\n",
    "import numpy as np\n",
    "import pandas as pd\n",
    "import matplotlib.pyplot as plt\n",
    "import sqlalchemy\n",
    "import matplotlib.animation as animation\n",
    "from sqlalchemy.sql import text\n",
    "from pandas.io.json import json_normalize\n",
    "from scipy.special import factorial\n",
    "from IPython.display import HTML\n",
    "from matplotlib.animation import FuncAnimation\n",
    "from IPython.display import HTML"
   ]
  },
  {
   "cell_type": "markdown",
   "metadata": {},
   "source": [
    "# Agenda\n",
    "\n",
    "In order to create a full system from data to betting it is important to have a path to go. The work will contain following steps:\n",
    "\n",
    "- Search data ressource\n",
    "- Create connection to API\n",
    "- Fetch the data\n",
    "- Split the data into train and test sets\n",
    "- Design Database\n",
    "- Calculate statistical values\n",
    "- Store data into an SQL Database\n",
    "- Create a performance model for probability model\n",
    "- Create interactive visualisation"
   ]
  },
  {
   "cell_type": "markdown",
   "metadata": {},
   "source": [
    "# Search data ressource\n",
    "\n",
    "## Match data\n",
    "Consulting the website to figure out which leagues are included, one can check out following URL:\n",
    "\n",
    "https://www.football-data.org/documentation/api\n",
    "\n",
    "The two most interessting competitions are the German Bundesliga and the Englisch Premier League. Those two should contain most valuable data (as very popular in both countries).\n",
    "\n",
    "In this work the focus will lie on the German Bundesliga\n",
    "\n",
    "Code for the German Bundesliga ist: BL1\n",
    "\n",
    "## Betting data\n",
    "In order to being able to compare my own and the real betting statistics i will scrap history betting data from this website:\n",
    "\n",
    "https://www.oddsportal.com/soccer/germany/bundesliga-2018-2019/results/\n"
   ]
  },
  {
   "cell_type": "markdown",
   "metadata": {},
   "source": [
    "# Create connection to API\n",
    "In the first instance, I will set up the connection to the API. This way I will make sure that I can call it later with less issues."
   ]
  },
  {
   "cell_type": "code",
   "execution_count": 4,
   "metadata": {},
   "outputs": [],
   "source": [
    "myUrl= 'http://api.football-data.org/v2/'\n",
    "myToken = 'e10b4cdfa26a4d4eb2a01f1bb2122595'\n",
    "\n",
    "head = {'X-Auth-Token': '{}'.format(myToken)}"
   ]
  },
  {
   "cell_type": "markdown",
   "metadata": {},
   "source": [
    "# Fetch the data"
   ]
  },
  {
   "cell_type": "code",
   "execution_count": 6,
   "metadata": {},
   "outputs": [
    {
     "output_type": "execute_result",
     "data": {
      "text/plain": "},\n  {'id': 235975,\n   'season': {'id': 155,\n    'startDate': '2018-08-24',\n    'endDate': '2019-05-18',\n    'currentMatchday': 34},\n   'utcDate': '2019-05-11T13:30:00Z',\n   'status': 'FINISHED',\n   'matchday': 33,\n   'stage': 'REGULAR_SEASON',\n   'group': 'Regular Season',\n   'lastUpdated': '2019-05-11T19:20:30Z',\n   'odds': {'msg': 'Activate Odds-Package in User-Panel to retrieve odds.'},\n   'score': {'winner': 'HOME_TEAM',\n    'duration': 'REGULAR',\n    'fullTime': {'homeTeam': 3, 'awayTeam': 2},\n    'halfTime': {'homeTeam': 1, 'awayTeam': 0},\n    'extraTime': {'homeTeam': None, 'awayTeam': None},\n    'penalties': {'homeTeam': None, 'awayTeam': None}},\n   'homeTeam': {'id': 4, 'name': 'BV Borussia 09 Dortmund'},\n   'awayTeam': {'id': 24, 'name': 'TSV Fortuna 95 Düsseldorf'},\n   'referees': [{'id': 43943, 'name': 'Tobias Stieler', 'nationality': None},\n    {'id': 56230, 'name': 'Matthias Jöllenbeck', 'nationality': None},\n    {'id': 15747, 'name': 'Christian Gittelmann', 'nationality': None},\n    {'id': 9569, 'name': 'Mike Pickel', 'nationality': None},\n    {'id': 57539, 'name': 'Tobias Welz', 'nationality': None}]},\n  {'id': 235976,\n   'season': {'id': 155,\n    'startDate': '2018-08-24',\n    'endDate': '2019-05-18',\n    'currentMatchday': 34},\n   'utcDate': '2019-05-11T13:30:00Z',\n   'status': 'FINISHED',\n   'matchday': 33,\n   'stage': 'REGULAR_SEASON',\n   'group': 'Regular Season',\n   'lastUpdated': '2019-05-11T19:25:05Z',\n   'odds': {'msg': 'Activate Odds-Package in User-Panel to retrieve odds.'},\n   'score': {'winner': 'HOME_TEAM',\n    'duration': 'REGULAR',\n    'fullTime': {'homeTeam': 3, 'awayTeam': 0},\n    'halfTime': {'homeTeam': 1, 'awayTeam': 0},\n    'extraTime': {'homeTeam': None, 'awayTeam': None},\n    'penalties': {'homeTeam': None, 'awayTeam': None}},\n   'homeTeam': {'id': 10, 'name': 'VfB Stuttgart'},\n   'awayTeam': {'id': 11, 'name': 'VfL Wolfsburg'},\n   'referees': [{'id': 43875, 'name': 'Felix Brych', 'nationality': None},\n    {'id': 57514, 'name': 'Tobias Christ', 'nationality': None},\n    {'id': 339, 'name': 'Sascha Thielert', 'nationality': None},\n    {'id': 57509, 'name': 'Robert Kempter', 'nationality': None},\n    {'id': 337, 'name': 'Patrick Ittrich', 'nationality': None}]},\n  {'id': 235977,\n   'season': {'id': 155,\n    'startDate': '2018-08-24',\n    'endDate': '2019-05-18',\n    'currentMatchday': 34},\n   'utcDate': '2019-05-11T13:30:00Z',\n   'status': 'FINISHED',\n   'matchday': 33,\n   'stage': 'REGULAR_SEASON',\n   'group': 'Regular Season',\n   'lastUpdated': '2019-05-11T19:18:45Z',\n   'odds': {'msg': 'Activate Odds-Package in User-Panel to retrieve odds.'},\n   'score': {'winner': 'AWAY_TEAM',\n    'duration': 'REGULAR',\n    'fullTime': {'homeTeam': 0, 'awayTeam': 4},\n    'halfTime': {'homeTeam': 0, 'awayTeam': 0},\n    'extraTime': {'homeTeam': None, 'awayTeam': None},\n    'penalties': {'homeTeam': None, 'awayTeam': None}},\n   'homeTeam': {'id': 14, 'name': '1. FC Nürnberg'},\n   'awayTeam': {'id': 18, 'name': 'Borussia Mönchengladbach'},\n   'referees': [{'id': 57532, 'name': 'Frank Willenborg', 'nationality': None},\n    {'id': 15822, 'name': 'Holger Henschel', 'nationality': None},\n    {'id': 338, 'name': 'Norbert Grudzinski', 'nationality': None},\n    {'id': 175, 'name': 'Christof Günsch', 'nationality': None},\n    {'id': 57527, 'name': 'Timo Gerach', 'nationality': None}]},\n  {'id': 235978,\n   'season': {'id': 155,\n    'startDate': '2018-08-24',\n    'endDate': '2019-05-18',\n    'currentMatchday': 34},\n   'utcDate': '2019-05-11T13:30:00Z',\n   'status': 'FINISHED',\n   'matchday': 33,\n   'stage': 'REGULAR_SEASON',\n   'group': 'Regular Season',\n   'lastUpdated': '2019-05-11T19:22:45Z',\n   'odds': {'msg': 'Activate Odds-Package in User-Panel to retrieve odds.'},\n   'score': {'winner': 'HOME_TEAM',\n    'duration': 'REGULAR',\n    'fullTime': {'homeTeam': 3, 'awayTeam': 0},\n    'halfTime': {'homeTeam': 1, 'awayTeam': 0},\n    'extraTime': {'homeTeam': None, 'awayTeam': None},\n    'penalties': {'homeTeam': None, 'awayTeam': None}},\n   'homeTeam': {'id': 8, 'name': 'Hannover 96'},\n   'awayTeam': {'id': 17, 'name': 'SC Freiburg'},\n   'referees': [{'id': 57504, 'name': 'Robert Hartmann', 'nationality': None},\n    {'id': 43877, 'name': 'Stefan Lupp', 'nationality': None},\n    {'id': 57506, 'name': 'Markus Schüller', 'nationality': None},\n    {'id': 15408, 'name': 'Daniel Siebert', 'nationality': None},\n    {'id': 57523, 'name': 'Sven Waschitzki', 'nationality': None}]},\n  {'id': 235979,\n   'season': {'id': 155,\n    'startDate': '2018-08-24',\n    'endDate': '2019-05-18',\n    'currentMatchday': 34},\n   'utcDate': '2019-05-11T13:30:00Z',\n   'status': 'FINISHED',\n   'matchday': 33,\n   'stage': 'REGULAR_SEASON',\n   'group': 'Regular Season',\n   'lastUpdated': '2019-05-11T19:19:25Z',\n   'odds': {'msg': 'Activate Odds-Package in User-Panel to retrieve odds.'},\n   'score': {'winner': 'DRAW',\n    'duration': 'REGULAR',\n    'fullTime': {'homeTeam': 1, 'awayTeam': 1},\n    'halfTime': {'homeTeam': 1, 'awayTeam': 0},\n    'extraTime': {'homeTeam': None, 'awayTeam': None},\n    'penalties': {'homeTeam': None, 'awayTeam': None}},\n   'homeTeam': {'id': 3, 'name': 'Bayer 04 Leverkusen'},\n   'awayTeam': {'id': 6, 'name': 'FC Schalke 04'},\n   'referees': [{'id': 8825, 'name': 'Deniz Aytekin', 'nationality': None},\n    {'id': 8826, 'name': 'Christian Dietz', 'nationality': None},\n    {'id': 8827, 'name': 'Eduard Beitinger', 'nationality': None},\n    {'id': 8828, 'name': 'Thomas Stein', 'nationality': None},\n    {'id': 57512, 'name': 'Tobias Reichel', 'nationality': None}]},\n  {'id': 235980,\n   'season': {'id': 155,\n    'startDate': '2018-08-24',\n    'endDate': '2019-05-18',\n    'currentMatchday': 34},\n   'utcDate': '2019-05-11T13:30:00Z',\n   'status': 'FINISHED',\n   'matchday': 33,\n   'stage': 'REGULAR_SEASON',\n   'group': 'Regular Season',\n   'lastUpdated': '2019-05-11T19:24:25Z',\n   'odds': {'msg': 'Activate Odds-Package in User-Panel to retrieve odds.'},\n   'score': {'winner': 'AWAY_TEAM',\n    'duration': 'REGULAR',\n    'fullTime': {'homeTeam': 0, 'awayTeam': 1},\n    'halfTime': {'homeTeam': 0, 'awayTeam': 1},\n    'extraTime': {'homeTeam': None, 'awayTeam': None},\n    'penalties': {'homeTeam': None, 'awayTeam': None}},\n   'homeTeam': {'id': 2, 'name': 'TSG 1899 Hoffenheim'},\n   'awayTeam': {'id': 12, 'name': 'SV Werder Bremen'},\n   'referees': [{'id': 15746, 'name': 'Bastian Dankert', 'nationality': None},\n    {'id': 57521, 'name': 'René Rohde', 'nationality': None},\n    {'id': 43953, 'name': 'Markus Häcker', 'nationality': None},\n    {'id': 57505, 'name': 'Christian Leicher', 'nationality': None},\n    {'id': 26174, 'name': 'Bibiana Steinhaus', 'nationality': None}]},\n  {'id': 235981,\n   'season': {'id': 155,\n    'startDate': '2018-08-24',\n    'endDate': '2019-05-18',\n    'currentMatchday': 34},\n   'utcDate': '2019-05-11T13:30:00Z',\n   'status': 'FINISHED',\n   'matchday': 33,\n   'stage': 'REGULAR_SEASON',\n   'group': 'Regular Season',\n   'lastUpdated': '2019-05-11T19:21:45Z',\n   'odds': {'msg': 'Activate Odds-Package in User-Panel to retrieve odds.'},\n   'score': {'winner': 'AWAY_TEAM',\n    'duration': 'REGULAR',\n    'fullTime': {'homeTeam': 3, 'awayTeam': 4},\n    'halfTime': {'homeTeam': 1, 'awayTeam': 0},\n    'extraTime': {'homeTeam': None, 'awayTeam': None},\n    'penalties': {'homeTeam': None, 'awayTeam': None}},\n   'homeTeam': {'id': 16, 'name': 'FC Augsburg'},\n   'awayTeam': {'id': 9, 'name': 'Hertha BSC'},\n   'referees': [{'id': 56187, 'name': 'Guido Winkmann', 'nationality': None},\n    {'id': 177, 'name': 'Christian Bandurski', 'nationality': None},\n    {'id': 57525, 'name': 'Marcel Pelgrim', 'nationality': None},\n    {'id': 15825, 'name': 'Martin Petersen', 'nationality': None},\n    {'id': 57529, 'name': 'Robert Kampka', 'nationality': None}]},\n  {'id': 235982,\n   'season': {'id': 155,\n    'startDate': '2018-08-24',\n    'endDate': '2019-05-18',\n    'currentMatchday': 34},\n   'utcDate': '2019-05-11T13:30:00Z',\n   'status': 'FINISHED',\n   'matchday': 33,\n   'stage': 'REGULAR_SEASON',\n   'group': 'Regular Season',\n   'lastUpdated': '2019-05-11T19:23:45Z',\n   'odds': {'msg': 'Activate Odds-Package in User-Panel to retrieve odds.'},\n   'score': {'winner': 'DRAW',\n    'duration': 'REGULAR',\n    'fullTime': {'homeTeam': 0, 'awayTeam': 0},\n    'halfTime': {'homeTeam': 0, 'awayTeam': 0},\n    'extraTime': {'homeTeam': None, 'awayTeam': None},\n    'penalties': {'homeTeam': None, 'awayTeam': None}},\n   'homeTeam': {'id': 721, 'name': 'RB Leipzig'},\n   'awayTeam': {'id': 5, 'name': 'FC Bayern München'},\n   'referees': [{'id': 57510, 'name': 'Manuel Gräfe', 'nationality': None},\n    {'id': 43921, 'name': 'Guido Kleve', 'nationality': None},\n    {'id': 57511, 'name': 'Markus Sinn', 'nationality': None},\n    {'id': 57517, 'name': 'Daniel Schlager', 'nationality': None},\n    {'id': 15821, 'name': 'Marco Fritz', 'nationality': None}]},\n  {'id': 235974,\n   'season': {'id': 155,\n    'startDate': '2018-08-24',\n    'endDate': '2019-05-18',\n    'currentMatchday': 34},\n   'utcDate': '2019-05-12T16:00:00Z',\n   'status': 'FINISHED',\n   'matchday': 33,\n   'stage': 'REGULAR_SEASON',\n   'group': 'Regular Season',\n   'lastUpdated': '2019-05-12T21:00:06Z',\n   'odds': {'msg': 'Activate Odds-Package in User-Panel to retrieve odds.'},\n   'score': {'winner': 'AWAY_TEAM',\n    'duration': 'REGULAR',\n    'fullTime': {'homeTeam': 0, 'awayTeam': 2},\n    'halfTime': {'homeTeam': 0, 'awayTeam': 0},\n    'extraTime': {'homeTeam': None, 'awayTeam': None},\n    'penalties': {'homeTeam': None, 'awayTeam': None}},\n   'homeTeam': {'id': 19, 'name': 'Eintracht Frankfurt'},\n   'awayTeam': {'id': 15, 'name': '1. FSV Mainz 05'},\n   'referees': [{'id': 253, 'name': 'Harm Osmers', 'nationality': None},\n    {'id': 254, 'name': 'Thomas Gorniak', 'nationality': None},\n    {'id': 57509, 'name': 'Robert Kempter', 'nationality': None},\n    {'id': 57523, 'name': 'Sven Waschitzki', 'nationality': None},\n    {'id': 57517, 'name': 'Daniel Schlager', 'nationality': None}]},\n  {'id': 235983,\n   'season': {'id': 155,\n    'startDate': '2018-08-24',\n    'endDate': '2019-05-18',\n    'currentMatchday': 34},\n   'utcDate': '2019-05-18T13:30:00Z',\n   'status': 'FINISHED',\n   'matchday': 34,\n   'stage': 'REGULAR_SEASON',\n   'group': 'Regular Season',\n   'lastUpdated': '2019-05-18T21:00:19Z',\n   'odds': {'msg': 'Activate Odds-Package in User-Panel to retrieve odds.'},\n   'score': {'winner': 'DRAW',\n    'duration': 'REGULAR',\n    'fullTime': {'homeTeam': 0, 'awayTeam': 0},\n    'halfTime': {'homeTeam': 0, 'awayTeam': 0},\n    'extraTime': {'homeTeam': None, 'awayTeam': None},\n    'penalties': {'homeTeam': None, 'awayTeam': None}},\n   'homeTeam': {'id': 6, 'name': 'FC Schalke 04'},\n   'awayTeam': {'id': 10, 'name': 'VfB Stuttgart'},\n   'referees': [{'id': 57519, 'name': 'Robert Schröder', 'nationality': None},\n    {'id': 57533, 'name': 'Alexander Sather', 'nationality': None},\n    {'id': 8828, 'name': 'Thomas Stein', 'nationality': None},\n    {'id': 338, 'name': 'Norbert Grudzinski', 'nationality': None},\n    {'id': 57527, 'name': 'Timo Gerach', 'nationality': None}]},\n  {'id': 235984,\n   'season': {'id': 155,\n    'startDate': '2018-08-24',\n    'endDate': '2019-05-18',\n    'currentMatchday': 34},\n   'utcDate': '2019-05-18T13:30:00Z',\n   'status': 'FINISHED',\n   'matchday': 34,\n   'stage': 'REGULAR_SEASON',\n   'group': 'Regular Season',\n   'lastUpdated': '2019-05-18T21:00:30Z',\n   'odds': {'msg': 'Activate Odds-Package in User-Panel to retrieve odds.'},\n   'score': {'winner': 'HOME_TEAM',\n    'duration': 'REGULAR',\n    'fullTime': {'homeTeam': 2, 'awayTeam': 1},\n    'halfTime': {'homeTeam': 1, 'awayTeam': 0},\n    'extraTime': {'homeTeam': None, 'awayTeam': None},\n    'penalties': {'homeTeam': None, 'awayTeam': None}},\n   'homeTeam': {'id': 12, 'name': 'SV Werder Bremen'},\n   'awayTeam': {'id': 721, 'name': 'RB Leipzig'},\n   'referees': [{'id': 43875, 'name': 'Felix Brych', 'nationality': None},\n    {'id': 43876, 'name': 'Mark Borsch', 'nationality': None},\n    {'id': 43877, 'name': 'Stefan Lupp', 'nationality': None},\n    {'id': 57504, 'name': 'Robert Hartmann', 'nationality': None},\n    {'id': 57542, 'name': 'Günter Perl', 'nationality': None}]},\n  {'id': 235985,\n   'season': {'id': 155,\n    'startDate': '2018-08-24',\n    'endDate': '2019-05-18',\n    'currentMatchday': 34},\n   'utcDate': '2019-05-18T13:30:00Z',\n   'status': 'FINISHED',\n   'matchday': 34,\n   'stage': 'REGULAR_SEASON',\n   'group': 'Regular Season',\n   'lastUpdated': '2019-05-18T21:00:19Z',\n   'odds': {'msg': 'Activate Odds-Package in User-Panel to retrieve odds.'},\n   'score': {'winner': 'AWAY_TEAM',\n    'duration': 'REGULAR',\n    'fullTime': {'homeTeam': 1, 'awayTeam': 5},\n    'halfTime': {'homeTeam': 1, 'awayTeam': 2},\n    'extraTime': {'homeTeam': None, 'awayTeam': None},\n    'penalties': {'homeTeam': None, 'awayTeam': None}},\n   'homeTeam': {'id': 9, 'name': 'Hertha BSC'},\n   'awayTeam': {'id': 3, 'name': 'Bayer 04 Leverkusen'},\n   'referees': [{'id': 15821, 'name': 'Marco Fritz', 'nationality': None},\n    {'id': 57524, 'name': 'Dominik Schaal', 'nationality': None},\n    {'id': 57525, 'name': 'Marcel Pelgrim', 'nationality': None},\n    {'id': 57523, 'name': 'Sven Waschitzki', 'nationality': None},\n    {'id': 56187, 'name': 'Guido Winkmann', 'nationality': None}]},\n  {'id': 235986,\n   'season': {'id': 155,\n    'startDate': '2018-08-24',\n    'endDate': '2019-05-18',\n    'currentMatchday': 34},\n   'utcDate': '2019-05-18T13:30:00Z',\n   'status': 'FINISHED',\n   'matchday': 34,\n   'stage': 'REGULAR_SEASON',\n   'group': 'Regular Season',\n   'lastUpdated': '2019-05-18T20:59:47Z',\n   'odds': {'msg': 'Activate Odds-Package in User-Panel to retrieve odds.'},\n   'score': {'winner': 'AWAY_TEAM',\n    'duration': 'REGULAR',\n    'fullTime': {'homeTeam': 0, 'awayTeam': 2},\n    'halfTime': {'homeTeam': 0, 'awayTeam': 1},\n    'extraTime': {'homeTeam': None, 'awayTeam': None},\n    'penalties': {'homeTeam': None, 'awayTeam': None}},\n   'homeTeam': {'id': 18, 'name': 'Borussia Mönchengladbach'},\n   'awayTeam': {'id': 4, 'name': 'BV Borussia 09 Dortmund'},\n   'referees': [{'id': 57510, 'name': 'Manuel Gräfe', 'nationality': None},\n    {'id': 43921, 'name': 'Guido Kleve', 'nationality': None},\n    {'id': 57511, 'name': 'Markus Sinn', 'nationality': None},\n    {'id': 253, 'name': 'Harm Osmers', 'nationality': None},\n    {'id': 15746, 'name': 'Bastian Dankert', 'nationality': None}]},\n  {'id': 235987,\n   'season': {'id': 155,\n    'startDate': '2018-08-24',\n    'endDate': '2019-05-18',\n    'currentMatchday': 34},\n   'utcDate': '2019-05-18T13:30:00Z',\n   'status': 'FINISHED',\n   'matchday': 34,\n   'stage': 'REGULAR_SEASON',\n   'group': 'Regular Season',\n   'lastUpdated': '2019-05-18T20:59:46Z',\n   'odds': {'msg': 'Activate Odds-Package in User-Panel to retrieve odds.'},\n   'score': {'winner': 'HOME_TEAM',\n    'duration': 'REGULAR',\n    'fullTime': {'homeTeam': 5, 'awayTeam': 1},\n    'halfTime': {'homeTeam': 1, 'awayTeam': 0},\n    'extraTime': {'homeTeam': None, 'awayTeam': None},\n    'penalties': {'homeTeam': None, 'awayTeam': None}},\n   'homeTeam': {'id': 5, 'name': 'FC Bayern München'},\n   'awayTeam': {'id': 19, 'name': 'Eintracht Frankfurt'},\n   'referees': [{'id': 9567, 'name': 'Sascha Stegemann', 'nationality': None},\n    {'id': 9569, 'name': 'Mike Pickel', 'nationality': None},\n    {'id': 57514, 'name': 'Tobias Christ', 'nationality': None},\n    {'id': 57515, 'name': 'Sören Storks', 'nationality': None},\n    {'id': 57532, 'name': 'Frank Willenborg', 'nationality': None}]},\n  {'id': 235988,\n   'season': {'id': 155,\n    'startDate': '2018-08-24',\n    'endDate': '2019-05-18',\n    'currentMatchday': 34},\n   'utcDate': '2019-05-18T13:30:00Z',\n   'status': 'FINISHED',\n   'matchday': 34,\n   'stage': 'REGULAR_SEASON',\n   'group': 'Regular Season',\n   'lastUpdated': '2019-05-18T21:00:30Z',\n   'odds': {'msg': 'Activate Odds-Package in User-Panel to retrieve odds.'},\n   'score': {'winner': 'HOME_TEAM',\n    'duration': 'REGULAR',\n    'fullTime': {'homeTeam': 2, 'awayTeam': 1},\n    'halfTime': {'homeTeam': 0, 'awayTeam': 0},\n    'extraTime': {'homeTeam': None, 'awayTeam': None},\n    'penalties': {'homeTeam': None, 'awayTeam': None}},\n   'homeTeam': {'id': 24, 'name': 'TSV Fortuna 95 Düsseldorf'},\n   'awayTeam': {'id': 8, 'name': 'Hannover 96'},\n   'referees': [{'id': 57516, 'name': 'Benjamin Cortus', 'nationality': None},\n    {'id': 57518, 'name': 'Florian Badstübner', 'nationality': None},\n    {'id': 43879, 'name': 'Marco Achmüller', 'nationality': None},\n    {'id': 254, 'name': 'Thomas Gorniak', 'nationality': None},\n    {'id': 57526, 'name': 'Christian Dingert', 'nationality': None}]},\n  {'id': 235989,\n   'season': {'id': 155,\n    'startDate': '2018-08-24',\n    'endDate': '2019-05-18',\n    'currentMatchday': 34},\n   'utcDate': '2019-05-18T13:30:00Z',\n   'status': 'FINISHED',\n   'matchday': 34,\n   'stage': 'REGULAR_SEASON',\n   'group': 'Regular Season',\n   'lastUpdated': '2019-05-18T21:00:19Z',\n   'odds': {'msg': 'Activate Odds-Package in User-Panel to retrieve odds.'},\n   'score': {'winner': 'HOME_TEAM',\n    'duration': 'REGULAR',\n    'fullTime': {'homeTeam': 5, 'awayTeam': 1},\n    'halfTime': {'homeTeam': 2, 'awayTeam': 0},\n    'extraTime': {'homeTeam': None, 'awayTeam': None},\n    'penalties': {'homeTeam': None, 'awayTeam': None}},\n   'homeTeam': {'id': 17, 'name': 'SC Freiburg'},\n   'awayTeam': {'id': 14, 'name': '1. FC Nürnberg'},\n   'referees': [{'id': 174, 'name': 'Markus Schmidt', 'nationality': None},\n    {'id': 57512, 'name': 'Tobias Reichel', 'nationality': None},\n    {'id': 339, 'name': 'Sascha Thielert', 'nationality': None},\n    {'id': 15747, 'name': 'Christian Gittelmann', 'nationality': None},\n    {'id': 337, 'name': 'Patrick Ittrich', 'nationality': None}]},\n  {'id': 235990,\n   'season': {'id': 155,\n    'startDate': '2018-08-24',\n    'endDate': '2019-05-18',\n    'currentMatchday': 34},\n   'utcDate': '2019-05-18T13:30:00Z',\n   'status': 'FINISHED',\n   'matchday': 34,\n   'stage': 'REGULAR_SEASON',\n   'group': 'Regular Season',\n   'lastUpdated': '2019-05-18T21:00:47Z',\n   'odds': {'msg': 'Activate Odds-Package in User-Panel to retrieve odds.'},\n   'score': {'winner': 'HOME_TEAM',\n    'duration': 'REGULAR',\n    'fullTime': {'homeTeam': 8, 'awayTeam': 1},\n    'halfTime': {'homeTeam': 3, 'awayTeam': 0},\n    'extraTime': {'homeTeam': None, 'awayTeam': None},\n    'penalties': {'homeTeam': None, 'awayTeam': None}},\n   'homeTeam': {'id': 11, 'name': 'VfL Wolfsburg'},\n   'awayTeam': {'id': 16, 'name': 'FC Augsburg'},\n   'referees': [{'id': 43878, 'name': 'Felix Zwayer', 'nationality': None},\n    {'id': 43923, 'name': 'Thorsten Schiffner', 'nationality': None},\n    {'id': 57520, 'name': 'Frederick Assmuth', 'nationality': None},\n    {'id': 175, 'name': 'Christof Günsch', 'nationality': None},\n    {'id': 57539, 'name': 'Tobias Welz', 'nationality': None}]},\n  {'id': 235991,\n   'season': {'id': 155,\n    'startDate': '2018-08-24',\n    'endDate': '2019-05-18',\n    'currentMatchday': 34},\n   'utcDate': '2019-05-18T13:30:00Z',\n   'status': 'FINISHED',\n   'matchday': 34,\n   'stage': 'REGULAR_SEASON',\n   'group': 'Regular Season',\n   'lastUpdated': '2019-05-18T20:59:47Z',\n   'odds': {'msg': 'Activate Odds-Package in User-Panel to retrieve odds.'},\n   'score': {'winner': 'HOME_TEAM',\n    'duration': 'REGULAR',\n    'fullTime': {'homeTeam': 4, 'awayTeam': 2},\n    'halfTime': {'homeTeam': 0, 'awayTeam': 2},\n    'extraTime': {'homeTeam': None, 'awayTeam': None},\n    'penalties': {'homeTeam': None, 'awayTeam': None}},\n   'homeTeam': {'id': 15, 'name': '1. FSV Mainz 05'},\n   'awayTeam': {'id': 2, 'name': 'TSG 1899 Hoffenheim'},\n   'referees': [{'id': 8825, 'name': 'Deniz Aytekin', 'nationality': None},\n    {'id': 8826, 'name': 'Christian Dietz', 'nationality': None},\n    {'id': 8827, 'name': 'Eduard Beitinger', 'nationality': None},\n    {'id': 15823, 'name': 'Arno Blos', 'nationality': None},\n    {'id': 56230, 'name': 'Matthias Jöllenbeck', 'nationality': None}]}]}"
     },
     "metadata": {},
     "execution_count": 6
    }
   ],
   "source": [
    "# testing the connection to see what the output ist\n",
    "response = requests.get(myUrl + \"competitions/BL1/matches?season=2018\", headers=head)\n",
    "\n",
    "# showing the whole output would be too much for the notebook, if someone wants to see it just remove the # from the next line\n",
    "response.json()"
   ]
  },
  {
   "cell_type": "markdown",
   "metadata": {},
   "source": [
    "As we can see above in the comented out line, the request is giving us all necessary data for the probability model:\n",
    "- Matchday\n",
    "- Team Names for Home Team\n",
    "- Team Names for Away Team\n",
    "- Goals for Home Team\n",
    "- Goals for Away Team\n",
    "\n",
    "And if we want to have another season we just adapt the request for the REST API\n",
    "### !!WARNING!! (the free version of the API does not give more data then the season from 2018/2019)"
   ]
  },
  {
   "cell_type": "markdown",
   "metadata": {},
   "source": [
    "The responses from the API contain a lot more data than we need for out model. This is the reason to figure out how we can extract all the necessary data and in a format that we could use later.\n",
    "In the first step we will print out all matches, ordered by the matchday, and add the respective results to see what the way to go is, in order to extract the data"
   ]
  },
  {
   "cell_type": "code",
   "execution_count": 4,
   "metadata": {},
   "outputs": [
    {
     "output_type": "stream",
     "name": "stdout",
     "text": "Matchday 1: FC Bayern München - TSG 1899 Hoffenheim: Result 3 - 1\nMatchday 1: SV Werder Bremen - Hannover 96: Result 1 - 1\nMatchday 1: Hertha BSC - 1. FC Nürnberg: Result 1 - 0\nMatchday 1: TSV Fortuna 95 Düsseldorf - FC Augsburg: Result 1 - 2\nMatchday 1: SC Freiburg - Eintracht Frankfurt: Result 0 - 2\nMatchday 1: VfL Wolfsburg - FC Schalke 04: Result 2 - 1\nMatchday 1: Borussia Mönchengladbach - Bayer 04 Leverkusen: Result 2 - 0\nMatchday 1: 1. FSV Mainz 05 - VfB Stuttgart: Result 1 - 0\nMatchday 1: BV Borussia 09 Dortmund - RB Leipzig: Result 4 - 1\nMatchday 2: Hannover 96 - BV Borussia 09 Dortmund: Result 0 - 0\nMatchday 2: Eintracht Frankfurt - SV Werder Bremen: Result 1 - 2\nMatchday 2: 1. FC Nürnberg - 1. FSV Mainz 05: Result 1 - 1\nMatchday 2: Bayer 04 Leverkusen - VfL Wolfsburg: Result 1 - 3\nMatchday 2: TSG 1899 Hoffenheim - SC Freiburg: Result 3 - 1\nMatchday 2: FC Augsburg - Borussia Mönchengladbach: Result 1 - 1\nMatchday 2: VfB Stuttgart - FC Bayern München: Result 0 - 3\nMatchday 2: RB Leipzig - TSV Fortuna 95 Düsseldorf: Result 1 - 1\nMatchday 2: FC Schalke 04 - Hertha BSC: Result 0 - 2\nMatchday 3: BV Borussia 09 Dortmund - Eintracht Frankfurt: Result 3 - 1\nMatchday 3: FC Bayern München - Bayer 04 Leverkusen: Result 3 - 1\nMatchday 3: TSV Fortuna 95 Düsseldorf - TSG 1899 Hoffenheim: Result 2 - 1\nMatchday 3: VfL Wolfsburg - Hertha BSC: Result 2 - 2\nMatchday 3: 1. FSV Mainz 05 - FC Augsburg: Result 2 - 1\nMatchday 3: RB Leipzig - Hannover 96: Result 3 - 2\nMatchday 3: Borussia Mönchengladbach - FC Schalke 04: Result 2 - 1\nMatchday 3: SV Werder Bremen - 1. FC Nürnberg: Result 1 - 1\nMatchday 3: SC Freiburg - VfB Stuttgart: Result 3 - 3\nMatchday 4: VfB Stuttgart - TSV Fortuna 95 Düsseldorf: Result 0 - 0\nMatchday 4: 1. FC Nürnberg - Hannover 96: Result 2 - 0\nMatchday 4: Hertha BSC - Borussia Mönchengladbach: Result 4 - 2\nMatchday 4: VfL Wolfsburg - SC Freiburg: Result 1 - 3\nMatchday 4: TSG 1899 Hoffenheim - BV Borussia 09 Dortmund: Result 1 - 1\nMatchday 4: FC Augsburg - SV Werder Bremen: Result 2 - 3\nMatchday 4: FC Schalke 04 - FC Bayern München: Result 0 - 2\nMatchday 4: Bayer 04 Leverkusen - 1. FSV Mainz 05: Result 1 - 0\nMatchday 4: Eintracht Frankfurt - RB Leipzig: Result 1 - 1\nMatchday 5: SV Werder Bremen - Hertha BSC: Result 3 - 1\nMatchday 5: Hannover 96 - TSG 1899 Hoffenheim: Result 1 - 3\nMatchday 5: FC Bayern München - FC Augsburg: Result 1 - 1\nMatchday 5: SC Freiburg - FC Schalke 04: Result 1 - 0\nMatchday 5: TSV Fortuna 95 Düsseldorf - Bayer 04 Leverkusen: Result 1 - 2\nMatchday 5: BV Borussia 09 Dortmund - 1. FC Nürnberg: Result 7 - 0\nMatchday 5: Borussia Mönchengladbach - Eintracht Frankfurt: Result 3 - 1\nMatchday 5: 1. FSV Mainz 05 - VfL Wolfsburg: Result 0 - 0\nMatchday 5: RB Leipzig - VfB Stuttgart: Result 2 - 0\nMatchday 6: Hertha BSC - FC Bayern München: Result 2 - 0\nMatchday 6: VfB Stuttgart - SV Werder Bremen: Result 2 - 1\nMatchday 6: FC Schalke 04 - 1. FSV Mainz 05: Result 1 - 0\nMatchday 6: 1. FC Nürnberg - TSV Fortuna 95 Düsseldorf: Result 3 - 0\nMatchday 6: VfL Wolfsburg - Borussia Mönchengladbach: Result 2 - 2\nMatchday 6: TSG 1899 Hoffenheim - RB Leipzig: Result 1 - 2\nMatchday 6: Bayer 04 Leverkusen - BV Borussia 09 Dortmund: Result 2 - 4\nMatchday 6: Eintracht Frankfurt - Hannover 96: Result 4 - 1\nMatchday 6: FC Augsburg - SC Freiburg: Result 4 - 1\nMatchday 7: SV Werder Bremen - VfL Wolfsburg: Result 2 - 0\nMatchday 7: BV Borussia 09 Dortmund - FC Augsburg: Result 4 - 3\nMatchday 7: Hannover 96 - VfB Stuttgart: Result 3 - 1\nMatchday 7: TSV Fortuna 95 Düsseldorf - FC Schalke 04: Result 0 - 2\nMatchday 7: 1. FSV Mainz 05 - Hertha BSC: Result 0 - 0\nMatchday 7: FC Bayern München - Borussia Mönchengladbach: Result 0 - 3\nMatchday 7: SC Freiburg - Bayer 04 Leverkusen: Result 0 - 0\nMatchday 7: TSG 1899 Hoffenheim - Eintracht Frankfurt: Result 1 - 2\nMatchday 7: RB Leipzig - 1. FC Nürnberg: Result 6 - 0\nMatchday 8: Eintracht Frankfurt - TSV Fortuna 95 Düsseldorf: Result 7 - 1\nMatchday 8: VfB Stuttgart - BV Borussia 09 Dortmund: Result 0 - 4\nMatchday 8: 1. FC Nürnberg - TSG 1899 Hoffenheim: Result 1 - 3\nMatchday 8: Bayer 04 Leverkusen - Hannover 96: Result 2 - 2\nMatchday 8: VfL Wolfsburg - FC Bayern München: Result 1 - 3\nMatchday 8: FC Augsburg - RB Leipzig: Result 0 - 0\nMatchday 8: FC Schalke 04 - SV Werder Bremen: Result 0 - 2\nMatchday 8: Hertha BSC - SC Freiburg: Result 1 - 1\nMatchday 8: Borussia Mönchengladbach - 1. FSV Mainz 05: Result 4 - 0\nMatchday 9: SC Freiburg - Borussia Mönchengladbach: Result 3 - 1\nMatchday 9: BV Borussia 09 Dortmund - Hertha BSC: Result 2 - 2\nMatchday 9: Hannover 96 - FC Augsburg: Result 1 - 2\nMatchday 9: TSV Fortuna 95 Düsseldorf - VfL Wolfsburg: Result 0 - 3\nMatchday 9: 1. FSV Mainz 05 - FC Bayern München: Result 1 - 2\nMatchday 9: TSG 1899 Hoffenheim - VfB Stuttgart: Result 4 - 0\nMatchday 9: 1. FC Nürnberg - Eintracht Frankfurt: Result 1 - 1\nMatchday 9: RB Leipzig - FC Schalke 04: Result 0 - 0\nMatchday 9: SV Werder Bremen - Bayer 04 Leverkusen: Result 2 - 6\nMatchday 10: VfB Stuttgart - Eintracht Frankfurt: Result 0 - 3\nMatchday 10: FC Schalke 04 - Hannover 96: Result 3 - 1\nMatchday 10: FC Bayern München - SC Freiburg: Result 1 - 1\nMatchday 10: Bayer 04 Leverkusen - TSG 1899 Hoffenheim: Result 1 - 4\nMatchday 10: VfL Wolfsburg - BV Borussia 09 Dortmund: Result 0 - 1\nMatchday 10: FC Augsburg - 1. FC Nürnberg: Result 2 - 2\nMatchday 10: Hertha BSC - RB Leipzig: Result 0 - 3\nMatchday 10: Borussia Mönchengladbach - TSV Fortuna 95 Düsseldorf: Result 3 - 0\nMatchday 10: 1. FSV Mainz 05 - SV Werder Bremen: Result 2 - 1\nMatchday 11: Hannover 96 - VfL Wolfsburg: Result 2 - 1\nMatchday 11: 1. FC Nürnberg - VfB Stuttgart: Result 0 - 2\nMatchday 11: SV Werder Bremen - Borussia Mönchengladbach: Result 1 - 3\nMatchday 11: TSV Fortuna 95 Düsseldorf - Hertha BSC: Result 4 - 1\nMatchday 11: SC Freiburg - 1. FSV Mainz 05: Result 1 - 3\nMatchday 11: TSG 1899 Hoffenheim - FC Augsburg: Result 2 - 1\nMatchday 11: BV Borussia 09 Dortmund - FC Bayern München: Result 3 - 2\nMatchday 11: RB Leipzig - Bayer 04 Leverkusen: Result 3 - 0\nMatchday 11: Eintracht Frankfurt - FC Schalke 04: Result 3 - 0\nMatchday 12: Bayer 04 Leverkusen - VfB Stuttgart: Result 2 - 0\nMatchday 12: Hertha BSC - TSG 1899 Hoffenheim: Result 3 - 3\nMatchday 12: FC Bayern München - TSV Fortuna 95 Düsseldorf: Result 3 - 3\nMatchday 12: VfL Wolfsburg - RB Leipzig: Result 1 - 0\nMatchday 12: 1. FSV Mainz 05 - BV Borussia 09 Dortmund: Result 1 - 2\nMatchday 12: FC Augsburg - Eintracht Frankfurt: Result 1 - 3\nMatchday 12: FC Schalke 04 - 1. FC Nürnberg: Result 5 - 2\nMatchday 12: SC Freiburg - SV Werder Bremen: Result 1 - 1\nMatchday 12: Borussia Mönchengladbach - Hannover 96: Result 4 - 1\nMatchday 13: TSV Fortuna 95 Düsseldorf - 1. FSV Mainz 05: Result 0 - 1\nMatchday 13: BV Borussia 09 Dortmund - SC Freiburg: Result 2 - 0\nMatchday 13: VfB Stuttgart - FC Augsburg: Result 1 - 0\nMatchday 13: SV Werder Bremen - FC Bayern München: Result 1 - 2\nMatchday 13: Hannover 96 - Hertha BSC: Result 0 - 2\nMatchday 13: TSG 1899 Hoffenheim - FC Schalke 04: Result 1 - 1\nMatchday 13: RB Leipzig - Borussia Mönchengladbach: Result 2 - 0\nMatchday 13: Eintracht Frankfurt - VfL Wolfsburg: Result 1 - 2\nMatchday 13: 1. FC Nürnberg - Bayer 04 Leverkusen: Result 1 - 1\nMatchday 14: SV Werder Bremen - TSV Fortuna 95 Düsseldorf: Result 3 - 1\nMatchday 14: FC Schalke 04 - BV Borussia 09 Dortmund: Result 1 - 2\nMatchday 14: FC Bayern München - 1. FC Nürnberg: Result 3 - 0\nMatchday 14: Bayer 04 Leverkusen - FC Augsburg: Result 1 - 0\nMatchday 14: SC Freiburg - RB Leipzig: Result 3 - 0\nMatchday 14: VfL Wolfsburg - TSG 1899 Hoffenheim: Result 2 - 2\nMatchday 14: Hertha BSC - Eintracht Frankfurt: Result 1 - 0\nMatchday 14: 1. FSV Mainz 05 - Hannover 96: Result 1 - 1\nMatchday 14: Borussia Mönchengladbach - VfB Stuttgart: Result 3 - 0\nMatchday 15: 1. FC Nürnberg - VfL Wolfsburg: Result 0 - 2\nMatchday 15: VfB Stuttgart - Hertha BSC: Result 2 - 1\nMatchday 15: Hannover 96 - FC Bayern München: Result 0 - 4\nMatchday 15: TSV Fortuna 95 Düsseldorf - SC Freiburg: Result 2 - 0\nMatchday 15: TSG 1899 Hoffenheim - Borussia Mönchengladbach: Result 0 - 0\nMatchday 15: FC Augsburg - FC Schalke 04: Result 1 - 1\nMatchday 15: BV Borussia 09 Dortmund - SV Werder Bremen: Result 2 - 1\nMatchday 15: RB Leipzig - 1. FSV Mainz 05: Result 4 - 1\nMatchday 15: Eintracht Frankfurt - Bayer 04 Leverkusen: Result 2 - 1\nMatchday 16: Borussia Mönchengladbach - 1. FC Nürnberg: Result 2 - 0\nMatchday 16: Hertha BSC - FC Augsburg: Result 2 - 2\nMatchday 16: TSV Fortuna 95 Düsseldorf - BV Borussia 09 Dortmund: Result 2 - 1\nMatchday 16: VfL Wolfsburg - VfB Stuttgart: Result 2 - 0\nMatchday 16: FC Schalke 04 - Bayer 04 Leverkusen: Result 1 - 2\nMatchday 16: SV Werder Bremen - TSG 1899 Hoffenheim: Result 1 - 1\nMatchday 16: FC Bayern München - RB Leipzig: Result 1 - 0\nMatchday 16: SC Freiburg - Hannover 96: Result 1 - 1\nMatchday 16: 1. FSV Mainz 05 - Eintracht Frankfurt: Result 2 - 2\nMatchday 17: BV Borussia 09 Dortmund - Borussia Mönchengladbach: Result 2 - 1\nMatchday 17: VfB Stuttgart - FC Schalke 04: Result 1 - 3\nMatchday 17: 1. FC Nürnberg - SC Freiburg: Result 0 - 1\nMatchday 17: Hannover 96 - TSV Fortuna 95 Düsseldorf: Result 0 - 1\nMatchday 17: Bayer 04 Leverkusen - Hertha BSC: Result 3 - 1\nMatchday 17: RB Leipzig - SV Werder Bremen: Result 3 - 2\nMatchday 17: Eintracht Frankfurt - FC Bayern München: Result 0 - 3\nMatchday 17: FC Augsburg - VfL Wolfsburg: Result 2 - 3\nMatchday 17: TSG 1899 Hoffenheim - 1. FSV Mainz 05: Result 1 - 1\nMatchday 18: TSG 1899 Hoffenheim - FC Bayern München: Result 1 - 3\nMatchday 18: Eintracht Frankfurt - SC Freiburg: Result 3 - 1\nMatchday 18: VfB Stuttgart - 1. FSV Mainz 05: Result 2 - 3\nMatchday 18: Hannover 96 - SV Werder Bremen: Result 0 - 1\nMatchday 18: Bayer 04 Leverkusen - Borussia Mönchengladbach: Result 0 - 1\nMatchday 18: FC Augsburg - TSV Fortuna 95 Düsseldorf: Result 1 - 2\nMatchday 18: RB Leipzig - BV Borussia 09 Dortmund: Result 0 - 1\nMatchday 18: 1. FC Nürnberg - Hertha BSC: Result 1 - 3\nMatchday 18: FC Schalke 04 - VfL Wolfsburg: Result 2 - 1\nMatchday 19: Hertha BSC - FC Schalke 04: Result 2 - 2\nMatchday 19: BV Borussia 09 Dortmund - Hannover 96: Result 5 - 1\nMatchday 19: Borussia Mönchengladbach - FC Augsburg: Result 2 - 0\nMatchday 19: SC Freiburg - TSG 1899 Hoffenheim: Result 2 - 4\nMatchday 19: VfL Wolfsburg - Bayer 04 Leverkusen: Result 0 - 3\nMatchday 19: 1. FSV Mainz 05 - 1. FC Nürnberg: Result 2 - 1\nMatchday 19: SV Werder Bremen - Eintracht Frankfurt: Result 2 - 2\nMatchday 19: FC Bayern München - VfB Stuttgart: Result 4 - 1\nMatchday 19: TSV Fortuna 95 Düsseldorf - RB Leipzig: Result 0 - 4\nMatchday 20: Hannover 96 - RB Leipzig: Result 0 - 3\nMatchday 20: Eintracht Frankfurt - BV Borussia 09 Dortmund: Result 1 - 1\nMatchday 20: 1. FC Nürnberg - SV Werder Bremen: Result 1 - 1\nMatchday 20: Hertha BSC - VfL Wolfsburg: Result 0 - 1\nMatchday 20: Bayer 04 Leverkusen - FC Bayern München: Result 3 - 1\nMatchday 20: TSG 1899 Hoffenheim - TSV Fortuna 95 Düsseldorf: Result 1 - 1\nMatchday 20: FC Schalke 04 - Borussia Mönchengladbach: Result 0 - 2\nMatchday 20: FC Augsburg - 1. FSV Mainz 05: Result 3 - 0\nMatchday 20: VfB Stuttgart - SC Freiburg: Result 2 - 2\nMatchday 21: 1. FSV Mainz 05 - Bayer 04 Leverkusen: Result 1 - 5\nMatchday 21: BV Borussia 09 Dortmund - TSG 1899 Hoffenheim: Result 3 - 3\nMatchday 21: Hannover 96 - 1. FC Nürnberg: Result 2 - 0\nMatchday 21: Borussia Mönchengladbach - Hertha BSC: Result 0 - 3\nMatchday 21: SC Freiburg - VfL Wolfsburg: Result 3 - 3\nMatchday 21: RB Leipzig - Eintracht Frankfurt: Result 0 - 0\nMatchday 21: FC Bayern München - FC Schalke 04: Result 3 - 1\nMatchday 21: SV Werder Bremen - FC Augsburg: Result 4 - 0\nMatchday 21: TSV Fortuna 95 Düsseldorf - VfB Stuttgart: Result 3 - 0\nMatchday 22: FC Augsburg - FC Bayern München: Result 2 - 3\nMatchday 22: VfB Stuttgart - RB Leipzig: Result 1 - 3\nMatchday 22: FC Schalke 04 - SC Freiburg: Result 0 - 0\nMatchday 22: VfL Wolfsburg - 1. FSV Mainz 05: Result 3 - 0\nMatchday 22: TSG 1899 Hoffenheim - Hannover 96: Result 3 - 0\nMatchday 22: Hertha BSC - SV Werder Bremen: Result 1 - 1\nMatchday 22: Eintracht Frankfurt - Borussia Mönchengladbach: Result 1 - 1\nMatchday 22: Bayer 04 Leverkusen - TSV Fortuna 95 Düsseldorf: Result 2 - 0\nMatchday 22: 1. FC Nürnberg - BV Borussia 09 Dortmund: Result 0 - 0\nMatchday 23: SV Werder Bremen - VfB Stuttgart: Result 1 - 1\nMatchday 23: Borussia Mönchengladbach - VfL Wolfsburg: Result 0 - 3\nMatchday 23: FC Bayern München - Hertha BSC: Result 1 - 0\nMatchday 23: SC Freiburg - FC Augsburg: Result 5 - 1\nMatchday 23: 1. FSV Mainz 05 - FC Schalke 04: Result 3 - 0\nMatchday 23: TSV Fortuna 95 Düsseldorf - 1. FC Nürnberg: Result 2 - 1\nMatchday 23: Hannover 96 - Eintracht Frankfurt: Result 0 - 3\nMatchday 23: BV Borussia 09 Dortmund - Bayer 04 Leverkusen: Result 3 - 2\nMatchday 23: RB Leipzig - TSG 1899 Hoffenheim: Result 1 - 1\nMatchday 24: FC Augsburg - BV Borussia 09 Dortmund: Result 2 - 1\nMatchday 24: Eintracht Frankfurt - TSG 1899 Hoffenheim: Result 3 - 2\nMatchday 24: FC Schalke 04 - TSV Fortuna 95 Düsseldorf: Result 0 - 4\nMatchday 24: 1. FC Nürnberg - RB Leipzig: Result 0 - 1\nMatchday 24: Hertha BSC - 1. FSV Mainz 05: Result 2 - 1\nMatchday 24: Bayer 04 Leverkusen - SC Freiburg: Result 2 - 0\nMatchday 24: Borussia Mönchengladbach - FC Bayern München: Result 1 - 5\nMatchday 24: VfB Stuttgart - Hannover 96: Result 5 - 1\nMatchday 24: VfL Wolfsburg - SV Werder Bremen: Result 1 - 1\nMatchday 25: SV Werder Bremen - FC Schalke 04: Result 4 - 2\nMatchday 25: BV Borussia 09 Dortmund - VfB Stuttgart: Result 3 - 1\nMatchday 25: FC Bayern München - VfL Wolfsburg: Result 6 - 0\nMatchday 25: SC Freiburg - Hertha BSC: Result 2 - 1\nMatchday 25: RB Leipzig - FC Augsburg: Result 0 - 0\nMatchday 25: 1. FSV Mainz 05 - Borussia Mönchengladbach: Result 0 - 1\nMatchday 25: TSG 1899 Hoffenheim - 1. FC Nürnberg: Result 2 - 1\nMatchday 25: Hannover 96 - Bayer 04 Leverkusen: Result 2 - 3\nMatchday 25: TSV Fortuna 95 Düsseldorf - Eintracht Frankfurt: Result 0 - 3\nMatchday 26: Borussia Mönchengladbach - SC Freiburg: Result 1 - 1\nMatchday 26: VfB Stuttgart - TSG 1899 Hoffenheim: Result 1 - 1\nMatchday 26: FC Schalke 04 - RB Leipzig: Result 0 - 1\nMatchday 26: VfL Wolfsburg - TSV Fortuna 95 Düsseldorf: Result 5 - 2\nMatchday 26: FC Augsburg - Hannover 96: Result 3 - 1\nMatchday 26: Hertha BSC - BV Borussia 09 Dortmund: Result 2 - 3\nMatchday 26: Bayer 04 Leverkusen - SV Werder Bremen: Result 1 - 3\nMatchday 26: Eintracht Frankfurt - 1. FC Nürnberg: Result 1 - 0\nMatchday 26: FC Bayern München - 1. FSV Mainz 05: Result 6 - 0\nMatchday 27: TSG 1899 Hoffenheim - Bayer 04 Leverkusen: Result 4 - 1\nMatchday 27: BV Borussia 09 Dortmund - VfL Wolfsburg: Result 2 - 0\nMatchday 27: 1. FC Nürnberg - FC Augsburg: Result 3 - 0\nMatchday 27: SV Werder Bremen - 1. FSV Mainz 05: Result 3 - 1\nMatchday 27: TSV Fortuna 95 Düsseldorf - Borussia Mönchengladbach: Result 3 - 1\nMatchday 27: SC Freiburg - FC Bayern München: Result 1 - 1\nMatchday 27: RB Leipzig - Hertha BSC: Result 5 - 0\nMatchday 27: Hannover 96 - FC Schalke 04: Result 0 - 1\nMatchday 27: Eintracht Frankfurt - VfB Stuttgart: Result 3 - 0\nMatchday 28: 1. FSV Mainz 05 - SC Freiburg: Result 5 - 0\nMatchday 28: VfB Stuttgart - 1. FC Nürnberg: Result 1 - 1\nMatchday 28: FC Schalke 04 - Eintracht Frankfurt: Result 1 - 2\nMatchday 28: Hertha BSC - TSV Fortuna 95 Düsseldorf: Result 1 - 2\nMatchday 28: Bayer 04 Leverkusen - RB Leipzig: Result 2 - 4\nMatchday 28: VfL Wolfsburg - Hannover 96: Result 3 - 1\nMatchday 28: FC Bayern München - BV Borussia 09 Dortmund: Result 5 - 0\nMatchday 28: FC Augsburg - TSG 1899 Hoffenheim: Result 0 - 4\nMatchday 28: Borussia Mönchengladbach - SV Werder Bremen: Result 1 - 1\nMatchday 29: 1. FC Nürnberg - FC Schalke 04: Result 1 - 1\nMatchday 29: VfB Stuttgart - Bayer 04 Leverkusen: Result 0 - 1\nMatchday 29: SV Werder Bremen - SC Freiburg: Result 2 - 1\nMatchday 29: Hannover 96 - Borussia Mönchengladbach: Result 0 - 1\nMatchday 29: RB Leipzig - VfL Wolfsburg: Result 2 - 0\nMatchday 29: BV Borussia 09 Dortmund - 1. FSV Mainz 05: Result 2 - 1\nMatchday 29: TSG 1899 Hoffenheim - Hertha BSC: Result 2 - 0\nMatchday 29: TSV Fortuna 95 Düsseldorf - FC Bayern München: Result 1 - 4\nMatchday 29: Eintracht Frankfurt - FC Augsburg: Result 1 - 3\nMatchday 30: FC Bayern München - SV Werder Bremen: Result 1 - 0\nMatchday 30: Bayer 04 Leverkusen - 1. FC Nürnberg: Result 2 - 0\nMatchday 30: 1. FSV Mainz 05 - TSV Fortuna 95 Düsseldorf: Result 3 - 1\nMatchday 30: FC Augsburg - VfB Stuttgart: Result 6 - 0\nMatchday 30: Borussia Mönchengladbach - RB Leipzig: Result 1 - 2\nMatchday 30: FC Schalke 04 - TSG 1899 Hoffenheim: Result 2 - 5\nMatchday 30: SC Freiburg - BV Borussia 09 Dortmund: Result 0 - 4\nMatchday 30: Hertha BSC - Hannover 96: Result 0 - 0\nMatchday 30: VfL Wolfsburg - Eintracht Frankfurt: Result 1 - 1\nMatchday 31: FC Augsburg - Bayer 04 Leverkusen: Result 1 - 4\nMatchday 31: Eintracht Frankfurt - Hertha BSC: Result 0 - 0\nMatchday 31: BV Borussia 09 Dortmund - FC Schalke 04: Result 2 - 4\nMatchday 31: Hannover 96 - 1. FSV Mainz 05: Result 1 - 0\nMatchday 31: TSV Fortuna 95 Düsseldorf - SV Werder Bremen: Result 4 - 1\nMatchday 31: RB Leipzig - SC Freiburg: Result 2 - 1\nMatchday 31: VfB Stuttgart - Borussia Mönchengladbach: Result 1 - 0\nMatchday 31: TSG 1899 Hoffenheim - VfL Wolfsburg: Result 1 - 4\nMatchday 31: 1. FC Nürnberg - FC Bayern München: Result 1 - 1\nMatchday 32: 1. FSV Mainz 05 - RB Leipzig: Result 3 - 3\nMatchday 32: Hertha BSC - VfB Stuttgart: Result 3 - 1\nMatchday 32: Borussia Mönchengladbach - TSG 1899 Hoffenheim: Result 2 - 2\nMatchday 32: FC Bayern München - Hannover 96: Result 3 - 1\nMatchday 32: VfL Wolfsburg - 1. FC Nürnberg: Result 2 - 0\nMatchday 32: SV Werder Bremen - BV Borussia 09 Dortmund: Result 2 - 2\nMatchday 32: FC Schalke 04 - FC Augsburg: Result 0 - 0\nMatchday 32: SC Freiburg - TSV Fortuna 95 Düsseldorf: Result 1 - 1\nMatchday 32: Bayer 04 Leverkusen - Eintracht Frankfurt: Result 6 - 1\nMatchday 33: BV Borussia 09 Dortmund - TSV Fortuna 95 Düsseldorf: Result 3 - 2\nMatchday 33: VfB Stuttgart - VfL Wolfsburg: Result 3 - 0\nMatchday 33: 1. FC Nürnberg - Borussia Mönchengladbach: Result 0 - 4\nMatchday 33: Hannover 96 - SC Freiburg: Result 3 - 0\nMatchday 33: Bayer 04 Leverkusen - FC Schalke 04: Result 1 - 1\nMatchday 33: TSG 1899 Hoffenheim - SV Werder Bremen: Result 0 - 1\nMatchday 33: FC Augsburg - Hertha BSC: Result 3 - 4\nMatchday 33: RB Leipzig - FC Bayern München: Result 0 - 0\nMatchday 33: Eintracht Frankfurt - 1. FSV Mainz 05: Result 0 - 2\nMatchday 34: FC Schalke 04 - VfB Stuttgart: Result 0 - 0\nMatchday 34: SV Werder Bremen - RB Leipzig: Result 2 - 1\nMatchday 34: Hertha BSC - Bayer 04 Leverkusen: Result 1 - 5\nMatchday 34: Borussia Mönchengladbach - BV Borussia 09 Dortmund: Result 0 - 2\nMatchday 34: FC Bayern München - Eintracht Frankfurt: Result 5 - 1\nMatchday 34: TSV Fortuna 95 Düsseldorf - Hannover 96: Result 2 - 1\nMatchday 34: SC Freiburg - 1. FC Nürnberg: Result 5 - 1\nMatchday 34: VfL Wolfsburg - FC Augsburg: Result 8 - 1\nMatchday 34: 1. FSV Mainz 05 - TSG 1899 Hoffenheim: Result 4 - 2\n"
    }
   ],
   "source": [
    "# iterrating through all JSON responses to extract the necessary data and also format it properly\n",
    "for c in response.json()['matches']:\n",
    "    print (\"Matchday \" + str(c['matchday']) + \": \" + \n",
    "    c['homeTeam']['name'] + \" - \" + c['awayTeam']['name'] \n",
    "    + \": Result \" + str(c['score']['fullTime']['homeTeam']) + \" - \" \n",
    "    + str(c['score']['fullTime']['awayTeam'] ) )"
   ]
  },
  {
   "cell_type": "markdown",
   "metadata": {},
   "source": [
    "As seen above it is neccessary to transform the integers into strings before being able to put them into one line with the other extracted data fragments.\n",
    "Extracting those values separatelly is not an issue, but it is not possible to concatenate strings and integers together.\n",
    "\n",
    "Before splitting the data, it will be put into a Pandas DataFrame to make it easier to work with, especially because the data is still in JSON Format which makes it hard to work with when it comes to statistical models"
   ]
  },
  {
   "cell_type": "code",
   "execution_count": 7,
   "metadata": {
    "tags": [
     "outputPrepend"
    ]
   },
   "outputs": [
    {
     "output_type": "execute_result",
     "data": {
      "text/plain": "       id               utcDate    status  matchday           stage  \\\n0  235686  2018-08-24T18:30:00Z  FINISHED         1  REGULAR_SEASON   \n1  235688  2018-08-25T13:30:00Z  FINISHED         1  REGULAR_SEASON   \n2  235689  2018-08-25T13:30:00Z  FINISHED         1  REGULAR_SEASON   \n3  235691  2018-08-25T13:30:00Z  FINISHED         1  REGULAR_SEASON   \n4  235692  2018-08-25T13:30:00Z  FINISHED         1  REGULAR_SEASON   \n\n            group           lastUpdated  \\\n0  Regular Season  2019-03-16T17:30:32Z   \n1  Regular Season  2019-03-16T17:30:32Z   \n2  Regular Season  2019-03-16T17:30:32Z   \n3  Regular Season  2019-03-16T17:30:32Z   \n4  Regular Season  2019-03-16T17:30:32Z   \n\n                                            referees  season.id  \\\n0  [{'id': 15746, 'name': 'Bastian Dankert', 'nat...        155   \n1  [{'id': 43875, 'name': 'Felix Brych', 'nationa...        155   \n2  [{'id': 57539, 'name': 'Tobias Welz', 'nationa...        155   \n3  [{'id': 174, 'name': 'Markus Schmidt', 'nation...        155   \n4  [{'id': 57510, 'name': 'Manuel Gräfe', 'nation...        155   \n\n  season.startDate  ... score.halfTime.homeTeam  score.halfTime.awayTeam  \\\n0       2018-08-24  ...                       1                        0   \n1       2018-08-24  ...                       0                        0   \n2       2018-08-24  ...                       1                        0   \n3       2018-08-24  ...                       1                        0   \n4       2018-08-24  ...                       0                        1   \n\n  score.extraTime.homeTeam score.extraTime.awayTeam score.penalties.homeTeam  \\\n0                     None                     None                     None   \n1                     None                     None                     None   \n2                     None                     None                     None   \n3                     None                     None                     None   \n4                     None                     None                     None   \n\n   score.penalties.awayTeam  homeTeam.id              homeTeam.name  \\\n0                      None            5          FC Bayern München   \n1                      None           12           SV Werder Bremen   \n2                      None            9                 Hertha BSC   \n3                      None           24  TSV Fortuna 95 Düsseldorf   \n4                      None           17                SC Freiburg   \n\n   awayTeam.id        awayTeam.name  \n0            2  TSG 1899 Hoffenheim  \n1            8          Hannover 96  \n2           14       1. FC Nürnberg  \n3           16          FC Augsburg  \n4           19  Eintracht Frankfurt  \n\n[5 rows x 27 columns]",
      "text/html": "<div>\n<style scoped>\n    .dataframe tbody tr th:only-of-type {\n        vertical-align: middle;\n    }\n\n    .dataframe tbody tr th {\n        vertical-align: top;\n    }\n\n    .dataframe thead th {\n        text-align: right;\n    }\n</style>\n<table border=\"1\" class=\"dataframe\">\n  <thead>\n    <tr style=\"text-align: right;\">\n      <th></th>\n      <th>id</th>\n      <th>utcDate</th>\n      <th>status</th>\n      <th>matchday</th>\n      <th>stage</th>\n      <th>group</th>\n      <th>lastUpdated</th>\n      <th>referees</th>\n      <th>season.id</th>\n      <th>season.startDate</th>\n      <th>...</th>\n      <th>score.halfTime.homeTeam</th>\n      <th>score.halfTime.awayTeam</th>\n      <th>score.extraTime.homeTeam</th>\n      <th>score.extraTime.awayTeam</th>\n      <th>score.penalties.homeTeam</th>\n      <th>score.penalties.awayTeam</th>\n      <th>homeTeam.id</th>\n      <th>homeTeam.name</th>\n      <th>awayTeam.id</th>\n      <th>awayTeam.name</th>\n    </tr>\n  </thead>\n  <tbody>\n    <tr>\n      <th>0</th>\n      <td>235686</td>\n      <td>2018-08-24T18:30:00Z</td>\n      <td>FINISHED</td>\n      <td>1</td>\n      <td>REGULAR_SEASON</td>\n      <td>Regular Season</td>\n      <td>2019-03-16T17:30:32Z</td>\n      <td>[{'id': 15746, 'name': 'Bastian Dankert', 'nat...</td>\n      <td>155</td>\n      <td>2018-08-24</td>\n      <td>...</td>\n      <td>1</td>\n      <td>0</td>\n      <td>None</td>\n      <td>None</td>\n      <td>None</td>\n      <td>None</td>\n      <td>5</td>\n      <td>FC Bayern München</td>\n      <td>2</td>\n      <td>TSG 1899 Hoffenheim</td>\n    </tr>\n    <tr>\n      <th>1</th>\n      <td>235688</td>\n      <td>2018-08-25T13:30:00Z</td>\n      <td>FINISHED</td>\n      <td>1</td>\n      <td>REGULAR_SEASON</td>\n      <td>Regular Season</td>\n      <td>2019-03-16T17:30:32Z</td>\n      <td>[{'id': 43875, 'name': 'Felix Brych', 'nationa...</td>\n      <td>155</td>\n      <td>2018-08-24</td>\n      <td>...</td>\n      <td>0</td>\n      <td>0</td>\n      <td>None</td>\n      <td>None</td>\n      <td>None</td>\n      <td>None</td>\n      <td>12</td>\n      <td>SV Werder Bremen</td>\n      <td>8</td>\n      <td>Hannover 96</td>\n    </tr>\n    <tr>\n      <th>2</th>\n      <td>235689</td>\n      <td>2018-08-25T13:30:00Z</td>\n      <td>FINISHED</td>\n      <td>1</td>\n      <td>REGULAR_SEASON</td>\n      <td>Regular Season</td>\n      <td>2019-03-16T17:30:32Z</td>\n      <td>[{'id': 57539, 'name': 'Tobias Welz', 'nationa...</td>\n      <td>155</td>\n      <td>2018-08-24</td>\n      <td>...</td>\n      <td>1</td>\n      <td>0</td>\n      <td>None</td>\n      <td>None</td>\n      <td>None</td>\n      <td>None</td>\n      <td>9</td>\n      <td>Hertha BSC</td>\n      <td>14</td>\n      <td>1. FC Nürnberg</td>\n    </tr>\n    <tr>\n      <th>3</th>\n      <td>235691</td>\n      <td>2018-08-25T13:30:00Z</td>\n      <td>FINISHED</td>\n      <td>1</td>\n      <td>REGULAR_SEASON</td>\n      <td>Regular Season</td>\n      <td>2019-03-16T17:30:32Z</td>\n      <td>[{'id': 174, 'name': 'Markus Schmidt', 'nation...</td>\n      <td>155</td>\n      <td>2018-08-24</td>\n      <td>...</td>\n      <td>1</td>\n      <td>0</td>\n      <td>None</td>\n      <td>None</td>\n      <td>None</td>\n      <td>None</td>\n      <td>24</td>\n      <td>TSV Fortuna 95 Düsseldorf</td>\n      <td>16</td>\n      <td>FC Augsburg</td>\n    </tr>\n    <tr>\n      <th>4</th>\n      <td>235692</td>\n      <td>2018-08-25T13:30:00Z</td>\n      <td>FINISHED</td>\n      <td>1</td>\n      <td>REGULAR_SEASON</td>\n      <td>Regular Season</td>\n      <td>2019-03-16T17:30:32Z</td>\n      <td>[{'id': 57510, 'name': 'Manuel Gräfe', 'nation...</td>\n      <td>155</td>\n      <td>2018-08-24</td>\n      <td>...</td>\n      <td>0</td>\n      <td>1</td>\n      <td>None</td>\n      <td>None</td>\n      <td>None</td>\n      <td>None</td>\n      <td>17</td>\n      <td>SC Freiburg</td>\n      <td>19</td>\n      <td>Eintracht Frankfurt</td>\n    </tr>\n  </tbody>\n</table>\n<p>5 rows × 27 columns</p>\n</div>"
     },
     "metadata": {},
     "execution_count": 7
    }
   ],
   "source": [
    "# normalizing JSON and create a Pandas DataFrame\n",
    "raw_data = response.json()\n",
    "data = json_normalize(raw_data['matches'])\n",
    "data.head()"
   ]
  },
  {
   "cell_type": "markdown",
   "metadata": {},
   "source": [
    "It was possible to put the data into the DataFrame and format it correctly, so far an possible optimization would be to see if it would be possible to put the data into the DataFrame directly after the extration some steps earlier.\n",
    "\n",
    "As the DataFrame is becoming very big and it is not easy to see what the different column names are in the frame. It woudld also make sense to list all names to filter wich ones are necessary. "
   ]
  },
  {
   "cell_type": "code",
   "execution_count": 8,
   "metadata": {},
   "outputs": [
    {
     "output_type": "stream",
     "name": "stdout",
     "text": "id\nutcDate\nstatus\nmatchday\nstage\ngroup\nlastUpdated\nreferees\nseason.id\nseason.startDate\nseason.endDate\nseason.currentMatchday\nodds.msg\nscore.winner\nscore.duration\nscore.fullTime.homeTeam\nscore.fullTime.awayTeam\nscore.halfTime.homeTeam\nscore.halfTime.awayTeam\nscore.extraTime.homeTeam\nscore.extraTime.awayTeam\nscore.penalties.homeTeam\nscore.penalties.awayTeam\nhomeTeam.id\nhomeTeam.name\nawayTeam.id\nawayTeam.name\n"
    }
   ],
   "source": [
    "# checking the different columns that are available\n",
    "for col in data.columns: \n",
    "    print(col) "
   ]
  },
  {
   "cell_type": "markdown",
   "metadata": {},
   "source": [
    "This overview of the column names makes it a lot easier to define which ones would make sense to add for the probability model. Bellow the columns that I will keep:\n",
    "\n",
    "- ID: For further information, statistics etc. about a specific match it is necessary to now the ID\n",
    "- Matchday: It would make sense to keep the matchday to have a dataset to order the data by\n",
    "- score.fullTime.homeTeam: The result after fullTime is the most important number for the probability model\n",
    "- score.fullTime.awayTeam: The result after fullTime is the most important number for the probability model\n",
    "- homeTeam.id: The id is a shortcut to faster iterrate, find, select the teams across a season\n",
    "- awayTeam.id: The id is a shortcut to faster iterrate, find, select the teams across a season\n",
    "- homeTeam.name: The name is necessary to match id\n",
    "- awayTeam.name: The name is necessary to match id  "
   ]
  },
  {
   "cell_type": "code",
   "execution_count": 9,
   "metadata": {},
   "outputs": [],
   "source": [
    "# Define the header of the DataFrame \n",
    "header = ['id', 'matchday', 'score.fullTime.homeTeam', 'score.fullTime.awayTeam', 'homeTeam.id', 'awayTeam.id', 'homeTeam.name', 'awayTeam.name']\n",
    "data_BL1_18_19 = pd.DataFrame(data, columns=header)\n",
    "\n",
    "# Rename the columns to make it more understandable fo readers\n",
    "data_BL1_18_19 = data_BL1_18_19.rename(columns={\n",
    "    'id': 'match_id',\n",
    "    'matchday': 'match_day',\n",
    "    'score.fullTime.homeTeam': 'goals_home',\n",
    "    'score.fullTime.awayTeam': 'goals_away',\n",
    "    'homeTeam.id': 'home_id',\n",
    "    'awayTeam.id': 'away_id',\n",
    "    'homeTeam.name': 'home_name',\n",
    "    'awayTeam.name': 'away_name'\n",
    "    })"
   ]
  },
  {
   "cell_type": "markdown",
   "metadata": {},
   "source": [
    "# Split the data into train and test set"
   ]
  },
  {
   "cell_type": "code",
   "execution_count": 10,
   "metadata": {},
   "outputs": [],
   "source": [
    "# create copy to work with\n",
    "data_BL1_18_19_copy = data_BL1_18_19.copy()\n",
    "data_BL1_18_19_copy.set_index('match_id')\n",
    "\n",
    "# using only 10% of random games for the test split\n",
    "train_set = data_BL1_18_19_copy.sample(frac=0.9, random_state=0)\n",
    "test_set  = data_BL1_18_19_copy.drop(train_set.index)"
   ]
  },
  {
   "cell_type": "code",
   "execution_count": 11,
   "metadata": {},
   "outputs": [],
   "source": [
    "# Setting match_id as index\n",
    "test_set = test_set.set_index('match_id')\n",
    "train_set = train_set.set_index('match_id')"
   ]
  },
  {
   "cell_type": "code",
   "execution_count": 12,
   "metadata": {},
   "outputs": [
    {
     "output_type": "execute_result",
     "data": {
      "text/plain": "          match_day  goals_home  goals_away  home_id  away_id  \\\nmatch_id                                                        \n235961           31           4           1       24       12   \n235755            8           2           2        3        8   \n235945           29           2           0        2        9   \n235896           24           0           1       14      721   \n235847           18           0           1      721        4   \n...             ...         ...         ...      ...      ...   \n235720            4           1           1        2        4   \n235721            4           2           3       16       12   \n235814           15           2           1       10        9   \n235874           21           0           0      721       19   \n235972           32           2           0       11       14   \n\n                          home_name                away_name  \nmatch_id                                                      \n235961    TSV Fortuna 95 Düsseldorf         SV Werder Bremen  \n235755          Bayer 04 Leverkusen              Hannover 96  \n235945          TSG 1899 Hoffenheim               Hertha BSC  \n235896               1. FC Nürnberg               RB Leipzig  \n235847                   RB Leipzig  BV Borussia 09 Dortmund  \n...                             ...                      ...  \n235720          TSG 1899 Hoffenheim  BV Borussia 09 Dortmund  \n235721                  FC Augsburg         SV Werder Bremen  \n235814                VfB Stuttgart               Hertha BSC  \n235874                   RB Leipzig      Eintracht Frankfurt  \n235972                VfL Wolfsburg           1. FC Nürnberg  \n\n[275 rows x 7 columns]",
      "text/html": "<div>\n<style scoped>\n    .dataframe tbody tr th:only-of-type {\n        vertical-align: middle;\n    }\n\n    .dataframe tbody tr th {\n        vertical-align: top;\n    }\n\n    .dataframe thead th {\n        text-align: right;\n    }\n</style>\n<table border=\"1\" class=\"dataframe\">\n  <thead>\n    <tr style=\"text-align: right;\">\n      <th></th>\n      <th>match_day</th>\n      <th>goals_home</th>\n      <th>goals_away</th>\n      <th>home_id</th>\n      <th>away_id</th>\n      <th>home_name</th>\n      <th>away_name</th>\n    </tr>\n    <tr>\n      <th>match_id</th>\n      <th></th>\n      <th></th>\n      <th></th>\n      <th></th>\n      <th></th>\n      <th></th>\n      <th></th>\n    </tr>\n  </thead>\n  <tbody>\n    <tr>\n      <th>235961</th>\n      <td>31</td>\n      <td>4</td>\n      <td>1</td>\n      <td>24</td>\n      <td>12</td>\n      <td>TSV Fortuna 95 Düsseldorf</td>\n      <td>SV Werder Bremen</td>\n    </tr>\n    <tr>\n      <th>235755</th>\n      <td>8</td>\n      <td>2</td>\n      <td>2</td>\n      <td>3</td>\n      <td>8</td>\n      <td>Bayer 04 Leverkusen</td>\n      <td>Hannover 96</td>\n    </tr>\n    <tr>\n      <th>235945</th>\n      <td>29</td>\n      <td>2</td>\n      <td>0</td>\n      <td>2</td>\n      <td>9</td>\n      <td>TSG 1899 Hoffenheim</td>\n      <td>Hertha BSC</td>\n    </tr>\n    <tr>\n      <th>235896</th>\n      <td>24</td>\n      <td>0</td>\n      <td>1</td>\n      <td>14</td>\n      <td>721</td>\n      <td>1. FC Nürnberg</td>\n      <td>RB Leipzig</td>\n    </tr>\n    <tr>\n      <th>235847</th>\n      <td>18</td>\n      <td>0</td>\n      <td>1</td>\n      <td>721</td>\n      <td>4</td>\n      <td>RB Leipzig</td>\n      <td>BV Borussia 09 Dortmund</td>\n    </tr>\n    <tr>\n      <th>...</th>\n      <td>...</td>\n      <td>...</td>\n      <td>...</td>\n      <td>...</td>\n      <td>...</td>\n      <td>...</td>\n      <td>...</td>\n    </tr>\n    <tr>\n      <th>235720</th>\n      <td>4</td>\n      <td>1</td>\n      <td>1</td>\n      <td>2</td>\n      <td>4</td>\n      <td>TSG 1899 Hoffenheim</td>\n      <td>BV Borussia 09 Dortmund</td>\n    </tr>\n    <tr>\n      <th>235721</th>\n      <td>4</td>\n      <td>2</td>\n      <td>3</td>\n      <td>16</td>\n      <td>12</td>\n      <td>FC Augsburg</td>\n      <td>SV Werder Bremen</td>\n    </tr>\n    <tr>\n      <th>235814</th>\n      <td>15</td>\n      <td>2</td>\n      <td>1</td>\n      <td>10</td>\n      <td>9</td>\n      <td>VfB Stuttgart</td>\n      <td>Hertha BSC</td>\n    </tr>\n    <tr>\n      <th>235874</th>\n      <td>21</td>\n      <td>0</td>\n      <td>0</td>\n      <td>721</td>\n      <td>19</td>\n      <td>RB Leipzig</td>\n      <td>Eintracht Frankfurt</td>\n    </tr>\n    <tr>\n      <th>235972</th>\n      <td>32</td>\n      <td>2</td>\n      <td>0</td>\n      <td>11</td>\n      <td>14</td>\n      <td>VfL Wolfsburg</td>\n      <td>1. FC Nürnberg</td>\n    </tr>\n  </tbody>\n</table>\n<p>275 rows × 7 columns</p>\n</div>"
     },
     "metadata": {},
     "execution_count": 12
    }
   ],
   "source": [
    "train_set"
   ]
  },
  {
   "cell_type": "markdown",
   "metadata": {},
   "source": [
    "# Design Database\n",
    "In order to calculate all possible scenarios, betting rates and models the SQL DB needs:\n",
    "\n",
    "- A table with all matches and results from season 2018/2019 (without the test data)\n",
    "- A table with statistical factors to calculate probabilitie\n",
    "- A table with the test data to check betting forecast against"
   ]
  },
  {
   "cell_type": "code",
   "execution_count": 17,
   "metadata": {},
   "outputs": [],
   "source": [
    "#Create URI for DataBase connection\n",
    "database_username ='sport'\n",
    "database_password = 'sport_fhnw_20'\n",
    "database_ip = '45.32.156.57'\n",
    "database_port = '3306'\n",
    "database_name = 'sportwetten'\n",
    "\n",
    "database_connection = sqlalchemy.create_engine('mysql+mysqlconnector://{0}:{1}@{2}/{3}'.\n",
    "                                               format(database_username, database_password, \n",
    "                                                      database_ip, database_name))"
   ]
  },
  {
   "cell_type": "code",
   "execution_count": 18,
   "metadata": {},
   "outputs": [],
   "source": [
    "con = database_connection.connect()"
   ]
  },
  {
   "cell_type": "markdown",
   "metadata": {},
   "source": [
    "### The first table to create in the schema is the one for the raw data, that we have seen before. The match ID is the unique number of every match and will also be used as primary key for this table. \n",
    "\n",
    "The data that will be stores in this seciton is the train data to set the statistical values"
   ]
  },
  {
   "cell_type": "code",
   "execution_count": 13,
   "metadata": {},
   "outputs": [],
   "source": [
    "query = text(\"\"\"\n",
    "CREATE TABLE `sportwetten`.`match_data` (\n",
    "  `match_id` INT NOT NULL,\n",
    "  `match_day` INT NOT NULL,\n",
    "  `goals_home` INT NOT NULL,\n",
    "  `goals_away` INT NOT NULL,\n",
    "  `home_id` INT NOT NULL,\n",
    "  `away_id` INT NOT NULL,\n",
    "  `home_name` VARCHAR(45) NOT NULL,\n",
    "  `away_name` VARCHAR(45) NOT NULL,\n",
    "  PRIMARY KEY (`match_id`),\n",
    "  UNIQUE INDEX `match_id_UNIQUE` (`match_id` ASC))\n",
    "ENGINE = InnoDB\n",
    "DEFAULT CHARACTER SET = utf8;\n",
    "\"\"\")"
   ]
  },
  {
   "cell_type": "code",
   "execution_count": 14,
   "metadata": {},
   "outputs": [
    {
     "output_type": "error",
     "ename": "NameError",
     "evalue": "name 'con' is not defined",
     "traceback": [
      "\u001b[1;31m---------------------------------------------------------------------------\u001b[0m",
      "\u001b[1;31mNameError\u001b[0m                                 Traceback (most recent call last)",
      "\u001b[1;32m<ipython-input-14-f7561afa4728>\u001b[0m in \u001b[0;36m<module>\u001b[1;34m\u001b[0m\n\u001b[0;32m      1\u001b[0m \u001b[1;31m#Execute Query to create Table in DataBase\u001b[0m\u001b[1;33m\u001b[0m\u001b[1;33m\u001b[0m\u001b[1;33m\u001b[0m\u001b[0m\n\u001b[1;32m----> 2\u001b[1;33m \u001b[0mcon\u001b[0m\u001b[1;33m.\u001b[0m\u001b[0mexecute\u001b[0m\u001b[1;33m(\u001b[0m\u001b[0mquery\u001b[0m\u001b[1;33m)\u001b[0m\u001b[1;33m\u001b[0m\u001b[1;33m\u001b[0m\u001b[0m\n\u001b[0m",
      "\u001b[1;31mNameError\u001b[0m: name 'con' is not defined"
     ]
    }
   ],
   "source": [
    "#Execute Query to create Table in DataBase\n",
    "con.execute(query)"
   ]
  },
  {
   "cell_type": "markdown",
   "metadata": {},
   "source": [
    "### The 2nd table is used to store all statistical values for the probability functions. Every team with ID and name will be store and additionaly the statistical value \"lambda\" to create the Poission distributions. Furthermore I will add a column with the information if the statistics is for away or at home as the statistics will slightly be different."
   ]
  },
  {
   "cell_type": "code",
   "execution_count": 15,
   "metadata": {},
   "outputs": [],
   "source": [
    "query = text(\"\"\"\n",
    "CREATE TABLE `sportwetten`.`team_statistics` (\n",
    "  `team_id` INT NOT NULL,\n",
    "  `team_name` VARCHAR(45) NOT NULL,\n",
    "  `lambda_home` FLOAT NULL,\n",
    "  `lambda_away` FLOAT NULL,\n",
    "  PRIMARY KEY (`team_id`))\n",
    "ENGINE = InnoDB\n",
    "DEFAULT CHARACTER SET = utf8;\n",
    "\"\"\")"
   ]
  },
  {
   "cell_type": "code",
   "execution_count": 16,
   "metadata": {},
   "outputs": [
    {
     "output_type": "error",
     "ename": "NameError",
     "evalue": "name 'con' is not defined",
     "traceback": [
      "\u001b[1;31m---------------------------------------------------------------------------\u001b[0m",
      "\u001b[1;31mNameError\u001b[0m                                 Traceback (most recent call last)",
      "\u001b[1;32m<ipython-input-16-f7561afa4728>\u001b[0m in \u001b[0;36m<module>\u001b[1;34m\u001b[0m\n\u001b[0;32m      1\u001b[0m \u001b[1;31m#Execute Query to create Table in DataBase\u001b[0m\u001b[1;33m\u001b[0m\u001b[1;33m\u001b[0m\u001b[1;33m\u001b[0m\u001b[0m\n\u001b[1;32m----> 2\u001b[1;33m \u001b[0mcon\u001b[0m\u001b[1;33m.\u001b[0m\u001b[0mexecute\u001b[0m\u001b[1;33m(\u001b[0m\u001b[0mquery\u001b[0m\u001b[1;33m)\u001b[0m\u001b[1;33m\u001b[0m\u001b[1;33m\u001b[0m\u001b[0m\n\u001b[0m",
      "\u001b[1;31mNameError\u001b[0m: name 'con' is not defined"
     ]
    }
   ],
   "source": [
    "#Execute Query to create Table in DataBase\n",
    "con.execute(query)"
   ]
  },
  {
   "cell_type": "markdown",
   "metadata": {},
   "source": [
    "### The 3rd table will contain the test data. In this table the forecast will happen. It will look the same as the 1st table with the raw train data, just with additional columns to put in the betting quotes for the match (predicted and real)"
   ]
  },
  {
   "cell_type": "code",
   "execution_count": null,
   "metadata": {},
   "outputs": [],
   "source": [
    "query = text(\"\"\"\n",
    "CREATE TABLE `sportwetten`.`betting_data` (\n",
    "  `match_id` INT NOT NULL,\n",
    "  `match_day` INT NOT NULL,\n",
    "  `goals_home` INT NOT NULL,\n",
    "  `goals_away` INT NOT NULL,\n",
    "  `home_id` INT NOT NULL,\n",
    "  `away_id` INT NOT NULL,\n",
    "  `home_name` VARCHAR(45) NOT NULL,\n",
    "  `away_name` VARCHAR(45) NOT NULL,\n",
    "  `home_victory_pred` FLOAT NULL,\n",
    "  `away_victory_pred` FLOAT NULL,\n",
    "  `draw_pred` FLOAT NULL,\n",
    "  `home_victory_real` FLOAT NULL,\n",
    "  `away_victory_real` FLOAT NULL,\n",
    "  `draw_real` FLOAT NULL,\n",
    "  PRIMARY KEY (`match_id`))\n",
    "ENGINE = InnoDB\n",
    "DEFAULT CHARACTER SET = utf8;\n",
    "\"\"\")"
   ]
  },
  {
   "cell_type": "code",
   "execution_count": null,
   "metadata": {},
   "outputs": [],
   "source": [
    "#Execute Query to create Table in DataBase\n",
    "con.execute(query)"
   ]
  },
  {
   "cell_type": "code",
   "execution_count": null,
   "metadata": {},
   "outputs": [],
   "source": [
    "# Prefill data that is availabe\n",
    "train_set.to_sql(con=con, name='match_data', if_exists='append')\n",
    "\n",
    "test_set.to_sql(con=con, name='betting_data', if_exists='append')"
   ]
  },
  {
   "cell_type": "code",
   "execution_count": null,
   "metadata": {},
   "outputs": [],
   "source": [
    "# Select only two columns of DF\n",
    "data = data_BL1_18_19_copy[['home_id', 'home_name']]\n",
    "data = data.rename(columns={\n",
    "    'home_id': 'team_id',\n",
    "    'home_name': 'team_name',\n",
    "    })\n",
    "\n",
    "# Drop duplicates\n",
    "data = data.drop_duplicates()\n",
    "\n",
    "# Set team_id as index (primary key)\n",
    "data = data.set_index('team_id')"
   ]
  },
  {
   "cell_type": "code",
   "execution_count": null,
   "metadata": {},
   "outputs": [],
   "source": [
    "data.to_sql(con=con, name='team_statistics', if_exists='append')"
   ]
  },
  {
   "cell_type": "markdown",
   "metadata": {},
   "source": [
    "# Calculate statistical values\n",
    "\n",
    "In the next step it is necessary to define what kind of probability distribution I should choose. There are two different kinds of random values of a distribution. A continuous and a discrete random variable. \n",
    "\n",
    "In the case of goals of a match, we have a discrete random variable and for such variables we are looking to find a distribution that gives every value a probability. In this case we are looking for a probability function. Possible probability functions are:\n",
    "\n",
    "- Bernoulli distribution\n",
    "- Binomial distribution\n",
    "- Poisson distribution\n",
    "\n",
    "As Bernoulli and Binomial distributions need probabilities for either success or fialure we need to drop those distributions as we don't have them. The Poisson distribution is regularly used when the attempts are high and the amounts of sucessful atempts low. In the case of football we have a lot ot atempts in a match (atempts to score a goal) but only a few succesfull ones (goals in a match).\n",
    "\n",
    "In this section I will perform the calculation of lambda for every team based on the train set for home and away situations as those will be different (teams are differently motivated by the fans at home and away)"
   ]
  },
  {
   "cell_type": "code",
   "execution_count": 19,
   "metadata": {},
   "outputs": [
    {
     "output_type": "stream",
     "name": "stdout",
     "text": "[ 24   3   2  14 721  15  12  11   6  10  19   5  17  16   8  18   9   4]\n"
    }
   ],
   "source": [
    "# Get the unique values of team ids\n",
    "unique_team_ids = train_set['home_id'].unique()\n",
    "print(unique_team_ids)"
   ]
  },
  {
   "cell_type": "code",
   "execution_count": 31,
   "metadata": {},
   "outputs": [
    {
     "output_type": "execute_result",
     "data": {
      "text/plain": "          match_day  goals_home  goals_away  home_id  away_id   home_name  \\\nmatch_id                                                                    \n235847           18           0           1      721        4  RB Leipzig   \n235820           15           4           1      721       15  RB Leipzig   \n235784           11           3           0      721        3  RB Leipzig   \n235928           27           5           0      721        9  RB Leipzig   \n235730            5           2           0      721       10  RB Leipzig   \n235964           31           2           1      721       17  RB Leipzig   \n235766            9           0           0      721        6  RB Leipzig   \n235946           29           2           0      721       11  RB Leipzig   \n235703            2           1           1      721       24  RB Leipzig   \n235748            7           6           0      721       14  RB Leipzig   \n235910           25           0           0      721       16  RB Leipzig   \n235802           13           2           0      721       18  RB Leipzig   \n235892           23           1           1      721        2  RB Leipzig   \n235838           17           3           2      721       12  RB Leipzig   \n235712            3           3           2      721        8  RB Leipzig   \n235874           21           0           0      721       19  RB Leipzig   \n\n                          away_name  \nmatch_id                             \n235847      BV Borussia 09 Dortmund  \n235820              1. FSV Mainz 05  \n235784          Bayer 04 Leverkusen  \n235928                   Hertha BSC  \n235730                VfB Stuttgart  \n235964                  SC Freiburg  \n235766                FC Schalke 04  \n235946                VfL Wolfsburg  \n235703    TSV Fortuna 95 Düsseldorf  \n235748               1. FC Nürnberg  \n235910                  FC Augsburg  \n235802     Borussia Mönchengladbach  \n235892          TSG 1899 Hoffenheim  \n235838             SV Werder Bremen  \n235712                  Hannover 96  \n235874          Eintracht Frankfurt  ",
      "text/html": "<div>\n<style scoped>\n    .dataframe tbody tr th:only-of-type {\n        vertical-align: middle;\n    }\n\n    .dataframe tbody tr th {\n        vertical-align: top;\n    }\n\n    .dataframe thead th {\n        text-align: right;\n    }\n</style>\n<table border=\"1\" class=\"dataframe\">\n  <thead>\n    <tr style=\"text-align: right;\">\n      <th></th>\n      <th>match_day</th>\n      <th>goals_home</th>\n      <th>goals_away</th>\n      <th>home_id</th>\n      <th>away_id</th>\n      <th>home_name</th>\n      <th>away_name</th>\n    </tr>\n    <tr>\n      <th>match_id</th>\n      <th></th>\n      <th></th>\n      <th></th>\n      <th></th>\n      <th></th>\n      <th></th>\n      <th></th>\n    </tr>\n  </thead>\n  <tbody>\n    <tr>\n      <th>235847</th>\n      <td>18</td>\n      <td>0</td>\n      <td>1</td>\n      <td>721</td>\n      <td>4</td>\n      <td>RB Leipzig</td>\n      <td>BV Borussia 09 Dortmund</td>\n    </tr>\n    <tr>\n      <th>235820</th>\n      <td>15</td>\n      <td>4</td>\n      <td>1</td>\n      <td>721</td>\n      <td>15</td>\n      <td>RB Leipzig</td>\n      <td>1. FSV Mainz 05</td>\n    </tr>\n    <tr>\n      <th>235784</th>\n      <td>11</td>\n      <td>3</td>\n      <td>0</td>\n      <td>721</td>\n      <td>3</td>\n      <td>RB Leipzig</td>\n      <td>Bayer 04 Leverkusen</td>\n    </tr>\n    <tr>\n      <th>235928</th>\n      <td>27</td>\n      <td>5</td>\n      <td>0</td>\n      <td>721</td>\n      <td>9</td>\n      <td>RB Leipzig</td>\n      <td>Hertha BSC</td>\n    </tr>\n    <tr>\n      <th>235730</th>\n      <td>5</td>\n      <td>2</td>\n      <td>0</td>\n      <td>721</td>\n      <td>10</td>\n      <td>RB Leipzig</td>\n      <td>VfB Stuttgart</td>\n    </tr>\n    <tr>\n      <th>235964</th>\n      <td>31</td>\n      <td>2</td>\n      <td>1</td>\n      <td>721</td>\n      <td>17</td>\n      <td>RB Leipzig</td>\n      <td>SC Freiburg</td>\n    </tr>\n    <tr>\n      <th>235766</th>\n      <td>9</td>\n      <td>0</td>\n      <td>0</td>\n      <td>721</td>\n      <td>6</td>\n      <td>RB Leipzig</td>\n      <td>FC Schalke 04</td>\n    </tr>\n    <tr>\n      <th>235946</th>\n      <td>29</td>\n      <td>2</td>\n      <td>0</td>\n      <td>721</td>\n      <td>11</td>\n      <td>RB Leipzig</td>\n      <td>VfL Wolfsburg</td>\n    </tr>\n    <tr>\n      <th>235703</th>\n      <td>2</td>\n      <td>1</td>\n      <td>1</td>\n      <td>721</td>\n      <td>24</td>\n      <td>RB Leipzig</td>\n      <td>TSV Fortuna 95 Düsseldorf</td>\n    </tr>\n    <tr>\n      <th>235748</th>\n      <td>7</td>\n      <td>6</td>\n      <td>0</td>\n      <td>721</td>\n      <td>14</td>\n      <td>RB Leipzig</td>\n      <td>1. FC Nürnberg</td>\n    </tr>\n    <tr>\n      <th>235910</th>\n      <td>25</td>\n      <td>0</td>\n      <td>0</td>\n      <td>721</td>\n      <td>16</td>\n      <td>RB Leipzig</td>\n      <td>FC Augsburg</td>\n    </tr>\n    <tr>\n      <th>235802</th>\n      <td>13</td>\n      <td>2</td>\n      <td>0</td>\n      <td>721</td>\n      <td>18</td>\n      <td>RB Leipzig</td>\n      <td>Borussia Mönchengladbach</td>\n    </tr>\n    <tr>\n      <th>235892</th>\n      <td>23</td>\n      <td>1</td>\n      <td>1</td>\n      <td>721</td>\n      <td>2</td>\n      <td>RB Leipzig</td>\n      <td>TSG 1899 Hoffenheim</td>\n    </tr>\n    <tr>\n      <th>235838</th>\n      <td>17</td>\n      <td>3</td>\n      <td>2</td>\n      <td>721</td>\n      <td>12</td>\n      <td>RB Leipzig</td>\n      <td>SV Werder Bremen</td>\n    </tr>\n    <tr>\n      <th>235712</th>\n      <td>3</td>\n      <td>3</td>\n      <td>2</td>\n      <td>721</td>\n      <td>8</td>\n      <td>RB Leipzig</td>\n      <td>Hannover 96</td>\n    </tr>\n    <tr>\n      <th>235874</th>\n      <td>21</td>\n      <td>0</td>\n      <td>0</td>\n      <td>721</td>\n      <td>19</td>\n      <td>RB Leipzig</td>\n      <td>Eintracht Frankfurt</td>\n    </tr>\n  </tbody>\n</table>\n</div>"
     },
     "metadata": {},
     "execution_count": 31
    }
   ],
   "source": [
    "# Get all the home match data for a specific team\n",
    "home_matches = train_set.loc[(train_set['home_id'] == 17)]\n",
    "home_matches"
   ]
  },
  {
   "cell_type": "code",
   "execution_count": 32,
   "metadata": {},
   "outputs": [
    {
     "output_type": "execute_result",
     "data": {
      "text/plain": "          match_day  goals_home  goals_away  home_id  away_id  \\\nmatch_id                                                        \n235896           24           0           1       14      721   \n235934           28           2           4        3      721   \n235687            1           4           1        4      721   \n235913           26           0           1        6      721   \n235862           20           0           3        8      721   \n235876           22           1           3       10      721   \n235738            6           1           2        2      721   \n235984           34           2           1       12      721   \n235825           16           1           0        5      721   \n235757            8           0           0       16      721   \n235853           19           0           4       24      721   \n235809           14           3           0       17      721   \n235973           32           3           3       15      721   \n235791           12           1           0       11      721   \n235713            4           1           1       19      721   \n\n                          home_name   away_name  \nmatch_id                                         \n235896               1. FC Nürnberg  RB Leipzig  \n235934          Bayer 04 Leverkusen  RB Leipzig  \n235687      BV Borussia 09 Dortmund  RB Leipzig  \n235913                FC Schalke 04  RB Leipzig  \n235862                  Hannover 96  RB Leipzig  \n235876                VfB Stuttgart  RB Leipzig  \n235738          TSG 1899 Hoffenheim  RB Leipzig  \n235984             SV Werder Bremen  RB Leipzig  \n235825            FC Bayern München  RB Leipzig  \n235757                  FC Augsburg  RB Leipzig  \n235853    TSV Fortuna 95 Düsseldorf  RB Leipzig  \n235809                  SC Freiburg  RB Leipzig  \n235973              1. FSV Mainz 05  RB Leipzig  \n235791                VfL Wolfsburg  RB Leipzig  \n235713          Eintracht Frankfurt  RB Leipzig  ",
      "text/html": "<div>\n<style scoped>\n    .dataframe tbody tr th:only-of-type {\n        vertical-align: middle;\n    }\n\n    .dataframe tbody tr th {\n        vertical-align: top;\n    }\n\n    .dataframe thead th {\n        text-align: right;\n    }\n</style>\n<table border=\"1\" class=\"dataframe\">\n  <thead>\n    <tr style=\"text-align: right;\">\n      <th></th>\n      <th>match_day</th>\n      <th>goals_home</th>\n      <th>goals_away</th>\n      <th>home_id</th>\n      <th>away_id</th>\n      <th>home_name</th>\n      <th>away_name</th>\n    </tr>\n    <tr>\n      <th>match_id</th>\n      <th></th>\n      <th></th>\n      <th></th>\n      <th></th>\n      <th></th>\n      <th></th>\n      <th></th>\n    </tr>\n  </thead>\n  <tbody>\n    <tr>\n      <th>235896</th>\n      <td>24</td>\n      <td>0</td>\n      <td>1</td>\n      <td>14</td>\n      <td>721</td>\n      <td>1. FC Nürnberg</td>\n      <td>RB Leipzig</td>\n    </tr>\n    <tr>\n      <th>235934</th>\n      <td>28</td>\n      <td>2</td>\n      <td>4</td>\n      <td>3</td>\n      <td>721</td>\n      <td>Bayer 04 Leverkusen</td>\n      <td>RB Leipzig</td>\n    </tr>\n    <tr>\n      <th>235687</th>\n      <td>1</td>\n      <td>4</td>\n      <td>1</td>\n      <td>4</td>\n      <td>721</td>\n      <td>BV Borussia 09 Dortmund</td>\n      <td>RB Leipzig</td>\n    </tr>\n    <tr>\n      <th>235913</th>\n      <td>26</td>\n      <td>0</td>\n      <td>1</td>\n      <td>6</td>\n      <td>721</td>\n      <td>FC Schalke 04</td>\n      <td>RB Leipzig</td>\n    </tr>\n    <tr>\n      <th>235862</th>\n      <td>20</td>\n      <td>0</td>\n      <td>3</td>\n      <td>8</td>\n      <td>721</td>\n      <td>Hannover 96</td>\n      <td>RB Leipzig</td>\n    </tr>\n    <tr>\n      <th>235876</th>\n      <td>22</td>\n      <td>1</td>\n      <td>3</td>\n      <td>10</td>\n      <td>721</td>\n      <td>VfB Stuttgart</td>\n      <td>RB Leipzig</td>\n    </tr>\n    <tr>\n      <th>235738</th>\n      <td>6</td>\n      <td>1</td>\n      <td>2</td>\n      <td>2</td>\n      <td>721</td>\n      <td>TSG 1899 Hoffenheim</td>\n      <td>RB Leipzig</td>\n    </tr>\n    <tr>\n      <th>235984</th>\n      <td>34</td>\n      <td>2</td>\n      <td>1</td>\n      <td>12</td>\n      <td>721</td>\n      <td>SV Werder Bremen</td>\n      <td>RB Leipzig</td>\n    </tr>\n    <tr>\n      <th>235825</th>\n      <td>16</td>\n      <td>1</td>\n      <td>0</td>\n      <td>5</td>\n      <td>721</td>\n      <td>FC Bayern München</td>\n      <td>RB Leipzig</td>\n    </tr>\n    <tr>\n      <th>235757</th>\n      <td>8</td>\n      <td>0</td>\n      <td>0</td>\n      <td>16</td>\n      <td>721</td>\n      <td>FC Augsburg</td>\n      <td>RB Leipzig</td>\n    </tr>\n    <tr>\n      <th>235853</th>\n      <td>19</td>\n      <td>0</td>\n      <td>4</td>\n      <td>24</td>\n      <td>721</td>\n      <td>TSV Fortuna 95 Düsseldorf</td>\n      <td>RB Leipzig</td>\n    </tr>\n    <tr>\n      <th>235809</th>\n      <td>14</td>\n      <td>3</td>\n      <td>0</td>\n      <td>17</td>\n      <td>721</td>\n      <td>SC Freiburg</td>\n      <td>RB Leipzig</td>\n    </tr>\n    <tr>\n      <th>235973</th>\n      <td>32</td>\n      <td>3</td>\n      <td>3</td>\n      <td>15</td>\n      <td>721</td>\n      <td>1. FSV Mainz 05</td>\n      <td>RB Leipzig</td>\n    </tr>\n    <tr>\n      <th>235791</th>\n      <td>12</td>\n      <td>1</td>\n      <td>0</td>\n      <td>11</td>\n      <td>721</td>\n      <td>VfL Wolfsburg</td>\n      <td>RB Leipzig</td>\n    </tr>\n    <tr>\n      <th>235713</th>\n      <td>4</td>\n      <td>1</td>\n      <td>1</td>\n      <td>19</td>\n      <td>721</td>\n      <td>Eintracht Frankfurt</td>\n      <td>RB Leipzig</td>\n    </tr>\n  </tbody>\n</table>\n</div>"
     },
     "metadata": {},
     "execution_count": 32
    }
   ],
   "source": [
    "# Get all the away match data for a specific team\n",
    "away_matches = train_set.loc[(train_set['away_id'] == 17)]\n",
    "away_matches"
   ]
  },
  {
   "cell_type": "markdown",
   "metadata": {},
   "source": [
    "The only statistical value that is needed for a Poission distribution is lambda. In order to calculate lambda we will assume that the expected value of goals is lambda (based on the theorie of the Poission distribution)"
   ]
  },
  {
   "cell_type": "code",
   "execution_count": 33,
   "metadata": {},
   "outputs": [
    {
     "output_type": "stream",
     "name": "stdout",
     "text": "2.125\n"
    }
   ],
   "source": [
    "# Calculate lambda for home matches\n",
    "lambda_home = home_matches['goals_home'].sum() / len(home_matches['goals_home'])\n",
    "print(lambda_home)"
   ]
  },
  {
   "cell_type": "code",
   "execution_count": 34,
   "metadata": {},
   "outputs": [
    {
     "output_type": "display_data",
     "data": {
      "text/plain": "<Figure size 864x504 with 1 Axes>",
      "image/svg+xml": "<?xml version=\"1.0\" encoding=\"utf-8\" standalone=\"no\"?>\r\n<!DOCTYPE svg PUBLIC \"-//W3C//DTD SVG 1.1//EN\"\r\n  \"http://www.w3.org/Graphics/SVG/1.1/DTD/svg11.dtd\">\r\n<!-- Created with matplotlib (https://matplotlib.org/) -->\r\n<svg height=\"440.394375pt\" version=\"1.1\" viewBox=\"0 0 713.265625 440.394375\" width=\"713.265625pt\" xmlns=\"http://www.w3.org/2000/svg\" xmlns:xlink=\"http://www.w3.org/1999/xlink\">\r\n <defs>\r\n  <style type=\"text/css\">\r\n*{stroke-linecap:butt;stroke-linejoin:round;}\r\n  </style>\r\n </defs>\r\n <g id=\"figure_1\">\r\n  <g id=\"patch_1\">\r\n   <path d=\"M 0 440.394375 \r\nL 713.265625 440.394375 \r\nL 713.265625 0 \r\nL 0 0 \r\nz\r\n\" style=\"fill:none;\"/>\r\n  </g>\r\n  <g id=\"axes_1\">\r\n   <g id=\"patch_2\">\r\n    <path d=\"M 36.465625 402.838125 \r\nL 706.065625 402.838125 \r\nL 706.065625 22.318125 \r\nL 36.465625 22.318125 \r\nz\r\n\" style=\"fill:#ffffff;\"/>\r\n   </g>\r\n   <g id=\"patch_3\">\r\n    <path clip-path=\"url(#pd13922283f)\" d=\"M 66.901989 402.838125 \r\nL 128.389592 402.838125 \r\nL 128.389592 78.161011 \r\nL 66.901989 78.161011 \r\nz\r\n\" style=\"fill:#add8e6;stroke:#ffffff;stroke-linejoin:miter;stroke-width:0.4;\"/>\r\n   </g>\r\n   <g id=\"patch_4\">\r\n    <path clip-path=\"url(#pd13922283f)\" d=\"M 128.389592 402.838125 \r\nL 189.877195 402.838125 \r\nL 189.877195 240.499568 \r\nL 128.389592 240.499568 \r\nz\r\n\" style=\"fill:#add8e6;stroke:#ffffff;stroke-linejoin:miter;stroke-width:0.4;\"/>\r\n   </g>\r\n   <g id=\"patch_5\">\r\n    <path clip-path=\"url(#pd13922283f)\" d=\"M 189.877195 402.838125 \r\nL 251.364799 402.838125 \r\nL 251.364799 78.161011 \r\nL 189.877195 78.161011 \r\nz\r\n\" style=\"fill:#add8e6;stroke:#ffffff;stroke-linejoin:miter;stroke-width:0.4;\"/>\r\n   </g>\r\n   <g id=\"patch_6\">\r\n    <path clip-path=\"url(#pd13922283f)\" d=\"M 251.364799 402.838125 \r\nL 312.852402 402.838125 \r\nL 312.852402 159.33029 \r\nL 251.364799 159.33029 \r\nz\r\n\" style=\"fill:#add8e6;stroke:#ffffff;stroke-linejoin:miter;stroke-width:0.4;\"/>\r\n   </g>\r\n   <g id=\"patch_7\">\r\n    <path clip-path=\"url(#pd13922283f)\" d=\"M 312.852402 402.838125 \r\nL 374.340005 402.838125 \r\nL 374.340005 321.668847 \r\nL 312.852402 321.668847 \r\nz\r\n\" style=\"fill:#add8e6;stroke:#ffffff;stroke-linejoin:miter;stroke-width:0.4;\"/>\r\n   </g>\r\n   <g id=\"patch_8\">\r\n    <path clip-path=\"url(#pd13922283f)\" d=\"M 374.340005 402.838125 \r\nL 435.827608 402.838125 \r\nL 435.827608 240.499568 \r\nL 374.340005 240.499568 \r\nz\r\n\" style=\"fill:#add8e6;stroke:#ffffff;stroke-linejoin:miter;stroke-width:0.4;\"/>\r\n   </g>\r\n   <g id=\"matplotlib.axis_1\">\r\n    <g id=\"xtick_1\">\r\n     <g id=\"line2d_1\">\r\n      <path clip-path=\"url(#pd13922283f)\" d=\"M 66.901989 402.838125 \r\nL 66.901989 22.318125 \r\n\" style=\"fill:none;stroke:#808080;stroke-linecap:square;stroke-opacity:0.3;stroke-width:0.25;\"/>\r\n     </g>\r\n     <g id=\"line2d_2\">\r\n      <defs>\r\n       <path d=\"M 0 0 \r\nL 0 3.5 \r\n\" id=\"m2f587d7096\" style=\"stroke:#000000;stroke-width:0.8;\"/>\r\n      </defs>\r\n      <g>\r\n       <use style=\"stroke:#000000;stroke-width:0.8;\" x=\"66.901989\" xlink:href=\"#m2f587d7096\" y=\"402.838125\"/>\r\n      </g>\r\n     </g>\r\n     <g id=\"text_1\">\r\n      <!-- 0 -->\r\n      <defs>\r\n       <path d=\"M 31.78125 66.40625 \r\nQ 24.171875 66.40625 20.328125 58.90625 \r\nQ 16.5 51.421875 16.5 36.375 \r\nQ 16.5 21.390625 20.328125 13.890625 \r\nQ 24.171875 6.390625 31.78125 6.390625 \r\nQ 39.453125 6.390625 43.28125 13.890625 \r\nQ 47.125 21.390625 47.125 36.375 \r\nQ 47.125 51.421875 43.28125 58.90625 \r\nQ 39.453125 66.40625 31.78125 66.40625 \r\nz\r\nM 31.78125 74.21875 \r\nQ 44.046875 74.21875 50.515625 64.515625 \r\nQ 56.984375 54.828125 56.984375 36.375 \r\nQ 56.984375 17.96875 50.515625 8.265625 \r\nQ 44.046875 -1.421875 31.78125 -1.421875 \r\nQ 19.53125 -1.421875 13.0625 8.265625 \r\nQ 6.59375 17.96875 6.59375 36.375 \r\nQ 6.59375 54.828125 13.0625 64.515625 \r\nQ 19.53125 74.21875 31.78125 74.21875 \r\nz\r\n\" id=\"DejaVuSans-48\"/>\r\n      </defs>\r\n      <g transform=\"translate(63.720739 417.436562)scale(0.1 -0.1)\">\r\n       <use xlink:href=\"#DejaVuSans-48\"/>\r\n      </g>\r\n     </g>\r\n    </g>\r\n    <g id=\"xtick_2\">\r\n     <g id=\"line2d_3\">\r\n      <path clip-path=\"url(#pd13922283f)\" d=\"M 189.877195 402.838125 \r\nL 189.877195 22.318125 \r\n\" style=\"fill:none;stroke:#808080;stroke-linecap:square;stroke-opacity:0.3;stroke-width:0.25;\"/>\r\n     </g>\r\n     <g id=\"line2d_4\">\r\n      <g>\r\n       <use style=\"stroke:#000000;stroke-width:0.8;\" x=\"189.877195\" xlink:href=\"#m2f587d7096\" y=\"402.838125\"/>\r\n      </g>\r\n     </g>\r\n     <g id=\"text_2\">\r\n      <!-- 2 -->\r\n      <defs>\r\n       <path d=\"M 19.1875 8.296875 \r\nL 53.609375 8.296875 \r\nL 53.609375 0 \r\nL 7.328125 0 \r\nL 7.328125 8.296875 \r\nQ 12.9375 14.109375 22.625 23.890625 \r\nQ 32.328125 33.6875 34.8125 36.53125 \r\nQ 39.546875 41.84375 41.421875 45.53125 \r\nQ 43.3125 49.21875 43.3125 52.78125 \r\nQ 43.3125 58.59375 39.234375 62.25 \r\nQ 35.15625 65.921875 28.609375 65.921875 \r\nQ 23.96875 65.921875 18.8125 64.3125 \r\nQ 13.671875 62.703125 7.8125 59.421875 \r\nL 7.8125 69.390625 \r\nQ 13.765625 71.78125 18.9375 73 \r\nQ 24.125 74.21875 28.421875 74.21875 \r\nQ 39.75 74.21875 46.484375 68.546875 \r\nQ 53.21875 62.890625 53.21875 53.421875 \r\nQ 53.21875 48.921875 51.53125 44.890625 \r\nQ 49.859375 40.875 45.40625 35.40625 \r\nQ 44.1875 33.984375 37.640625 27.21875 \r\nQ 31.109375 20.453125 19.1875 8.296875 \r\nz\r\n\" id=\"DejaVuSans-50\"/>\r\n      </defs>\r\n      <g transform=\"translate(186.695945 417.436562)scale(0.1 -0.1)\">\r\n       <use xlink:href=\"#DejaVuSans-50\"/>\r\n      </g>\r\n     </g>\r\n    </g>\r\n    <g id=\"xtick_3\">\r\n     <g id=\"line2d_5\">\r\n      <path clip-path=\"url(#pd13922283f)\" d=\"M 312.852402 402.838125 \r\nL 312.852402 22.318125 \r\n\" style=\"fill:none;stroke:#808080;stroke-linecap:square;stroke-opacity:0.3;stroke-width:0.25;\"/>\r\n     </g>\r\n     <g id=\"line2d_6\">\r\n      <g>\r\n       <use style=\"stroke:#000000;stroke-width:0.8;\" x=\"312.852402\" xlink:href=\"#m2f587d7096\" y=\"402.838125\"/>\r\n      </g>\r\n     </g>\r\n     <g id=\"text_3\">\r\n      <!-- 4 -->\r\n      <defs>\r\n       <path d=\"M 37.796875 64.3125 \r\nL 12.890625 25.390625 \r\nL 37.796875 25.390625 \r\nz\r\nM 35.203125 72.90625 \r\nL 47.609375 72.90625 \r\nL 47.609375 25.390625 \r\nL 58.015625 25.390625 \r\nL 58.015625 17.1875 \r\nL 47.609375 17.1875 \r\nL 47.609375 0 \r\nL 37.796875 0 \r\nL 37.796875 17.1875 \r\nL 4.890625 17.1875 \r\nL 4.890625 26.703125 \r\nz\r\n\" id=\"DejaVuSans-52\"/>\r\n      </defs>\r\n      <g transform=\"translate(309.671152 417.436562)scale(0.1 -0.1)\">\r\n       <use xlink:href=\"#DejaVuSans-52\"/>\r\n      </g>\r\n     </g>\r\n    </g>\r\n    <g id=\"xtick_4\">\r\n     <g id=\"line2d_7\">\r\n      <path clip-path=\"url(#pd13922283f)\" d=\"M 435.827608 402.838125 \r\nL 435.827608 22.318125 \r\n\" style=\"fill:none;stroke:#808080;stroke-linecap:square;stroke-opacity:0.3;stroke-width:0.25;\"/>\r\n     </g>\r\n     <g id=\"line2d_8\">\r\n      <g>\r\n       <use style=\"stroke:#000000;stroke-width:0.8;\" x=\"435.827608\" xlink:href=\"#m2f587d7096\" y=\"402.838125\"/>\r\n      </g>\r\n     </g>\r\n     <g id=\"text_4\">\r\n      <!-- 6 -->\r\n      <defs>\r\n       <path d=\"M 33.015625 40.375 \r\nQ 26.375 40.375 22.484375 35.828125 \r\nQ 18.609375 31.296875 18.609375 23.390625 \r\nQ 18.609375 15.53125 22.484375 10.953125 \r\nQ 26.375 6.390625 33.015625 6.390625 \r\nQ 39.65625 6.390625 43.53125 10.953125 \r\nQ 47.40625 15.53125 47.40625 23.390625 \r\nQ 47.40625 31.296875 43.53125 35.828125 \r\nQ 39.65625 40.375 33.015625 40.375 \r\nz\r\nM 52.59375 71.296875 \r\nL 52.59375 62.3125 \r\nQ 48.875 64.0625 45.09375 64.984375 \r\nQ 41.3125 65.921875 37.59375 65.921875 \r\nQ 27.828125 65.921875 22.671875 59.328125 \r\nQ 17.53125 52.734375 16.796875 39.40625 \r\nQ 19.671875 43.65625 24.015625 45.921875 \r\nQ 28.375 48.1875 33.59375 48.1875 \r\nQ 44.578125 48.1875 50.953125 41.515625 \r\nQ 57.328125 34.859375 57.328125 23.390625 \r\nQ 57.328125 12.15625 50.6875 5.359375 \r\nQ 44.046875 -1.421875 33.015625 -1.421875 \r\nQ 20.359375 -1.421875 13.671875 8.265625 \r\nQ 6.984375 17.96875 6.984375 36.375 \r\nQ 6.984375 53.65625 15.1875 63.9375 \r\nQ 23.390625 74.21875 37.203125 74.21875 \r\nQ 40.921875 74.21875 44.703125 73.484375 \r\nQ 48.484375 72.75 52.59375 71.296875 \r\nz\r\n\" id=\"DejaVuSans-54\"/>\r\n      </defs>\r\n      <g transform=\"translate(432.646358 417.436562)scale(0.1 -0.1)\">\r\n       <use xlink:href=\"#DejaVuSans-54\"/>\r\n      </g>\r\n     </g>\r\n    </g>\r\n    <g id=\"xtick_5\">\r\n     <g id=\"line2d_9\">\r\n      <path clip-path=\"url(#pd13922283f)\" d=\"M 558.802815 402.838125 \r\nL 558.802815 22.318125 \r\n\" style=\"fill:none;stroke:#808080;stroke-linecap:square;stroke-opacity:0.3;stroke-width:0.25;\"/>\r\n     </g>\r\n     <g id=\"line2d_10\">\r\n      <g>\r\n       <use style=\"stroke:#000000;stroke-width:0.8;\" x=\"558.802815\" xlink:href=\"#m2f587d7096\" y=\"402.838125\"/>\r\n      </g>\r\n     </g>\r\n     <g id=\"text_5\">\r\n      <!-- 8 -->\r\n      <defs>\r\n       <path d=\"M 31.78125 34.625 \r\nQ 24.75 34.625 20.71875 30.859375 \r\nQ 16.703125 27.09375 16.703125 20.515625 \r\nQ 16.703125 13.921875 20.71875 10.15625 \r\nQ 24.75 6.390625 31.78125 6.390625 \r\nQ 38.8125 6.390625 42.859375 10.171875 \r\nQ 46.921875 13.96875 46.921875 20.515625 \r\nQ 46.921875 27.09375 42.890625 30.859375 \r\nQ 38.875 34.625 31.78125 34.625 \r\nz\r\nM 21.921875 38.8125 \r\nQ 15.578125 40.375 12.03125 44.71875 \r\nQ 8.5 49.078125 8.5 55.328125 \r\nQ 8.5 64.0625 14.71875 69.140625 \r\nQ 20.953125 74.21875 31.78125 74.21875 \r\nQ 42.671875 74.21875 48.875 69.140625 \r\nQ 55.078125 64.0625 55.078125 55.328125 \r\nQ 55.078125 49.078125 51.53125 44.71875 \r\nQ 48 40.375 41.703125 38.8125 \r\nQ 48.828125 37.15625 52.796875 32.3125 \r\nQ 56.78125 27.484375 56.78125 20.515625 \r\nQ 56.78125 9.90625 50.3125 4.234375 \r\nQ 43.84375 -1.421875 31.78125 -1.421875 \r\nQ 19.734375 -1.421875 13.25 4.234375 \r\nQ 6.78125 9.90625 6.78125 20.515625 \r\nQ 6.78125 27.484375 10.78125 32.3125 \r\nQ 14.796875 37.15625 21.921875 38.8125 \r\nz\r\nM 18.3125 54.390625 \r\nQ 18.3125 48.734375 21.84375 45.5625 \r\nQ 25.390625 42.390625 31.78125 42.390625 \r\nQ 38.140625 42.390625 41.71875 45.5625 \r\nQ 45.3125 48.734375 45.3125 54.390625 \r\nQ 45.3125 60.0625 41.71875 63.234375 \r\nQ 38.140625 66.40625 31.78125 66.40625 \r\nQ 25.390625 66.40625 21.84375 63.234375 \r\nQ 18.3125 60.0625 18.3125 54.390625 \r\nz\r\n\" id=\"DejaVuSans-56\"/>\r\n      </defs>\r\n      <g transform=\"translate(555.621565 417.436562)scale(0.1 -0.1)\">\r\n       <use xlink:href=\"#DejaVuSans-56\"/>\r\n      </g>\r\n     </g>\r\n    </g>\r\n    <g id=\"xtick_6\">\r\n     <g id=\"line2d_11\">\r\n      <path clip-path=\"url(#pd13922283f)\" d=\"M 681.778022 402.838125 \r\nL 681.778022 22.318125 \r\n\" style=\"fill:none;stroke:#808080;stroke-linecap:square;stroke-opacity:0.3;stroke-width:0.25;\"/>\r\n     </g>\r\n     <g id=\"line2d_12\">\r\n      <g>\r\n       <use style=\"stroke:#000000;stroke-width:0.8;\" x=\"681.778022\" xlink:href=\"#m2f587d7096\" y=\"402.838125\"/>\r\n      </g>\r\n     </g>\r\n     <g id=\"text_6\">\r\n      <!-- 10 -->\r\n      <defs>\r\n       <path d=\"M 12.40625 8.296875 \r\nL 28.515625 8.296875 \r\nL 28.515625 63.921875 \r\nL 10.984375 60.40625 \r\nL 10.984375 69.390625 \r\nL 28.421875 72.90625 \r\nL 38.28125 72.90625 \r\nL 38.28125 8.296875 \r\nL 54.390625 8.296875 \r\nL 54.390625 0 \r\nL 12.40625 0 \r\nz\r\n\" id=\"DejaVuSans-49\"/>\r\n      </defs>\r\n      <g transform=\"translate(675.415522 417.436562)scale(0.1 -0.1)\">\r\n       <use xlink:href=\"#DejaVuSans-49\"/>\r\n       <use x=\"63.623047\" xlink:href=\"#DejaVuSans-48\"/>\r\n      </g>\r\n     </g>\r\n    </g>\r\n    <g id=\"text_7\">\r\n     <!-- Goals -->\r\n     <defs>\r\n      <path d=\"M 59.515625 10.40625 \r\nL 59.515625 29.984375 \r\nL 43.40625 29.984375 \r\nL 43.40625 38.09375 \r\nL 69.28125 38.09375 \r\nL 69.28125 6.78125 \r\nQ 63.578125 2.734375 56.6875 0.65625 \r\nQ 49.8125 -1.421875 42 -1.421875 \r\nQ 24.90625 -1.421875 15.25 8.5625 \r\nQ 5.609375 18.5625 5.609375 36.375 \r\nQ 5.609375 54.25 15.25 64.234375 \r\nQ 24.90625 74.21875 42 74.21875 \r\nQ 49.125 74.21875 55.546875 72.453125 \r\nQ 61.96875 70.703125 67.390625 67.28125 \r\nL 67.390625 56.78125 \r\nQ 61.921875 61.421875 55.765625 63.765625 \r\nQ 49.609375 66.109375 42.828125 66.109375 \r\nQ 29.4375 66.109375 22.71875 58.640625 \r\nQ 16.015625 51.171875 16.015625 36.375 \r\nQ 16.015625 21.625 22.71875 14.15625 \r\nQ 29.4375 6.6875 42.828125 6.6875 \r\nQ 48.046875 6.6875 52.140625 7.59375 \r\nQ 56.25 8.5 59.515625 10.40625 \r\nz\r\n\" id=\"DejaVuSans-71\"/>\r\n      <path d=\"M 30.609375 48.390625 \r\nQ 23.390625 48.390625 19.1875 42.75 \r\nQ 14.984375 37.109375 14.984375 27.296875 \r\nQ 14.984375 17.484375 19.15625 11.84375 \r\nQ 23.34375 6.203125 30.609375 6.203125 \r\nQ 37.796875 6.203125 41.984375 11.859375 \r\nQ 46.1875 17.53125 46.1875 27.296875 \r\nQ 46.1875 37.015625 41.984375 42.703125 \r\nQ 37.796875 48.390625 30.609375 48.390625 \r\nz\r\nM 30.609375 56 \r\nQ 42.328125 56 49.015625 48.375 \r\nQ 55.71875 40.765625 55.71875 27.296875 \r\nQ 55.71875 13.875 49.015625 6.21875 \r\nQ 42.328125 -1.421875 30.609375 -1.421875 \r\nQ 18.84375 -1.421875 12.171875 6.21875 \r\nQ 5.515625 13.875 5.515625 27.296875 \r\nQ 5.515625 40.765625 12.171875 48.375 \r\nQ 18.84375 56 30.609375 56 \r\nz\r\n\" id=\"DejaVuSans-111\"/>\r\n      <path d=\"M 34.28125 27.484375 \r\nQ 23.390625 27.484375 19.1875 25 \r\nQ 14.984375 22.515625 14.984375 16.5 \r\nQ 14.984375 11.71875 18.140625 8.90625 \r\nQ 21.296875 6.109375 26.703125 6.109375 \r\nQ 34.1875 6.109375 38.703125 11.40625 \r\nQ 43.21875 16.703125 43.21875 25.484375 \r\nL 43.21875 27.484375 \r\nz\r\nM 52.203125 31.203125 \r\nL 52.203125 0 \r\nL 43.21875 0 \r\nL 43.21875 8.296875 \r\nQ 40.140625 3.328125 35.546875 0.953125 \r\nQ 30.953125 -1.421875 24.3125 -1.421875 \r\nQ 15.921875 -1.421875 10.953125 3.296875 \r\nQ 6 8.015625 6 15.921875 \r\nQ 6 25.140625 12.171875 29.828125 \r\nQ 18.359375 34.515625 30.609375 34.515625 \r\nL 43.21875 34.515625 \r\nL 43.21875 35.40625 \r\nQ 43.21875 41.609375 39.140625 45 \r\nQ 35.0625 48.390625 27.6875 48.390625 \r\nQ 23 48.390625 18.546875 47.265625 \r\nQ 14.109375 46.140625 10.015625 43.890625 \r\nL 10.015625 52.203125 \r\nQ 14.9375 54.109375 19.578125 55.046875 \r\nQ 24.21875 56 28.609375 56 \r\nQ 40.484375 56 46.34375 49.84375 \r\nQ 52.203125 43.703125 52.203125 31.203125 \r\nz\r\n\" id=\"DejaVuSans-97\"/>\r\n      <path d=\"M 9.421875 75.984375 \r\nL 18.40625 75.984375 \r\nL 18.40625 0 \r\nL 9.421875 0 \r\nz\r\n\" id=\"DejaVuSans-108\"/>\r\n      <path d=\"M 44.28125 53.078125 \r\nL 44.28125 44.578125 \r\nQ 40.484375 46.53125 36.375 47.5 \r\nQ 32.28125 48.484375 27.875 48.484375 \r\nQ 21.1875 48.484375 17.84375 46.4375 \r\nQ 14.5 44.390625 14.5 40.28125 \r\nQ 14.5 37.15625 16.890625 35.375 \r\nQ 19.28125 33.59375 26.515625 31.984375 \r\nL 29.59375 31.296875 \r\nQ 39.15625 29.25 43.1875 25.515625 \r\nQ 47.21875 21.78125 47.21875 15.09375 \r\nQ 47.21875 7.46875 41.1875 3.015625 \r\nQ 35.15625 -1.421875 24.609375 -1.421875 \r\nQ 20.21875 -1.421875 15.453125 -0.5625 \r\nQ 10.6875 0.296875 5.421875 2 \r\nL 5.421875 11.28125 \r\nQ 10.40625 8.6875 15.234375 7.390625 \r\nQ 20.0625 6.109375 24.8125 6.109375 \r\nQ 31.15625 6.109375 34.5625 8.28125 \r\nQ 37.984375 10.453125 37.984375 14.40625 \r\nQ 37.984375 18.0625 35.515625 20.015625 \r\nQ 33.0625 21.96875 24.703125 23.78125 \r\nL 21.578125 24.515625 \r\nQ 13.234375 26.265625 9.515625 29.90625 \r\nQ 5.8125 33.546875 5.8125 39.890625 \r\nQ 5.8125 47.609375 11.28125 51.796875 \r\nQ 16.75 56 26.8125 56 \r\nQ 31.78125 56 36.171875 55.265625 \r\nQ 40.578125 54.546875 44.28125 53.078125 \r\nz\r\n\" id=\"DejaVuSans-115\"/>\r\n     </defs>\r\n     <g transform=\"translate(357.274219 431.114687)scale(0.1 -0.1)\">\r\n      <use xlink:href=\"#DejaVuSans-71\"/>\r\n      <use x=\"77.490234\" xlink:href=\"#DejaVuSans-111\"/>\r\n      <use x=\"138.671875\" xlink:href=\"#DejaVuSans-97\"/>\r\n      <use x=\"199.951172\" xlink:href=\"#DejaVuSans-108\"/>\r\n      <use x=\"227.734375\" xlink:href=\"#DejaVuSans-115\"/>\r\n     </g>\r\n    </g>\r\n   </g>\r\n   <g id=\"matplotlib.axis_2\">\r\n    <g id=\"ytick_1\">\r\n     <g id=\"line2d_13\">\r\n      <path clip-path=\"url(#pd13922283f)\" d=\"M 36.465625 402.838125 \r\nL 706.065625 402.838125 \r\n\" style=\"fill:none;stroke:#808080;stroke-linecap:square;stroke-opacity:0.3;stroke-width:0.25;\"/>\r\n     </g>\r\n     <g id=\"line2d_14\">\r\n      <defs>\r\n       <path d=\"M 0 0 \r\nL -3.5 0 \r\n\" id=\"mdad8ec05fc\" style=\"stroke:#000000;stroke-width:0.8;\"/>\r\n      </defs>\r\n      <g>\r\n       <use style=\"stroke:#000000;stroke-width:0.8;\" x=\"36.465625\" xlink:href=\"#mdad8ec05fc\" y=\"402.838125\"/>\r\n      </g>\r\n     </g>\r\n     <g id=\"text_8\">\r\n      <!-- 0.00 -->\r\n      <defs>\r\n       <path d=\"M 10.6875 12.40625 \r\nL 21 12.40625 \r\nL 21 0 \r\nL 10.6875 0 \r\nz\r\n\" id=\"DejaVuSans-46\"/>\r\n      </defs>\r\n      <g transform=\"translate(7.2 406.637344)scale(0.1 -0.1)\">\r\n       <use xlink:href=\"#DejaVuSans-48\"/>\r\n       <use x=\"63.623047\" xlink:href=\"#DejaVuSans-46\"/>\r\n       <use x=\"95.410156\" xlink:href=\"#DejaVuSans-48\"/>\r\n       <use x=\"159.033203\" xlink:href=\"#DejaVuSans-48\"/>\r\n      </g>\r\n     </g>\r\n    </g>\r\n    <g id=\"ytick_2\">\r\n     <g id=\"line2d_15\">\r\n      <path clip-path=\"url(#pd13922283f)\" d=\"M 36.465625 337.902702 \r\nL 706.065625 337.902702 \r\n\" style=\"fill:none;stroke:#808080;stroke-linecap:square;stroke-opacity:0.3;stroke-width:0.25;\"/>\r\n     </g>\r\n     <g id=\"line2d_16\">\r\n      <g>\r\n       <use style=\"stroke:#000000;stroke-width:0.8;\" x=\"36.465625\" xlink:href=\"#mdad8ec05fc\" y=\"337.902702\"/>\r\n      </g>\r\n     </g>\r\n     <g id=\"text_9\">\r\n      <!-- 0.05 -->\r\n      <defs>\r\n       <path d=\"M 10.796875 72.90625 \r\nL 49.515625 72.90625 \r\nL 49.515625 64.59375 \r\nL 19.828125 64.59375 \r\nL 19.828125 46.734375 \r\nQ 21.96875 47.46875 24.109375 47.828125 \r\nQ 26.265625 48.1875 28.421875 48.1875 \r\nQ 40.625 48.1875 47.75 41.5 \r\nQ 54.890625 34.8125 54.890625 23.390625 \r\nQ 54.890625 11.625 47.5625 5.09375 \r\nQ 40.234375 -1.421875 26.90625 -1.421875 \r\nQ 22.3125 -1.421875 17.546875 -0.640625 \r\nQ 12.796875 0.140625 7.71875 1.703125 \r\nL 7.71875 11.625 \r\nQ 12.109375 9.234375 16.796875 8.0625 \r\nQ 21.484375 6.890625 26.703125 6.890625 \r\nQ 35.15625 6.890625 40.078125 11.328125 \r\nQ 45.015625 15.765625 45.015625 23.390625 \r\nQ 45.015625 31 40.078125 35.4375 \r\nQ 35.15625 39.890625 26.703125 39.890625 \r\nQ 22.75 39.890625 18.8125 39.015625 \r\nQ 14.890625 38.140625 10.796875 36.28125 \r\nz\r\n\" id=\"DejaVuSans-53\"/>\r\n      </defs>\r\n      <g transform=\"translate(7.2 341.701921)scale(0.1 -0.1)\">\r\n       <use xlink:href=\"#DejaVuSans-48\"/>\r\n       <use x=\"63.623047\" xlink:href=\"#DejaVuSans-46\"/>\r\n       <use x=\"95.410156\" xlink:href=\"#DejaVuSans-48\"/>\r\n       <use x=\"159.033203\" xlink:href=\"#DejaVuSans-53\"/>\r\n      </g>\r\n     </g>\r\n    </g>\r\n    <g id=\"ytick_3\">\r\n     <g id=\"line2d_17\">\r\n      <path clip-path=\"url(#pd13922283f)\" d=\"M 36.465625 272.967279 \r\nL 706.065625 272.967279 \r\n\" style=\"fill:none;stroke:#808080;stroke-linecap:square;stroke-opacity:0.3;stroke-width:0.25;\"/>\r\n     </g>\r\n     <g id=\"line2d_18\">\r\n      <g>\r\n       <use style=\"stroke:#000000;stroke-width:0.8;\" x=\"36.465625\" xlink:href=\"#mdad8ec05fc\" y=\"272.967279\"/>\r\n      </g>\r\n     </g>\r\n     <g id=\"text_10\">\r\n      <!-- 0.10 -->\r\n      <g transform=\"translate(7.2 276.766498)scale(0.1 -0.1)\">\r\n       <use xlink:href=\"#DejaVuSans-48\"/>\r\n       <use x=\"63.623047\" xlink:href=\"#DejaVuSans-46\"/>\r\n       <use x=\"95.410156\" xlink:href=\"#DejaVuSans-49\"/>\r\n       <use x=\"159.033203\" xlink:href=\"#DejaVuSans-48\"/>\r\n      </g>\r\n     </g>\r\n    </g>\r\n    <g id=\"ytick_4\">\r\n     <g id=\"line2d_19\">\r\n      <path clip-path=\"url(#pd13922283f)\" d=\"M 36.465625 208.031857 \r\nL 706.065625 208.031857 \r\n\" style=\"fill:none;stroke:#808080;stroke-linecap:square;stroke-opacity:0.3;stroke-width:0.25;\"/>\r\n     </g>\r\n     <g id=\"line2d_20\">\r\n      <g>\r\n       <use style=\"stroke:#000000;stroke-width:0.8;\" x=\"36.465625\" xlink:href=\"#mdad8ec05fc\" y=\"208.031857\"/>\r\n      </g>\r\n     </g>\r\n     <g id=\"text_11\">\r\n      <!-- 0.15 -->\r\n      <g transform=\"translate(7.2 211.831075)scale(0.1 -0.1)\">\r\n       <use xlink:href=\"#DejaVuSans-48\"/>\r\n       <use x=\"63.623047\" xlink:href=\"#DejaVuSans-46\"/>\r\n       <use x=\"95.410156\" xlink:href=\"#DejaVuSans-49\"/>\r\n       <use x=\"159.033203\" xlink:href=\"#DejaVuSans-53\"/>\r\n      </g>\r\n     </g>\r\n    </g>\r\n    <g id=\"ytick_5\">\r\n     <g id=\"line2d_21\">\r\n      <path clip-path=\"url(#pd13922283f)\" d=\"M 36.465625 143.096434 \r\nL 706.065625 143.096434 \r\n\" style=\"fill:none;stroke:#808080;stroke-linecap:square;stroke-opacity:0.3;stroke-width:0.25;\"/>\r\n     </g>\r\n     <g id=\"line2d_22\">\r\n      <g>\r\n       <use style=\"stroke:#000000;stroke-width:0.8;\" x=\"36.465625\" xlink:href=\"#mdad8ec05fc\" y=\"143.096434\"/>\r\n      </g>\r\n     </g>\r\n     <g id=\"text_12\">\r\n      <!-- 0.20 -->\r\n      <g transform=\"translate(7.2 146.895653)scale(0.1 -0.1)\">\r\n       <use xlink:href=\"#DejaVuSans-48\"/>\r\n       <use x=\"63.623047\" xlink:href=\"#DejaVuSans-46\"/>\r\n       <use x=\"95.410156\" xlink:href=\"#DejaVuSans-50\"/>\r\n       <use x=\"159.033203\" xlink:href=\"#DejaVuSans-48\"/>\r\n      </g>\r\n     </g>\r\n    </g>\r\n    <g id=\"ytick_6\">\r\n     <g id=\"line2d_23\">\r\n      <path clip-path=\"url(#pd13922283f)\" d=\"M 36.465625 78.161011 \r\nL 706.065625 78.161011 \r\n\" style=\"fill:none;stroke:#808080;stroke-linecap:square;stroke-opacity:0.3;stroke-width:0.25;\"/>\r\n     </g>\r\n     <g id=\"line2d_24\">\r\n      <g>\r\n       <use style=\"stroke:#000000;stroke-width:0.8;\" x=\"36.465625\" xlink:href=\"#mdad8ec05fc\" y=\"78.161011\"/>\r\n      </g>\r\n     </g>\r\n     <g id=\"text_13\">\r\n      <!-- 0.25 -->\r\n      <g transform=\"translate(7.2 81.96023)scale(0.1 -0.1)\">\r\n       <use xlink:href=\"#DejaVuSans-48\"/>\r\n       <use x=\"63.623047\" xlink:href=\"#DejaVuSans-46\"/>\r\n       <use x=\"95.410156\" xlink:href=\"#DejaVuSans-50\"/>\r\n       <use x=\"159.033203\" xlink:href=\"#DejaVuSans-53\"/>\r\n      </g>\r\n     </g>\r\n    </g>\r\n   </g>\r\n   <g id=\"line2d_25\">\r\n    <defs>\r\n     <path d=\"M -3 3 \r\nL 3 3 \r\nL 3 -3 \r\nL -3 -3 \r\nz\r\n\" id=\"m9c58aafe81\" style=\"stroke:#800000;stroke-linejoin:miter;stroke-opacity:0.5;\"/>\r\n    </defs>\r\n    <g clip-path=\"url(#pd13922283f)\">\r\n     <use style=\"fill:#800000;fill-opacity:0.5;stroke:#800000;stroke-linejoin:miter;stroke-opacity:0.5;\" x=\"66.901989\" xlink:href=\"#m9c58aafe81\" y=\"247.729519\"/>\r\n     <use style=\"fill:#800000;fill-opacity:0.5;stroke:#800000;stroke-linejoin:miter;stroke-opacity:0.5;\" x=\"73.050749\" xlink:href=\"#m9c58aafe81\" y=\"227.033169\"/>\r\n     <use style=\"fill:#800000;fill-opacity:0.5;stroke:#800000;stroke-linejoin:miter;stroke-opacity:0.5;\" x=\"79.199509\" xlink:href=\"#m9c58aafe81\" y=\"206.418365\"/>\r\n     <use style=\"fill:#800000;fill-opacity:0.5;stroke:#800000;stroke-linejoin:miter;stroke-opacity:0.5;\" x=\"85.34827\" xlink:href=\"#m9c58aafe81\" y=\"186.155895\"/>\r\n     <use style=\"fill:#800000;fill-opacity:0.5;stroke:#800000;stroke-linejoin:miter;stroke-opacity:0.5;\" x=\"91.49703\" xlink:href=\"#m9c58aafe81\" y=\"166.503858\"/>\r\n     <use style=\"fill:#800000;fill-opacity:0.5;stroke:#800000;stroke-linejoin:miter;stroke-opacity:0.5;\" x=\"97.64579\" xlink:href=\"#m9c58aafe81\" y=\"147.702902\"/>\r\n     <use style=\"fill:#800000;fill-opacity:0.5;stroke:#800000;stroke-linejoin:miter;stroke-opacity:0.5;\" x=\"103.794551\" xlink:href=\"#m9c58aafe81\" y=\"129.972243\"/>\r\n     <use style=\"fill:#800000;fill-opacity:0.5;stroke:#800000;stroke-linejoin:miter;stroke-opacity:0.5;\" x=\"109.943311\" xlink:href=\"#m9c58aafe81\" y=\"113.506502\"/>\r\n     <use style=\"fill:#800000;fill-opacity:0.5;stroke:#800000;stroke-linejoin:miter;stroke-opacity:0.5;\" x=\"116.092071\" xlink:href=\"#m9c58aafe81\" y=\"98.473359\"/>\r\n     <use style=\"fill:#800000;fill-opacity:0.5;stroke:#800000;stroke-linejoin:miter;stroke-opacity:0.5;\" x=\"122.240832\" xlink:href=\"#m9c58aafe81\" y=\"85.012001\"/>\r\n     <use style=\"fill:#800000;fill-opacity:0.5;stroke:#800000;stroke-linejoin:miter;stroke-opacity:0.5;\" x=\"128.389592\" xlink:href=\"#m9c58aafe81\" y=\"73.232338\"/>\r\n     <use style=\"fill:#800000;fill-opacity:0.5;stroke:#800000;stroke-linejoin:miter;stroke-opacity:0.5;\" x=\"134.538352\" xlink:href=\"#m9c58aafe81\" y=\"63.214915\"/>\r\n     <use style=\"fill:#800000;fill-opacity:0.5;stroke:#800000;stroke-linejoin:miter;stroke-opacity:0.5;\" x=\"140.687113\" xlink:href=\"#m9c58aafe81\" y=\"55.011466\"/>\r\n     <use style=\"fill:#800000;fill-opacity:0.5;stroke:#800000;stroke-linejoin:miter;stroke-opacity:0.5;\" x=\"146.835873\" xlink:href=\"#m9c58aafe81\" y=\"48.646018\"/>\r\n     <use style=\"fill:#800000;fill-opacity:0.5;stroke:#800000;stroke-linejoin:miter;stroke-opacity:0.5;\" x=\"152.984633\" xlink:href=\"#m9c58aafe81\" y=\"44.11647\"/>\r\n     <use style=\"fill:#800000;fill-opacity:0.5;stroke:#800000;stroke-linejoin:miter;stroke-opacity:0.5;\" x=\"159.133394\" xlink:href=\"#m9c58aafe81\" y=\"41.396558\"/>\r\n     <use style=\"fill:#800000;fill-opacity:0.5;stroke:#800000;stroke-linejoin:miter;stroke-opacity:0.5;\" x=\"165.282154\" xlink:href=\"#m9c58aafe81\" y=\"40.438125\"/>\r\n     <use style=\"fill:#800000;fill-opacity:0.5;stroke:#800000;stroke-linejoin:miter;stroke-opacity:0.5;\" x=\"171.430914\" xlink:href=\"#m9c58aafe81\" y=\"41.173597\"/>\r\n     <use style=\"fill:#800000;fill-opacity:0.5;stroke:#800000;stroke-linejoin:miter;stroke-opacity:0.5;\" x=\"177.579675\" xlink:href=\"#m9c58aafe81\" y=\"43.51861\"/>\r\n     <use style=\"fill:#800000;fill-opacity:0.5;stroke:#800000;stroke-linejoin:miter;stroke-opacity:0.5;\" x=\"183.728435\" xlink:href=\"#m9c58aafe81\" y=\"47.374697\"/>\r\n     <use style=\"fill:#800000;fill-opacity:0.5;stroke:#800000;stroke-linejoin:miter;stroke-opacity:0.5;\" x=\"189.877195\" xlink:href=\"#m9c58aafe81\" y=\"52.631976\"/>\r\n     <use style=\"fill:#800000;fill-opacity:0.5;stroke:#800000;stroke-linejoin:miter;stroke-opacity:0.5;\" x=\"196.025956\" xlink:href=\"#m9c58aafe81\" y=\"59.171781\"/>\r\n     <use style=\"fill:#800000;fill-opacity:0.5;stroke:#800000;stroke-linejoin:miter;stroke-opacity:0.5;\" x=\"202.174716\" xlink:href=\"#m9c58aafe81\" y=\"66.869193\"/>\r\n     <use style=\"fill:#800000;fill-opacity:0.5;stroke:#800000;stroke-linejoin:miter;stroke-opacity:0.5;\" x=\"208.323476\" xlink:href=\"#m9c58aafe81\" y=\"75.595417\"/>\r\n     <use style=\"fill:#800000;fill-opacity:0.5;stroke:#800000;stroke-linejoin:miter;stroke-opacity:0.5;\" x=\"214.472237\" xlink:href=\"#m9c58aafe81\" y=\"85.219993\"/>\r\n     <use style=\"fill:#800000;fill-opacity:0.5;stroke:#800000;stroke-linejoin:miter;stroke-opacity:0.5;\" x=\"220.620997\" xlink:href=\"#m9c58aafe81\" y=\"95.612793\"/>\r\n     <use style=\"fill:#800000;fill-opacity:0.5;stroke:#800000;stroke-linejoin:miter;stroke-opacity:0.5;\" x=\"226.769757\" xlink:href=\"#m9c58aafe81\" y=\"106.645817\"/>\r\n     <use style=\"fill:#800000;fill-opacity:0.5;stroke:#800000;stroke-linejoin:miter;stroke-opacity:0.5;\" x=\"232.918518\" xlink:href=\"#m9c58aafe81\" y=\"118.194746\"/>\r\n     <use style=\"fill:#800000;fill-opacity:0.5;stroke:#800000;stroke-linejoin:miter;stroke-opacity:0.5;\" x=\"239.067278\" xlink:href=\"#m9c58aafe81\" y=\"130.140279\"/>\r\n     <use style=\"fill:#800000;fill-opacity:0.5;stroke:#800000;stroke-linejoin:miter;stroke-opacity:0.5;\" x=\"245.216038\" xlink:href=\"#m9c58aafe81\" y=\"142.369234\"/>\r\n     <use style=\"fill:#800000;fill-opacity:0.5;stroke:#800000;stroke-linejoin:miter;stroke-opacity:0.5;\" x=\"251.364799\" xlink:href=\"#m9c58aafe81\" y=\"154.775436\"/>\r\n     <use style=\"fill:#800000;fill-opacity:0.5;stroke:#800000;stroke-linejoin:miter;stroke-opacity:0.5;\" x=\"257.513559\" xlink:href=\"#m9c58aafe81\" y=\"167.260389\"/>\r\n     <use style=\"fill:#800000;fill-opacity:0.5;stroke:#800000;stroke-linejoin:miter;stroke-opacity:0.5;\" x=\"263.662319\" xlink:href=\"#m9c58aafe81\" y=\"179.733756\"/>\r\n     <use style=\"fill:#800000;fill-opacity:0.5;stroke:#800000;stroke-linejoin:miter;stroke-opacity:0.5;\" x=\"269.81108\" xlink:href=\"#m9c58aafe81\" y=\"192.113654\"/>\r\n     <use style=\"fill:#800000;fill-opacity:0.5;stroke:#800000;stroke-linejoin:miter;stroke-opacity:0.5;\" x=\"275.95984\" xlink:href=\"#m9c58aafe81\" y=\"204.326792\"/>\r\n     <use style=\"fill:#800000;fill-opacity:0.5;stroke:#800000;stroke-linejoin:miter;stroke-opacity:0.5;\" x=\"282.1086\" xlink:href=\"#m9c58aafe81\" y=\"216.308459\"/>\r\n     <use style=\"fill:#800000;fill-opacity:0.5;stroke:#800000;stroke-linejoin:miter;stroke-opacity:0.5;\" x=\"288.257361\" xlink:href=\"#m9c58aafe81\" y=\"228.002388\"/>\r\n     <use style=\"fill:#800000;fill-opacity:0.5;stroke:#800000;stroke-linejoin:miter;stroke-opacity:0.5;\" x=\"294.406121\" xlink:href=\"#m9c58aafe81\" y=\"239.360509\"/>\r\n     <use style=\"fill:#800000;fill-opacity:0.5;stroke:#800000;stroke-linejoin:miter;stroke-opacity:0.5;\" x=\"300.554881\" xlink:href=\"#m9c58aafe81\" y=\"250.342619\"/>\r\n     <use style=\"fill:#800000;fill-opacity:0.5;stroke:#800000;stroke-linejoin:miter;stroke-opacity:0.5;\" x=\"306.703642\" xlink:href=\"#m9c58aafe81\" y=\"260.915973\"/>\r\n     <use style=\"fill:#800000;fill-opacity:0.5;stroke:#800000;stroke-linejoin:miter;stroke-opacity:0.5;\" x=\"312.852402\" xlink:href=\"#m9c58aafe81\" y=\"271.054822\"/>\r\n     <use style=\"fill:#800000;fill-opacity:0.5;stroke:#800000;stroke-linejoin:miter;stroke-opacity:0.5;\" x=\"319.001162\" xlink:href=\"#m9c58aafe81\" y=\"280.739908\"/>\r\n     <use style=\"fill:#800000;fill-opacity:0.5;stroke:#800000;stroke-linejoin:miter;stroke-opacity:0.5;\" x=\"325.149923\" xlink:href=\"#m9c58aafe81\" y=\"289.957938\"/>\r\n     <use style=\"fill:#800000;fill-opacity:0.5;stroke:#800000;stroke-linejoin:miter;stroke-opacity:0.5;\" x=\"331.298683\" xlink:href=\"#m9c58aafe81\" y=\"298.701032\"/>\r\n     <use style=\"fill:#800000;fill-opacity:0.5;stroke:#800000;stroke-linejoin:miter;stroke-opacity:0.5;\" x=\"337.447443\" xlink:href=\"#m9c58aafe81\" y=\"306.966175\"/>\r\n     <use style=\"fill:#800000;fill-opacity:0.5;stroke:#800000;stroke-linejoin:miter;stroke-opacity:0.5;\" x=\"343.596204\" xlink:href=\"#m9c58aafe81\" y=\"314.754672\"/>\r\n     <use style=\"fill:#800000;fill-opacity:0.5;stroke:#800000;stroke-linejoin:miter;stroke-opacity:0.5;\" x=\"349.744964\" xlink:href=\"#m9c58aafe81\" y=\"322.071616\"/>\r\n     <use style=\"fill:#800000;fill-opacity:0.5;stroke:#800000;stroke-linejoin:miter;stroke-opacity:0.5;\" x=\"355.893724\" xlink:href=\"#m9c58aafe81\" y=\"328.925373\"/>\r\n     <use style=\"fill:#800000;fill-opacity:0.5;stroke:#800000;stroke-linejoin:miter;stroke-opacity:0.5;\" x=\"362.042485\" xlink:href=\"#m9c58aafe81\" y=\"335.327094\"/>\r\n     <use style=\"fill:#800000;fill-opacity:0.5;stroke:#800000;stroke-linejoin:miter;stroke-opacity:0.5;\" x=\"368.191245\" xlink:href=\"#m9c58aafe81\" y=\"341.290253\"/>\r\n     <use style=\"fill:#800000;fill-opacity:0.5;stroke:#800000;stroke-linejoin:miter;stroke-opacity:0.5;\" x=\"374.340005\" xlink:href=\"#m9c58aafe81\" y=\"346.830221\"/>\r\n     <use style=\"fill:#800000;fill-opacity:0.5;stroke:#800000;stroke-linejoin:miter;stroke-opacity:0.5;\" x=\"380.488765\" xlink:href=\"#m9c58aafe81\" y=\"351.963868\"/>\r\n     <use style=\"fill:#800000;fill-opacity:0.5;stroke:#800000;stroke-linejoin:miter;stroke-opacity:0.5;\" x=\"386.637526\" xlink:href=\"#m9c58aafe81\" y=\"356.709203\"/>\r\n     <use style=\"fill:#800000;fill-opacity:0.5;stroke:#800000;stroke-linejoin:miter;stroke-opacity:0.5;\" x=\"392.786286\" xlink:href=\"#m9c58aafe81\" y=\"361.085045\"/>\r\n     <use style=\"fill:#800000;fill-opacity:0.5;stroke:#800000;stroke-linejoin:miter;stroke-opacity:0.5;\" x=\"398.935046\" xlink:href=\"#m9c58aafe81\" y=\"365.110737\"/>\r\n     <use style=\"fill:#800000;fill-opacity:0.5;stroke:#800000;stroke-linejoin:miter;stroke-opacity:0.5;\" x=\"405.083807\" xlink:href=\"#m9c58aafe81\" y=\"368.805882\"/>\r\n     <use style=\"fill:#800000;fill-opacity:0.5;stroke:#800000;stroke-linejoin:miter;stroke-opacity:0.5;\" x=\"411.232567\" xlink:href=\"#m9c58aafe81\" y=\"372.190119\"/>\r\n     <use style=\"fill:#800000;fill-opacity:0.5;stroke:#800000;stroke-linejoin:miter;stroke-opacity:0.5;\" x=\"417.381327\" xlink:href=\"#m9c58aafe81\" y=\"375.282932\"/>\r\n     <use style=\"fill:#800000;fill-opacity:0.5;stroke:#800000;stroke-linejoin:miter;stroke-opacity:0.5;\" x=\"423.530088\" xlink:href=\"#m9c58aafe81\" y=\"378.10348\"/>\r\n     <use style=\"fill:#800000;fill-opacity:0.5;stroke:#800000;stroke-linejoin:miter;stroke-opacity:0.5;\" x=\"429.678848\" xlink:href=\"#m9c58aafe81\" y=\"380.670459\"/>\r\n     <use style=\"fill:#800000;fill-opacity:0.5;stroke:#800000;stroke-linejoin:miter;stroke-opacity:0.5;\" x=\"435.827608\" xlink:href=\"#m9c58aafe81\" y=\"383.001992\"/>\r\n     <use style=\"fill:#800000;fill-opacity:0.5;stroke:#800000;stroke-linejoin:miter;stroke-opacity:0.5;\" x=\"441.976369\" xlink:href=\"#m9c58aafe81\" y=\"385.115535\"/>\r\n     <use style=\"fill:#800000;fill-opacity:0.5;stroke:#800000;stroke-linejoin:miter;stroke-opacity:0.5;\" x=\"448.125129\" xlink:href=\"#m9c58aafe81\" y=\"387.027809\"/>\r\n     <use style=\"fill:#800000;fill-opacity:0.5;stroke:#800000;stroke-linejoin:miter;stroke-opacity:0.5;\" x=\"454.273889\" xlink:href=\"#m9c58aafe81\" y=\"388.754745\"/>\r\n     <use style=\"fill:#800000;fill-opacity:0.5;stroke:#800000;stroke-linejoin:miter;stroke-opacity:0.5;\" x=\"460.42265\" xlink:href=\"#m9c58aafe81\" y=\"390.311453\"/>\r\n     <use style=\"fill:#800000;fill-opacity:0.5;stroke:#800000;stroke-linejoin:miter;stroke-opacity:0.5;\" x=\"466.57141\" xlink:href=\"#m9c58aafe81\" y=\"391.712199\"/>\r\n     <use style=\"fill:#800000;fill-opacity:0.5;stroke:#800000;stroke-linejoin:miter;stroke-opacity:0.5;\" x=\"472.72017\" xlink:href=\"#m9c58aafe81\" y=\"392.970396\"/>\r\n     <use style=\"fill:#800000;fill-opacity:0.5;stroke:#800000;stroke-linejoin:miter;stroke-opacity:0.5;\" x=\"478.868931\" xlink:href=\"#m9c58aafe81\" y=\"394.098605\"/>\r\n     <use style=\"fill:#800000;fill-opacity:0.5;stroke:#800000;stroke-linejoin:miter;stroke-opacity:0.5;\" x=\"485.017691\" xlink:href=\"#m9c58aafe81\" y=\"395.108548\"/>\r\n     <use style=\"fill:#800000;fill-opacity:0.5;stroke:#800000;stroke-linejoin:miter;stroke-opacity:0.5;\" x=\"491.166451\" xlink:href=\"#m9c58aafe81\" y=\"396.011126\"/>\r\n     <use style=\"fill:#800000;fill-opacity:0.5;stroke:#800000;stroke-linejoin:miter;stroke-opacity:0.5;\" x=\"497.315212\" xlink:href=\"#m9c58aafe81\" y=\"396.816442\"/>\r\n     <use style=\"fill:#800000;fill-opacity:0.5;stroke:#800000;stroke-linejoin:miter;stroke-opacity:0.5;\" x=\"503.463972\" xlink:href=\"#m9c58aafe81\" y=\"397.533829\"/>\r\n     <use style=\"fill:#800000;fill-opacity:0.5;stroke:#800000;stroke-linejoin:miter;stroke-opacity:0.5;\" x=\"509.612732\" xlink:href=\"#m9c58aafe81\" y=\"398.171886\"/>\r\n     <use style=\"fill:#800000;fill-opacity:0.5;stroke:#800000;stroke-linejoin:miter;stroke-opacity:0.5;\" x=\"515.761493\" xlink:href=\"#m9c58aafe81\" y=\"398.738511\"/>\r\n     <use style=\"fill:#800000;fill-opacity:0.5;stroke:#800000;stroke-linejoin:miter;stroke-opacity:0.5;\" x=\"521.910253\" xlink:href=\"#m9c58aafe81\" y=\"399.240939\"/>\r\n     <use style=\"fill:#800000;fill-opacity:0.5;stroke:#800000;stroke-linejoin:miter;stroke-opacity:0.5;\" x=\"528.059013\" xlink:href=\"#m9c58aafe81\" y=\"399.685779\"/>\r\n     <use style=\"fill:#800000;fill-opacity:0.5;stroke:#800000;stroke-linejoin:miter;stroke-opacity:0.5;\" x=\"534.207774\" xlink:href=\"#m9c58aafe81\" y=\"400.079056\"/>\r\n     <use style=\"fill:#800000;fill-opacity:0.5;stroke:#800000;stroke-linejoin:miter;stroke-opacity:0.5;\" x=\"540.356534\" xlink:href=\"#m9c58aafe81\" y=\"400.426244\"/>\r\n     <use style=\"fill:#800000;fill-opacity:0.5;stroke:#800000;stroke-linejoin:miter;stroke-opacity:0.5;\" x=\"546.505294\" xlink:href=\"#m9c58aafe81\" y=\"400.732311\"/>\r\n     <use style=\"fill:#800000;fill-opacity:0.5;stroke:#800000;stroke-linejoin:miter;stroke-opacity:0.5;\" x=\"552.654055\" xlink:href=\"#m9c58aafe81\" y=\"401.001749\"/>\r\n     <use style=\"fill:#800000;fill-opacity:0.5;stroke:#800000;stroke-linejoin:miter;stroke-opacity:0.5;\" x=\"558.802815\" xlink:href=\"#m9c58aafe81\" y=\"401.238615\"/>\r\n     <use style=\"fill:#800000;fill-opacity:0.5;stroke:#800000;stroke-linejoin:miter;stroke-opacity:0.5;\" x=\"564.951575\" xlink:href=\"#m9c58aafe81\" y=\"401.446566\"/>\r\n     <use style=\"fill:#800000;fill-opacity:0.5;stroke:#800000;stroke-linejoin:miter;stroke-opacity:0.5;\" x=\"571.100336\" xlink:href=\"#m9c58aafe81\" y=\"401.628886\"/>\r\n     <use style=\"fill:#800000;fill-opacity:0.5;stroke:#800000;stroke-linejoin:miter;stroke-opacity:0.5;\" x=\"577.249096\" xlink:href=\"#m9c58aafe81\" y=\"401.788525\"/>\r\n     <use style=\"fill:#800000;fill-opacity:0.5;stroke:#800000;stroke-linejoin:miter;stroke-opacity:0.5;\" x=\"583.397856\" xlink:href=\"#m9c58aafe81\" y=\"401.928123\"/>\r\n     <use style=\"fill:#800000;fill-opacity:0.5;stroke:#800000;stroke-linejoin:miter;stroke-opacity:0.5;\" x=\"589.546617\" xlink:href=\"#m9c58aafe81\" y=\"402.050039\"/>\r\n     <use style=\"fill:#800000;fill-opacity:0.5;stroke:#800000;stroke-linejoin:miter;stroke-opacity:0.5;\" x=\"595.695377\" xlink:href=\"#m9c58aafe81\" y=\"402.156378\"/>\r\n     <use style=\"fill:#800000;fill-opacity:0.5;stroke:#800000;stroke-linejoin:miter;stroke-opacity:0.5;\" x=\"601.844137\" xlink:href=\"#m9c58aafe81\" y=\"402.249016\"/>\r\n     <use style=\"fill:#800000;fill-opacity:0.5;stroke:#800000;stroke-linejoin:miter;stroke-opacity:0.5;\" x=\"607.992898\" xlink:href=\"#m9c58aafe81\" y=\"402.329619\"/>\r\n     <use style=\"fill:#800000;fill-opacity:0.5;stroke:#800000;stroke-linejoin:miter;stroke-opacity:0.5;\" x=\"614.141658\" xlink:href=\"#m9c58aafe81\" y=\"402.399664\"/>\r\n     <use style=\"fill:#800000;fill-opacity:0.5;stroke:#800000;stroke-linejoin:miter;stroke-opacity:0.5;\" x=\"620.290418\" xlink:href=\"#m9c58aafe81\" y=\"402.460463\"/>\r\n     <use style=\"fill:#800000;fill-opacity:0.5;stroke:#800000;stroke-linejoin:miter;stroke-opacity:0.5;\" x=\"626.439179\" xlink:href=\"#m9c58aafe81\" y=\"402.513173\"/>\r\n     <use style=\"fill:#800000;fill-opacity:0.5;stroke:#800000;stroke-linejoin:miter;stroke-opacity:0.5;\" x=\"632.587939\" xlink:href=\"#m9c58aafe81\" y=\"402.558817\"/>\r\n     <use style=\"fill:#800000;fill-opacity:0.5;stroke:#800000;stroke-linejoin:miter;stroke-opacity:0.5;\" x=\"638.736699\" xlink:href=\"#m9c58aafe81\" y=\"402.598297\"/>\r\n     <use style=\"fill:#800000;fill-opacity:0.5;stroke:#800000;stroke-linejoin:miter;stroke-opacity:0.5;\" x=\"644.88546\" xlink:href=\"#m9c58aafe81\" y=\"402.632406\"/>\r\n     <use style=\"fill:#800000;fill-opacity:0.5;stroke:#800000;stroke-linejoin:miter;stroke-opacity:0.5;\" x=\"651.03422\" xlink:href=\"#m9c58aafe81\" y=\"402.661843\"/>\r\n     <use style=\"fill:#800000;fill-opacity:0.5;stroke:#800000;stroke-linejoin:miter;stroke-opacity:0.5;\" x=\"657.18298\" xlink:href=\"#m9c58aafe81\" y=\"402.687218\"/>\r\n     <use style=\"fill:#800000;fill-opacity:0.5;stroke:#800000;stroke-linejoin:miter;stroke-opacity:0.5;\" x=\"663.331741\" xlink:href=\"#m9c58aafe81\" y=\"402.709068\"/>\r\n     <use style=\"fill:#800000;fill-opacity:0.5;stroke:#800000;stroke-linejoin:miter;stroke-opacity:0.5;\" x=\"669.480501\" xlink:href=\"#m9c58aafe81\" y=\"402.727862\"/>\r\n     <use style=\"fill:#800000;fill-opacity:0.5;stroke:#800000;stroke-linejoin:miter;stroke-opacity:0.5;\" x=\"675.629261\" xlink:href=\"#m9c58aafe81\" y=\"402.744011\"/>\r\n    </g>\r\n   </g>\r\n   <g id=\"line2d_26\">\r\n    <path clip-path=\"url(#pd13922283f)\" d=\"M 197.563146 402.838125 \r\nL 197.563146 22.318125 \r\n\" style=\"fill:none;stroke:#daa520;stroke-linecap:square;stroke-width:4;\"/>\r\n   </g>\r\n   <g id=\"patch_9\">\r\n    <path d=\"M 36.465625 402.838125 \r\nL 36.465625 22.318125 \r\n\" style=\"fill:none;stroke:#000000;stroke-linecap:square;stroke-linejoin:miter;stroke-width:0.8;\"/>\r\n   </g>\r\n   <g id=\"patch_10\">\r\n    <path d=\"M 706.065625 402.838125 \r\nL 706.065625 22.318125 \r\n\" style=\"fill:none;stroke:#000000;stroke-linecap:square;stroke-linejoin:miter;stroke-width:0.8;\"/>\r\n   </g>\r\n   <g id=\"patch_11\">\r\n    <path d=\"M 36.465625 402.838125 \r\nL 706.065625 402.838125 \r\n\" style=\"fill:none;stroke:#000000;stroke-linecap:square;stroke-linejoin:miter;stroke-width:0.8;\"/>\r\n   </g>\r\n   <g id=\"patch_12\">\r\n    <path d=\"M 36.465625 22.318125 \r\nL 706.065625 22.318125 \r\n\" style=\"fill:none;stroke:#000000;stroke-linecap:square;stroke-linejoin:miter;stroke-width:0.8;\"/>\r\n   </g>\r\n   <g id=\"text_14\">\r\n    <!-- Probability Density Function / Distribution of goals / Expected Value - lambda -->\r\n    <defs>\r\n     <path d=\"M 19.671875 64.796875 \r\nL 19.671875 37.40625 \r\nL 32.078125 37.40625 \r\nQ 38.96875 37.40625 42.71875 40.96875 \r\nQ 46.484375 44.53125 46.484375 51.125 \r\nQ 46.484375 57.671875 42.71875 61.234375 \r\nQ 38.96875 64.796875 32.078125 64.796875 \r\nz\r\nM 9.8125 72.90625 \r\nL 32.078125 72.90625 \r\nQ 44.34375 72.90625 50.609375 67.359375 \r\nQ 56.890625 61.8125 56.890625 51.125 \r\nQ 56.890625 40.328125 50.609375 34.8125 \r\nQ 44.34375 29.296875 32.078125 29.296875 \r\nL 19.671875 29.296875 \r\nL 19.671875 0 \r\nL 9.8125 0 \r\nz\r\n\" id=\"DejaVuSans-80\"/>\r\n     <path d=\"M 41.109375 46.296875 \r\nQ 39.59375 47.171875 37.8125 47.578125 \r\nQ 36.03125 48 33.890625 48 \r\nQ 26.265625 48 22.1875 43.046875 \r\nQ 18.109375 38.09375 18.109375 28.8125 \r\nL 18.109375 0 \r\nL 9.078125 0 \r\nL 9.078125 54.6875 \r\nL 18.109375 54.6875 \r\nL 18.109375 46.1875 \r\nQ 20.953125 51.171875 25.484375 53.578125 \r\nQ 30.03125 56 36.53125 56 \r\nQ 37.453125 56 38.578125 55.875 \r\nQ 39.703125 55.765625 41.0625 55.515625 \r\nz\r\n\" id=\"DejaVuSans-114\"/>\r\n     <path d=\"M 48.6875 27.296875 \r\nQ 48.6875 37.203125 44.609375 42.84375 \r\nQ 40.53125 48.484375 33.40625 48.484375 \r\nQ 26.265625 48.484375 22.1875 42.84375 \r\nQ 18.109375 37.203125 18.109375 27.296875 \r\nQ 18.109375 17.390625 22.1875 11.75 \r\nQ 26.265625 6.109375 33.40625 6.109375 \r\nQ 40.53125 6.109375 44.609375 11.75 \r\nQ 48.6875 17.390625 48.6875 27.296875 \r\nz\r\nM 18.109375 46.390625 \r\nQ 20.953125 51.265625 25.265625 53.625 \r\nQ 29.59375 56 35.59375 56 \r\nQ 45.5625 56 51.78125 48.09375 \r\nQ 58.015625 40.1875 58.015625 27.296875 \r\nQ 58.015625 14.40625 51.78125 6.484375 \r\nQ 45.5625 -1.421875 35.59375 -1.421875 \r\nQ 29.59375 -1.421875 25.265625 0.953125 \r\nQ 20.953125 3.328125 18.109375 8.203125 \r\nL 18.109375 0 \r\nL 9.078125 0 \r\nL 9.078125 75.984375 \r\nL 18.109375 75.984375 \r\nz\r\n\" id=\"DejaVuSans-98\"/>\r\n     <path d=\"M 9.421875 54.6875 \r\nL 18.40625 54.6875 \r\nL 18.40625 0 \r\nL 9.421875 0 \r\nz\r\nM 9.421875 75.984375 \r\nL 18.40625 75.984375 \r\nL 18.40625 64.59375 \r\nL 9.421875 64.59375 \r\nz\r\n\" id=\"DejaVuSans-105\"/>\r\n     <path d=\"M 18.3125 70.21875 \r\nL 18.3125 54.6875 \r\nL 36.8125 54.6875 \r\nL 36.8125 47.703125 \r\nL 18.3125 47.703125 \r\nL 18.3125 18.015625 \r\nQ 18.3125 11.328125 20.140625 9.421875 \r\nQ 21.96875 7.515625 27.59375 7.515625 \r\nL 36.8125 7.515625 \r\nL 36.8125 0 \r\nL 27.59375 0 \r\nQ 17.1875 0 13.234375 3.875 \r\nQ 9.28125 7.765625 9.28125 18.015625 \r\nL 9.28125 47.703125 \r\nL 2.6875 47.703125 \r\nL 2.6875 54.6875 \r\nL 9.28125 54.6875 \r\nL 9.28125 70.21875 \r\nz\r\n\" id=\"DejaVuSans-116\"/>\r\n     <path d=\"M 32.171875 -5.078125 \r\nQ 28.375 -14.84375 24.75 -17.8125 \r\nQ 21.140625 -20.796875 15.09375 -20.796875 \r\nL 7.90625 -20.796875 \r\nL 7.90625 -13.28125 \r\nL 13.1875 -13.28125 \r\nQ 16.890625 -13.28125 18.9375 -11.515625 \r\nQ 21 -9.765625 23.484375 -3.21875 \r\nL 25.09375 0.875 \r\nL 2.984375 54.6875 \r\nL 12.5 54.6875 \r\nL 29.59375 11.921875 \r\nL 46.6875 54.6875 \r\nL 56.203125 54.6875 \r\nz\r\n\" id=\"DejaVuSans-121\"/>\r\n     <path id=\"DejaVuSans-32\"/>\r\n     <path d=\"M 19.671875 64.796875 \r\nL 19.671875 8.109375 \r\nL 31.59375 8.109375 \r\nQ 46.6875 8.109375 53.6875 14.9375 \r\nQ 60.6875 21.78125 60.6875 36.53125 \r\nQ 60.6875 51.171875 53.6875 57.984375 \r\nQ 46.6875 64.796875 31.59375 64.796875 \r\nz\r\nM 9.8125 72.90625 \r\nL 30.078125 72.90625 \r\nQ 51.265625 72.90625 61.171875 64.09375 \r\nQ 71.09375 55.28125 71.09375 36.53125 \r\nQ 71.09375 17.671875 61.125 8.828125 \r\nQ 51.171875 0 30.078125 0 \r\nL 9.8125 0 \r\nz\r\n\" id=\"DejaVuSans-68\"/>\r\n     <path d=\"M 56.203125 29.59375 \r\nL 56.203125 25.203125 \r\nL 14.890625 25.203125 \r\nQ 15.484375 15.921875 20.484375 11.0625 \r\nQ 25.484375 6.203125 34.421875 6.203125 \r\nQ 39.59375 6.203125 44.453125 7.46875 \r\nQ 49.3125 8.734375 54.109375 11.28125 \r\nL 54.109375 2.78125 \r\nQ 49.265625 0.734375 44.1875 -0.34375 \r\nQ 39.109375 -1.421875 33.890625 -1.421875 \r\nQ 20.796875 -1.421875 13.15625 6.1875 \r\nQ 5.515625 13.8125 5.515625 26.8125 \r\nQ 5.515625 40.234375 12.765625 48.109375 \r\nQ 20.015625 56 32.328125 56 \r\nQ 43.359375 56 49.78125 48.890625 \r\nQ 56.203125 41.796875 56.203125 29.59375 \r\nz\r\nM 47.21875 32.234375 \r\nQ 47.125 39.59375 43.09375 43.984375 \r\nQ 39.0625 48.390625 32.421875 48.390625 \r\nQ 24.90625 48.390625 20.390625 44.140625 \r\nQ 15.875 39.890625 15.1875 32.171875 \r\nz\r\n\" id=\"DejaVuSans-101\"/>\r\n     <path d=\"M 54.890625 33.015625 \r\nL 54.890625 0 \r\nL 45.90625 0 \r\nL 45.90625 32.71875 \r\nQ 45.90625 40.484375 42.875 44.328125 \r\nQ 39.84375 48.1875 33.796875 48.1875 \r\nQ 26.515625 48.1875 22.3125 43.546875 \r\nQ 18.109375 38.921875 18.109375 30.90625 \r\nL 18.109375 0 \r\nL 9.078125 0 \r\nL 9.078125 54.6875 \r\nL 18.109375 54.6875 \r\nL 18.109375 46.1875 \r\nQ 21.34375 51.125 25.703125 53.5625 \r\nQ 30.078125 56 35.796875 56 \r\nQ 45.21875 56 50.046875 50.171875 \r\nQ 54.890625 44.34375 54.890625 33.015625 \r\nz\r\n\" id=\"DejaVuSans-110\"/>\r\n     <path d=\"M 9.8125 72.90625 \r\nL 51.703125 72.90625 \r\nL 51.703125 64.59375 \r\nL 19.671875 64.59375 \r\nL 19.671875 43.109375 \r\nL 48.578125 43.109375 \r\nL 48.578125 34.8125 \r\nL 19.671875 34.8125 \r\nL 19.671875 0 \r\nL 9.8125 0 \r\nz\r\n\" id=\"DejaVuSans-70\"/>\r\n     <path d=\"M 8.5 21.578125 \r\nL 8.5 54.6875 \r\nL 17.484375 54.6875 \r\nL 17.484375 21.921875 \r\nQ 17.484375 14.15625 20.5 10.265625 \r\nQ 23.53125 6.390625 29.59375 6.390625 \r\nQ 36.859375 6.390625 41.078125 11.03125 \r\nQ 45.3125 15.671875 45.3125 23.6875 \r\nL 45.3125 54.6875 \r\nL 54.296875 54.6875 \r\nL 54.296875 0 \r\nL 45.3125 0 \r\nL 45.3125 8.40625 \r\nQ 42.046875 3.421875 37.71875 1 \r\nQ 33.40625 -1.421875 27.6875 -1.421875 \r\nQ 18.265625 -1.421875 13.375 4.4375 \r\nQ 8.5 10.296875 8.5 21.578125 \r\nz\r\nM 31.109375 56 \r\nz\r\n\" id=\"DejaVuSans-117\"/>\r\n     <path d=\"M 48.78125 52.59375 \r\nL 48.78125 44.1875 \r\nQ 44.96875 46.296875 41.140625 47.34375 \r\nQ 37.3125 48.390625 33.40625 48.390625 \r\nQ 24.65625 48.390625 19.8125 42.84375 \r\nQ 14.984375 37.3125 14.984375 27.296875 \r\nQ 14.984375 17.28125 19.8125 11.734375 \r\nQ 24.65625 6.203125 33.40625 6.203125 \r\nQ 37.3125 6.203125 41.140625 7.25 \r\nQ 44.96875 8.296875 48.78125 10.40625 \r\nL 48.78125 2.09375 \r\nQ 45.015625 0.34375 40.984375 -0.53125 \r\nQ 36.96875 -1.421875 32.421875 -1.421875 \r\nQ 20.0625 -1.421875 12.78125 6.34375 \r\nQ 5.515625 14.109375 5.515625 27.296875 \r\nQ 5.515625 40.671875 12.859375 48.328125 \r\nQ 20.21875 56 33.015625 56 \r\nQ 37.15625 56 41.109375 55.140625 \r\nQ 45.0625 54.296875 48.78125 52.59375 \r\nz\r\n\" id=\"DejaVuSans-99\"/>\r\n     <path d=\"M 25.390625 72.90625 \r\nL 33.6875 72.90625 \r\nL 8.296875 -9.28125 \r\nL 0 -9.28125 \r\nz\r\n\" id=\"DejaVuSans-47\"/>\r\n     <path d=\"M 37.109375 75.984375 \r\nL 37.109375 68.5 \r\nL 28.515625 68.5 \r\nQ 23.6875 68.5 21.796875 66.546875 \r\nQ 19.921875 64.59375 19.921875 59.515625 \r\nL 19.921875 54.6875 \r\nL 34.71875 54.6875 \r\nL 34.71875 47.703125 \r\nL 19.921875 47.703125 \r\nL 19.921875 0 \r\nL 10.890625 0 \r\nL 10.890625 47.703125 \r\nL 2.296875 47.703125 \r\nL 2.296875 54.6875 \r\nL 10.890625 54.6875 \r\nL 10.890625 58.5 \r\nQ 10.890625 67.625 15.140625 71.796875 \r\nQ 19.390625 75.984375 28.609375 75.984375 \r\nz\r\n\" id=\"DejaVuSans-102\"/>\r\n     <path d=\"M 45.40625 27.984375 \r\nQ 45.40625 37.75 41.375 43.109375 \r\nQ 37.359375 48.484375 30.078125 48.484375 \r\nQ 22.859375 48.484375 18.828125 43.109375 \r\nQ 14.796875 37.75 14.796875 27.984375 \r\nQ 14.796875 18.265625 18.828125 12.890625 \r\nQ 22.859375 7.515625 30.078125 7.515625 \r\nQ 37.359375 7.515625 41.375 12.890625 \r\nQ 45.40625 18.265625 45.40625 27.984375 \r\nz\r\nM 54.390625 6.78125 \r\nQ 54.390625 -7.171875 48.1875 -13.984375 \r\nQ 42 -20.796875 29.203125 -20.796875 \r\nQ 24.46875 -20.796875 20.265625 -20.09375 \r\nQ 16.0625 -19.390625 12.109375 -17.921875 \r\nL 12.109375 -9.1875 \r\nQ 16.0625 -11.328125 19.921875 -12.34375 \r\nQ 23.78125 -13.375 27.78125 -13.375 \r\nQ 36.625 -13.375 41.015625 -8.765625 \r\nQ 45.40625 -4.15625 45.40625 5.171875 \r\nL 45.40625 9.625 \r\nQ 42.625 4.78125 38.28125 2.390625 \r\nQ 33.9375 0 27.875 0 \r\nQ 17.828125 0 11.671875 7.65625 \r\nQ 5.515625 15.328125 5.515625 27.984375 \r\nQ 5.515625 40.671875 11.671875 48.328125 \r\nQ 17.828125 56 27.875 56 \r\nQ 33.9375 56 38.28125 53.609375 \r\nQ 42.625 51.21875 45.40625 46.390625 \r\nL 45.40625 54.6875 \r\nL 54.390625 54.6875 \r\nz\r\n\" id=\"DejaVuSans-103\"/>\r\n     <path d=\"M 9.8125 72.90625 \r\nL 55.90625 72.90625 \r\nL 55.90625 64.59375 \r\nL 19.671875 64.59375 \r\nL 19.671875 43.015625 \r\nL 54.390625 43.015625 \r\nL 54.390625 34.71875 \r\nL 19.671875 34.71875 \r\nL 19.671875 8.296875 \r\nL 56.78125 8.296875 \r\nL 56.78125 0 \r\nL 9.8125 0 \r\nz\r\n\" id=\"DejaVuSans-69\"/>\r\n     <path d=\"M 54.890625 54.6875 \r\nL 35.109375 28.078125 \r\nL 55.90625 0 \r\nL 45.3125 0 \r\nL 29.390625 21.484375 \r\nL 13.484375 0 \r\nL 2.875 0 \r\nL 24.125 28.609375 \r\nL 4.6875 54.6875 \r\nL 15.28125 54.6875 \r\nL 29.78125 35.203125 \r\nL 44.28125 54.6875 \r\nz\r\n\" id=\"DejaVuSans-120\"/>\r\n     <path d=\"M 18.109375 8.203125 \r\nL 18.109375 -20.796875 \r\nL 9.078125 -20.796875 \r\nL 9.078125 54.6875 \r\nL 18.109375 54.6875 \r\nL 18.109375 46.390625 \r\nQ 20.953125 51.265625 25.265625 53.625 \r\nQ 29.59375 56 35.59375 56 \r\nQ 45.5625 56 51.78125 48.09375 \r\nQ 58.015625 40.1875 58.015625 27.296875 \r\nQ 58.015625 14.40625 51.78125 6.484375 \r\nQ 45.5625 -1.421875 35.59375 -1.421875 \r\nQ 29.59375 -1.421875 25.265625 0.953125 \r\nQ 20.953125 3.328125 18.109375 8.203125 \r\nz\r\nM 48.6875 27.296875 \r\nQ 48.6875 37.203125 44.609375 42.84375 \r\nQ 40.53125 48.484375 33.40625 48.484375 \r\nQ 26.265625 48.484375 22.1875 42.84375 \r\nQ 18.109375 37.203125 18.109375 27.296875 \r\nQ 18.109375 17.390625 22.1875 11.75 \r\nQ 26.265625 6.109375 33.40625 6.109375 \r\nQ 40.53125 6.109375 44.609375 11.75 \r\nQ 48.6875 17.390625 48.6875 27.296875 \r\nz\r\n\" id=\"DejaVuSans-112\"/>\r\n     <path d=\"M 45.40625 46.390625 \r\nL 45.40625 75.984375 \r\nL 54.390625 75.984375 \r\nL 54.390625 0 \r\nL 45.40625 0 \r\nL 45.40625 8.203125 \r\nQ 42.578125 3.328125 38.25 0.953125 \r\nQ 33.9375 -1.421875 27.875 -1.421875 \r\nQ 17.96875 -1.421875 11.734375 6.484375 \r\nQ 5.515625 14.40625 5.515625 27.296875 \r\nQ 5.515625 40.1875 11.734375 48.09375 \r\nQ 17.96875 56 27.875 56 \r\nQ 33.9375 56 38.25 53.625 \r\nQ 42.578125 51.265625 45.40625 46.390625 \r\nz\r\nM 14.796875 27.296875 \r\nQ 14.796875 17.390625 18.875 11.75 \r\nQ 22.953125 6.109375 30.078125 6.109375 \r\nQ 37.203125 6.109375 41.296875 11.75 \r\nQ 45.40625 17.390625 45.40625 27.296875 \r\nQ 45.40625 37.203125 41.296875 42.84375 \r\nQ 37.203125 48.484375 30.078125 48.484375 \r\nQ 22.953125 48.484375 18.875 42.84375 \r\nQ 14.796875 37.203125 14.796875 27.296875 \r\nz\r\n\" id=\"DejaVuSans-100\"/>\r\n     <path d=\"M 28.609375 0 \r\nL 0.78125 72.90625 \r\nL 11.078125 72.90625 \r\nL 34.1875 11.53125 \r\nL 57.328125 72.90625 \r\nL 67.578125 72.90625 \r\nL 39.796875 0 \r\nz\r\n\" id=\"DejaVuSans-86\"/>\r\n     <path d=\"M 4.890625 31.390625 \r\nL 31.203125 31.390625 \r\nL 31.203125 23.390625 \r\nL 4.890625 23.390625 \r\nz\r\n\" id=\"DejaVuSans-45\"/>\r\n     <path d=\"M 52 44.1875 \r\nQ 55.375 50.25 60.0625 53.125 \r\nQ 64.75 56 71.09375 56 \r\nQ 79.640625 56 84.28125 50.015625 \r\nQ 88.921875 44.046875 88.921875 33.015625 \r\nL 88.921875 0 \r\nL 79.890625 0 \r\nL 79.890625 32.71875 \r\nQ 79.890625 40.578125 77.09375 44.375 \r\nQ 74.3125 48.1875 68.609375 48.1875 \r\nQ 61.625 48.1875 57.5625 43.546875 \r\nQ 53.515625 38.921875 53.515625 30.90625 \r\nL 53.515625 0 \r\nL 44.484375 0 \r\nL 44.484375 32.71875 \r\nQ 44.484375 40.625 41.703125 44.40625 \r\nQ 38.921875 48.1875 33.109375 48.1875 \r\nQ 26.21875 48.1875 22.15625 43.53125 \r\nQ 18.109375 38.875 18.109375 30.90625 \r\nL 18.109375 0 \r\nL 9.078125 0 \r\nL 9.078125 54.6875 \r\nL 18.109375 54.6875 \r\nL 18.109375 46.1875 \r\nQ 21.1875 51.21875 25.484375 53.609375 \r\nQ 29.78125 56 35.6875 56 \r\nQ 41.65625 56 45.828125 52.96875 \r\nQ 50 49.953125 52 44.1875 \r\nz\r\n\" id=\"DejaVuSans-109\"/>\r\n    </defs>\r\n    <g transform=\"translate(139.327187 16.318125)scale(0.12 -0.12)\">\r\n     <use xlink:href=\"#DejaVuSans-80\"/>\r\n     <use x=\"60.287109\" xlink:href=\"#DejaVuSans-114\"/>\r\n     <use x=\"101.369141\" xlink:href=\"#DejaVuSans-111\"/>\r\n     <use x=\"162.550781\" xlink:href=\"#DejaVuSans-98\"/>\r\n     <use x=\"226.027344\" xlink:href=\"#DejaVuSans-97\"/>\r\n     <use x=\"287.306641\" xlink:href=\"#DejaVuSans-98\"/>\r\n     <use x=\"350.783203\" xlink:href=\"#DejaVuSans-105\"/>\r\n     <use x=\"378.566406\" xlink:href=\"#DejaVuSans-108\"/>\r\n     <use x=\"406.349609\" xlink:href=\"#DejaVuSans-105\"/>\r\n     <use x=\"434.132812\" xlink:href=\"#DejaVuSans-116\"/>\r\n     <use x=\"473.341797\" xlink:href=\"#DejaVuSans-121\"/>\r\n     <use x=\"532.521484\" xlink:href=\"#DejaVuSans-32\"/>\r\n     <use x=\"564.308594\" xlink:href=\"#DejaVuSans-68\"/>\r\n     <use x=\"641.310547\" xlink:href=\"#DejaVuSans-101\"/>\r\n     <use x=\"702.833984\" xlink:href=\"#DejaVuSans-110\"/>\r\n     <use x=\"766.212891\" xlink:href=\"#DejaVuSans-115\"/>\r\n     <use x=\"818.3125\" xlink:href=\"#DejaVuSans-105\"/>\r\n     <use x=\"846.095703\" xlink:href=\"#DejaVuSans-116\"/>\r\n     <use x=\"885.304688\" xlink:href=\"#DejaVuSans-121\"/>\r\n     <use x=\"944.484375\" xlink:href=\"#DejaVuSans-32\"/>\r\n     <use x=\"976.271484\" xlink:href=\"#DejaVuSans-70\"/>\r\n     <use x=\"1033.712891\" xlink:href=\"#DejaVuSans-117\"/>\r\n     <use x=\"1097.091797\" xlink:href=\"#DejaVuSans-110\"/>\r\n     <use x=\"1160.470703\" xlink:href=\"#DejaVuSans-99\"/>\r\n     <use x=\"1215.451172\" xlink:href=\"#DejaVuSans-116\"/>\r\n     <use x=\"1254.660156\" xlink:href=\"#DejaVuSans-105\"/>\r\n     <use x=\"1282.443359\" xlink:href=\"#DejaVuSans-111\"/>\r\n     <use x=\"1343.625\" xlink:href=\"#DejaVuSans-110\"/>\r\n     <use x=\"1407.003906\" xlink:href=\"#DejaVuSans-32\"/>\r\n     <use x=\"1438.791016\" xlink:href=\"#DejaVuSans-47\"/>\r\n     <use x=\"1472.482422\" xlink:href=\"#DejaVuSans-32\"/>\r\n     <use x=\"1504.269531\" xlink:href=\"#DejaVuSans-68\"/>\r\n     <use x=\"1581.271484\" xlink:href=\"#DejaVuSans-105\"/>\r\n     <use x=\"1609.054688\" xlink:href=\"#DejaVuSans-115\"/>\r\n     <use x=\"1661.154297\" xlink:href=\"#DejaVuSans-116\"/>\r\n     <use x=\"1700.363281\" xlink:href=\"#DejaVuSans-114\"/>\r\n     <use x=\"1741.476562\" xlink:href=\"#DejaVuSans-105\"/>\r\n     <use x=\"1769.259766\" xlink:href=\"#DejaVuSans-98\"/>\r\n     <use x=\"1832.736328\" xlink:href=\"#DejaVuSans-117\"/>\r\n     <use x=\"1896.115234\" xlink:href=\"#DejaVuSans-116\"/>\r\n     <use x=\"1935.324219\" xlink:href=\"#DejaVuSans-105\"/>\r\n     <use x=\"1963.107422\" xlink:href=\"#DejaVuSans-111\"/>\r\n     <use x=\"2024.289062\" xlink:href=\"#DejaVuSans-110\"/>\r\n     <use x=\"2087.667969\" xlink:href=\"#DejaVuSans-32\"/>\r\n     <use x=\"2119.455078\" xlink:href=\"#DejaVuSans-111\"/>\r\n     <use x=\"2180.636719\" xlink:href=\"#DejaVuSans-102\"/>\r\n     <use x=\"2215.841797\" xlink:href=\"#DejaVuSans-32\"/>\r\n     <use x=\"2247.628906\" xlink:href=\"#DejaVuSans-103\"/>\r\n     <use x=\"2311.105469\" xlink:href=\"#DejaVuSans-111\"/>\r\n     <use x=\"2372.287109\" xlink:href=\"#DejaVuSans-97\"/>\r\n     <use x=\"2433.566406\" xlink:href=\"#DejaVuSans-108\"/>\r\n     <use x=\"2461.349609\" xlink:href=\"#DejaVuSans-115\"/>\r\n     <use x=\"2513.449219\" xlink:href=\"#DejaVuSans-32\"/>\r\n     <use x=\"2545.236328\" xlink:href=\"#DejaVuSans-47\"/>\r\n     <use x=\"2578.927734\" xlink:href=\"#DejaVuSans-32\"/>\r\n     <use x=\"2610.714844\" xlink:href=\"#DejaVuSans-69\"/>\r\n     <use x=\"2673.898438\" xlink:href=\"#DejaVuSans-120\"/>\r\n     <use x=\"2733.078125\" xlink:href=\"#DejaVuSans-112\"/>\r\n     <use x=\"2796.554688\" xlink:href=\"#DejaVuSans-101\"/>\r\n     <use x=\"2858.078125\" xlink:href=\"#DejaVuSans-99\"/>\r\n     <use x=\"2913.058594\" xlink:href=\"#DejaVuSans-116\"/>\r\n     <use x=\"2952.267578\" xlink:href=\"#DejaVuSans-101\"/>\r\n     <use x=\"3013.791016\" xlink:href=\"#DejaVuSans-100\"/>\r\n     <use x=\"3077.267578\" xlink:href=\"#DejaVuSans-32\"/>\r\n     <use x=\"3109.054688\" xlink:href=\"#DejaVuSans-86\"/>\r\n     <use x=\"3177.353516\" xlink:href=\"#DejaVuSans-97\"/>\r\n     <use x=\"3238.632812\" xlink:href=\"#DejaVuSans-108\"/>\r\n     <use x=\"3266.416016\" xlink:href=\"#DejaVuSans-117\"/>\r\n     <use x=\"3329.794922\" xlink:href=\"#DejaVuSans-101\"/>\r\n     <use x=\"3391.318359\" xlink:href=\"#DejaVuSans-32\"/>\r\n     <use x=\"3423.105469\" xlink:href=\"#DejaVuSans-45\"/>\r\n     <use x=\"3459.189453\" xlink:href=\"#DejaVuSans-32\"/>\r\n     <use x=\"3490.976562\" xlink:href=\"#DejaVuSans-108\"/>\r\n     <use x=\"3518.759766\" xlink:href=\"#DejaVuSans-97\"/>\r\n     <use x=\"3580.039062\" xlink:href=\"#DejaVuSans-109\"/>\r\n     <use x=\"3677.451172\" xlink:href=\"#DejaVuSans-98\"/>\r\n     <use x=\"3740.927734\" xlink:href=\"#DejaVuSans-100\"/>\r\n     <use x=\"3804.404297\" xlink:href=\"#DejaVuSans-97\"/>\r\n    </g>\r\n   </g>\r\n   <g id=\"legend_1\">\r\n    <g id=\"patch_13\">\r\n     <path d=\"M 542.882812 74.3525 \r\nL 699.065625 74.3525 \r\nQ 701.065625 74.3525 701.065625 72.3525 \r\nL 701.065625 29.318125 \r\nQ 701.065625 27.318125 699.065625 27.318125 \r\nL 542.882812 27.318125 \r\nQ 540.882812 27.318125 540.882812 29.318125 \r\nL 540.882812 72.3525 \r\nQ 540.882812 74.3525 542.882812 74.3525 \r\nz\r\n\" style=\"fill:#ffffff;opacity:0.8;stroke:#cccccc;stroke-linejoin:miter;\"/>\r\n    </g>\r\n    <g id=\"line2d_27\"/>\r\n    <g id=\"line2d_28\">\r\n     <g>\r\n      <use style=\"fill:#800000;fill-opacity:0.5;stroke:#800000;stroke-linejoin:miter;stroke-opacity:0.5;\" x=\"554.882812\" xlink:href=\"#m9c58aafe81\" y=\"35.416562\"/>\r\n     </g>\r\n    </g>\r\n    <g id=\"text_15\">\r\n     <!-- PDF -->\r\n     <g transform=\"translate(572.882812 38.916562)scale(0.1 -0.1)\">\r\n      <use xlink:href=\"#DejaVuSans-80\"/>\r\n      <use x=\"60.302734\" xlink:href=\"#DejaVuSans-68\"/>\r\n      <use x=\"137.304688\" xlink:href=\"#DejaVuSans-70\"/>\r\n     </g>\r\n    </g>\r\n    <g id=\"line2d_29\">\r\n     <path d=\"M 544.882812 50.094687 \r\nL 564.882812 50.094687 \r\n\" style=\"fill:none;stroke:#daa520;stroke-linecap:square;stroke-width:4;\"/>\r\n    </g>\r\n    <g id=\"line2d_30\"/>\r\n    <g id=\"text_16\">\r\n     <!-- lambda / expected value -->\r\n     <defs>\r\n      <path d=\"M 2.984375 54.6875 \r\nL 12.5 54.6875 \r\nL 29.59375 8.796875 \r\nL 46.6875 54.6875 \r\nL 56.203125 54.6875 \r\nL 35.6875 0 \r\nL 23.484375 0 \r\nz\r\n\" id=\"DejaVuSans-118\"/>\r\n     </defs>\r\n     <g transform=\"translate(572.882812 53.594687)scale(0.1 -0.1)\">\r\n      <use xlink:href=\"#DejaVuSans-108\"/>\r\n      <use x=\"27.783203\" xlink:href=\"#DejaVuSans-97\"/>\r\n      <use x=\"89.0625\" xlink:href=\"#DejaVuSans-109\"/>\r\n      <use x=\"186.474609\" xlink:href=\"#DejaVuSans-98\"/>\r\n      <use x=\"249.951172\" xlink:href=\"#DejaVuSans-100\"/>\r\n      <use x=\"313.427734\" xlink:href=\"#DejaVuSans-97\"/>\r\n      <use x=\"374.707031\" xlink:href=\"#DejaVuSans-32\"/>\r\n      <use x=\"406.494141\" xlink:href=\"#DejaVuSans-47\"/>\r\n      <use x=\"440.185547\" xlink:href=\"#DejaVuSans-32\"/>\r\n      <use x=\"471.972656\" xlink:href=\"#DejaVuSans-101\"/>\r\n      <use x=\"533.480469\" xlink:href=\"#DejaVuSans-120\"/>\r\n      <use x=\"592.660156\" xlink:href=\"#DejaVuSans-112\"/>\r\n      <use x=\"656.136719\" xlink:href=\"#DejaVuSans-101\"/>\r\n      <use x=\"717.660156\" xlink:href=\"#DejaVuSans-99\"/>\r\n      <use x=\"772.640625\" xlink:href=\"#DejaVuSans-116\"/>\r\n      <use x=\"811.849609\" xlink:href=\"#DejaVuSans-101\"/>\r\n      <use x=\"873.373047\" xlink:href=\"#DejaVuSans-100\"/>\r\n      <use x=\"936.849609\" xlink:href=\"#DejaVuSans-32\"/>\r\n      <use x=\"968.636719\" xlink:href=\"#DejaVuSans-118\"/>\r\n      <use x=\"1027.816406\" xlink:href=\"#DejaVuSans-97\"/>\r\n      <use x=\"1089.095703\" xlink:href=\"#DejaVuSans-108\"/>\r\n      <use x=\"1116.878906\" xlink:href=\"#DejaVuSans-117\"/>\r\n      <use x=\"1180.257812\" xlink:href=\"#DejaVuSans-101\"/>\r\n     </g>\r\n    </g>\r\n    <g id=\"patch_14\">\r\n     <path d=\"M 544.882812 68.272812 \r\nL 564.882812 68.272812 \r\nL 564.882812 61.272812 \r\nL 544.882812 61.272812 \r\nz\r\n\" style=\"fill:#add8e6;stroke:#ffffff;stroke-linejoin:miter;stroke-width:0.4;\"/>\r\n    </g>\r\n    <g id=\"text_17\">\r\n     <!-- dense goal Histm -->\r\n     <defs>\r\n      <path d=\"M 9.8125 72.90625 \r\nL 19.671875 72.90625 \r\nL 19.671875 43.015625 \r\nL 55.515625 43.015625 \r\nL 55.515625 72.90625 \r\nL 65.375 72.90625 \r\nL 65.375 0 \r\nL 55.515625 0 \r\nL 55.515625 34.71875 \r\nL 19.671875 34.71875 \r\nL 19.671875 0 \r\nL 9.8125 0 \r\nz\r\n\" id=\"DejaVuSans-72\"/>\r\n     </defs>\r\n     <g transform=\"translate(572.882812 68.272812)scale(0.1 -0.1)\">\r\n      <use xlink:href=\"#DejaVuSans-100\"/>\r\n      <use x=\"63.476562\" xlink:href=\"#DejaVuSans-101\"/>\r\n      <use x=\"125\" xlink:href=\"#DejaVuSans-110\"/>\r\n      <use x=\"188.378906\" xlink:href=\"#DejaVuSans-115\"/>\r\n      <use x=\"240.478516\" xlink:href=\"#DejaVuSans-101\"/>\r\n      <use x=\"302.001953\" xlink:href=\"#DejaVuSans-32\"/>\r\n      <use x=\"333.789062\" xlink:href=\"#DejaVuSans-103\"/>\r\n      <use x=\"397.265625\" xlink:href=\"#DejaVuSans-111\"/>\r\n      <use x=\"458.447266\" xlink:href=\"#DejaVuSans-97\"/>\r\n      <use x=\"519.726562\" xlink:href=\"#DejaVuSans-108\"/>\r\n      <use x=\"547.509766\" xlink:href=\"#DejaVuSans-32\"/>\r\n      <use x=\"579.296875\" xlink:href=\"#DejaVuSans-72\"/>\r\n      <use x=\"654.492188\" xlink:href=\"#DejaVuSans-105\"/>\r\n      <use x=\"682.275391\" xlink:href=\"#DejaVuSans-115\"/>\r\n      <use x=\"734.375\" xlink:href=\"#DejaVuSans-116\"/>\r\n      <use x=\"773.583984\" xlink:href=\"#DejaVuSans-109\"/>\r\n     </g>\r\n    </g>\r\n   </g>\r\n  </g>\r\n </g>\r\n <defs>\r\n  <clipPath id=\"pd13922283f\">\r\n   <rect height=\"380.52\" width=\"669.6\" x=\"36.465625\" y=\"22.318125\"/>\r\n  </clipPath>\r\n </defs>\r\n</svg>\r\n",
      "image/png": "[encoded data removed]"
     },
     "metadata": {
      "needs_background": "light"
     }
    }
   ],
   "source": [
    "# Plot histogramm of goals per match, expected value of goals and poission density function\n",
    "\n",
    "plt.figure(figsize=(12,7)) \n",
    "\n",
    "# Plot histogram of goals\n",
    "plt.hist(home_matches['goals_home'], \n",
    "         bins=6, density=True, \n",
    "         histtype='bar', color='lightblue',\n",
    "         edgecolor='white', linewidth=0.4,\n",
    "         label='dense goal Histm')\n",
    "\n",
    "# Create Poission distriution for calculated lambda value\n",
    "t = np.arange(0, 10, 0.1)\n",
    "d = np.exp(-lambda_home)*np.power(lambda_home, t)/factorial(t)\n",
    "plt.plot(t, d, 'bs', color='maroon', alpha=0.5, label='PDF')\n",
    "\n",
    "# Plot lambda value as vertical line\n",
    "plt.axvline(x=lambda_home, color='goldenrod', lw=4, label='lambda / expected value')\n",
    "\n",
    "# Visuals\n",
    "plt.title(\"Probability Density Function / Distribution of goals / Expected Value - lambda\")\n",
    "#plt.ylabel(\"Number of Games\")\n",
    "plt.xlabel(\"Goals\") \n",
    "plt.legend(loc='upper right')\n",
    "plt.grid(color='grey', linestyle='-', linewidth=0.25, alpha=0.3)\n",
    "\n",
    "plt.show()"
   ]
  },
  {
   "cell_type": "markdown",
   "metadata": {},
   "source": [
    "Due to the lack of available data (Corona Virus) the error rate of the function might be too high. Still, I will continue with this approach. As I follow the rule to not repeat myself I will construc a function to extract the lambda values for each team in an easy manner"
   ]
  },
  {
   "cell_type": "code",
   "execution_count": 23,
   "metadata": {},
   "outputs": [],
   "source": [
    "def calculate_lambda(team_id):\n",
    "    # Get all the home match data for a specific team\n",
    "    home_matches = train_set.loc[(train_set['home_id'] == team_id)]\n",
    "\n",
    "    # Get all the away match data for a specific team\n",
    "    away_matches = train_set.loc[(train_set['away_id'] == team_id)]\n",
    "\n",
    "    lambda_home = home_matches['goals_home'].sum() / len(home_matches['goals_home'])\n",
    "\n",
    "    lambda_away = away_matches['goals_away'].sum() / len(away_matches['goals_away'])\n",
    "    \n",
    "    lambda_h = (\"UPDATE `team_statistics` SET `lambda_home` = {} WHERE `team_id` = {};\").format(lambda_home, team_id)\n",
    "    lambda_a = (\"UPDATE `team_statistics` SET `lambda_away` = {} WHERE `team_id` = {};\").format(lambda_away, team_id)\n",
    "\n",
    "    con.execute(lambda_h)\n",
    "    con.execute(lambda_a)"
   ]
  },
  {
   "cell_type": "code",
   "execution_count": 24,
   "metadata": {},
   "outputs": [],
   "source": [
    "# Calculating for all teams the lambda for home and away and store it in the table \"team_statistics\"\n",
    "for team_id in unique_team_ids:\n",
    "    calculate_lambda(team_id)"
   ]
  },
  {
   "cell_type": "markdown",
   "metadata": {},
   "source": [
    "# Create a performance model for probability model\n",
    "In order to calculate the outcome of a match between two teams I will let both teams play virtually a couple of tousand times to see how many times each team will winn or how many times we will see a draw. In order to do so I will proceed with following steps:\n",
    "- Check which team is playing at home and away\n",
    "- Load the respective lambdas for each team\n",
    "- Perform a Monte Carlo Simulation several tousand times with a Poission distribution\n",
    "- --> The Poission distribution will calculate how many goals each team will socre\n",
    "- --> The goals are rounded to integers\n",
    "- Evaulate the results:\n",
    "- --> The team with more goals will win\n",
    "- --> The team with less goals will lose\n",
    "- --> If both teams have same amount of goals, it's a draw"
   ]
  },
  {
   "cell_type": "markdown",
   "metadata": {},
   "source": [
    "Before creating the function, I will build it step by step with some pre defined examples"
   ]
  },
  {
   "cell_type": "code",
   "execution_count": 25,
   "metadata": {},
   "outputs": [
    {
     "output_type": "stream",
     "name": "stdout",
     "text": "1.85714\n2.4375\n"
    }
   ],
   "source": [
    "# Fetching lambda values for home and away team\n",
    "team_id_home = 17\n",
    "data = 'SELECT lambda_home FROM sportwetten.team_statistics WHERE team_id = %i' % team_id_home\n",
    "data_df = pd.read_sql(data, con=con)\n",
    "lambda_home_team = data_df['lambda_home'][0]\n",
    "print(lambda_home_team)\n",
    "\n",
    "team_id_away = 5\n",
    "data = 'SELECT lambda_away FROM sportwetten.team_statistics WHERE team_id = %i' % team_id_away\n",
    "data_df = pd.read_sql(data, con=con)\n",
    "lambda_away_team = data_df['lambda_away'][0]\n",
    "print(lambda_away_team)"
   ]
  },
  {
   "cell_type": "code",
   "execution_count": 26,
   "metadata": {},
   "outputs": [
    {
     "output_type": "stream",
     "name": "stdout",
     "text": "4\n0\n"
    }
   ],
   "source": [
    "# Check what would be the output based on a random poission distribution\n",
    "goals_home = round(np.random.poisson(lambda_home_team))\n",
    "print(goals_home)\n",
    "\n",
    "goals_away = round(np.random.poisson(lambda_away_team))\n",
    "print(goals_away)"
   ]
  },
  {
   "cell_type": "code",
   "execution_count": 27,
   "metadata": {},
   "outputs": [],
   "source": [
    "# Setting the counting values at zero\n",
    "win_home = 0\n",
    "win_away = 0\n",
    "draw = 0"
   ]
  },
  {
   "cell_type": "code",
   "execution_count": 28,
   "metadata": {},
   "outputs": [],
   "source": [
    "# Implement logic to count end result of matches\n",
    "if goals_home > goals_away:\n",
    "    win_home += 1\n",
    "elif goals_home < goals_away:\n",
    "    win_away += 1\n",
    "else:\n",
    "    draw += 1"
   ]
  },
  {
   "cell_type": "code",
   "execution_count": 29,
   "metadata": {},
   "outputs": [
    {
     "output_type": "stream",
     "name": "stdout",
     "text": "0\n1\n0\n"
    }
   ],
   "source": [
    "# Print the counting values to see if the result machtes with counting\n",
    "print(win_away)\n",
    "print(win_home)\n",
    "print(draw)"
   ]
  },
  {
   "cell_type": "code",
   "execution_count": 24,
   "metadata": {},
   "outputs": [],
   "source": [
    "def match_prediction_prob (team_away_id, team_home_id, iterrations):\n",
    "\n",
    "    # Fetch lambda value for home and away team\n",
    "    data = 'SELECT lambda_home FROM sportwetten.team_statistics WHERE team_id = %i' % team_home_id\n",
    "    data_df = pd.read_sql(data, con=con)\n",
    "    lambda_home_team = data_df['lambda_home'][0]\n",
    "\n",
    "    data = 'SELECT lambda_away FROM sportwetten.team_statistics WHERE team_id = %i' % team_away_id\n",
    "    data_df = pd.read_sql(data, con=con)\n",
    "    lambda_away_team = data_df['lambda_away'][0]\n",
    "\n",
    "    # Setting counting values at zero\n",
    "    win_home = 0\n",
    "    win_away = 0\n",
    "    draw = 0\n",
    "    attempts = 0\n",
    "\n",
    "    # calculate the number of steps for interactive visualisation\n",
    "    steps = 10\n",
    "    lenght_df = int((iterrations/steps))\n",
    "\n",
    "    # create an empty DataFrame to be filled for interactive visualisation\n",
    "    feature_list = ['matches', 'wins_home', 'wins_away', 'draws']\n",
    "    df_viz = pd.DataFrame(0, index=np.arange(lenght_df), columns=feature_list)\n",
    "\n",
    "\n",
    "    for n in range(iterrations):\n",
    "        goals_home = np.random.poisson(lambda_home_team)\n",
    "        goals_away = np.random.poisson(lambda_away_team)\n",
    "\n",
    "        if goals_home > goals_away:\n",
    "            win_home += 1\n",
    "        elif goals_home < goals_away:\n",
    "            win_away += 1\n",
    "        else:\n",
    "            draw += 1\n",
    "        i = n+1\n",
    "\n",
    "        if i % 10 == 0:\n",
    "            i_int = int(i)\n",
    "            step_index = int(i/steps)\n",
    "            df_viz.at[i/steps, 'matches'] = i_int\n",
    "            df_viz.at[i/steps, 'wins_home'] = win_home / (n+1)\n",
    "            df_viz.at[i/steps, 'wins_away'] = win_away / (n+1)\n",
    "            df_viz.at[i/steps, 'draws'] = draw/ (n+1)\n",
    "    df_viz.matches = df_viz.matches.astype(int)\n",
    "    return df_viz\n"
   ]
  },
  {
   "cell_type": "code",
   "execution_count": 25,
   "metadata": {
    "tags": [
     "outputPrepend",
     "outputPrepend",
     "outputPrepend",
     "outputPrepend",
     "outputPrepend",
     "outputPrepend",
     "outputPrepend",
     "outputPrepend",
     "outputPrepend",
     "outputPrepend",
     "outputPrepend",
     "outputPrepend",
     "outputPrepend",
     "outputPrepend",
     "outputPrepend",
     "outputPrepend",
     "outputPrepend",
     "outputPrepend",
     "outputPrepend",
     "outputPrepend",
     "outputPrepend",
     "outputPrepend",
     "outputPrepend",
     "outputPrepend",
     "outputPrepend",
     "outputPrepend",
     "outputPrepend",
     "outputPrepend",
     "outputPrepend",
     "outputPrepend",
     "outputPrepend",
     "outputPrepend",
     "outputPrepend",
     "outputPrepend",
     "outputPrepend",
     "outputPrepend",
     "outputPrepend",
     "outputPrepend",
     "outputPrepend",
     "outputPrepend",
     "outputPrepend",
     "outputPrepend",
     "outputPrepend",
     "outputPrepend",
     "outputPrepend",
     "outputPrepend",
     "outputPrepend",
     "outputPrepend",
     "outputPrepend",
     "outputPrepend",
     "outputPrepend",
     "outputPrepend",
     "outputPrepend",
     "outputPrepend",
     "outputPrepend",
     "outputPrepend",
     "outputPrepend",
     "outputPrepend"
    ]
   },
   "outputs": [
    {
     "output_type": "execute_result",
     "data": {
      "text/plain": "   matches  wins_home  wins_away     draws\n0        0   0.000000   0.000000  0.000000\n1       10   0.200000   0.800000  0.000000\n2       20   0.300000   0.550000  0.150000\n3       30   0.266667   0.533333  0.200000\n4       40   0.275000   0.550000  0.175000\n5       50   0.280000   0.500000  0.220000\n6       60   0.283333   0.483333  0.233333\n7       70   0.314286   0.485714  0.200000\n8       80   0.337500   0.475000  0.187500\n9       90   0.333333   0.488889  0.177778",
      "text/html": "<div>\n<style scoped>\n    .dataframe tbody tr th:only-of-type {\n        vertical-align: middle;\n    }\n\n    .dataframe tbody tr th {\n        vertical-align: top;\n    }\n\n    .dataframe thead th {\n        text-align: right;\n    }\n</style>\n<table border=\"1\" class=\"dataframe\">\n  <thead>\n    <tr style=\"text-align: right;\">\n      <th></th>\n      <th>matches</th>\n      <th>wins_home</th>\n      <th>wins_away</th>\n      <th>draws</th>\n    </tr>\n  </thead>\n  <tbody>\n    <tr>\n      <th>0</th>\n      <td>0</td>\n      <td>0.000000</td>\n      <td>0.000000</td>\n      <td>0.000000</td>\n    </tr>\n    <tr>\n      <th>1</th>\n      <td>10</td>\n      <td>0.200000</td>\n      <td>0.800000</td>\n      <td>0.000000</td>\n    </tr>\n    <tr>\n      <th>2</th>\n      <td>20</td>\n      <td>0.300000</td>\n      <td>0.550000</td>\n      <td>0.150000</td>\n    </tr>\n    <tr>\n      <th>3</th>\n      <td>30</td>\n      <td>0.266667</td>\n      <td>0.533333</td>\n      <td>0.200000</td>\n    </tr>\n    <tr>\n      <th>4</th>\n      <td>40</td>\n      <td>0.275000</td>\n      <td>0.550000</td>\n      <td>0.175000</td>\n    </tr>\n    <tr>\n      <th>5</th>\n      <td>50</td>\n      <td>0.280000</td>\n      <td>0.500000</td>\n      <td>0.220000</td>\n    </tr>\n    <tr>\n      <th>6</th>\n      <td>60</td>\n      <td>0.283333</td>\n      <td>0.483333</td>\n      <td>0.233333</td>\n    </tr>\n    <tr>\n      <th>7</th>\n      <td>70</td>\n      <td>0.314286</td>\n      <td>0.485714</td>\n      <td>0.200000</td>\n    </tr>\n    <tr>\n      <th>8</th>\n      <td>80</td>\n      <td>0.337500</td>\n      <td>0.475000</td>\n      <td>0.187500</td>\n    </tr>\n    <tr>\n      <th>9</th>\n      <td>90</td>\n      <td>0.333333</td>\n      <td>0.488889</td>\n      <td>0.177778</td>\n    </tr>\n  </tbody>\n</table>\n</div>"
     },
     "metadata": {},
     "execution_count": 25
    }
   ],
   "source": [
    "predictions = match_prediction_prob(5,17,5000)\n",
    "predictions.head(10)"
   ]
  },
  {
   "cell_type": "markdown",
   "metadata": {},
   "source": [
    "# Create interactive visualisation\n",
    "\n",
    "As there are not many possibilities fram library perspective, I had to lean heavily on the work of Ted Petrou. Following things have been done by myself:\n",
    "- Adapting Data to fit into the production\n",
    "- Adapt styling\n",
    "- Adapt description within the visualisations\n",
    "\n",
    "The link to the work of Ted can be found here:\n",
    "\n",
    "https://medium.com/dunder-data/create-a-bar-chart-race-animation-in-python-with-matplotlib-477ed1590096"
   ]
  },
  {
   "cell_type": "code",
   "execution_count": 107,
   "metadata": {},
   "outputs": [],
   "source": [
    "def interactive_prediction (home_id, away_id, attempts):\n",
    "    # Load data with the help of the previously created function\n",
    "    data = match_prediction_prob(home_id, away_id, attempts).set_index('matches')\n",
    "\n",
    "    # Get the last index of the DataFrame\n",
    "    last = data.index[-1]\n",
    "    data = data.reset_index()\n",
    "\n",
    "    # Create a step to make sure every possible lenght of data can match the function\n",
    "    df2 = data.loc[0:last]\n",
    "    df2 = df2.reset_index()\n",
    "\n",
    "    # Prolong the Frame to create space for intrapolation\n",
    "    df2.index = df2.index * 5\n",
    "    last_index = df2.index[-1] + 1\n",
    "    df_expanded = df2.reindex(range(last_index))\n",
    "\n",
    "    # Fill up the new created cells with NaN\n",
    "    df_expanded['matches'] = df_expanded['matches'].fillna(method='ffill')\n",
    "    df_expanded = df_expanded.set_index('matches')\n",
    "\n",
    "    # Drop the old index columns, as this would only make a messy visualisation\n",
    "    df_expanded = df_expanded.drop(columns=['index'])\n",
    "\n",
    "    # Intrapolate linearly from one step to the next\n",
    "    df_expanded = df_expanded.interpolate()\n",
    "\n",
    "    # Create a ranking to make sure the colors remain at the same values\n",
    "    df_rank_expanded = df_expanded.rank(axis=1, method='first')\n",
    "    df_rank_expanded = df_rank_expanded.interpolate()\n",
    "\n",
    "    # Define styling for the visualisation of the axles\n",
    "    def nice_axes(ax):\n",
    "        ax.set_facecolor('.2')\n",
    "        ax.tick_params(labelsize=7, length=0)\n",
    "        ax.grid(True, axis='x', color='grey')\n",
    "        ax.set_axisbelow(True)\n",
    "        [spine.set_visible(False) for spine in ax.spines.values()]\n",
    "\n",
    "    # For every loop of pictures that is created the graphic must be cleared\n",
    "    def init():\n",
    "        ax.clear()\n",
    "        nice_axes(ax)\n",
    "\n",
    "    # Loops through all rows of DataFrame to create a \"video\"\n",
    "    def update(i):\n",
    "        for bar in ax.containers:\n",
    "            bar.remove()\n",
    "        y = df_rank_expanded.iloc[i]\n",
    "\n",
    "        width = df_expanded.iloc[i]\n",
    "        labels = df_expanded.columns\n",
    "        ax.barh(y=y, width=width, color=colors, tick_label=labels)\n",
    "        date_str = df_expanded.index[i]\n",
    "        ax.set_title('fraction of occurences after %i matches' % date_str, fontsize='smaller')\n",
    "        \n",
    "    fig = plt.Figure(figsize=(9, 2), dpi=144)\n",
    "    colors = plt.cm.tab10(range(3))\n",
    "    ax = fig.add_subplot()\n",
    "\n",
    "    # Use the animation library to put all the picutres into a slideshow which can appear as vides\n",
    "    anim2 = FuncAnimation(fig=fig, func=update, init_func=init, frames=len(df_expanded), \n",
    "                        interval=200, repeat=False)\n",
    "    \n",
    "    # Safe the created video\n",
    "    anim2.save('pred_2.mp4')"
   ]
  },
  {
   "cell_type": "code",
   "execution_count": 110,
   "metadata": {},
   "outputs": [],
   "source": [
    "interactive_prediction(8,6,200)"
   ]
  },
  {
   "cell_type": "code",
   "execution_count": null,
   "metadata": {},
   "outputs": [],
   "source": []
  }
 ],
 "metadata": {
  "kernelspec": {
   "display_name": "Python 3",
   "language": "python",
   "name": "python3"
  },
  "language_info": {
   "codemirror_mode": {
    "name": "ipython",
    "version": 3
   },
   "file_extension": ".py",
   "mimetype": "text/x-python",
   "name": "python",
   "nbconvert_exporter": "python",
   "pygments_lexer": "ipython3",
   "version": "3.7.6-final"
  }
 },
 "nbformat": 4,
 "nbformat_minor": 2
}