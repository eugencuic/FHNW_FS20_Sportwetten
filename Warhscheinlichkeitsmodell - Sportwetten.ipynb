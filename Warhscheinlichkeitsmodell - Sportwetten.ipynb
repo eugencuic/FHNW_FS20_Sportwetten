{
 "cells": [
  {
   "cell_type": "markdown",
   "metadata": {},
   "source": [
    "# FS20C8 -(Social) Media Analytics für Sportwetten\n",
    "# Eugen Cuic\n",
    "\n"
   ]
  },
  {
   "cell_type": "code",
   "execution_count": 1,
   "metadata": {},
   "outputs": [
    {
     "output_type": "stream",
     "name": "stderr",
     "text": "\nBad key \"text.kerning_factor\" on line 4 in\nC:\\Users\\M0268176\\Miniconda3\\lib\\site-packages\\matplotlib\\mpl-data\\stylelib\\_classic_test_patch.mplstyle.\nYou probably need to get an updated matplotlibrc file from\nhttps://github.com/matplotlib/matplotlib/blob/v3.1.2/matplotlibrc.template\nor from the matplotlib source distribution\n"
    }
   ],
   "source": [
    "#import http.client\n",
    "import requests\n",
    "import json\n",
    "import numpy as np\n",
    "import pandas as pd\n",
    "import matplotlib.pyplot as plt\n",
    "import sqlalchemy\n",
    "import matplotlib.animation as animation\n",
    "import seaborn as sns; sns.set()\n",
    "import datetime as dt\n",
    "from sqlalchemy.sql import text\n",
    "from pandas.io.json import json_normalize\n",
    "from scipy.special import factorial\n",
    "from IPython.display import HTML\n",
    "from matplotlib.animation import FuncAnimation\n",
    "from IPython.display import HTML\n",
    "from bs4 import BeautifulSoup as bs\n",
    "from tabulate import tabulate"
   ]
  },
  {
   "cell_type": "markdown",
   "metadata": {},
   "source": [
    "# Agenda\n",
    "\n",
    "In order to create a full system from data to betting it is important to have a path to go. The work will contain following steps:\n",
    "\n",
    "- Data Ressource\n",
    "    - Match Data\n",
    "    - Betting Data\n",
    "\n",
    "- API and Data\n",
    "    - API Connection (**WDB**)\n",
    "    - Fetch Data (**WDB**)\n",
    "    - Format JSON into readable output (**DAW**)\n",
    "    - Normalizing JSON and create a Pandas DataFrame (**DAW**)\n",
    "    - Checking the different columns that are available (**DAW**)\n",
    "    - Define final data structure (**DAW**)\n",
    "    - Split the data into train and test sets (**WER, DAW**)\n",
    "\n",
    "- Database\n",
    "    - Database Logic (**DDI**)\n",
    "    - Create URI and connection (**DDI**)\n",
    "    - Creation of Database tables (**DDI**)\n",
    "    - Prefill of data into Database (**DDI**)\n",
    "\n",
    "- Calculate statistical values and analyse them\n",
    "    - Get the unique values of team ids (**EDA**)\n",
    "    - Get the home and away matches data for a specific team (**EDA**)\n",
    "    - Calculate lambda for home matches (**WER**)\n",
    "    - Plot histogramm of goals per match, expected value of goals and poission density function (**EDA**)\n",
    "    - Automate Lambda Calculation (**DAW, WER**)\n",
    "    - Show all Lambda Values per Team (**EDA**)\n",
    "    - Findings(**EDA**)\n",
    "\n",
    "- Create a performance model for probability model\n",
    "    - Testsimulation (**DAW, WER**)\n",
    "    - Create Match prediction probability function (**DAW, WER**)\n",
    "        \n",
    "- Create interactive visualisation (**IVI**)\n",
    "\n",
    "- Load past betting quotes\n",
    "    - Download Data for season 2018/2019 (**WDB**)\n",
    "    - Transform the betting data into usable format to compare to prior data set (**DAW**)\n",
    "    - Team ID Alignment (**DAW**)\n",
    "\n",
    "- Store History Betting Data into Database and calculate model quotes\n",
    "    - Update all historical Quotes (**DAW**)\n",
    "    - Update all model Quotes (**DAW**)\n",
    "\n",
    "- Evaluation (**ALL**)\n",
    "- Final Findings (**ALL**)"
   ]
  },
  {
   "cell_type": "markdown",
   "metadata": {},
   "source": [
    "# Data ressource\n",
    "These ressources are used as fundamental parts to build out betting model\n",
    "\n",
    "## Match data\n",
    "Consulting the website to figure out which leagues are included, one can check out following URL:\n",
    "\n",
    "https://www.football-data.org/documentation/api\n",
    "\n",
    "The two most interessting competitions are the German Bundesliga and the Englisch Premier League. Those two should contain most valuable data (as very popular in both countries).\n",
    "\n",
    "In this work the focus will lie on the German Bundesliga\n",
    "\n",
    "Code for the German Bundesliga ist: BL1\n",
    "\n",
    "## Betting data\n",
    "In order to being able to compare my own and the real betting statistics i will scrap history betting data from this website:\n",
    "\n",
    "https://www.football-data.co.uk/germanym.php\n"
   ]
  },
  {
   "cell_type": "markdown",
   "metadata": {},
   "source": [
    "# API and Data\n",
    "In the first instance, I will set up the connection to the API. This way I will make sure that I can call it later with less issues."
   ]
  },
  {
   "cell_type": "markdown",
   "metadata": {},
   "source": [
    "## API Connection"
   ]
  },
  {
   "cell_type": "code",
   "execution_count": 2,
   "metadata": {},
   "outputs": [],
   "source": [
    "myUrl= 'http://api.football-data.org/v2/'\n",
    "myToken = 'e10b4cdfa26a4d4eb2a01f1bb2122595'\n",
    "\n",
    "head = {'X-Auth-Token': '{}'.format(myToken)}"
   ]
  },
  {
   "cell_type": "markdown",
   "metadata": {},
   "source": [
    "## Fetch the data"
   ]
  },
  {
   "cell_type": "code",
   "execution_count": 3,
   "metadata": {},
   "outputs": [],
   "source": [
    "# testing the connection to see what the output ist\n",
    "response = requests.get(myUrl + \"competitions/BL1/matches?season=2018\", headers=head)\n",
    "\n",
    "# showing the whole output would be too much for the notebook, if someone wants to see it just remove the # from the next line\n",
    "#response.json()"
   ]
  },
  {
   "cell_type": "markdown",
   "metadata": {},
   "source": [
    "As we can see above in the comented out line, the request is giving us all necessary data for the probability model:\n",
    "- Matchday\n",
    "- Team Names for Home Team\n",
    "- Team Names for Away Team\n",
    "- Goals for Home Team\n",
    "- Goals for Away Team\n",
    "\n",
    "And if we want to have another season we just adapt the request for the REST API\n",
    "### !!WARNING!! (the free version of the API does not give more data then the season from 2018/2019)"
   ]
  },
  {
   "cell_type": "markdown",
   "metadata": {},
   "source": [
    "## Format JSON into readable output\n",
    "The responses from the API contain a lot more data than we need for our model. This is the reason to figure out how we can extract all the necessary data and in a format that we could use later.\n",
    "In the first step we will print out all matches, ordered by the matchday, and add the respective results to see what the way to go is, in order to extract the data"
   ]
  },
  {
   "cell_type": "code",
   "execution_count": 4,
   "metadata": {},
   "outputs": [
    {
     "output_type": "stream",
     "name": "stdout",
     "text": "Matchday 1: FC Bayern München - TSG 1899 Hoffenheim: Result 3 - 1\nMatchday 1: SV Werder Bremen - Hannover 96: Result 1 - 1\nMatchday 1: Hertha BSC - 1. FC Nürnberg: Result 1 - 0\nMatchday 1: TSV Fortuna 95 Düsseldorf - FC Augsburg: Result 1 - 2\nMatchday 1: SC Freiburg - Eintracht Frankfurt: Result 0 - 2\nMatchday 1: VfL Wolfsburg - FC Schalke 04: Result 2 - 1\nMatchday 1: Borussia Mönchengladbach - Bayer 04 Leverkusen: Result 2 - 0\nMatchday 1: 1. FSV Mainz 05 - VfB Stuttgart: Result 1 - 0\nMatchday 1: BV Borussia 09 Dortmund - RB Leipzig: Result 4 - 1\nMatchday 2: Hannover 96 - BV Borussia 09 Dortmund: Result 0 - 0\nMatchday 2: Eintracht Frankfurt - SV Werder Bremen: Result 1 - 2\nMatchday 2: 1. FC Nürnberg - 1. FSV Mainz 05: Result 1 - 1\nMatchday 2: Bayer 04 Leverkusen - VfL Wolfsburg: Result 1 - 3\nMatchday 2: TSG 1899 Hoffenheim - SC Freiburg: Result 3 - 1\nMatchday 2: FC Augsburg - Borussia Mönchengladbach: Result 1 - 1\nMatchday 2: VfB Stuttgart - FC Bayern München: Result 0 - 3\nMatchday 2: RB Leipzig - TSV Fortuna 95 Düsseldorf: Result 1 - 1\nMatchday 2: FC Schalke 04 - Hertha BSC: Result 0 - 2\nMatchday 3: BV Borussia 09 Dortmund - Eintracht Frankfurt: Result 3 - 1\nMatchday 3: FC Bayern München - Bayer 04 Leverkusen: Result 3 - 1\nMatchday 3: TSV Fortuna 95 Düsseldorf - TSG 1899 Hoffenheim: Result 2 - 1\nMatchday 3: VfL Wolfsburg - Hertha BSC: Result 2 - 2\nMatchday 3: 1. FSV Mainz 05 - FC Augsburg: Result 2 - 1\nMatchday 3: RB Leipzig - Hannover 96: Result 3 - 2\nMatchday 3: Borussia Mönchengladbach - FC Schalke 04: Result 2 - 1\nMatchday 3: SV Werder Bremen - 1. FC Nürnberg: Result 1 - 1\nMatchday 3: SC Freiburg - VfB Stuttgart: Result 3 - 3\nMatchday 4: VfB Stuttgart - TSV Fortuna 95 Düsseldorf: Result 0 - 0\nMatchday 4: 1. FC Nürnberg - Hannover 96: Result 2 - 0\nMatchday 4: Hertha BSC - Borussia Mönchengladbach: Result 4 - 2\nMatchday 4: VfL Wolfsburg - SC Freiburg: Result 1 - 3\nMatchday 4: TSG 1899 Hoffenheim - BV Borussia 09 Dortmund: Result 1 - 1\nMatchday 4: FC Augsburg - SV Werder Bremen: Result 2 - 3\nMatchday 4: FC Schalke 04 - FC Bayern München: Result 0 - 2\nMatchday 4: Bayer 04 Leverkusen - 1. FSV Mainz 05: Result 1 - 0\nMatchday 4: Eintracht Frankfurt - RB Leipzig: Result 1 - 1\nMatchday 5: SV Werder Bremen - Hertha BSC: Result 3 - 1\nMatchday 5: Hannover 96 - TSG 1899 Hoffenheim: Result 1 - 3\nMatchday 5: FC Bayern München - FC Augsburg: Result 1 - 1\nMatchday 5: SC Freiburg - FC Schalke 04: Result 1 - 0\nMatchday 5: TSV Fortuna 95 Düsseldorf - Bayer 04 Leverkusen: Result 1 - 2\nMatchday 5: BV Borussia 09 Dortmund - 1. FC Nürnberg: Result 7 - 0\nMatchday 5: Borussia Mönchengladbach - Eintracht Frankfurt: Result 3 - 1\nMatchday 5: 1. FSV Mainz 05 - VfL Wolfsburg: Result 0 - 0\nMatchday 5: RB Leipzig - VfB Stuttgart: Result 2 - 0\nMatchday 6: Hertha BSC - FC Bayern München: Result 2 - 0\nMatchday 6: VfB Stuttgart - SV Werder Bremen: Result 2 - 1\nMatchday 6: FC Schalke 04 - 1. FSV Mainz 05: Result 1 - 0\nMatchday 6: 1. FC Nürnberg - TSV Fortuna 95 Düsseldorf: Result 3 - 0\nMatchday 6: VfL Wolfsburg - Borussia Mönchengladbach: Result 2 - 2\nMatchday 6: TSG 1899 Hoffenheim - RB Leipzig: Result 1 - 2\nMatchday 6: Bayer 04 Leverkusen - BV Borussia 09 Dortmund: Result 2 - 4\nMatchday 6: Eintracht Frankfurt - Hannover 96: Result 4 - 1\nMatchday 6: FC Augsburg - SC Freiburg: Result 4 - 1\nMatchday 7: SV Werder Bremen - VfL Wolfsburg: Result 2 - 0\nMatchday 7: BV Borussia 09 Dortmund - FC Augsburg: Result 4 - 3\nMatchday 7: Hannover 96 - VfB Stuttgart: Result 3 - 1\nMatchday 7: TSV Fortuna 95 Düsseldorf - FC Schalke 04: Result 0 - 2\nMatchday 7: 1. FSV Mainz 05 - Hertha BSC: Result 0 - 0\nMatchday 7: FC Bayern München - Borussia Mönchengladbach: Result 0 - 3\nMatchday 7: SC Freiburg - Bayer 04 Leverkusen: Result 0 - 0\nMatchday 7: TSG 1899 Hoffenheim - Eintracht Frankfurt: Result 1 - 2\nMatchday 7: RB Leipzig - 1. FC Nürnberg: Result 6 - 0\nMatchday 8: Eintracht Frankfurt - TSV Fortuna 95 Düsseldorf: Result 7 - 1\nMatchday 8: VfB Stuttgart - BV Borussia 09 Dortmund: Result 0 - 4\nMatchday 8: 1. FC Nürnberg - TSG 1899 Hoffenheim: Result 1 - 3\nMatchday 8: Bayer 04 Leverkusen - Hannover 96: Result 2 - 2\nMatchday 8: VfL Wolfsburg - FC Bayern München: Result 1 - 3\nMatchday 8: FC Augsburg - RB Leipzig: Result 0 - 0\nMatchday 8: FC Schalke 04 - SV Werder Bremen: Result 0 - 2\nMatchday 8: Hertha BSC - SC Freiburg: Result 1 - 1\nMatchday 8: Borussia Mönchengladbach - 1. FSV Mainz 05: Result 4 - 0\nMatchday 9: SC Freiburg - Borussia Mönchengladbach: Result 3 - 1\nMatchday 9: BV Borussia 09 Dortmund - Hertha BSC: Result 2 - 2\nMatchday 9: Hannover 96 - FC Augsburg: Result 1 - 2\nMatchday 9: TSV Fortuna 95 Düsseldorf - VfL Wolfsburg: Result 0 - 3\nMatchday 9: 1. FSV Mainz 05 - FC Bayern München: Result 1 - 2\nMatchday 9: TSG 1899 Hoffenheim - VfB Stuttgart: Result 4 - 0\nMatchday 9: 1. FC Nürnberg - Eintracht Frankfurt: Result 1 - 1\nMatchday 9: RB Leipzig - FC Schalke 04: Result 0 - 0\nMatchday 9: SV Werder Bremen - Bayer 04 Leverkusen: Result 2 - 6\nMatchday 10: VfB Stuttgart - Eintracht Frankfurt: Result 0 - 3\nMatchday 10: FC Schalke 04 - Hannover 96: Result 3 - 1\nMatchday 10: FC Bayern München - SC Freiburg: Result 1 - 1\nMatchday 10: Bayer 04 Leverkusen - TSG 1899 Hoffenheim: Result 1 - 4\nMatchday 10: VfL Wolfsburg - BV Borussia 09 Dortmund: Result 0 - 1\nMatchday 10: FC Augsburg - 1. FC Nürnberg: Result 2 - 2\nMatchday 10: Hertha BSC - RB Leipzig: Result 0 - 3\nMatchday 10: Borussia Mönchengladbach - TSV Fortuna 95 Düsseldorf: Result 3 - 0\nMatchday 10: 1. FSV Mainz 05 - SV Werder Bremen: Result 2 - 1\nMatchday 11: Hannover 96 - VfL Wolfsburg: Result 2 - 1\nMatchday 11: 1. FC Nürnberg - VfB Stuttgart: Result 0 - 2\nMatchday 11: SV Werder Bremen - Borussia Mönchengladbach: Result 1 - 3\nMatchday 11: TSV Fortuna 95 Düsseldorf - Hertha BSC: Result 4 - 1\nMatchday 11: SC Freiburg - 1. FSV Mainz 05: Result 1 - 3\nMatchday 11: TSG 1899 Hoffenheim - FC Augsburg: Result 2 - 1\nMatchday 11: BV Borussia 09 Dortmund - FC Bayern München: Result 3 - 2\nMatchday 11: RB Leipzig - Bayer 04 Leverkusen: Result 3 - 0\nMatchday 11: Eintracht Frankfurt - FC Schalke 04: Result 3 - 0\nMatchday 12: Bayer 04 Leverkusen - VfB Stuttgart: Result 2 - 0\nMatchday 12: Hertha BSC - TSG 1899 Hoffenheim: Result 3 - 3\nMatchday 12: FC Bayern München - TSV Fortuna 95 Düsseldorf: Result 3 - 3\nMatchday 12: VfL Wolfsburg - RB Leipzig: Result 1 - 0\nMatchday 12: 1. FSV Mainz 05 - BV Borussia 09 Dortmund: Result 1 - 2\nMatchday 12: FC Augsburg - Eintracht Frankfurt: Result 1 - 3\nMatchday 12: FC Schalke 04 - 1. FC Nürnberg: Result 5 - 2\nMatchday 12: SC Freiburg - SV Werder Bremen: Result 1 - 1\nMatchday 12: Borussia Mönchengladbach - Hannover 96: Result 4 - 1\nMatchday 13: TSV Fortuna 95 Düsseldorf - 1. FSV Mainz 05: Result 0 - 1\nMatchday 13: BV Borussia 09 Dortmund - SC Freiburg: Result 2 - 0\nMatchday 13: VfB Stuttgart - FC Augsburg: Result 1 - 0\nMatchday 13: SV Werder Bremen - FC Bayern München: Result 1 - 2\nMatchday 13: Hannover 96 - Hertha BSC: Result 0 - 2\nMatchday 13: TSG 1899 Hoffenheim - FC Schalke 04: Result 1 - 1\nMatchday 13: RB Leipzig - Borussia Mönchengladbach: Result 2 - 0\nMatchday 13: Eintracht Frankfurt - VfL Wolfsburg: Result 1 - 2\nMatchday 13: 1. FC Nürnberg - Bayer 04 Leverkusen: Result 1 - 1\nMatchday 14: SV Werder Bremen - TSV Fortuna 95 Düsseldorf: Result 3 - 1\nMatchday 14: FC Schalke 04 - BV Borussia 09 Dortmund: Result 1 - 2\nMatchday 14: FC Bayern München - 1. FC Nürnberg: Result 3 - 0\nMatchday 14: Bayer 04 Leverkusen - FC Augsburg: Result 1 - 0\nMatchday 14: SC Freiburg - RB Leipzig: Result 3 - 0\nMatchday 14: VfL Wolfsburg - TSG 1899 Hoffenheim: Result 2 - 2\nMatchday 14: Hertha BSC - Eintracht Frankfurt: Result 1 - 0\nMatchday 14: 1. FSV Mainz 05 - Hannover 96: Result 1 - 1\nMatchday 14: Borussia Mönchengladbach - VfB Stuttgart: Result 3 - 0\nMatchday 15: 1. FC Nürnberg - VfL Wolfsburg: Result 0 - 2\nMatchday 15: VfB Stuttgart - Hertha BSC: Result 2 - 1\nMatchday 15: Hannover 96 - FC Bayern München: Result 0 - 4\nMatchday 15: TSV Fortuna 95 Düsseldorf - SC Freiburg: Result 2 - 0\nMatchday 15: TSG 1899 Hoffenheim - Borussia Mönchengladbach: Result 0 - 0\nMatchday 15: FC Augsburg - FC Schalke 04: Result 1 - 1\nMatchday 15: BV Borussia 09 Dortmund - SV Werder Bremen: Result 2 - 1\nMatchday 15: RB Leipzig - 1. FSV Mainz 05: Result 4 - 1\nMatchday 15: Eintracht Frankfurt - Bayer 04 Leverkusen: Result 2 - 1\nMatchday 16: Borussia Mönchengladbach - 1. FC Nürnberg: Result 2 - 0\nMatchday 16: Hertha BSC - FC Augsburg: Result 2 - 2\nMatchday 16: TSV Fortuna 95 Düsseldorf - BV Borussia 09 Dortmund: Result 2 - 1\nMatchday 16: VfL Wolfsburg - VfB Stuttgart: Result 2 - 0\nMatchday 16: FC Schalke 04 - Bayer 04 Leverkusen: Result 1 - 2\nMatchday 16: SV Werder Bremen - TSG 1899 Hoffenheim: Result 1 - 1\nMatchday 16: FC Bayern München - RB Leipzig: Result 1 - 0\nMatchday 16: SC Freiburg - Hannover 96: Result 1 - 1\nMatchday 16: 1. FSV Mainz 05 - Eintracht Frankfurt: Result 2 - 2\nMatchday 17: BV Borussia 09 Dortmund - Borussia Mönchengladbach: Result 2 - 1\nMatchday 17: VfB Stuttgart - FC Schalke 04: Result 1 - 3\nMatchday 17: 1. FC Nürnberg - SC Freiburg: Result 0 - 1\nMatchday 17: Hannover 96 - TSV Fortuna 95 Düsseldorf: Result 0 - 1\nMatchday 17: Bayer 04 Leverkusen - Hertha BSC: Result 3 - 1\nMatchday 17: RB Leipzig - SV Werder Bremen: Result 3 - 2\nMatchday 17: Eintracht Frankfurt - FC Bayern München: Result 0 - 3\nMatchday 17: FC Augsburg - VfL Wolfsburg: Result 2 - 3\nMatchday 17: TSG 1899 Hoffenheim - 1. FSV Mainz 05: Result 1 - 1\nMatchday 18: TSG 1899 Hoffenheim - FC Bayern München: Result 1 - 3\nMatchday 18: Eintracht Frankfurt - SC Freiburg: Result 3 - 1\nMatchday 18: VfB Stuttgart - 1. FSV Mainz 05: Result 2 - 3\nMatchday 18: Hannover 96 - SV Werder Bremen: Result 0 - 1\nMatchday 18: Bayer 04 Leverkusen - Borussia Mönchengladbach: Result 0 - 1\nMatchday 18: FC Augsburg - TSV Fortuna 95 Düsseldorf: Result 1 - 2\nMatchday 18: RB Leipzig - BV Borussia 09 Dortmund: Result 0 - 1\nMatchday 18: 1. FC Nürnberg - Hertha BSC: Result 1 - 3\nMatchday 18: FC Schalke 04 - VfL Wolfsburg: Result 2 - 1\nMatchday 19: Hertha BSC - FC Schalke 04: Result 2 - 2\nMatchday 19: BV Borussia 09 Dortmund - Hannover 96: Result 5 - 1\nMatchday 19: Borussia Mönchengladbach - FC Augsburg: Result 2 - 0\nMatchday 19: SC Freiburg - TSG 1899 Hoffenheim: Result 2 - 4\nMatchday 19: VfL Wolfsburg - Bayer 04 Leverkusen: Result 0 - 3\nMatchday 19: 1. FSV Mainz 05 - 1. FC Nürnberg: Result 2 - 1\nMatchday 19: SV Werder Bremen - Eintracht Frankfurt: Result 2 - 2\nMatchday 19: FC Bayern München - VfB Stuttgart: Result 4 - 1\nMatchday 19: TSV Fortuna 95 Düsseldorf - RB Leipzig: Result 0 - 4\nMatchday 20: Hannover 96 - RB Leipzig: Result 0 - 3\nMatchday 20: Eintracht Frankfurt - BV Borussia 09 Dortmund: Result 1 - 1\nMatchday 20: 1. FC Nürnberg - SV Werder Bremen: Result 1 - 1\nMatchday 20: Hertha BSC - VfL Wolfsburg: Result 0 - 1\nMatchday 20: Bayer 04 Leverkusen - FC Bayern München: Result 3 - 1\nMatchday 20: TSG 1899 Hoffenheim - TSV Fortuna 95 Düsseldorf: Result 1 - 1\nMatchday 20: FC Schalke 04 - Borussia Mönchengladbach: Result 0 - 2\nMatchday 20: FC Augsburg - 1. FSV Mainz 05: Result 3 - 0\nMatchday 20: VfB Stuttgart - SC Freiburg: Result 2 - 2\nMatchday 21: 1. FSV Mainz 05 - Bayer 04 Leverkusen: Result 1 - 5\nMatchday 21: BV Borussia 09 Dortmund - TSG 1899 Hoffenheim: Result 3 - 3\nMatchday 21: Hannover 96 - 1. FC Nürnberg: Result 2 - 0\nMatchday 21: Borussia Mönchengladbach - Hertha BSC: Result 0 - 3\nMatchday 21: SC Freiburg - VfL Wolfsburg: Result 3 - 3\nMatchday 21: RB Leipzig - Eintracht Frankfurt: Result 0 - 0\nMatchday 21: FC Bayern München - FC Schalke 04: Result 3 - 1\nMatchday 21: SV Werder Bremen - FC Augsburg: Result 4 - 0\nMatchday 21: TSV Fortuna 95 Düsseldorf - VfB Stuttgart: Result 3 - 0\nMatchday 22: FC Augsburg - FC Bayern München: Result 2 - 3\nMatchday 22: VfB Stuttgart - RB Leipzig: Result 1 - 3\nMatchday 22: FC Schalke 04 - SC Freiburg: Result 0 - 0\nMatchday 22: VfL Wolfsburg - 1. FSV Mainz 05: Result 3 - 0\nMatchday 22: TSG 1899 Hoffenheim - Hannover 96: Result 3 - 0\nMatchday 22: Hertha BSC - SV Werder Bremen: Result 1 - 1\nMatchday 22: Eintracht Frankfurt - Borussia Mönchengladbach: Result 1 - 1\nMatchday 22: Bayer 04 Leverkusen - TSV Fortuna 95 Düsseldorf: Result 2 - 0\nMatchday 22: 1. FC Nürnberg - BV Borussia 09 Dortmund: Result 0 - 0\nMatchday 23: SV Werder Bremen - VfB Stuttgart: Result 1 - 1\nMatchday 23: Borussia Mönchengladbach - VfL Wolfsburg: Result 0 - 3\nMatchday 23: FC Bayern München - Hertha BSC: Result 1 - 0\nMatchday 23: SC Freiburg - FC Augsburg: Result 5 - 1\nMatchday 23: 1. FSV Mainz 05 - FC Schalke 04: Result 3 - 0\nMatchday 23: TSV Fortuna 95 Düsseldorf - 1. FC Nürnberg: Result 2 - 1\nMatchday 23: Hannover 96 - Eintracht Frankfurt: Result 0 - 3\nMatchday 23: BV Borussia 09 Dortmund - Bayer 04 Leverkusen: Result 3 - 2\nMatchday 23: RB Leipzig - TSG 1899 Hoffenheim: Result 1 - 1\nMatchday 24: FC Augsburg - BV Borussia 09 Dortmund: Result 2 - 1\nMatchday 24: Eintracht Frankfurt - TSG 1899 Hoffenheim: Result 3 - 2\nMatchday 24: FC Schalke 04 - TSV Fortuna 95 Düsseldorf: Result 0 - 4\nMatchday 24: 1. FC Nürnberg - RB Leipzig: Result 0 - 1\nMatchday 24: Hertha BSC - 1. FSV Mainz 05: Result 2 - 1\nMatchday 24: Bayer 04 Leverkusen - SC Freiburg: Result 2 - 0\nMatchday 24: Borussia Mönchengladbach - FC Bayern München: Result 1 - 5\nMatchday 24: VfB Stuttgart - Hannover 96: Result 5 - 1\nMatchday 24: VfL Wolfsburg - SV Werder Bremen: Result 1 - 1\nMatchday 25: SV Werder Bremen - FC Schalke 04: Result 4 - 2\nMatchday 25: BV Borussia 09 Dortmund - VfB Stuttgart: Result 3 - 1\nMatchday 25: FC Bayern München - VfL Wolfsburg: Result 6 - 0\nMatchday 25: SC Freiburg - Hertha BSC: Result 2 - 1\nMatchday 25: RB Leipzig - FC Augsburg: Result 0 - 0\nMatchday 25: 1. FSV Mainz 05 - Borussia Mönchengladbach: Result 0 - 1\nMatchday 25: TSG 1899 Hoffenheim - 1. FC Nürnberg: Result 2 - 1\nMatchday 25: Hannover 96 - Bayer 04 Leverkusen: Result 2 - 3\nMatchday 25: TSV Fortuna 95 Düsseldorf - Eintracht Frankfurt: Result 0 - 3\nMatchday 26: Borussia Mönchengladbach - SC Freiburg: Result 1 - 1\nMatchday 26: VfB Stuttgart - TSG 1899 Hoffenheim: Result 1 - 1\nMatchday 26: FC Schalke 04 - RB Leipzig: Result 0 - 1\nMatchday 26: VfL Wolfsburg - TSV Fortuna 95 Düsseldorf: Result 5 - 2\nMatchday 26: FC Augsburg - Hannover 96: Result 3 - 1\nMatchday 26: Hertha BSC - BV Borussia 09 Dortmund: Result 2 - 3\nMatchday 26: Bayer 04 Leverkusen - SV Werder Bremen: Result 1 - 3\nMatchday 26: Eintracht Frankfurt - 1. FC Nürnberg: Result 1 - 0\nMatchday 26: FC Bayern München - 1. FSV Mainz 05: Result 6 - 0\nMatchday 27: TSG 1899 Hoffenheim - Bayer 04 Leverkusen: Result 4 - 1\nMatchday 27: BV Borussia 09 Dortmund - VfL Wolfsburg: Result 2 - 0\nMatchday 27: 1. FC Nürnberg - FC Augsburg: Result 3 - 0\nMatchday 27: SV Werder Bremen - 1. FSV Mainz 05: Result 3 - 1\nMatchday 27: TSV Fortuna 95 Düsseldorf - Borussia Mönchengladbach: Result 3 - 1\nMatchday 27: SC Freiburg - FC Bayern München: Result 1 - 1\nMatchday 27: RB Leipzig - Hertha BSC: Result 5 - 0\nMatchday 27: Hannover 96 - FC Schalke 04: Result 0 - 1\nMatchday 27: Eintracht Frankfurt - VfB Stuttgart: Result 3 - 0\nMatchday 28: 1. FSV Mainz 05 - SC Freiburg: Result 5 - 0\nMatchday 28: VfB Stuttgart - 1. FC Nürnberg: Result 1 - 1\nMatchday 28: FC Schalke 04 - Eintracht Frankfurt: Result 1 - 2\nMatchday 28: Hertha BSC - TSV Fortuna 95 Düsseldorf: Result 1 - 2\nMatchday 28: Bayer 04 Leverkusen - RB Leipzig: Result 2 - 4\nMatchday 28: VfL Wolfsburg - Hannover 96: Result 3 - 1\nMatchday 28: FC Bayern München - BV Borussia 09 Dortmund: Result 5 - 0\nMatchday 28: FC Augsburg - TSG 1899 Hoffenheim: Result 0 - 4\nMatchday 28: Borussia Mönchengladbach - SV Werder Bremen: Result 1 - 1\nMatchday 29: 1. FC Nürnberg - FC Schalke 04: Result 1 - 1\nMatchday 29: VfB Stuttgart - Bayer 04 Leverkusen: Result 0 - 1\nMatchday 29: SV Werder Bremen - SC Freiburg: Result 2 - 1\nMatchday 29: Hannover 96 - Borussia Mönchengladbach: Result 0 - 1\nMatchday 29: RB Leipzig - VfL Wolfsburg: Result 2 - 0\nMatchday 29: BV Borussia 09 Dortmund - 1. FSV Mainz 05: Result 2 - 1\nMatchday 29: TSG 1899 Hoffenheim - Hertha BSC: Result 2 - 0\nMatchday 29: TSV Fortuna 95 Düsseldorf - FC Bayern München: Result 1 - 4\nMatchday 29: Eintracht Frankfurt - FC Augsburg: Result 1 - 3\nMatchday 30: FC Bayern München - SV Werder Bremen: Result 1 - 0\nMatchday 30: Bayer 04 Leverkusen - 1. FC Nürnberg: Result 2 - 0\nMatchday 30: 1. FSV Mainz 05 - TSV Fortuna 95 Düsseldorf: Result 3 - 1\nMatchday 30: FC Augsburg - VfB Stuttgart: Result 6 - 0\nMatchday 30: Borussia Mönchengladbach - RB Leipzig: Result 1 - 2\nMatchday 30: FC Schalke 04 - TSG 1899 Hoffenheim: Result 2 - 5\nMatchday 30: SC Freiburg - BV Borussia 09 Dortmund: Result 0 - 4\nMatchday 30: Hertha BSC - Hannover 96: Result 0 - 0\nMatchday 30: VfL Wolfsburg - Eintracht Frankfurt: Result 1 - 1\nMatchday 31: FC Augsburg - Bayer 04 Leverkusen: Result 1 - 4\nMatchday 31: Eintracht Frankfurt - Hertha BSC: Result 0 - 0\nMatchday 31: BV Borussia 09 Dortmund - FC Schalke 04: Result 2 - 4\nMatchday 31: Hannover 96 - 1. FSV Mainz 05: Result 1 - 0\nMatchday 31: TSV Fortuna 95 Düsseldorf - SV Werder Bremen: Result 4 - 1\nMatchday 31: RB Leipzig - SC Freiburg: Result 2 - 1\nMatchday 31: VfB Stuttgart - Borussia Mönchengladbach: Result 1 - 0\nMatchday 31: TSG 1899 Hoffenheim - VfL Wolfsburg: Result 1 - 4\nMatchday 31: 1. FC Nürnberg - FC Bayern München: Result 1 - 1\nMatchday 32: 1. FSV Mainz 05 - RB Leipzig: Result 3 - 3\nMatchday 32: Hertha BSC - VfB Stuttgart: Result 3 - 1\nMatchday 32: Borussia Mönchengladbach - TSG 1899 Hoffenheim: Result 2 - 2\nMatchday 32: FC Bayern München - Hannover 96: Result 3 - 1\nMatchday 32: VfL Wolfsburg - 1. FC Nürnberg: Result 2 - 0\nMatchday 32: SV Werder Bremen - BV Borussia 09 Dortmund: Result 2 - 2\nMatchday 32: FC Schalke 04 - FC Augsburg: Result 0 - 0\nMatchday 32: SC Freiburg - TSV Fortuna 95 Düsseldorf: Result 1 - 1\nMatchday 32: Bayer 04 Leverkusen - Eintracht Frankfurt: Result 6 - 1\nMatchday 33: BV Borussia 09 Dortmund - TSV Fortuna 95 Düsseldorf: Result 3 - 2\nMatchday 33: VfB Stuttgart - VfL Wolfsburg: Result 3 - 0\nMatchday 33: 1. FC Nürnberg - Borussia Mönchengladbach: Result 0 - 4\nMatchday 33: Hannover 96 - SC Freiburg: Result 3 - 0\nMatchday 33: Bayer 04 Leverkusen - FC Schalke 04: Result 1 - 1\nMatchday 33: TSG 1899 Hoffenheim - SV Werder Bremen: Result 0 - 1\nMatchday 33: FC Augsburg - Hertha BSC: Result 3 - 4\nMatchday 33: RB Leipzig - FC Bayern München: Result 0 - 0\nMatchday 33: Eintracht Frankfurt - 1. FSV Mainz 05: Result 0 - 2\nMatchday 34: FC Schalke 04 - VfB Stuttgart: Result 0 - 0\nMatchday 34: SV Werder Bremen - RB Leipzig: Result 2 - 1\nMatchday 34: Hertha BSC - Bayer 04 Leverkusen: Result 1 - 5\nMatchday 34: Borussia Mönchengladbach - BV Borussia 09 Dortmund: Result 0 - 2\nMatchday 34: FC Bayern München - Eintracht Frankfurt: Result 5 - 1\nMatchday 34: TSV Fortuna 95 Düsseldorf - Hannover 96: Result 2 - 1\nMatchday 34: SC Freiburg - 1. FC Nürnberg: Result 5 - 1\nMatchday 34: VfL Wolfsburg - FC Augsburg: Result 8 - 1\nMatchday 34: 1. FSV Mainz 05 - TSG 1899 Hoffenheim: Result 4 - 2\n"
    }
   ],
   "source": [
    "# iterrating through all JSON responses to extract the necessary data and also format it properly\n",
    "for c in response.json()['matches']:\n",
    "    print (\"Matchday \" + str(c['matchday']) + \": \" + \n",
    "    c['homeTeam']['name'] + \" - \" + c['awayTeam']['name'] \n",
    "    + \": Result \" + str(c['score']['fullTime']['homeTeam']) + \" - \" \n",
    "    + str(c['score']['fullTime']['awayTeam'] ) )"
   ]
  },
  {
   "cell_type": "markdown",
   "metadata": {},
   "source": [
    "As seen above it is neccessary to transform the integers into strings before being able to put them into one line with the other extracted data fragments.\n",
    "Extracting those values separatelly is not an issue, but it is not possible to concatenate strings and integers together.\n",
    "\n",
    "Before splitting the data, it will be put into a Pandas DataFrame to make it easier to work with, especially because the data is still in JSON Format which makes it hard to work with when it comes to statistical models"
   ]
  },
  {
   "cell_type": "markdown",
   "metadata": {},
   "source": [
    "## Normalizing JSON and create a Pandas DataFrame"
   ]
  },
  {
   "cell_type": "code",
   "execution_count": 5,
   "metadata": {
    "tags": [
     "outputPrepend"
    ]
   },
   "outputs": [
    {
     "output_type": "execute_result",
     "data": {
      "text/plain": "       id               utcDate    status  matchday           stage  \\\n0  235686  2018-08-24T18:30:00Z  FINISHED         1  REGULAR_SEASON   \n1  235688  2018-08-25T13:30:00Z  FINISHED         1  REGULAR_SEASON   \n2  235689  2018-08-25T13:30:00Z  FINISHED         1  REGULAR_SEASON   \n3  235691  2018-08-25T13:30:00Z  FINISHED         1  REGULAR_SEASON   \n4  235692  2018-08-25T13:30:00Z  FINISHED         1  REGULAR_SEASON   \n\n            group           lastUpdated  \\\n0  Regular Season  2019-03-16T17:30:32Z   \n1  Regular Season  2019-03-16T17:30:32Z   \n2  Regular Season  2019-03-16T17:30:32Z   \n3  Regular Season  2019-03-16T17:30:32Z   \n4  Regular Season  2019-03-16T17:30:32Z   \n\n                                            referees  season.id  \\\n0  [{'id': 15746, 'name': 'Bastian Dankert', 'nat...        155   \n1  [{'id': 43875, 'name': 'Felix Brych', 'nationa...        155   \n2  [{'id': 57539, 'name': 'Tobias Welz', 'nationa...        155   \n3  [{'id': 174, 'name': 'Markus Schmidt', 'nation...        155   \n4  [{'id': 57510, 'name': 'Manuel Gräfe', 'nation...        155   \n\n  season.startDate  ... score.halfTime.homeTeam  score.halfTime.awayTeam  \\\n0       2018-08-24  ...                       1                        0   \n1       2018-08-24  ...                       0                        0   \n2       2018-08-24  ...                       1                        0   \n3       2018-08-24  ...                       1                        0   \n4       2018-08-24  ...                       0                        1   \n\n  score.extraTime.homeTeam score.extraTime.awayTeam score.penalties.homeTeam  \\\n0                     None                     None                     None   \n1                     None                     None                     None   \n2                     None                     None                     None   \n3                     None                     None                     None   \n4                     None                     None                     None   \n\n   score.penalties.awayTeam  homeTeam.id              homeTeam.name  \\\n0                      None            5          FC Bayern München   \n1                      None           12           SV Werder Bremen   \n2                      None            9                 Hertha BSC   \n3                      None           24  TSV Fortuna 95 Düsseldorf   \n4                      None           17                SC Freiburg   \n\n   awayTeam.id        awayTeam.name  \n0            2  TSG 1899 Hoffenheim  \n1            8          Hannover 96  \n2           14       1. FC Nürnberg  \n3           16          FC Augsburg  \n4           19  Eintracht Frankfurt  \n\n[5 rows x 27 columns]",
      "text/html": "<div>\n<style scoped>\n    .dataframe tbody tr th:only-of-type {\n        vertical-align: middle;\n    }\n\n    .dataframe tbody tr th {\n        vertical-align: top;\n    }\n\n    .dataframe thead th {\n        text-align: right;\n    }\n</style>\n<table border=\"1\" class=\"dataframe\">\n  <thead>\n    <tr style=\"text-align: right;\">\n      <th></th>\n      <th>id</th>\n      <th>utcDate</th>\n      <th>status</th>\n      <th>matchday</th>\n      <th>stage</th>\n      <th>group</th>\n      <th>lastUpdated</th>\n      <th>referees</th>\n      <th>season.id</th>\n      <th>season.startDate</th>\n      <th>...</th>\n      <th>score.halfTime.homeTeam</th>\n      <th>score.halfTime.awayTeam</th>\n      <th>score.extraTime.homeTeam</th>\n      <th>score.extraTime.awayTeam</th>\n      <th>score.penalties.homeTeam</th>\n      <th>score.penalties.awayTeam</th>\n      <th>homeTeam.id</th>\n      <th>homeTeam.name</th>\n      <th>awayTeam.id</th>\n      <th>awayTeam.name</th>\n    </tr>\n  </thead>\n  <tbody>\n    <tr>\n      <th>0</th>\n      <td>235686</td>\n      <td>2018-08-24T18:30:00Z</td>\n      <td>FINISHED</td>\n      <td>1</td>\n      <td>REGULAR_SEASON</td>\n      <td>Regular Season</td>\n      <td>2019-03-16T17:30:32Z</td>\n      <td>[{'id': 15746, 'name': 'Bastian Dankert', 'nat...</td>\n      <td>155</td>\n      <td>2018-08-24</td>\n      <td>...</td>\n      <td>1</td>\n      <td>0</td>\n      <td>None</td>\n      <td>None</td>\n      <td>None</td>\n      <td>None</td>\n      <td>5</td>\n      <td>FC Bayern München</td>\n      <td>2</td>\n      <td>TSG 1899 Hoffenheim</td>\n    </tr>\n    <tr>\n      <th>1</th>\n      <td>235688</td>\n      <td>2018-08-25T13:30:00Z</td>\n      <td>FINISHED</td>\n      <td>1</td>\n      <td>REGULAR_SEASON</td>\n      <td>Regular Season</td>\n      <td>2019-03-16T17:30:32Z</td>\n      <td>[{'id': 43875, 'name': 'Felix Brych', 'nationa...</td>\n      <td>155</td>\n      <td>2018-08-24</td>\n      <td>...</td>\n      <td>0</td>\n      <td>0</td>\n      <td>None</td>\n      <td>None</td>\n      <td>None</td>\n      <td>None</td>\n      <td>12</td>\n      <td>SV Werder Bremen</td>\n      <td>8</td>\n      <td>Hannover 96</td>\n    </tr>\n    <tr>\n      <th>2</th>\n      <td>235689</td>\n      <td>2018-08-25T13:30:00Z</td>\n      <td>FINISHED</td>\n      <td>1</td>\n      <td>REGULAR_SEASON</td>\n      <td>Regular Season</td>\n      <td>2019-03-16T17:30:32Z</td>\n      <td>[{'id': 57539, 'name': 'Tobias Welz', 'nationa...</td>\n      <td>155</td>\n      <td>2018-08-24</td>\n      <td>...</td>\n      <td>1</td>\n      <td>0</td>\n      <td>None</td>\n      <td>None</td>\n      <td>None</td>\n      <td>None</td>\n      <td>9</td>\n      <td>Hertha BSC</td>\n      <td>14</td>\n      <td>1. FC Nürnberg</td>\n    </tr>\n    <tr>\n      <th>3</th>\n      <td>235691</td>\n      <td>2018-08-25T13:30:00Z</td>\n      <td>FINISHED</td>\n      <td>1</td>\n      <td>REGULAR_SEASON</td>\n      <td>Regular Season</td>\n      <td>2019-03-16T17:30:32Z</td>\n      <td>[{'id': 174, 'name': 'Markus Schmidt', 'nation...</td>\n      <td>155</td>\n      <td>2018-08-24</td>\n      <td>...</td>\n      <td>1</td>\n      <td>0</td>\n      <td>None</td>\n      <td>None</td>\n      <td>None</td>\n      <td>None</td>\n      <td>24</td>\n      <td>TSV Fortuna 95 Düsseldorf</td>\n      <td>16</td>\n      <td>FC Augsburg</td>\n    </tr>\n    <tr>\n      <th>4</th>\n      <td>235692</td>\n      <td>2018-08-25T13:30:00Z</td>\n      <td>FINISHED</td>\n      <td>1</td>\n      <td>REGULAR_SEASON</td>\n      <td>Regular Season</td>\n      <td>2019-03-16T17:30:32Z</td>\n      <td>[{'id': 57510, 'name': 'Manuel Gräfe', 'nation...</td>\n      <td>155</td>\n      <td>2018-08-24</td>\n      <td>...</td>\n      <td>0</td>\n      <td>1</td>\n      <td>None</td>\n      <td>None</td>\n      <td>None</td>\n      <td>None</td>\n      <td>17</td>\n      <td>SC Freiburg</td>\n      <td>19</td>\n      <td>Eintracht Frankfurt</td>\n    </tr>\n  </tbody>\n</table>\n<p>5 rows × 27 columns</p>\n</div>"
     },
     "metadata": {},
     "execution_count": 5
    }
   ],
   "source": [
    "raw_data = response.json()\n",
    "data = json_normalize(raw_data['matches'])\n",
    "data.head()"
   ]
  },
  {
   "cell_type": "markdown",
   "metadata": {},
   "source": [
    "It was possible to put the data into the DataFrame and format it correctly, so far an possible optimization would be to see if it would be possible to put the data into the DataFrame directly after the extration some steps earlier.\n",
    "\n",
    "As the DataFrame is becoming very big and it is not easy to see what the different column names are in the frame. It woudld also make sense to list all names to filter wich ones are necessary. "
   ]
  },
  {
   "cell_type": "markdown",
   "metadata": {},
   "source": [
    "## Checking the different columns that are available"
   ]
  },
  {
   "cell_type": "code",
   "execution_count": 6,
   "metadata": {},
   "outputs": [
    {
     "output_type": "stream",
     "name": "stdout",
     "text": "id\nutcDate\nstatus\nmatchday\nstage\ngroup\nlastUpdated\nreferees\nseason.id\nseason.startDate\nseason.endDate\nseason.currentMatchday\nodds.msg\nscore.winner\nscore.duration\nscore.fullTime.homeTeam\nscore.fullTime.awayTeam\nscore.halfTime.homeTeam\nscore.halfTime.awayTeam\nscore.extraTime.homeTeam\nscore.extraTime.awayTeam\nscore.penalties.homeTeam\nscore.penalties.awayTeam\nhomeTeam.id\nhomeTeam.name\nawayTeam.id\nawayTeam.name\n"
    }
   ],
   "source": [
    "for col in data.columns: \n",
    "    print(col) "
   ]
  },
  {
   "cell_type": "markdown",
   "metadata": {},
   "source": [
    "This overview of the column names makes it a lot easier to define which ones would make sense to add for the probability model. Bellow the columns that I will keep:\n",
    "\n",
    "- ID: For further information, statistics etc. about a specific match it is necessary to now the ID\n",
    "- Date: It would make sense to keep the Date to have a dataset to order the data by\n",
    "- score.fullTime.homeTeam: The result after fullTime is the most important number for the probability model\n",
    "- score.fullTime.awayTeam: The result after fullTime is the most important number for the probability model\n",
    "- homeTeam.id: The id is a shortcut to faster iterrate, find, select the teams across a season\n",
    "- awayTeam.id: The id is a shortcut to faster iterrate, find, select the teams across a season\n",
    "- homeTeam.name: The name is necessary to match id\n",
    "- awayTeam.name: The name is necessary to match id  "
   ]
  },
  {
   "cell_type": "markdown",
   "metadata": {},
   "source": [
    "## Define final data structure"
   ]
  },
  {
   "cell_type": "code",
   "execution_count": 7,
   "metadata": {},
   "outputs": [],
   "source": [
    "# Define the header of the DataFrame \n",
    "header = ['id', 'utcDate', 'score.fullTime.homeTeam', 'score.fullTime.awayTeam', 'homeTeam.id', 'awayTeam.id', 'homeTeam.name', 'awayTeam.name']\n",
    "data_BL1_18_19 = pd.DataFrame(data, columns=header)\n",
    "\n",
    "# Rename the columns to make it more understandable fo readers\n",
    "data_BL1_18_19 = data_BL1_18_19.rename(columns={\n",
    "    'id': 'match_id',\n",
    "    'utcDate' : 'date',\n",
    "    'score.fullTime.homeTeam': 'goals_home',\n",
    "    'score.fullTime.awayTeam': 'goals_away',\n",
    "    'homeTeam.id': 'home_id',\n",
    "    'awayTeam.id': 'away_id',\n",
    "    'homeTeam.name': 'home_name',\n",
    "    'awayTeam.name': 'away_name'\n",
    "    })"
   ]
  },
  {
   "cell_type": "markdown",
   "metadata": {},
   "source": [
    "Before adding the data to the Database it is important to transform the date into a form that is usable. In order to do so in the first step the column Date will be transformed from object to datetime and then in the second step the datetime will be stripped to keep only the date, without the time"
   ]
  },
  {
   "cell_type": "code",
   "execution_count": 8,
   "metadata": {},
   "outputs": [],
   "source": [
    "# Transform to datetime object\n",
    "data_BL1_18_19['date'] = pd.to_datetime(data_BL1_18_19['date'])"
   ]
  },
  {
   "cell_type": "code",
   "execution_count": 9,
   "metadata": {},
   "outputs": [],
   "source": [
    "# Strip the time\n",
    "data_BL1_18_19['date'] = data_BL1_18_19['date'].dt.date"
   ]
  },
  {
   "cell_type": "code",
   "execution_count": 10,
   "metadata": {},
   "outputs": [
    {
     "output_type": "execute_result",
     "data": {
      "text/plain": "   match_id        date  goals_home  goals_away  home_id  away_id  \\\n0    235686  2018-08-24           3           1        5        2   \n1    235688  2018-08-25           1           1       12        8   \n\n           home_name            away_name  \n0  FC Bayern München  TSG 1899 Hoffenheim  \n1   SV Werder Bremen          Hannover 96  ",
      "text/html": "<div>\n<style scoped>\n    .dataframe tbody tr th:only-of-type {\n        vertical-align: middle;\n    }\n\n    .dataframe tbody tr th {\n        vertical-align: top;\n    }\n\n    .dataframe thead th {\n        text-align: right;\n    }\n</style>\n<table border=\"1\" class=\"dataframe\">\n  <thead>\n    <tr style=\"text-align: right;\">\n      <th></th>\n      <th>match_id</th>\n      <th>date</th>\n      <th>goals_home</th>\n      <th>goals_away</th>\n      <th>home_id</th>\n      <th>away_id</th>\n      <th>home_name</th>\n      <th>away_name</th>\n    </tr>\n  </thead>\n  <tbody>\n    <tr>\n      <th>0</th>\n      <td>235686</td>\n      <td>2018-08-24</td>\n      <td>3</td>\n      <td>1</td>\n      <td>5</td>\n      <td>2</td>\n      <td>FC Bayern München</td>\n      <td>TSG 1899 Hoffenheim</td>\n    </tr>\n    <tr>\n      <th>1</th>\n      <td>235688</td>\n      <td>2018-08-25</td>\n      <td>1</td>\n      <td>1</td>\n      <td>12</td>\n      <td>8</td>\n      <td>SV Werder Bremen</td>\n      <td>Hannover 96</td>\n    </tr>\n  </tbody>\n</table>\n</div>"
     },
     "metadata": {},
     "execution_count": 10
    }
   ],
   "source": [
    "data_BL1_18_19.head(2)"
   ]
  },
  {
   "cell_type": "markdown",
   "metadata": {},
   "source": [
    "## Split the data into train and test set"
   ]
  },
  {
   "cell_type": "code",
   "execution_count": 11,
   "metadata": {},
   "outputs": [],
   "source": [
    "# create copy to work with\n",
    "data_BL1_18_19_copy = data_BL1_18_19.copy()\n",
    "data_BL1_18_19_copy.set_index('match_id')\n",
    "\n",
    "# using only 10% of random games for the test split\n",
    "train_set = data_BL1_18_19_copy.sample(frac=0.9, random_state=0)\n",
    "test_set  = data_BL1_18_19_copy.drop(train_set.index)"
   ]
  },
  {
   "cell_type": "code",
   "execution_count": 12,
   "metadata": {},
   "outputs": [],
   "source": [
    "# Setting match_id as index\n",
    "test_set = test_set.set_index('match_id')\n",
    "train_set = train_set.set_index('match_id')"
   ]
  },
  {
   "cell_type": "code",
   "execution_count": 13,
   "metadata": {},
   "outputs": [
    {
     "output_type": "execute_result",
     "data": {
      "text/plain": "                date  goals_home  goals_away  home_id  away_id  \\\nmatch_id                                                         \n235961    2019-04-27           4           1       24       12   \n235755    2018-10-20           2           2        3        8   \n\n                          home_name         away_name  \nmatch_id                                               \n235961    TSV Fortuna 95 Düsseldorf  SV Werder Bremen  \n235755          Bayer 04 Leverkusen       Hannover 96  ",
      "text/html": "<div>\n<style scoped>\n    .dataframe tbody tr th:only-of-type {\n        vertical-align: middle;\n    }\n\n    .dataframe tbody tr th {\n        vertical-align: top;\n    }\n\n    .dataframe thead th {\n        text-align: right;\n    }\n</style>\n<table border=\"1\" class=\"dataframe\">\n  <thead>\n    <tr style=\"text-align: right;\">\n      <th></th>\n      <th>date</th>\n      <th>goals_home</th>\n      <th>goals_away</th>\n      <th>home_id</th>\n      <th>away_id</th>\n      <th>home_name</th>\n      <th>away_name</th>\n    </tr>\n    <tr>\n      <th>match_id</th>\n      <th></th>\n      <th></th>\n      <th></th>\n      <th></th>\n      <th></th>\n      <th></th>\n      <th></th>\n    </tr>\n  </thead>\n  <tbody>\n    <tr>\n      <th>235961</th>\n      <td>2019-04-27</td>\n      <td>4</td>\n      <td>1</td>\n      <td>24</td>\n      <td>12</td>\n      <td>TSV Fortuna 95 Düsseldorf</td>\n      <td>SV Werder Bremen</td>\n    </tr>\n    <tr>\n      <th>235755</th>\n      <td>2018-10-20</td>\n      <td>2</td>\n      <td>2</td>\n      <td>3</td>\n      <td>8</td>\n      <td>Bayer 04 Leverkusen</td>\n      <td>Hannover 96</td>\n    </tr>\n  </tbody>\n</table>\n</div>"
     },
     "metadata": {},
     "execution_count": 13
    }
   ],
   "source": [
    "train_set.head(2)"
   ]
  },
  {
   "cell_type": "markdown",
   "metadata": {},
   "source": [
    "# Database\n",
    "## Database Logic\n",
    "In order to calculate all possible scenarios, betting rates and models the SQL DB needs:\n",
    "\n",
    "- A table with all matches and results from season 2018/2019 (without the test data)\n",
    "- A table with statistical factors to calculate probabilitie\n",
    "- A table with the test data to check betting forecast against"
   ]
  },
  {
   "cell_type": "markdown",
   "metadata": {},
   "source": [
    "## Create URI and Connection"
   ]
  },
  {
   "cell_type": "code",
   "execution_count": 14,
   "metadata": {},
   "outputs": [],
   "source": [
    "database_username ='sport'\n",
    "database_password = 'sport_fhnw_20'\n",
    "database_ip = '45.32.156.57'\n",
    "database_port = '3306'\n",
    "database_name = 'sportwetten'\n",
    "\n",
    "database_connection = sqlalchemy.create_engine('mysql+mysqlconnector://{0}:{1}@{2}/{3}'.\n",
    "                                               format(database_username, database_password, \n",
    "                                                      database_ip, database_name))"
   ]
  },
  {
   "cell_type": "code",
   "execution_count": 15,
   "metadata": {},
   "outputs": [],
   "source": [
    "con = database_connection.connect()"
   ]
  },
  {
   "cell_type": "markdown",
   "metadata": {},
   "source": [
    "## Creation of Database tables\n",
    "Those commands bellow should only be used one time. Trying to execute them a 2nd time will result in an error. \n",
    "### !!!PLEASE DO NOT EXECUTE THEM AGAIN!!!"
   ]
  },
  {
   "cell_type": "markdown",
   "metadata": {},
   "source": [
    "The first table to create in the schema is the one for the raw data, that we have seen before. The match ID is the unique number of every match and will also be used as primary key for this table. \n",
    "\n",
    "The data that will be stores in this seciton is the train data to set the statistical values"
   ]
  },
  {
   "cell_type": "code",
   "execution_count": 16,
   "metadata": {},
   "outputs": [],
   "source": [
    "query = text(\"\"\"\n",
    "CREATE TABLE `sportwetten`.`match_data` (\n",
    "  `match_id` INT NOT NULL,\n",
    "  `date` DATETIME NOT NULL,\n",
    "  `goals_home` INT NOT NULL,\n",
    "  `goals_away` INT NOT NULL,\n",
    "  `home_id` INT NOT NULL,\n",
    "  `away_id` INT NOT NULL,\n",
    "  `home_name` VARCHAR(45) NOT NULL,\n",
    "  `away_name` VARCHAR(45) NOT NULL,\n",
    "  PRIMARY KEY (`match_id`),\n",
    "  UNIQUE INDEX `match_id_UNIQUE` (`match_id` ASC))\n",
    "ENGINE = InnoDB\n",
    "DEFAULT CHARACTER SET = utf8;\n",
    "\"\"\")"
   ]
  },
  {
   "cell_type": "code",
   "execution_count": 17,
   "metadata": {},
   "outputs": [
    {
     "output_type": "execute_result",
     "data": {
      "text/plain": "<sqlalchemy.engine.result.ResultProxy at 0x1799fcb7888>"
     },
     "metadata": {},
     "execution_count": 17
    }
   ],
   "source": [
    "#Execute Query to create Table in DataBase\n",
    "con.execute(query)"
   ]
  },
  {
   "cell_type": "markdown",
   "metadata": {},
   "source": [
    "The 2nd table is used to store all statistical values for the probability functions. Every team with ID and name will be store and additionaly the statistical value \"lambda\" to create the Poission distributions. Furthermore I will add a column with the information if the statistics is for away or at home as the statistics will slightly be different."
   ]
  },
  {
   "cell_type": "code",
   "execution_count": 18,
   "metadata": {},
   "outputs": [],
   "source": [
    "query = text(\"\"\"\n",
    "CREATE TABLE `sportwetten`.`team_statistics` (\n",
    "  `team_id` INT NOT NULL,\n",
    "  `team_name` VARCHAR(45) NOT NULL,\n",
    "  `lambda_home` FLOAT NULL,\n",
    "  `lambda_away` FLOAT NULL,\n",
    "  PRIMARY KEY (`team_id`))\n",
    "ENGINE = InnoDB\n",
    "DEFAULT CHARACTER SET = utf8;\n",
    "\"\"\")"
   ]
  },
  {
   "cell_type": "code",
   "execution_count": 19,
   "metadata": {},
   "outputs": [
    {
     "output_type": "execute_result",
     "data": {
      "text/plain": "<sqlalchemy.engine.result.ResultProxy at 0x1799fcd7dc8>"
     },
     "metadata": {},
     "execution_count": 19
    }
   ],
   "source": [
    "#Execute Query to create Table in DataBase\n",
    "con.execute(query)"
   ]
  },
  {
   "cell_type": "markdown",
   "metadata": {},
   "source": [
    "The 3rd table will contain the test data. In this table the forecast will happen. It will look the same as the 1st table with the raw train data, just with additional columns to put in the betting quotes for the match (predicted and real)"
   ]
  },
  {
   "cell_type": "code",
   "execution_count": 20,
   "metadata": {},
   "outputs": [],
   "source": [
    "query = text(\"\"\"\n",
    "CREATE TABLE `sportwetten`.`betting_data` (\n",
    "  `match_id` INT NOT NULL,\n",
    "  `date` DATETIME NOT NULL,\n",
    "  `goals_home` INT NOT NULL,\n",
    "  `goals_away` INT NOT NULL,\n",
    "  `home_id` INT NOT NULL,\n",
    "  `away_id` INT NOT NULL,\n",
    "  `home_name` VARCHAR(45) NOT NULL,\n",
    "  `away_name` VARCHAR(45) NOT NULL,\n",
    "  `home_victory_pred` FLOAT NULL,\n",
    "  `away_victory_pred` FLOAT NULL,\n",
    "  `draw_pred` FLOAT NULL,\n",
    "  `home_victory_real` FLOAT NULL,\n",
    "  `away_victory_real` FLOAT NULL,\n",
    "  `draw_real` FLOAT NULL)\n",
    "ENGINE = InnoDB\n",
    "DEFAULT CHARACTER SET = utf8;\n",
    "\"\"\")"
   ]
  },
  {
   "cell_type": "code",
   "execution_count": 21,
   "metadata": {},
   "outputs": [
    {
     "output_type": "execute_result",
     "data": {
      "text/plain": "<sqlalchemy.engine.result.ResultProxy at 0x1799fcdbb08>"
     },
     "metadata": {},
     "execution_count": 21
    }
   ],
   "source": [
    "#Execute Query to create Table in DataBase\n",
    "con.execute(query)"
   ]
  },
  {
   "cell_type": "markdown",
   "metadata": {},
   "source": [
    "## Prefill of data into Database"
   ]
  },
  {
   "cell_type": "code",
   "execution_count": 22,
   "metadata": {},
   "outputs": [],
   "source": [
    "# Prefill data that is availabe\n",
    "train_set.to_sql(con=con, name='match_data', if_exists='append')\n",
    "\n",
    "test_set.to_sql(con=con, name='betting_data', if_exists='append')"
   ]
  },
  {
   "cell_type": "code",
   "execution_count": 23,
   "metadata": {},
   "outputs": [],
   "source": [
    "# Select only two columns of DF\n",
    "data = data_BL1_18_19_copy[['home_id', 'home_name']]\n",
    "data = data.rename(columns={\n",
    "    'home_id': 'team_id',\n",
    "    'home_name': 'team_name',\n",
    "    })\n",
    "\n",
    "# Drop duplicates\n",
    "data = data.drop_duplicates()\n",
    "\n",
    "# Set team_id as index (primary key)\n",
    "data = data.set_index('team_id')"
   ]
  },
  {
   "cell_type": "code",
   "execution_count": 24,
   "metadata": {},
   "outputs": [],
   "source": [
    "data.to_sql(con=con, name='team_statistics', if_exists='append')"
   ]
  },
  {
   "cell_type": "markdown",
   "metadata": {},
   "source": [
    "# Calculate statistical values and analyse them\n",
    "\n",
    "In the next step it is necessary to define what kind of probability distribution I should choose. There are two different kinds of random values of a distribution. A continuous and a discrete random variable. \n",
    "\n",
    "In the case of goals of a match, we have a discrete random variable and for such variables we are looking to find a distribution that gives every value a probability. In this case we are looking for a probability function. Possible probability functions are:\n",
    "\n",
    "- Bernoulli distribution\n",
    "- Binomial distribution\n",
    "- Poisson distribution\n",
    "\n",
    "As Bernoulli and Binomial distributions need probabilities for either success or fialure we need to drop those distributions as we don't have them. The Poisson distribution is regularly used when the attempts are high and the amounts of sucessful atempts low. In the case of football we have a lot ot atempts in a match (atempts to score a goal) but only a few succesfull ones (goals in a match).\n",
    "\n",
    "In this section I will perform the calculation of lambda for every team based on the train set for home and away situations as those will be different (teams are differently motivated by the fans at home and away)"
   ]
  },
  {
   "cell_type": "markdown",
   "metadata": {},
   "source": [
    "## Get the unique values of team ids"
   ]
  },
  {
   "cell_type": "code",
   "execution_count": 25,
   "metadata": {},
   "outputs": [
    {
     "output_type": "stream",
     "name": "stdout",
     "text": "[ 24   3   2  14 721  15  12  11   6  10  19   5  17  16   8  18   9   4]\n"
    }
   ],
   "source": [
    "unique_team_ids = train_set['home_id'].unique()\n",
    "print(unique_team_ids)"
   ]
  },
  {
   "cell_type": "markdown",
   "metadata": {},
   "source": [
    "## Get the home and away matches data for a specific team"
   ]
  },
  {
   "cell_type": "code",
   "execution_count": 26,
   "metadata": {},
   "outputs": [
    {
     "output_type": "execute_result",
     "data": {
      "text/plain": "                date  goals_home  goals_away  home_id  away_id    home_name  \\\nmatch_id                                                                      \n235709    2018-09-16           3           3       17       10  SC Freiburg   \n235790    2018-11-25           1           1       17       12  SC Freiburg   \n\n                 away_name  \nmatch_id                    \n235709       VfB Stuttgart  \n235790    SV Werder Bremen  ",
      "text/html": "<div>\n<style scoped>\n    .dataframe tbody tr th:only-of-type {\n        vertical-align: middle;\n    }\n\n    .dataframe tbody tr th {\n        vertical-align: top;\n    }\n\n    .dataframe thead th {\n        text-align: right;\n    }\n</style>\n<table border=\"1\" class=\"dataframe\">\n  <thead>\n    <tr style=\"text-align: right;\">\n      <th></th>\n      <th>date</th>\n      <th>goals_home</th>\n      <th>goals_away</th>\n      <th>home_id</th>\n      <th>away_id</th>\n      <th>home_name</th>\n      <th>away_name</th>\n    </tr>\n    <tr>\n      <th>match_id</th>\n      <th></th>\n      <th></th>\n      <th></th>\n      <th></th>\n      <th></th>\n      <th></th>\n      <th></th>\n    </tr>\n  </thead>\n  <tbody>\n    <tr>\n      <th>235709</th>\n      <td>2018-09-16</td>\n      <td>3</td>\n      <td>3</td>\n      <td>17</td>\n      <td>10</td>\n      <td>SC Freiburg</td>\n      <td>VfB Stuttgart</td>\n    </tr>\n    <tr>\n      <th>235790</th>\n      <td>2018-11-25</td>\n      <td>1</td>\n      <td>1</td>\n      <td>17</td>\n      <td>12</td>\n      <td>SC Freiburg</td>\n      <td>SV Werder Bremen</td>\n    </tr>\n  </tbody>\n</table>\n</div>"
     },
     "metadata": {},
     "execution_count": 26
    }
   ],
   "source": [
    "home_matches = train_set.loc[(train_set['home_id'] == 17)]\n",
    "home_matches.head(2)"
   ]
  },
  {
   "cell_type": "markdown",
   "metadata": {},
   "source": [
    "## Get all the away match data for a specific team"
   ]
  },
  {
   "cell_type": "code",
   "execution_count": 27,
   "metadata": {},
   "outputs": [
    {
     "output_type": "execute_result",
     "data": {
      "text/plain": "                date  goals_home  goals_away  home_id  away_id  \\\nmatch_id                                                         \n235978    2019-05-11           3           0        8       17   \n235839    2019-01-19           3           1       19       17   \n\n                    home_name    away_name  \nmatch_id                                    \n235978            Hannover 96  SC Freiburg  \n235839    Eintracht Frankfurt  SC Freiburg  ",
      "text/html": "<div>\n<style scoped>\n    .dataframe tbody tr th:only-of-type {\n        vertical-align: middle;\n    }\n\n    .dataframe tbody tr th {\n        vertical-align: top;\n    }\n\n    .dataframe thead th {\n        text-align: right;\n    }\n</style>\n<table border=\"1\" class=\"dataframe\">\n  <thead>\n    <tr style=\"text-align: right;\">\n      <th></th>\n      <th>date</th>\n      <th>goals_home</th>\n      <th>goals_away</th>\n      <th>home_id</th>\n      <th>away_id</th>\n      <th>home_name</th>\n      <th>away_name</th>\n    </tr>\n    <tr>\n      <th>match_id</th>\n      <th></th>\n      <th></th>\n      <th></th>\n      <th></th>\n      <th></th>\n      <th></th>\n      <th></th>\n    </tr>\n  </thead>\n  <tbody>\n    <tr>\n      <th>235978</th>\n      <td>2019-05-11</td>\n      <td>3</td>\n      <td>0</td>\n      <td>8</td>\n      <td>17</td>\n      <td>Hannover 96</td>\n      <td>SC Freiburg</td>\n    </tr>\n    <tr>\n      <th>235839</th>\n      <td>2019-01-19</td>\n      <td>3</td>\n      <td>1</td>\n      <td>19</td>\n      <td>17</td>\n      <td>Eintracht Frankfurt</td>\n      <td>SC Freiburg</td>\n    </tr>\n  </tbody>\n</table>\n</div>"
     },
     "metadata": {},
     "execution_count": 27
    }
   ],
   "source": [
    "away_matches = train_set.loc[(train_set['away_id'] == 17)]\n",
    "away_matches.head(2)"
   ]
  },
  {
   "cell_type": "markdown",
   "metadata": {},
   "source": [
    "## Calculate lambda for home matches\n",
    "The only statistical value that is needed for a Poission distribution is lambda. In order to calculate lambda we will assume that the expected value of goals is lambda (based on the theorie of the Poission distribution)"
   ]
  },
  {
   "cell_type": "code",
   "execution_count": 28,
   "metadata": {},
   "outputs": [
    {
     "output_type": "stream",
     "name": "stdout",
     "text": "1.8571428571428572\n"
    }
   ],
   "source": [
    "lambda_home = home_matches['goals_home'].sum() / len(home_matches['goals_home'])\n",
    "print(lambda_home)"
   ]
  },
  {
   "cell_type": "markdown",
   "metadata": {},
   "source": [
    "## Plot histogramm of goals per match, expected value of goals and poission density function"
   ]
  },
  {
   "cell_type": "code",
   "execution_count": 29,
   "metadata": {},
   "outputs": [
    {
     "output_type": "display_data",
     "data": {
      "text/plain": "<Figure size 864x504 with 1 Axes>",
      "image/svg+xml": "<?xml version=\"1.0\" encoding=\"utf-8\" standalone=\"no\"?>\r\n<!DOCTYPE svg PUBLIC \"-//W3C//DTD SVG 1.1//EN\"\r\n  \"http://www.w3.org/Graphics/SVG/1.1/DTD/svg11.dtd\">\r\n<!-- Created with matplotlib (https://matplotlib.org/) -->\r\n<svg height=\"444.189844pt\" version=\"1.1\" viewBox=\"0 0 714.907031 444.189844\" width=\"714.907031pt\" xmlns=\"http://www.w3.org/2000/svg\" xmlns:xlink=\"http://www.w3.org/1999/xlink\">\r\n <defs>\r\n  <style type=\"text/css\">\r\n*{stroke-linecap:butt;stroke-linejoin:round;}\r\n  </style>\r\n </defs>\r\n <g id=\"figure_1\">\r\n  <g id=\"patch_1\">\r\n   <path d=\"M 0 444.189844 \r\nL 714.907031 444.189844 \r\nL 714.907031 0 \r\nL 0 0 \r\nz\r\n\" style=\"fill:#ffffff;\"/>\r\n  </g>\r\n  <g id=\"axes_1\">\r\n   <g id=\"patch_2\">\r\n    <path d=\"M 38.107031 402.455625 \r\nL 707.707031 402.455625 \r\nL 707.707031 21.935625 \r\nL 38.107031 21.935625 \r\nz\r\n\" style=\"fill:#eaeaf2;\"/>\r\n   </g>\r\n   <g id=\"matplotlib.axis_1\">\r\n    <g id=\"xtick_1\">\r\n     <g id=\"line2d_1\">\r\n      <path clip-path=\"url(#paca29a353b)\" d=\"M 68.543395 402.455625 \r\nL 68.543395 21.935625 \r\n\" style=\"fill:none;stroke:#000000;stroke-linecap:round;stroke-opacity:0.3;stroke-width:0.25;\"/>\r\n     </g>\r\n     <g id=\"text_1\">\r\n      <!-- 0 -->\r\n      <defs>\r\n       <path d=\"M 4.15625 35.296875 \r\nQ 4.15625 48 6.765625 55.734375 \r\nQ 9.375 63.484375 14.515625 67.671875 \r\nQ 19.671875 71.875 27.484375 71.875 \r\nQ 33.25 71.875 37.59375 69.546875 \r\nQ 41.9375 67.234375 44.765625 62.859375 \r\nQ 47.609375 58.5 49.21875 52.21875 \r\nQ 50.828125 45.953125 50.828125 35.296875 \r\nQ 50.828125 22.703125 48.234375 14.96875 \r\nQ 45.65625 7.234375 40.5 3 \r\nQ 35.359375 -1.21875 27.484375 -1.21875 \r\nQ 17.140625 -1.21875 11.234375 6.203125 \r\nQ 4.15625 15.140625 4.15625 35.296875 \r\nz\r\nM 13.1875 35.296875 \r\nQ 13.1875 17.671875 17.3125 11.828125 \r\nQ 21.4375 6 27.484375 6 \r\nQ 33.546875 6 37.671875 11.859375 \r\nQ 41.796875 17.71875 41.796875 35.296875 \r\nQ 41.796875 52.984375 37.671875 58.78125 \r\nQ 33.546875 64.59375 27.390625 64.59375 \r\nQ 21.34375 64.59375 17.71875 59.46875 \r\nQ 13.1875 52.9375 13.1875 35.296875 \r\nz\r\n\" id=\"ArialMT-48\"/>\r\n      </defs>\r\n      <g style=\"fill:#262626;\" transform=\"translate(65.484879 419.829219)scale(0.11 -0.11)\">\r\n       <use xlink:href=\"#ArialMT-48\"/>\r\n      </g>\r\n     </g>\r\n    </g>\r\n    <g id=\"xtick_2\">\r\n     <g id=\"line2d_2\">\r\n      <path clip-path=\"url(#paca29a353b)\" d=\"M 191.518601 402.455625 \r\nL 191.518601 21.935625 \r\n\" style=\"fill:none;stroke:#000000;stroke-linecap:round;stroke-opacity:0.3;stroke-width:0.25;\"/>\r\n     </g>\r\n     <g id=\"text_2\">\r\n      <!-- 2 -->\r\n      <defs>\r\n       <path d=\"M 50.34375 8.453125 \r\nL 50.34375 0 \r\nL 3.03125 0 \r\nQ 2.9375 3.171875 4.046875 6.109375 \r\nQ 5.859375 10.9375 9.828125 15.625 \r\nQ 13.8125 20.3125 21.34375 26.46875 \r\nQ 33.015625 36.03125 37.109375 41.625 \r\nQ 41.21875 47.21875 41.21875 52.203125 \r\nQ 41.21875 57.421875 37.46875 61 \r\nQ 33.734375 64.59375 27.734375 64.59375 \r\nQ 21.390625 64.59375 17.578125 60.78125 \r\nQ 13.765625 56.984375 13.71875 50.25 \r\nL 4.6875 51.171875 \r\nQ 5.609375 61.28125 11.65625 66.578125 \r\nQ 17.71875 71.875 27.9375 71.875 \r\nQ 38.234375 71.875 44.234375 66.15625 \r\nQ 50.25 60.453125 50.25 52 \r\nQ 50.25 47.703125 48.484375 43.546875 \r\nQ 46.734375 39.40625 42.65625 34.8125 \r\nQ 38.578125 30.21875 29.109375 22.21875 \r\nQ 21.1875 15.578125 18.9375 13.203125 \r\nQ 16.703125 10.84375 15.234375 8.453125 \r\nz\r\n\" id=\"ArialMT-50\"/>\r\n      </defs>\r\n      <g style=\"fill:#262626;\" transform=\"translate(188.460086 419.829219)scale(0.11 -0.11)\">\r\n       <use xlink:href=\"#ArialMT-50\"/>\r\n      </g>\r\n     </g>\r\n    </g>\r\n    <g id=\"xtick_3\">\r\n     <g id=\"line2d_3\">\r\n      <path clip-path=\"url(#paca29a353b)\" d=\"M 314.493808 402.455625 \r\nL 314.493808 21.935625 \r\n\" style=\"fill:none;stroke:#000000;stroke-linecap:round;stroke-opacity:0.3;stroke-width:0.25;\"/>\r\n     </g>\r\n     <g id=\"text_3\">\r\n      <!-- 4 -->\r\n      <defs>\r\n       <path d=\"M 32.328125 0 \r\nL 32.328125 17.140625 \r\nL 1.265625 17.140625 \r\nL 1.265625 25.203125 \r\nL 33.9375 71.578125 \r\nL 41.109375 71.578125 \r\nL 41.109375 25.203125 \r\nL 50.78125 25.203125 \r\nL 50.78125 17.140625 \r\nL 41.109375 17.140625 \r\nL 41.109375 0 \r\nz\r\nM 32.328125 25.203125 \r\nL 32.328125 57.46875 \r\nL 9.90625 25.203125 \r\nz\r\n\" id=\"ArialMT-52\"/>\r\n      </defs>\r\n      <g style=\"fill:#262626;\" transform=\"translate(311.435292 419.829219)scale(0.11 -0.11)\">\r\n       <use xlink:href=\"#ArialMT-52\"/>\r\n      </g>\r\n     </g>\r\n    </g>\r\n    <g id=\"xtick_4\">\r\n     <g id=\"line2d_4\">\r\n      <path clip-path=\"url(#paca29a353b)\" d=\"M 437.469015 402.455625 \r\nL 437.469015 21.935625 \r\n\" style=\"fill:none;stroke:#000000;stroke-linecap:round;stroke-opacity:0.3;stroke-width:0.25;\"/>\r\n     </g>\r\n     <g id=\"text_4\">\r\n      <!-- 6 -->\r\n      <defs>\r\n       <path d=\"M 49.75 54.046875 \r\nL 41.015625 53.375 \r\nQ 39.84375 58.546875 37.703125 60.890625 \r\nQ 34.125 64.65625 28.90625 64.65625 \r\nQ 24.703125 64.65625 21.53125 62.3125 \r\nQ 17.390625 59.28125 14.984375 53.46875 \r\nQ 12.59375 47.65625 12.5 36.921875 \r\nQ 15.671875 41.75 20.265625 44.09375 \r\nQ 24.859375 46.4375 29.890625 46.4375 \r\nQ 38.671875 46.4375 44.84375 39.96875 \r\nQ 51.03125 33.5 51.03125 23.25 \r\nQ 51.03125 16.5 48.125 10.71875 \r\nQ 45.21875 4.9375 40.140625 1.859375 \r\nQ 35.0625 -1.21875 28.609375 -1.21875 \r\nQ 17.625 -1.21875 10.6875 6.859375 \r\nQ 3.765625 14.9375 3.765625 33.5 \r\nQ 3.765625 54.25 11.421875 63.671875 \r\nQ 18.109375 71.875 29.4375 71.875 \r\nQ 37.890625 71.875 43.28125 67.140625 \r\nQ 48.6875 62.40625 49.75 54.046875 \r\nz\r\nM 13.875 23.1875 \r\nQ 13.875 18.65625 15.796875 14.5 \r\nQ 17.71875 10.359375 21.1875 8.171875 \r\nQ 24.65625 6 28.46875 6 \r\nQ 34.03125 6 38.03125 10.484375 \r\nQ 42.046875 14.984375 42.046875 22.703125 \r\nQ 42.046875 30.125 38.078125 34.390625 \r\nQ 34.125 38.671875 28.125 38.671875 \r\nQ 22.171875 38.671875 18.015625 34.390625 \r\nQ 13.875 30.125 13.875 23.1875 \r\nz\r\n\" id=\"ArialMT-54\"/>\r\n      </defs>\r\n      <g style=\"fill:#262626;\" transform=\"translate(434.410499 419.829219)scale(0.11 -0.11)\">\r\n       <use xlink:href=\"#ArialMT-54\"/>\r\n      </g>\r\n     </g>\r\n    </g>\r\n    <g id=\"xtick_5\">\r\n     <g id=\"line2d_5\">\r\n      <path clip-path=\"url(#paca29a353b)\" d=\"M 560.444221 402.455625 \r\nL 560.444221 21.935625 \r\n\" style=\"fill:none;stroke:#000000;stroke-linecap:round;stroke-opacity:0.3;stroke-width:0.25;\"/>\r\n     </g>\r\n     <g id=\"text_5\">\r\n      <!-- 8 -->\r\n      <defs>\r\n       <path d=\"M 17.671875 38.8125 \r\nQ 12.203125 40.828125 9.5625 44.53125 \r\nQ 6.9375 48.25 6.9375 53.421875 \r\nQ 6.9375 61.234375 12.546875 66.546875 \r\nQ 18.171875 71.875 27.484375 71.875 \r\nQ 36.859375 71.875 42.578125 66.421875 \r\nQ 48.296875 60.984375 48.296875 53.171875 \r\nQ 48.296875 48.1875 45.671875 44.5 \r\nQ 43.0625 40.828125 37.75 38.8125 \r\nQ 44.34375 36.671875 47.78125 31.875 \r\nQ 51.21875 27.09375 51.21875 20.453125 \r\nQ 51.21875 11.28125 44.71875 5.03125 \r\nQ 38.234375 -1.21875 27.640625 -1.21875 \r\nQ 17.046875 -1.21875 10.546875 5.046875 \r\nQ 4.046875 11.328125 4.046875 20.703125 \r\nQ 4.046875 27.6875 7.59375 32.390625 \r\nQ 11.140625 37.109375 17.671875 38.8125 \r\nz\r\nM 15.921875 53.71875 \r\nQ 15.921875 48.640625 19.1875 45.40625 \r\nQ 22.46875 42.1875 27.6875 42.1875 \r\nQ 32.765625 42.1875 36.015625 45.375 \r\nQ 39.265625 48.578125 39.265625 53.21875 \r\nQ 39.265625 58.0625 35.90625 61.359375 \r\nQ 32.5625 64.65625 27.59375 64.65625 \r\nQ 22.5625 64.65625 19.234375 61.421875 \r\nQ 15.921875 58.203125 15.921875 53.71875 \r\nz\r\nM 13.09375 20.65625 \r\nQ 13.09375 16.890625 14.875 13.375 \r\nQ 16.65625 9.859375 20.171875 7.921875 \r\nQ 23.6875 6 27.734375 6 \r\nQ 34.03125 6 38.125 10.046875 \r\nQ 42.234375 14.109375 42.234375 20.359375 \r\nQ 42.234375 26.703125 38.015625 30.859375 \r\nQ 33.796875 35.015625 27.4375 35.015625 \r\nQ 21.234375 35.015625 17.15625 30.90625 \r\nQ 13.09375 26.8125 13.09375 20.65625 \r\nz\r\n\" id=\"ArialMT-56\"/>\r\n      </defs>\r\n      <g style=\"fill:#262626;\" transform=\"translate(557.385706 419.829219)scale(0.11 -0.11)\">\r\n       <use xlink:href=\"#ArialMT-56\"/>\r\n      </g>\r\n     </g>\r\n    </g>\r\n    <g id=\"xtick_6\">\r\n     <g id=\"line2d_6\">\r\n      <path clip-path=\"url(#paca29a353b)\" d=\"M 683.419428 402.455625 \r\nL 683.419428 21.935625 \r\n\" style=\"fill:none;stroke:#000000;stroke-linecap:round;stroke-opacity:0.3;stroke-width:0.25;\"/>\r\n     </g>\r\n     <g id=\"text_6\">\r\n      <!-- 10 -->\r\n      <defs>\r\n       <path d=\"M 37.25 0 \r\nL 28.46875 0 \r\nL 28.46875 56 \r\nQ 25.296875 52.984375 20.140625 49.953125 \r\nQ 14.984375 46.921875 10.890625 45.40625 \r\nL 10.890625 53.90625 \r\nQ 18.265625 57.375 23.78125 62.296875 \r\nQ 29.296875 67.234375 31.59375 71.875 \r\nL 37.25 71.875 \r\nz\r\n\" id=\"ArialMT-49\"/>\r\n      </defs>\r\n      <g style=\"fill:#262626;\" transform=\"translate(677.302397 419.829219)scale(0.11 -0.11)\">\r\n       <use xlink:href=\"#ArialMT-49\"/>\r\n       <use x=\"55.615234\" xlink:href=\"#ArialMT-48\"/>\r\n      </g>\r\n     </g>\r\n    </g>\r\n    <g id=\"text_7\">\r\n     <!-- Goals -->\r\n     <defs>\r\n      <path d=\"M 41.21875 28.078125 \r\nL 41.21875 36.46875 \r\nL 71.53125 36.53125 \r\nL 71.53125 9.96875 \r\nQ 64.546875 4.390625 57.125 1.578125 \r\nQ 49.703125 -1.21875 41.890625 -1.21875 \r\nQ 31.34375 -1.21875 22.71875 3.296875 \r\nQ 14.109375 7.8125 9.71875 16.359375 \r\nQ 5.328125 24.90625 5.328125 35.453125 \r\nQ 5.328125 45.90625 9.6875 54.953125 \r\nQ 14.0625 64.015625 22.265625 68.40625 \r\nQ 30.46875 72.796875 41.15625 72.796875 \r\nQ 48.921875 72.796875 55.1875 70.28125 \r\nQ 61.46875 67.78125 65.03125 63.28125 \r\nQ 68.609375 58.796875 70.453125 51.5625 \r\nL 61.921875 49.21875 \r\nQ 60.296875 54.6875 57.90625 57.8125 \r\nQ 55.515625 60.9375 51.0625 62.8125 \r\nQ 46.625 64.703125 41.21875 64.703125 \r\nQ 34.71875 64.703125 29.984375 62.71875 \r\nQ 25.25 60.75 22.34375 57.515625 \r\nQ 19.4375 54.296875 17.828125 50.4375 \r\nQ 15.09375 43.796875 15.09375 36.03125 \r\nQ 15.09375 26.46875 18.390625 20.015625 \r\nQ 21.6875 13.578125 27.984375 10.453125 \r\nQ 34.28125 7.328125 41.359375 7.328125 \r\nQ 47.515625 7.328125 53.375 9.6875 \r\nQ 59.234375 12.0625 62.25 14.75 \r\nL 62.25 28.078125 \r\nz\r\n\" id=\"ArialMT-71\"/>\r\n      <path d=\"M 3.328125 25.921875 \r\nQ 3.328125 40.328125 11.328125 47.265625 \r\nQ 18.015625 53.03125 27.640625 53.03125 \r\nQ 38.328125 53.03125 45.109375 46.015625 \r\nQ 51.90625 39.015625 51.90625 26.65625 \r\nQ 51.90625 16.65625 48.90625 10.90625 \r\nQ 45.90625 5.171875 40.15625 2 \r\nQ 34.421875 -1.171875 27.640625 -1.171875 \r\nQ 16.75 -1.171875 10.03125 5.8125 \r\nQ 3.328125 12.796875 3.328125 25.921875 \r\nz\r\nM 12.359375 25.921875 \r\nQ 12.359375 15.96875 16.703125 11.015625 \r\nQ 21.046875 6.0625 27.640625 6.0625 \r\nQ 34.1875 6.0625 38.53125 11.03125 \r\nQ 42.875 16.015625 42.875 26.21875 \r\nQ 42.875 35.84375 38.5 40.796875 \r\nQ 34.125 45.75 27.640625 45.75 \r\nQ 21.046875 45.75 16.703125 40.8125 \r\nQ 12.359375 35.890625 12.359375 25.921875 \r\nz\r\n\" id=\"ArialMT-111\"/>\r\n      <path d=\"M 40.4375 6.390625 \r\nQ 35.546875 2.25 31.03125 0.53125 \r\nQ 26.515625 -1.171875 21.34375 -1.171875 \r\nQ 12.796875 -1.171875 8.203125 3 \r\nQ 3.609375 7.171875 3.609375 13.671875 \r\nQ 3.609375 17.484375 5.34375 20.625 \r\nQ 7.078125 23.78125 9.890625 25.6875 \r\nQ 12.703125 27.59375 16.21875 28.5625 \r\nQ 18.796875 29.25 24.03125 29.890625 \r\nQ 34.671875 31.15625 39.703125 32.90625 \r\nQ 39.75 34.71875 39.75 35.203125 \r\nQ 39.75 40.578125 37.25 42.78125 \r\nQ 33.890625 45.75 27.25 45.75 \r\nQ 21.046875 45.75 18.09375 43.578125 \r\nQ 15.140625 41.40625 13.71875 35.890625 \r\nL 5.125 37.0625 \r\nQ 6.296875 42.578125 8.984375 45.96875 \r\nQ 11.671875 49.359375 16.75 51.1875 \r\nQ 21.828125 53.03125 28.515625 53.03125 \r\nQ 35.15625 53.03125 39.296875 51.46875 \r\nQ 43.453125 49.90625 45.40625 47.53125 \r\nQ 47.359375 45.171875 48.140625 41.546875 \r\nQ 48.578125 39.3125 48.578125 33.453125 \r\nL 48.578125 21.734375 \r\nQ 48.578125 9.46875 49.140625 6.21875 \r\nQ 49.703125 2.984375 51.375 0 \r\nL 42.1875 0 \r\nQ 40.828125 2.734375 40.4375 6.390625 \r\nz\r\nM 39.703125 26.03125 \r\nQ 34.90625 24.078125 25.34375 22.703125 \r\nQ 19.921875 21.921875 17.671875 20.9375 \r\nQ 15.4375 19.96875 14.203125 18.09375 \r\nQ 12.984375 16.21875 12.984375 13.921875 \r\nQ 12.984375 10.40625 15.640625 8.0625 \r\nQ 18.3125 5.71875 23.4375 5.71875 \r\nQ 28.515625 5.71875 32.46875 7.9375 \r\nQ 36.421875 10.15625 38.28125 14.015625 \r\nQ 39.703125 17 39.703125 22.796875 \r\nz\r\n\" id=\"ArialMT-97\"/>\r\n      <path d=\"M 6.390625 0 \r\nL 6.390625 71.578125 \r\nL 15.1875 71.578125 \r\nL 15.1875 0 \r\nz\r\n\" id=\"ArialMT-108\"/>\r\n      <path d=\"M 3.078125 15.484375 \r\nL 11.765625 16.84375 \r\nQ 12.5 11.625 15.84375 8.84375 \r\nQ 19.1875 6.0625 25.203125 6.0625 \r\nQ 31.25 6.0625 34.171875 8.515625 \r\nQ 37.109375 10.984375 37.109375 14.3125 \r\nQ 37.109375 17.28125 34.515625 19 \r\nQ 32.71875 20.171875 25.53125 21.96875 \r\nQ 15.875 24.421875 12.140625 26.203125 \r\nQ 8.40625 27.984375 6.46875 31.125 \r\nQ 4.546875 34.28125 4.546875 38.09375 \r\nQ 4.546875 41.546875 6.125 44.5 \r\nQ 7.71875 47.46875 10.453125 49.421875 \r\nQ 12.5 50.921875 16.03125 51.96875 \r\nQ 19.578125 53.03125 23.640625 53.03125 \r\nQ 29.734375 53.03125 34.34375 51.265625 \r\nQ 38.96875 49.515625 41.15625 46.5 \r\nQ 43.359375 43.5 44.1875 38.484375 \r\nL 35.59375 37.3125 \r\nQ 35.015625 41.3125 32.203125 43.546875 \r\nQ 29.390625 45.796875 24.265625 45.796875 \r\nQ 18.21875 45.796875 15.625 43.796875 \r\nQ 13.03125 41.796875 13.03125 39.109375 \r\nQ 13.03125 37.40625 14.109375 36.03125 \r\nQ 15.1875 34.625 17.484375 33.6875 \r\nQ 18.796875 33.203125 25.25 31.453125 \r\nQ 34.578125 28.953125 38.25 27.359375 \r\nQ 41.9375 25.78125 44.03125 22.75 \r\nQ 46.140625 19.734375 46.140625 15.234375 \r\nQ 46.140625 10.84375 43.578125 6.953125 \r\nQ 41.015625 3.078125 36.171875 0.953125 \r\nQ 31.34375 -1.171875 25.25 -1.171875 \r\nQ 15.140625 -1.171875 9.84375 3.03125 \r\nQ 4.546875 7.234375 3.078125 15.484375 \r\nz\r\n\" id=\"ArialMT-115\"/>\r\n     </defs>\r\n     <g style=\"fill:#262626;\" transform=\"translate(357.233906 434.604844)scale(0.12 -0.12)\">\r\n      <use xlink:href=\"#ArialMT-71\"/>\r\n      <use x=\"77.783203\" xlink:href=\"#ArialMT-111\"/>\r\n      <use x=\"133.398438\" xlink:href=\"#ArialMT-97\"/>\r\n      <use x=\"189.013672\" xlink:href=\"#ArialMT-108\"/>\r\n      <use x=\"211.230469\" xlink:href=\"#ArialMT-115\"/>\r\n     </g>\r\n    </g>\r\n   </g>\r\n   <g id=\"matplotlib.axis_2\">\r\n    <g id=\"ytick_1\">\r\n     <g id=\"line2d_7\">\r\n      <path clip-path=\"url(#paca29a353b)\" d=\"M 38.107031 402.455625 \r\nL 707.707031 402.455625 \r\n\" style=\"fill:none;stroke:#000000;stroke-linecap:round;stroke-opacity:0.3;stroke-width:0.25;\"/>\r\n     </g>\r\n     <g id=\"text_8\">\r\n      <!-- 0.00 -->\r\n      <defs>\r\n       <path d=\"M 9.078125 0 \r\nL 9.078125 10.015625 \r\nL 19.09375 10.015625 \r\nL 19.09375 0 \r\nz\r\n\" id=\"ArialMT-46\"/>\r\n      </defs>\r\n      <g style=\"fill:#262626;\" transform=\"translate(7.2 406.392422)scale(0.11 -0.11)\">\r\n       <use xlink:href=\"#ArialMT-48\"/>\r\n       <use x=\"55.615234\" xlink:href=\"#ArialMT-46\"/>\r\n       <use x=\"83.398438\" xlink:href=\"#ArialMT-48\"/>\r\n       <use x=\"139.013672\" xlink:href=\"#ArialMT-48\"/>\r\n      </g>\r\n     </g>\r\n    </g>\r\n    <g id=\"ytick_2\">\r\n     <g id=\"line2d_8\">\r\n      <path clip-path=\"url(#paca29a353b)\" d=\"M 38.107031 360.175625 \r\nL 707.707031 360.175625 \r\n\" style=\"fill:none;stroke:#000000;stroke-linecap:round;stroke-opacity:0.3;stroke-width:0.25;\"/>\r\n     </g>\r\n     <g id=\"text_9\">\r\n      <!-- 0.05 -->\r\n      <defs>\r\n       <path d=\"M 4.15625 18.75 \r\nL 13.375 19.53125 \r\nQ 14.40625 12.796875 18.140625 9.390625 \r\nQ 21.875 6 27.15625 6 \r\nQ 33.5 6 37.890625 10.78125 \r\nQ 42.28125 15.578125 42.28125 23.484375 \r\nQ 42.28125 31 38.0625 35.34375 \r\nQ 33.84375 39.703125 27 39.703125 \r\nQ 22.75 39.703125 19.328125 37.765625 \r\nQ 15.921875 35.84375 13.96875 32.765625 \r\nL 5.71875 33.84375 \r\nL 12.640625 70.609375 \r\nL 48.25 70.609375 \r\nL 48.25 62.203125 \r\nL 19.671875 62.203125 \r\nL 15.828125 42.96875 \r\nQ 22.265625 47.46875 29.34375 47.46875 \r\nQ 38.71875 47.46875 45.15625 40.96875 \r\nQ 51.609375 34.46875 51.609375 24.265625 \r\nQ 51.609375 14.546875 45.953125 7.46875 \r\nQ 39.0625 -1.21875 27.15625 -1.21875 \r\nQ 17.390625 -1.21875 11.203125 4.25 \r\nQ 5.03125 9.71875 4.15625 18.75 \r\nz\r\n\" id=\"ArialMT-53\"/>\r\n      </defs>\r\n      <g style=\"fill:#262626;\" transform=\"translate(7.2 364.112422)scale(0.11 -0.11)\">\r\n       <use xlink:href=\"#ArialMT-48\"/>\r\n       <use x=\"55.615234\" xlink:href=\"#ArialMT-46\"/>\r\n       <use x=\"83.398438\" xlink:href=\"#ArialMT-48\"/>\r\n       <use x=\"139.013672\" xlink:href=\"#ArialMT-53\"/>\r\n      </g>\r\n     </g>\r\n    </g>\r\n    <g id=\"ytick_3\">\r\n     <g id=\"line2d_9\">\r\n      <path clip-path=\"url(#paca29a353b)\" d=\"M 38.107031 317.895625 \r\nL 707.707031 317.895625 \r\n\" style=\"fill:none;stroke:#000000;stroke-linecap:round;stroke-opacity:0.3;stroke-width:0.25;\"/>\r\n     </g>\r\n     <g id=\"text_10\">\r\n      <!-- 0.10 -->\r\n      <g style=\"fill:#262626;\" transform=\"translate(7.2 321.832422)scale(0.11 -0.11)\">\r\n       <use xlink:href=\"#ArialMT-48\"/>\r\n       <use x=\"55.615234\" xlink:href=\"#ArialMT-46\"/>\r\n       <use x=\"83.398438\" xlink:href=\"#ArialMT-49\"/>\r\n       <use x=\"139.013672\" xlink:href=\"#ArialMT-48\"/>\r\n      </g>\r\n     </g>\r\n    </g>\r\n    <g id=\"ytick_4\">\r\n     <g id=\"line2d_10\">\r\n      <path clip-path=\"url(#paca29a353b)\" d=\"M 38.107031 275.615625 \r\nL 707.707031 275.615625 \r\n\" style=\"fill:none;stroke:#000000;stroke-linecap:round;stroke-opacity:0.3;stroke-width:0.25;\"/>\r\n     </g>\r\n     <g id=\"text_11\">\r\n      <!-- 0.15 -->\r\n      <g style=\"fill:#262626;\" transform=\"translate(7.2 279.552422)scale(0.11 -0.11)\">\r\n       <use xlink:href=\"#ArialMT-48\"/>\r\n       <use x=\"55.615234\" xlink:href=\"#ArialMT-46\"/>\r\n       <use x=\"83.398438\" xlink:href=\"#ArialMT-49\"/>\r\n       <use x=\"139.013672\" xlink:href=\"#ArialMT-53\"/>\r\n      </g>\r\n     </g>\r\n    </g>\r\n    <g id=\"ytick_5\">\r\n     <g id=\"line2d_11\">\r\n      <path clip-path=\"url(#paca29a353b)\" d=\"M 38.107031 233.335625 \r\nL 707.707031 233.335625 \r\n\" style=\"fill:none;stroke:#000000;stroke-linecap:round;stroke-opacity:0.3;stroke-width:0.25;\"/>\r\n     </g>\r\n     <g id=\"text_12\">\r\n      <!-- 0.20 -->\r\n      <g style=\"fill:#262626;\" transform=\"translate(7.2 237.272422)scale(0.11 -0.11)\">\r\n       <use xlink:href=\"#ArialMT-48\"/>\r\n       <use x=\"55.615234\" xlink:href=\"#ArialMT-46\"/>\r\n       <use x=\"83.398438\" xlink:href=\"#ArialMT-50\"/>\r\n       <use x=\"139.013672\" xlink:href=\"#ArialMT-48\"/>\r\n      </g>\r\n     </g>\r\n    </g>\r\n    <g id=\"ytick_6\">\r\n     <g id=\"line2d_12\">\r\n      <path clip-path=\"url(#paca29a353b)\" d=\"M 38.107031 191.055625 \r\nL 707.707031 191.055625 \r\n\" style=\"fill:none;stroke:#000000;stroke-linecap:round;stroke-opacity:0.3;stroke-width:0.25;\"/>\r\n     </g>\r\n     <g id=\"text_13\">\r\n      <!-- 0.25 -->\r\n      <g style=\"fill:#262626;\" transform=\"translate(7.2 194.992422)scale(0.11 -0.11)\">\r\n       <use xlink:href=\"#ArialMT-48\"/>\r\n       <use x=\"55.615234\" xlink:href=\"#ArialMT-46\"/>\r\n       <use x=\"83.398438\" xlink:href=\"#ArialMT-50\"/>\r\n       <use x=\"139.013672\" xlink:href=\"#ArialMT-53\"/>\r\n      </g>\r\n     </g>\r\n    </g>\r\n    <g id=\"ytick_7\">\r\n     <g id=\"line2d_13\">\r\n      <path clip-path=\"url(#paca29a353b)\" d=\"M 38.107031 148.775625 \r\nL 707.707031 148.775625 \r\n\" style=\"fill:none;stroke:#000000;stroke-linecap:round;stroke-opacity:0.3;stroke-width:0.25;\"/>\r\n     </g>\r\n     <g id=\"text_14\">\r\n      <!-- 0.30 -->\r\n      <defs>\r\n       <path d=\"M 4.203125 18.890625 \r\nL 12.984375 20.0625 \r\nQ 14.5 12.59375 18.140625 9.296875 \r\nQ 21.78125 6 27 6 \r\nQ 33.203125 6 37.46875 10.296875 \r\nQ 41.75 14.59375 41.75 20.953125 \r\nQ 41.75 27 37.796875 30.921875 \r\nQ 33.84375 34.859375 27.734375 34.859375 \r\nQ 25.25 34.859375 21.53125 33.890625 \r\nL 22.515625 41.609375 \r\nQ 23.390625 41.5 23.921875 41.5 \r\nQ 29.546875 41.5 34.03125 44.421875 \r\nQ 38.53125 47.359375 38.53125 53.46875 \r\nQ 38.53125 58.296875 35.25 61.46875 \r\nQ 31.984375 64.65625 26.8125 64.65625 \r\nQ 21.6875 64.65625 18.265625 61.421875 \r\nQ 14.84375 58.203125 13.875 51.765625 \r\nL 5.078125 53.328125 \r\nQ 6.6875 62.15625 12.390625 67.015625 \r\nQ 18.109375 71.875 26.609375 71.875 \r\nQ 32.46875 71.875 37.390625 69.359375 \r\nQ 42.328125 66.84375 44.9375 62.5 \r\nQ 47.5625 58.15625 47.5625 53.265625 \r\nQ 47.5625 48.640625 45.0625 44.828125 \r\nQ 42.578125 41.015625 37.703125 38.765625 \r\nQ 44.046875 37.3125 47.5625 32.6875 \r\nQ 51.078125 28.078125 51.078125 21.140625 \r\nQ 51.078125 11.765625 44.234375 5.25 \r\nQ 37.40625 -1.265625 26.953125 -1.265625 \r\nQ 17.53125 -1.265625 11.296875 4.34375 \r\nQ 5.078125 9.96875 4.203125 18.890625 \r\nz\r\n\" id=\"ArialMT-51\"/>\r\n      </defs>\r\n      <g style=\"fill:#262626;\" transform=\"translate(7.2 152.712422)scale(0.11 -0.11)\">\r\n       <use xlink:href=\"#ArialMT-48\"/>\r\n       <use x=\"55.615234\" xlink:href=\"#ArialMT-46\"/>\r\n       <use x=\"83.398438\" xlink:href=\"#ArialMT-51\"/>\r\n       <use x=\"139.013672\" xlink:href=\"#ArialMT-48\"/>\r\n      </g>\r\n     </g>\r\n    </g>\r\n    <g id=\"ytick_8\">\r\n     <g id=\"line2d_14\">\r\n      <path clip-path=\"url(#paca29a353b)\" d=\"M 38.107031 106.495625 \r\nL 707.707031 106.495625 \r\n\" style=\"fill:none;stroke:#000000;stroke-linecap:round;stroke-opacity:0.3;stroke-width:0.25;\"/>\r\n     </g>\r\n     <g id=\"text_15\">\r\n      <!-- 0.35 -->\r\n      <g style=\"fill:#262626;\" transform=\"translate(7.2 110.432422)scale(0.11 -0.11)\">\r\n       <use xlink:href=\"#ArialMT-48\"/>\r\n       <use x=\"55.615234\" xlink:href=\"#ArialMT-46\"/>\r\n       <use x=\"83.398438\" xlink:href=\"#ArialMT-51\"/>\r\n       <use x=\"139.013672\" xlink:href=\"#ArialMT-53\"/>\r\n      </g>\r\n     </g>\r\n    </g>\r\n    <g id=\"ytick_9\">\r\n     <g id=\"line2d_15\">\r\n      <path clip-path=\"url(#paca29a353b)\" d=\"M 38.107031 64.215625 \r\nL 707.707031 64.215625 \r\n\" style=\"fill:none;stroke:#000000;stroke-linecap:round;stroke-opacity:0.3;stroke-width:0.25;\"/>\r\n     </g>\r\n     <g id=\"text_16\">\r\n      <!-- 0.40 -->\r\n      <g style=\"fill:#262626;\" transform=\"translate(7.2 68.152422)scale(0.11 -0.11)\">\r\n       <use xlink:href=\"#ArialMT-48\"/>\r\n       <use x=\"55.615234\" xlink:href=\"#ArialMT-46\"/>\r\n       <use x=\"83.398438\" xlink:href=\"#ArialMT-52\"/>\r\n       <use x=\"139.013672\" xlink:href=\"#ArialMT-48\"/>\r\n      </g>\r\n     </g>\r\n    </g>\r\n    <g id=\"ytick_10\">\r\n     <g id=\"line2d_16\">\r\n      <path clip-path=\"url(#paca29a353b)\" d=\"M 38.107031 21.935625 \r\nL 707.707031 21.935625 \r\n\" style=\"fill:none;stroke:#000000;stroke-linecap:round;stroke-opacity:0.3;stroke-width:0.25;\"/>\r\n     </g>\r\n     <g id=\"text_17\">\r\n      <!-- 0.45 -->\r\n      <g style=\"fill:#262626;\" transform=\"translate(7.2 25.872422)scale(0.11 -0.11)\">\r\n       <use xlink:href=\"#ArialMT-48\"/>\r\n       <use x=\"55.615234\" xlink:href=\"#ArialMT-46\"/>\r\n       <use x=\"83.398438\" xlink:href=\"#ArialMT-52\"/>\r\n       <use x=\"139.013672\" xlink:href=\"#ArialMT-53\"/>\r\n      </g>\r\n     </g>\r\n    </g>\r\n   </g>\r\n   <g id=\"patch_3\">\r\n    <path clip-path=\"url(#paca29a353b)\" d=\"M 68.543395 402.455625 \r\nL 119.783064 402.455625 \r\nL 119.783064 185.015625 \r\nL 68.543395 185.015625 \r\nz\r\n\" style=\"fill:#add8e6;stroke:#ffffff;stroke-linejoin:miter;stroke-width:0.4;\"/>\r\n   </g>\r\n   <g id=\"patch_4\">\r\n    <path clip-path=\"url(#paca29a353b)\" d=\"M 119.783064 402.455625 \r\nL 171.022734 402.455625 \r\nL 171.022734 40.055625 \r\nL 119.783064 40.055625 \r\nz\r\n\" style=\"fill:#add8e6;stroke:#ffffff;stroke-linejoin:miter;stroke-width:0.4;\"/>\r\n   </g>\r\n   <g id=\"patch_5\">\r\n    <path clip-path=\"url(#paca29a353b)\" d=\"M 171.022734 402.455625 \r\nL 222.262403 402.455625 \r\nL 222.262403 329.975625 \r\nL 171.022734 329.975625 \r\nz\r\n\" style=\"fill:#add8e6;stroke:#ffffff;stroke-linejoin:miter;stroke-width:0.4;\"/>\r\n   </g>\r\n   <g id=\"patch_6\">\r\n    <path clip-path=\"url(#paca29a353b)\" d=\"M 222.262403 402.455625 \r\nL 273.502073 402.455625 \r\nL 273.502073 185.015625 \r\nL 222.262403 185.015625 \r\nz\r\n\" style=\"fill:#add8e6;stroke:#ffffff;stroke-linejoin:miter;stroke-width:0.4;\"/>\r\n   </g>\r\n   <g id=\"patch_7\">\r\n    <path clip-path=\"url(#paca29a353b)\" d=\"M 273.502073 402.455625 \r\nL 324.741742 402.455625 \r\nL 324.741742 402.455625 \r\nL 273.502073 402.455625 \r\nz\r\n\" style=\"fill:#add8e6;stroke:#ffffff;stroke-linejoin:miter;stroke-width:0.4;\"/>\r\n   </g>\r\n   <g id=\"patch_8\">\r\n    <path clip-path=\"url(#paca29a353b)\" d=\"M 324.741742 402.455625 \r\nL 375.981411 402.455625 \r\nL 375.981411 257.495625 \r\nL 324.741742 257.495625 \r\nz\r\n\" style=\"fill:#add8e6;stroke:#ffffff;stroke-linejoin:miter;stroke-width:0.4;\"/>\r\n   </g>\r\n   <g id=\"line2d_17\">\r\n    <defs>\r\n     <path d=\"M -3 3 \r\nL 3 3 \r\nL 3 -3 \r\nL -3 -3 \r\nz\r\n\" id=\"m81fc40d993\" style=\"stroke:#800000;stroke-linejoin:miter;stroke-opacity:0.5;\"/>\r\n    </defs>\r\n    <g clip-path=\"url(#paca29a353b)\">\r\n     <use style=\"fill:#800000;fill-opacity:0.5;stroke:#800000;stroke-linejoin:miter;stroke-opacity:0.5;\" x=\"68.543395\" xlink:href=\"#m81fc40d993\" y=\"270.442206\"/>\r\n     <use style=\"fill:#800000;fill-opacity:0.5;stroke:#800000;stroke-linejoin:miter;stroke-opacity:0.5;\" x=\"74.692155\" xlink:href=\"#m81fc40d993\" y=\"254.829936\"/>\r\n     <use style=\"fill:#800000;fill-opacity:0.5;stroke:#800000;stroke-linejoin:miter;stroke-opacity:0.5;\" x=\"80.840916\" xlink:href=\"#m81fc40d993\" y=\"239.726744\"/>\r\n     <use style=\"fill:#800000;fill-opacity:0.5;stroke:#800000;stroke-linejoin:miter;stroke-opacity:0.5;\" x=\"86.989676\" xlink:href=\"#m81fc40d993\" y=\"225.342235\"/>\r\n     <use style=\"fill:#800000;fill-opacity:0.5;stroke:#800000;stroke-linejoin:miter;stroke-opacity:0.5;\" x=\"93.138436\" xlink:href=\"#m81fc40d993\" y=\"211.864167\"/>\r\n     <use style=\"fill:#800000;fill-opacity:0.5;stroke:#800000;stroke-linejoin:miter;stroke-opacity:0.5;\" x=\"99.287197\" xlink:href=\"#m81fc40d993\" y=\"199.455739\"/>\r\n     <use style=\"fill:#800000;fill-opacity:0.5;stroke:#800000;stroke-linejoin:miter;stroke-opacity:0.5;\" x=\"105.435957\" xlink:href=\"#m81fc40d993\" y=\"188.253759\"/>\r\n     <use style=\"fill:#800000;fill-opacity:0.5;stroke:#800000;stroke-linejoin:miter;stroke-opacity:0.5;\" x=\"111.584717\" xlink:href=\"#m81fc40d993\" y=\"178.36765\"/>\r\n     <use style=\"fill:#800000;fill-opacity:0.5;stroke:#800000;stroke-linejoin:miter;stroke-opacity:0.5;\" x=\"117.733478\" xlink:href=\"#m81fc40d993\" y=\"169.879215\"/>\r\n     <use style=\"fill:#800000;fill-opacity:0.5;stroke:#800000;stroke-linejoin:miter;stroke-opacity:0.5;\" x=\"123.882238\" xlink:href=\"#m81fc40d993\" y=\"162.8431\"/>\r\n     <use style=\"fill:#800000;fill-opacity:0.5;stroke:#800000;stroke-linejoin:miter;stroke-opacity:0.5;\" x=\"130.030998\" xlink:href=\"#m81fc40d993\" y=\"157.287847\"/>\r\n     <use style=\"fill:#800000;fill-opacity:0.5;stroke:#800000;stroke-linejoin:miter;stroke-opacity:0.5;\" x=\"136.179759\" xlink:href=\"#m81fc40d993\" y=\"153.217449\"/>\r\n     <use style=\"fill:#800000;fill-opacity:0.5;stroke:#800000;stroke-linejoin:miter;stroke-opacity:0.5;\" x=\"142.328519\" xlink:href=\"#m81fc40d993\" y=\"150.613309\"/>\r\n     <use style=\"fill:#800000;fill-opacity:0.5;stroke:#800000;stroke-linejoin:miter;stroke-opacity:0.5;\" x=\"148.477279\" xlink:href=\"#m81fc40d993\" y=\"149.436496\"/>\r\n     <use style=\"fill:#800000;fill-opacity:0.5;stroke:#800000;stroke-linejoin:miter;stroke-opacity:0.5;\" x=\"154.62604\" xlink:href=\"#m81fc40d993\" y=\"149.630221\"/>\r\n     <use style=\"fill:#800000;fill-opacity:0.5;stroke:#800000;stroke-linejoin:miter;stroke-opacity:0.5;\" x=\"160.7748\" xlink:href=\"#m81fc40d993\" y=\"151.122432\"/>\r\n     <use style=\"fill:#800000;fill-opacity:0.5;stroke:#800000;stroke-linejoin:miter;stroke-opacity:0.5;\" x=\"166.92356\" xlink:href=\"#m81fc40d993\" y=\"153.828459\"/>\r\n     <use style=\"fill:#800000;fill-opacity:0.5;stroke:#800000;stroke-linejoin:miter;stroke-opacity:0.5;\" x=\"173.072321\" xlink:href=\"#m81fc40d993\" y=\"157.653635\"/>\r\n     <use style=\"fill:#800000;fill-opacity:0.5;stroke:#800000;stroke-linejoin:miter;stroke-opacity:0.5;\" x=\"179.221081\" xlink:href=\"#m81fc40d993\" y=\"162.495837\"/>\r\n     <use style=\"fill:#800000;fill-opacity:0.5;stroke:#800000;stroke-linejoin:miter;stroke-opacity:0.5;\" x=\"185.369841\" xlink:href=\"#m81fc40d993\" y=\"168.247893\"/>\r\n     <use style=\"fill:#800000;fill-opacity:0.5;stroke:#800000;stroke-linejoin:miter;stroke-opacity:0.5;\" x=\"191.518601\" xlink:href=\"#m81fc40d993\" y=\"174.799831\"/>\r\n     <use style=\"fill:#800000;fill-opacity:0.5;stroke:#800000;stroke-linejoin:miter;stroke-opacity:0.5;\" x=\"197.667362\" xlink:href=\"#m81fc40d993\" y=\"182.040912\"/>\r\n     <use style=\"fill:#800000;fill-opacity:0.5;stroke:#800000;stroke-linejoin:miter;stroke-opacity:0.5;\" x=\"203.816122\" xlink:href=\"#m81fc40d993\" y=\"189.861462\"/>\r\n     <use style=\"fill:#800000;fill-opacity:0.5;stroke:#800000;stroke-linejoin:miter;stroke-opacity:0.5;\" x=\"209.964882\" xlink:href=\"#m81fc40d993\" y=\"198.154465\"/>\r\n     <use style=\"fill:#800000;fill-opacity:0.5;stroke:#800000;stroke-linejoin:miter;stroke-opacity:0.5;\" x=\"216.113643\" xlink:href=\"#m81fc40d993\" y=\"206.81692\"/>\r\n     <use style=\"fill:#800000;fill-opacity:0.5;stroke:#800000;stroke-linejoin:miter;stroke-opacity:0.5;\" x=\"222.262403\" xlink:href=\"#m81fc40d993\" y=\"215.750968\"/>\r\n     <use style=\"fill:#800000;fill-opacity:0.5;stroke:#800000;stroke-linejoin:miter;stroke-opacity:0.5;\" x=\"228.411163\" xlink:href=\"#m81fc40d993\" y=\"224.864792\"/>\r\n     <use style=\"fill:#800000;fill-opacity:0.5;stroke:#800000;stroke-linejoin:miter;stroke-opacity:0.5;\" x=\"234.559924\" xlink:href=\"#m81fc40d993\" y=\"234.073304\"/>\r\n     <use style=\"fill:#800000;fill-opacity:0.5;stroke:#800000;stroke-linejoin:miter;stroke-opacity:0.5;\" x=\"240.708684\" xlink:href=\"#m81fc40d993\" y=\"243.298623\"/>\r\n     <use style=\"fill:#800000;fill-opacity:0.5;stroke:#800000;stroke-linejoin:miter;stroke-opacity:0.5;\" x=\"246.857444\" xlink:href=\"#m81fc40d993\" y=\"252.470378\"/>\r\n     <use style=\"fill:#800000;fill-opacity:0.5;stroke:#800000;stroke-linejoin:miter;stroke-opacity:0.5;\" x=\"253.006205\" xlink:href=\"#m81fc40d993\" y=\"261.525848\"/>\r\n     <use style=\"fill:#800000;fill-opacity:0.5;stroke:#800000;stroke-linejoin:miter;stroke-opacity:0.5;\" x=\"259.154965\" xlink:href=\"#m81fc40d993\" y=\"270.409944\"/>\r\n     <use style=\"fill:#800000;fill-opacity:0.5;stroke:#800000;stroke-linejoin:miter;stroke-opacity:0.5;\" x=\"265.303725\" xlink:href=\"#m81fc40d993\" y=\"279.075084\"/>\r\n     <use style=\"fill:#800000;fill-opacity:0.5;stroke:#800000;stroke-linejoin:miter;stroke-opacity:0.5;\" x=\"271.452486\" xlink:href=\"#m81fc40d993\" y=\"287.480946\"/>\r\n     <use style=\"fill:#800000;fill-opacity:0.5;stroke:#800000;stroke-linejoin:miter;stroke-opacity:0.5;\" x=\"277.601246\" xlink:href=\"#m81fc40d993\" y=\"295.594147\"/>\r\n     <use style=\"fill:#800000;fill-opacity:0.5;stroke:#800000;stroke-linejoin:miter;stroke-opacity:0.5;\" x=\"283.750006\" xlink:href=\"#m81fc40d993\" y=\"303.387848\"/>\r\n     <use style=\"fill:#800000;fill-opacity:0.5;stroke:#800000;stroke-linejoin:miter;stroke-opacity:0.5;\" x=\"289.898767\" xlink:href=\"#m81fc40d993\" y=\"310.841307\"/>\r\n     <use style=\"fill:#800000;fill-opacity:0.5;stroke:#800000;stroke-linejoin:miter;stroke-opacity:0.5;\" x=\"296.047527\" xlink:href=\"#m81fc40d993\" y=\"317.939402\"/>\r\n     <use style=\"fill:#800000;fill-opacity:0.5;stroke:#800000;stroke-linejoin:miter;stroke-opacity:0.5;\" x=\"302.196287\" xlink:href=\"#m81fc40d993\" y=\"324.672128\"/>\r\n     <use style=\"fill:#800000;fill-opacity:0.5;stroke:#800000;stroke-linejoin:miter;stroke-opacity:0.5;\" x=\"308.345048\" xlink:href=\"#m81fc40d993\" y=\"331.034079\"/>\r\n     <use style=\"fill:#800000;fill-opacity:0.5;stroke:#800000;stroke-linejoin:miter;stroke-opacity:0.5;\" x=\"314.493808\" xlink:href=\"#m81fc40d993\" y=\"337.023943\"/>\r\n     <use style=\"fill:#800000;fill-opacity:0.5;stroke:#800000;stroke-linejoin:miter;stroke-opacity:0.5;\" x=\"320.642568\" xlink:href=\"#m81fc40d993\" y=\"342.643993\"/>\r\n     <use style=\"fill:#800000;fill-opacity:0.5;stroke:#800000;stroke-linejoin:miter;stroke-opacity:0.5;\" x=\"326.791329\" xlink:href=\"#m81fc40d993\" y=\"347.899604\"/>\r\n     <use style=\"fill:#800000;fill-opacity:0.5;stroke:#800000;stroke-linejoin:miter;stroke-opacity:0.5;\" x=\"332.940089\" xlink:href=\"#m81fc40d993\" y=\"352.798787\"/>\r\n     <use style=\"fill:#800000;fill-opacity:0.5;stroke:#800000;stroke-linejoin:miter;stroke-opacity:0.5;\" x=\"339.088849\" xlink:href=\"#m81fc40d993\" y=\"357.351755\"/>\r\n     <use style=\"fill:#800000;fill-opacity:0.5;stroke:#800000;stroke-linejoin:miter;stroke-opacity:0.5;\" x=\"345.23761\" xlink:href=\"#m81fc40d993\" y=\"361.570511\"/>\r\n     <use style=\"fill:#800000;fill-opacity:0.5;stroke:#800000;stroke-linejoin:miter;stroke-opacity:0.5;\" x=\"351.38637\" xlink:href=\"#m81fc40d993\" y=\"365.468478\"/>\r\n     <use style=\"fill:#800000;fill-opacity:0.5;stroke:#800000;stroke-linejoin:miter;stroke-opacity:0.5;\" x=\"357.53513\" xlink:href=\"#m81fc40d993\" y=\"369.060157\"/>\r\n     <use style=\"fill:#800000;fill-opacity:0.5;stroke:#800000;stroke-linejoin:miter;stroke-opacity:0.5;\" x=\"363.683891\" xlink:href=\"#m81fc40d993\" y=\"372.360819\"/>\r\n     <use style=\"fill:#800000;fill-opacity:0.5;stroke:#800000;stroke-linejoin:miter;stroke-opacity:0.5;\" x=\"369.832651\" xlink:href=\"#m81fc40d993\" y=\"375.386234\"/>\r\n     <use style=\"fill:#800000;fill-opacity:0.5;stroke:#800000;stroke-linejoin:miter;stroke-opacity:0.5;\" x=\"375.981411\" xlink:href=\"#m81fc40d993\" y=\"378.152429\"/>\r\n     <use style=\"fill:#800000;fill-opacity:0.5;stroke:#800000;stroke-linejoin:miter;stroke-opacity:0.5;\" x=\"382.130172\" xlink:href=\"#m81fc40d993\" y=\"380.675479\"/>\r\n     <use style=\"fill:#800000;fill-opacity:0.5;stroke:#800000;stroke-linejoin:miter;stroke-opacity:0.5;\" x=\"388.278932\" xlink:href=\"#m81fc40d993\" y=\"382.971332\"/>\r\n     <use style=\"fill:#800000;fill-opacity:0.5;stroke:#800000;stroke-linejoin:miter;stroke-opacity:0.5;\" x=\"394.427692\" xlink:href=\"#m81fc40d993\" y=\"385.055655\"/>\r\n     <use style=\"fill:#800000;fill-opacity:0.5;stroke:#800000;stroke-linejoin:miter;stroke-opacity:0.5;\" x=\"400.576453\" xlink:href=\"#m81fc40d993\" y=\"386.943712\"/>\r\n     <use style=\"fill:#800000;fill-opacity:0.5;stroke:#800000;stroke-linejoin:miter;stroke-opacity:0.5;\" x=\"406.725213\" xlink:href=\"#m81fc40d993\" y=\"388.650262\"/>\r\n     <use style=\"fill:#800000;fill-opacity:0.5;stroke:#800000;stroke-linejoin:miter;stroke-opacity:0.5;\" x=\"412.873973\" xlink:href=\"#m81fc40d993\" y=\"390.189479\"/>\r\n     <use style=\"fill:#800000;fill-opacity:0.5;stroke:#800000;stroke-linejoin:miter;stroke-opacity:0.5;\" x=\"419.022734\" xlink:href=\"#m81fc40d993\" y=\"391.574896\"/>\r\n     <use style=\"fill:#800000;fill-opacity:0.5;stroke:#800000;stroke-linejoin:miter;stroke-opacity:0.5;\" x=\"425.171494\" xlink:href=\"#m81fc40d993\" y=\"392.819357\"/>\r\n     <use style=\"fill:#800000;fill-opacity:0.5;stroke:#800000;stroke-linejoin:miter;stroke-opacity:0.5;\" x=\"431.320254\" xlink:href=\"#m81fc40d993\" y=\"393.934994\"/>\r\n     <use style=\"fill:#800000;fill-opacity:0.5;stroke:#800000;stroke-linejoin:miter;stroke-opacity:0.5;\" x=\"437.469015\" xlink:href=\"#m81fc40d993\" y=\"394.933207\"/>\r\n     <use style=\"fill:#800000;fill-opacity:0.5;stroke:#800000;stroke-linejoin:miter;stroke-opacity:0.5;\" x=\"443.617775\" xlink:href=\"#m81fc40d993\" y=\"395.824667\"/>\r\n     <use style=\"fill:#800000;fill-opacity:0.5;stroke:#800000;stroke-linejoin:miter;stroke-opacity:0.5;\" x=\"449.766535\" xlink:href=\"#m81fc40d993\" y=\"396.619316\"/>\r\n     <use style=\"fill:#800000;fill-opacity:0.5;stroke:#800000;stroke-linejoin:miter;stroke-opacity:0.5;\" x=\"455.915296\" xlink:href=\"#m81fc40d993\" y=\"397.326382\"/>\r\n     <use style=\"fill:#800000;fill-opacity:0.5;stroke:#800000;stroke-linejoin:miter;stroke-opacity:0.5;\" x=\"462.064056\" xlink:href=\"#m81fc40d993\" y=\"397.9544\"/>\r\n     <use style=\"fill:#800000;fill-opacity:0.5;stroke:#800000;stroke-linejoin:miter;stroke-opacity:0.5;\" x=\"468.212816\" xlink:href=\"#m81fc40d993\" y=\"398.511235\"/>\r\n     <use style=\"fill:#800000;fill-opacity:0.5;stroke:#800000;stroke-linejoin:miter;stroke-opacity:0.5;\" x=\"474.361577\" xlink:href=\"#m81fc40d993\" y=\"399.004112\"/>\r\n     <use style=\"fill:#800000;fill-opacity:0.5;stroke:#800000;stroke-linejoin:miter;stroke-opacity:0.5;\" x=\"480.510337\" xlink:href=\"#m81fc40d993\" y=\"399.439645\"/>\r\n     <use style=\"fill:#800000;fill-opacity:0.5;stroke:#800000;stroke-linejoin:miter;stroke-opacity:0.5;\" x=\"486.659097\" xlink:href=\"#m81fc40d993\" y=\"399.823871\"/>\r\n     <use style=\"fill:#800000;fill-opacity:0.5;stroke:#800000;stroke-linejoin:miter;stroke-opacity:0.5;\" x=\"492.807858\" xlink:href=\"#m81fc40d993\" y=\"400.162287\"/>\r\n     <use style=\"fill:#800000;fill-opacity:0.5;stroke:#800000;stroke-linejoin:miter;stroke-opacity:0.5;\" x=\"498.956618\" xlink:href=\"#m81fc40d993\" y=\"400.459881\"/>\r\n     <use style=\"fill:#800000;fill-opacity:0.5;stroke:#800000;stroke-linejoin:miter;stroke-opacity:0.5;\" x=\"505.105378\" xlink:href=\"#m81fc40d993\" y=\"400.721169\"/>\r\n     <use style=\"fill:#800000;fill-opacity:0.5;stroke:#800000;stroke-linejoin:miter;stroke-opacity:0.5;\" x=\"511.254139\" xlink:href=\"#m81fc40d993\" y=\"400.950228\"/>\r\n     <use style=\"fill:#800000;fill-opacity:0.5;stroke:#800000;stroke-linejoin:miter;stroke-opacity:0.5;\" x=\"517.402899\" xlink:href=\"#m81fc40d993\" y=\"401.15073\"/>\r\n     <use style=\"fill:#800000;fill-opacity:0.5;stroke:#800000;stroke-linejoin:miter;stroke-opacity:0.5;\" x=\"523.551659\" xlink:href=\"#m81fc40d993\" y=\"401.325974\"/>\r\n     <use style=\"fill:#800000;fill-opacity:0.5;stroke:#800000;stroke-linejoin:miter;stroke-opacity:0.5;\" x=\"529.70042\" xlink:href=\"#m81fc40d993\" y=\"401.478919\"/>\r\n     <use style=\"fill:#800000;fill-opacity:0.5;stroke:#800000;stroke-linejoin:miter;stroke-opacity:0.5;\" x=\"535.84918\" xlink:href=\"#m81fc40d993\" y=\"401.61221\"/>\r\n     <use style=\"fill:#800000;fill-opacity:0.5;stroke:#800000;stroke-linejoin:miter;stroke-opacity:0.5;\" x=\"541.99794\" xlink:href=\"#m81fc40d993\" y=\"401.728209\"/>\r\n     <use style=\"fill:#800000;fill-opacity:0.5;stroke:#800000;stroke-linejoin:miter;stroke-opacity:0.5;\" x=\"548.146701\" xlink:href=\"#m81fc40d993\" y=\"401.829017\"/>\r\n     <use style=\"fill:#800000;fill-opacity:0.5;stroke:#800000;stroke-linejoin:miter;stroke-opacity:0.5;\" x=\"554.295461\" xlink:href=\"#m81fc40d993\" y=\"401.916504\"/>\r\n     <use style=\"fill:#800000;fill-opacity:0.5;stroke:#800000;stroke-linejoin:miter;stroke-opacity:0.5;\" x=\"560.444221\" xlink:href=\"#m81fc40d993\" y=\"401.992327\"/>\r\n     <use style=\"fill:#800000;fill-opacity:0.5;stroke:#800000;stroke-linejoin:miter;stroke-opacity:0.5;\" x=\"566.592982\" xlink:href=\"#m81fc40d993\" y=\"402.057954\"/>\r\n     <use style=\"fill:#800000;fill-opacity:0.5;stroke:#800000;stroke-linejoin:miter;stroke-opacity:0.5;\" x=\"572.741742\" xlink:href=\"#m81fc40d993\" y=\"402.114681\"/>\r\n     <use style=\"fill:#800000;fill-opacity:0.5;stroke:#800000;stroke-linejoin:miter;stroke-opacity:0.5;\" x=\"578.890502\" xlink:href=\"#m81fc40d993\" y=\"402.163652\"/>\r\n     <use style=\"fill:#800000;fill-opacity:0.5;stroke:#800000;stroke-linejoin:miter;stroke-opacity:0.5;\" x=\"585.039263\" xlink:href=\"#m81fc40d993\" y=\"402.205872\"/>\r\n     <use style=\"fill:#800000;fill-opacity:0.5;stroke:#800000;stroke-linejoin:miter;stroke-opacity:0.5;\" x=\"591.188023\" xlink:href=\"#m81fc40d993\" y=\"402.242227\"/>\r\n     <use style=\"fill:#800000;fill-opacity:0.5;stroke:#800000;stroke-linejoin:miter;stroke-opacity:0.5;\" x=\"597.336783\" xlink:href=\"#m81fc40d993\" y=\"402.273492\"/>\r\n     <use style=\"fill:#800000;fill-opacity:0.5;stroke:#800000;stroke-linejoin:miter;stroke-opacity:0.5;\" x=\"603.485544\" xlink:href=\"#m81fc40d993\" y=\"402.300347\"/>\r\n     <use style=\"fill:#800000;fill-opacity:0.5;stroke:#800000;stroke-linejoin:miter;stroke-opacity:0.5;\" x=\"609.634304\" xlink:href=\"#m81fc40d993\" y=\"402.323386\"/>\r\n     <use style=\"fill:#800000;fill-opacity:0.5;stroke:#800000;stroke-linejoin:miter;stroke-opacity:0.5;\" x=\"615.783064\" xlink:href=\"#m81fc40d993\" y=\"402.343128\"/>\r\n     <use style=\"fill:#800000;fill-opacity:0.5;stroke:#800000;stroke-linejoin:miter;stroke-opacity:0.5;\" x=\"621.931825\" xlink:href=\"#m81fc40d993\" y=\"402.360024\"/>\r\n     <use style=\"fill:#800000;fill-opacity:0.5;stroke:#800000;stroke-linejoin:miter;stroke-opacity:0.5;\" x=\"628.080585\" xlink:href=\"#m81fc40d993\" y=\"402.374468\"/>\r\n     <use style=\"fill:#800000;fill-opacity:0.5;stroke:#800000;stroke-linejoin:miter;stroke-opacity:0.5;\" x=\"634.229345\" xlink:href=\"#m81fc40d993\" y=\"402.386801\"/>\r\n     <use style=\"fill:#800000;fill-opacity:0.5;stroke:#800000;stroke-linejoin:miter;stroke-opacity:0.5;\" x=\"640.378106\" xlink:href=\"#m81fc40d993\" y=\"402.39732\"/>\r\n     <use style=\"fill:#800000;fill-opacity:0.5;stroke:#800000;stroke-linejoin:miter;stroke-opacity:0.5;\" x=\"646.526866\" xlink:href=\"#m81fc40d993\" y=\"402.406282\"/>\r\n     <use style=\"fill:#800000;fill-opacity:0.5;stroke:#800000;stroke-linejoin:miter;stroke-opacity:0.5;\" x=\"652.675626\" xlink:href=\"#m81fc40d993\" y=\"402.413908\"/>\r\n     <use style=\"fill:#800000;fill-opacity:0.5;stroke:#800000;stroke-linejoin:miter;stroke-opacity:0.5;\" x=\"658.824387\" xlink:href=\"#m81fc40d993\" y=\"402.420391\"/>\r\n     <use style=\"fill:#800000;fill-opacity:0.5;stroke:#800000;stroke-linejoin:miter;stroke-opacity:0.5;\" x=\"664.973147\" xlink:href=\"#m81fc40d993\" y=\"402.425896\"/>\r\n     <use style=\"fill:#800000;fill-opacity:0.5;stroke:#800000;stroke-linejoin:miter;stroke-opacity:0.5;\" x=\"671.121907\" xlink:href=\"#m81fc40d993\" y=\"402.430565\"/>\r\n     <use style=\"fill:#800000;fill-opacity:0.5;stroke:#800000;stroke-linejoin:miter;stroke-opacity:0.5;\" x=\"677.270668\" xlink:href=\"#m81fc40d993\" y=\"402.434522\"/>\r\n    </g>\r\n   </g>\r\n   <g id=\"line2d_18\">\r\n    <path clip-path=\"url(#paca29a353b)\" d=\"M 182.734658 402.455625 \r\nL 182.734658 21.935625 \r\n\" style=\"fill:none;stroke:#daa520;stroke-linecap:round;stroke-width:4;\"/>\r\n   </g>\r\n   <g id=\"patch_9\">\r\n    <path d=\"M 38.107031 402.455625 \r\nL 38.107031 21.935625 \r\n\" style=\"fill:none;stroke:#ffffff;stroke-linecap:square;stroke-linejoin:miter;stroke-width:1.25;\"/>\r\n   </g>\r\n   <g id=\"patch_10\">\r\n    <path d=\"M 707.707031 402.455625 \r\nL 707.707031 21.935625 \r\n\" style=\"fill:none;stroke:#ffffff;stroke-linecap:square;stroke-linejoin:miter;stroke-width:1.25;\"/>\r\n   </g>\r\n   <g id=\"patch_11\">\r\n    <path d=\"M 38.107031 402.455625 \r\nL 707.707031 402.455625 \r\n\" style=\"fill:none;stroke:#ffffff;stroke-linecap:square;stroke-linejoin:miter;stroke-width:1.25;\"/>\r\n   </g>\r\n   <g id=\"patch_12\">\r\n    <path d=\"M 38.107031 21.935625 \r\nL 707.707031 21.935625 \r\n\" style=\"fill:none;stroke:#ffffff;stroke-linecap:square;stroke-linejoin:miter;stroke-width:1.25;\"/>\r\n   </g>\r\n   <g id=\"text_18\">\r\n    <!-- Probability Density Function / Distribution of goals / Expected Value - lambda -->\r\n    <defs>\r\n     <path d=\"M 7.71875 0 \r\nL 7.71875 71.578125 \r\nL 34.71875 71.578125 \r\nQ 41.84375 71.578125 45.609375 70.90625 \r\nQ 50.875 70.015625 54.4375 67.546875 \r\nQ 58.015625 65.09375 60.1875 60.640625 \r\nQ 62.359375 56.203125 62.359375 50.875 \r\nQ 62.359375 41.75 56.546875 35.421875 \r\nQ 50.734375 29.109375 35.546875 29.109375 \r\nL 17.1875 29.109375 \r\nL 17.1875 0 \r\nz\r\nM 17.1875 37.546875 \r\nL 35.6875 37.546875 \r\nQ 44.875 37.546875 48.734375 40.96875 \r\nQ 52.59375 44.390625 52.59375 50.59375 \r\nQ 52.59375 55.078125 50.3125 58.265625 \r\nQ 48.046875 61.46875 44.34375 62.5 \r\nQ 41.9375 63.140625 35.5 63.140625 \r\nL 17.1875 63.140625 \r\nz\r\n\" id=\"ArialMT-80\"/>\r\n     <path d=\"M 6.5 0 \r\nL 6.5 51.859375 \r\nL 14.40625 51.859375 \r\nL 14.40625 44 \r\nQ 17.4375 49.515625 20 51.265625 \r\nQ 22.5625 53.03125 25.640625 53.03125 \r\nQ 30.078125 53.03125 34.671875 50.203125 \r\nL 31.640625 42.046875 \r\nQ 28.421875 43.953125 25.203125 43.953125 \r\nQ 22.3125 43.953125 20.015625 42.21875 \r\nQ 17.71875 40.484375 16.75 37.40625 \r\nQ 15.28125 32.71875 15.28125 27.15625 \r\nL 15.28125 0 \r\nz\r\n\" id=\"ArialMT-114\"/>\r\n     <path d=\"M 14.703125 0 \r\nL 6.546875 0 \r\nL 6.546875 71.578125 \r\nL 15.328125 71.578125 \r\nL 15.328125 46.046875 \r\nQ 20.90625 53.03125 29.546875 53.03125 \r\nQ 34.328125 53.03125 38.59375 51.09375 \r\nQ 42.875 49.171875 45.625 45.671875 \r\nQ 48.390625 42.1875 49.953125 37.25 \r\nQ 51.515625 32.328125 51.515625 26.703125 \r\nQ 51.515625 13.375 44.921875 6.09375 \r\nQ 38.328125 -1.171875 29.109375 -1.171875 \r\nQ 19.921875 -1.171875 14.703125 6.5 \r\nz\r\nM 14.59375 26.3125 \r\nQ 14.59375 17 17.140625 12.84375 \r\nQ 21.296875 6.0625 28.375 6.0625 \r\nQ 34.125 6.0625 38.328125 11.0625 \r\nQ 42.53125 16.0625 42.53125 25.984375 \r\nQ 42.53125 36.140625 38.5 40.96875 \r\nQ 34.46875 45.796875 28.765625 45.796875 \r\nQ 23 45.796875 18.796875 40.796875 \r\nQ 14.59375 35.796875 14.59375 26.3125 \r\nz\r\n\" id=\"ArialMT-98\"/>\r\n     <path d=\"M 6.640625 61.46875 \r\nL 6.640625 71.578125 \r\nL 15.4375 71.578125 \r\nL 15.4375 61.46875 \r\nz\r\nM 6.640625 0 \r\nL 6.640625 51.859375 \r\nL 15.4375 51.859375 \r\nL 15.4375 0 \r\nz\r\n\" id=\"ArialMT-105\"/>\r\n     <path d=\"M 25.78125 7.859375 \r\nL 27.046875 0.09375 \r\nQ 23.34375 -0.6875 20.40625 -0.6875 \r\nQ 15.625 -0.6875 12.984375 0.828125 \r\nQ 10.359375 2.34375 9.28125 4.8125 \r\nQ 8.203125 7.28125 8.203125 15.1875 \r\nL 8.203125 45.015625 \r\nL 1.765625 45.015625 \r\nL 1.765625 51.859375 \r\nL 8.203125 51.859375 \r\nL 8.203125 64.703125 \r\nL 16.9375 69.96875 \r\nL 16.9375 51.859375 \r\nL 25.78125 51.859375 \r\nL 25.78125 45.015625 \r\nL 16.9375 45.015625 \r\nL 16.9375 14.703125 \r\nQ 16.9375 10.9375 17.40625 9.859375 \r\nQ 17.875 8.796875 18.921875 8.15625 \r\nQ 19.96875 7.515625 21.921875 7.515625 \r\nQ 23.390625 7.515625 25.78125 7.859375 \r\nz\r\n\" id=\"ArialMT-116\"/>\r\n     <path d=\"M 6.203125 -19.96875 \r\nL 5.21875 -11.71875 \r\nQ 8.109375 -12.5 10.25 -12.5 \r\nQ 13.1875 -12.5 14.9375 -11.515625 \r\nQ 16.703125 -10.546875 17.828125 -8.796875 \r\nQ 18.65625 -7.46875 20.515625 -2.25 \r\nQ 20.75 -1.515625 21.296875 -0.09375 \r\nL 1.609375 51.859375 \r\nL 11.078125 51.859375 \r\nL 21.875 21.828125 \r\nQ 23.96875 16.109375 25.640625 9.8125 \r\nQ 27.15625 15.875 29.25 21.625 \r\nL 40.328125 51.859375 \r\nL 49.125 51.859375 \r\nL 29.390625 -0.875 \r\nQ 26.21875 -9.421875 24.46875 -12.640625 \r\nQ 22.125 -17 19.09375 -19.015625 \r\nQ 16.0625 -21.046875 11.859375 -21.046875 \r\nQ 9.328125 -21.046875 6.203125 -19.96875 \r\nz\r\n\" id=\"ArialMT-121\"/>\r\n     <path id=\"ArialMT-32\"/>\r\n     <path d=\"M 7.71875 0 \r\nL 7.71875 71.578125 \r\nL 32.375 71.578125 \r\nQ 40.71875 71.578125 45.125 70.5625 \r\nQ 51.265625 69.140625 55.609375 65.4375 \r\nQ 61.28125 60.640625 64.078125 53.1875 \r\nQ 66.890625 45.75 66.890625 36.1875 \r\nQ 66.890625 28.03125 64.984375 21.734375 \r\nQ 63.09375 15.4375 60.109375 11.296875 \r\nQ 57.125 7.171875 53.578125 4.796875 \r\nQ 50.046875 2.4375 45.046875 1.21875 \r\nQ 40.046875 0 33.546875 0 \r\nz\r\nM 17.1875 8.453125 \r\nL 32.46875 8.453125 \r\nQ 39.546875 8.453125 43.578125 9.765625 \r\nQ 47.609375 11.078125 50 13.484375 \r\nQ 53.375 16.84375 55.25 22.53125 \r\nQ 57.125 28.21875 57.125 36.328125 \r\nQ 57.125 47.5625 53.4375 53.59375 \r\nQ 49.75 59.625 44.484375 61.671875 \r\nQ 40.671875 63.140625 32.234375 63.140625 \r\nL 17.1875 63.140625 \r\nz\r\n\" id=\"ArialMT-68\"/>\r\n     <path d=\"M 42.09375 16.703125 \r\nL 51.171875 15.578125 \r\nQ 49.03125 7.625 43.21875 3.21875 \r\nQ 37.40625 -1.171875 28.375 -1.171875 \r\nQ 17 -1.171875 10.328125 5.828125 \r\nQ 3.65625 12.84375 3.65625 25.484375 \r\nQ 3.65625 38.578125 10.390625 45.796875 \r\nQ 17.140625 53.03125 27.875 53.03125 \r\nQ 38.28125 53.03125 44.875 45.953125 \r\nQ 51.46875 38.875 51.46875 26.03125 \r\nQ 51.46875 25.25 51.421875 23.6875 \r\nL 12.75 23.6875 \r\nQ 13.234375 15.140625 17.578125 10.59375 \r\nQ 21.921875 6.0625 28.421875 6.0625 \r\nQ 33.25 6.0625 36.671875 8.59375 \r\nQ 40.09375 11.140625 42.09375 16.703125 \r\nz\r\nM 13.234375 30.90625 \r\nL 42.1875 30.90625 \r\nQ 41.609375 37.453125 38.875 40.71875 \r\nQ 34.671875 45.796875 27.984375 45.796875 \r\nQ 21.921875 45.796875 17.796875 41.75 \r\nQ 13.671875 37.703125 13.234375 30.90625 \r\nz\r\n\" id=\"ArialMT-101\"/>\r\n     <path d=\"M 6.59375 0 \r\nL 6.59375 51.859375 \r\nL 14.5 51.859375 \r\nL 14.5 44.484375 \r\nQ 20.21875 53.03125 31 53.03125 \r\nQ 35.6875 53.03125 39.625 51.34375 \r\nQ 43.5625 49.65625 45.515625 46.921875 \r\nQ 47.46875 44.1875 48.25 40.4375 \r\nQ 48.734375 37.984375 48.734375 31.890625 \r\nL 48.734375 0 \r\nL 39.9375 0 \r\nL 39.9375 31.546875 \r\nQ 39.9375 36.921875 38.90625 39.578125 \r\nQ 37.890625 42.234375 35.28125 43.8125 \r\nQ 32.671875 45.40625 29.15625 45.40625 \r\nQ 23.53125 45.40625 19.453125 41.84375 \r\nQ 15.375 38.28125 15.375 28.328125 \r\nL 15.375 0 \r\nz\r\n\" id=\"ArialMT-110\"/>\r\n     <path d=\"M 8.203125 0 \r\nL 8.203125 71.578125 \r\nL 56.5 71.578125 \r\nL 56.5 63.140625 \r\nL 17.671875 63.140625 \r\nL 17.671875 40.96875 \r\nL 51.265625 40.96875 \r\nL 51.265625 32.515625 \r\nL 17.671875 32.515625 \r\nL 17.671875 0 \r\nz\r\n\" id=\"ArialMT-70\"/>\r\n     <path d=\"M 40.578125 0 \r\nL 40.578125 7.625 \r\nQ 34.515625 -1.171875 24.125 -1.171875 \r\nQ 19.53125 -1.171875 15.546875 0.578125 \r\nQ 11.578125 2.34375 9.640625 5 \r\nQ 7.71875 7.671875 6.9375 11.53125 \r\nQ 6.390625 14.109375 6.390625 19.734375 \r\nL 6.390625 51.859375 \r\nL 15.1875 51.859375 \r\nL 15.1875 23.09375 \r\nQ 15.1875 16.21875 15.71875 13.8125 \r\nQ 16.546875 10.359375 19.234375 8.375 \r\nQ 21.921875 6.390625 25.875 6.390625 \r\nQ 29.828125 6.390625 33.296875 8.421875 \r\nQ 36.765625 10.453125 38.203125 13.9375 \r\nQ 39.65625 17.4375 39.65625 24.078125 \r\nL 39.65625 51.859375 \r\nL 48.4375 51.859375 \r\nL 48.4375 0 \r\nz\r\n\" id=\"ArialMT-117\"/>\r\n     <path d=\"M 40.4375 19 \r\nL 49.078125 17.875 \r\nQ 47.65625 8.9375 41.8125 3.875 \r\nQ 35.984375 -1.171875 27.484375 -1.171875 \r\nQ 16.84375 -1.171875 10.375 5.78125 \r\nQ 3.90625 12.75 3.90625 25.734375 \r\nQ 3.90625 34.125 6.6875 40.421875 \r\nQ 9.46875 46.734375 15.15625 49.875 \r\nQ 20.84375 53.03125 27.546875 53.03125 \r\nQ 35.984375 53.03125 41.359375 48.75 \r\nQ 46.734375 44.484375 48.25 36.625 \r\nL 39.703125 35.296875 \r\nQ 38.484375 40.53125 35.375 43.15625 \r\nQ 32.28125 45.796875 27.875 45.796875 \r\nQ 21.234375 45.796875 17.078125 41.03125 \r\nQ 12.9375 36.28125 12.9375 25.984375 \r\nQ 12.9375 15.53125 16.9375 10.796875 \r\nQ 20.953125 6.0625 27.390625 6.0625 \r\nQ 32.5625 6.0625 36.03125 9.234375 \r\nQ 39.5 12.40625 40.4375 19 \r\nz\r\n\" id=\"ArialMT-99\"/>\r\n     <path d=\"M 0 -1.21875 \r\nL 20.75 72.796875 \r\nL 27.78125 72.796875 \r\nL 7.078125 -1.21875 \r\nz\r\n\" id=\"ArialMT-47\"/>\r\n     <path d=\"M 8.6875 0 \r\nL 8.6875 45.015625 \r\nL 0.921875 45.015625 \r\nL 0.921875 51.859375 \r\nL 8.6875 51.859375 \r\nL 8.6875 57.375 \r\nQ 8.6875 62.59375 9.625 65.140625 \r\nQ 10.890625 68.5625 14.078125 70.671875 \r\nQ 17.28125 72.796875 23.046875 72.796875 \r\nQ 26.765625 72.796875 31.25 71.921875 \r\nL 29.9375 64.265625 \r\nQ 27.203125 64.75 24.75 64.75 \r\nQ 20.75 64.75 19.09375 63.03125 \r\nQ 17.4375 61.328125 17.4375 56.640625 \r\nL 17.4375 51.859375 \r\nL 27.546875 51.859375 \r\nL 27.546875 45.015625 \r\nL 17.4375 45.015625 \r\nL 17.4375 0 \r\nz\r\n\" id=\"ArialMT-102\"/>\r\n     <path d=\"M 4.984375 -4.296875 \r\nL 13.53125 -5.5625 \r\nQ 14.0625 -9.515625 16.5 -11.328125 \r\nQ 19.78125 -13.765625 25.4375 -13.765625 \r\nQ 31.546875 -13.765625 34.859375 -11.328125 \r\nQ 38.1875 -8.890625 39.359375 -4.5 \r\nQ 40.046875 -1.8125 39.984375 6.78125 \r\nQ 34.234375 0 25.640625 0 \r\nQ 14.9375 0 9.078125 7.71875 \r\nQ 3.21875 15.4375 3.21875 26.21875 \r\nQ 3.21875 33.640625 5.90625 39.90625 \r\nQ 8.59375 46.1875 13.6875 49.609375 \r\nQ 18.796875 53.03125 25.6875 53.03125 \r\nQ 34.859375 53.03125 40.828125 45.609375 \r\nL 40.828125 51.859375 \r\nL 48.921875 51.859375 \r\nL 48.921875 7.03125 \r\nQ 48.921875 -5.078125 46.453125 -10.125 \r\nQ 44 -15.1875 38.640625 -18.109375 \r\nQ 33.296875 -21.046875 25.484375 -21.046875 \r\nQ 16.21875 -21.046875 10.5 -16.875 \r\nQ 4.78125 -12.703125 4.984375 -4.296875 \r\nz\r\nM 12.25 26.859375 \r\nQ 12.25 16.65625 16.296875 11.96875 \r\nQ 20.359375 7.28125 26.46875 7.28125 \r\nQ 32.515625 7.28125 36.609375 11.9375 \r\nQ 40.71875 16.609375 40.71875 26.5625 \r\nQ 40.71875 36.078125 36.5 40.90625 \r\nQ 32.28125 45.75 26.3125 45.75 \r\nQ 20.453125 45.75 16.34375 40.984375 \r\nQ 12.25 36.234375 12.25 26.859375 \r\nz\r\n\" id=\"ArialMT-103\"/>\r\n     <path d=\"M 7.90625 0 \r\nL 7.90625 71.578125 \r\nL 59.671875 71.578125 \r\nL 59.671875 63.140625 \r\nL 17.390625 63.140625 \r\nL 17.390625 41.21875 \r\nL 56.984375 41.21875 \r\nL 56.984375 32.8125 \r\nL 17.390625 32.8125 \r\nL 17.390625 8.453125 \r\nL 61.328125 8.453125 \r\nL 61.328125 0 \r\nz\r\n\" id=\"ArialMT-69\"/>\r\n     <path d=\"M 0.734375 0 \r\nL 19.671875 26.953125 \r\nL 2.15625 51.859375 \r\nL 13.140625 51.859375 \r\nL 21.09375 39.703125 \r\nQ 23.34375 36.234375 24.703125 33.890625 \r\nQ 26.859375 37.109375 28.65625 39.59375 \r\nL 37.40625 51.859375 \r\nL 47.90625 51.859375 \r\nL 29.984375 27.4375 \r\nL 49.265625 0 \r\nL 38.484375 0 \r\nL 27.828125 16.109375 \r\nL 25 20.453125 \r\nL 11.375 0 \r\nz\r\n\" id=\"ArialMT-120\"/>\r\n     <path d=\"M 6.59375 -19.875 \r\nL 6.59375 51.859375 \r\nL 14.59375 51.859375 \r\nL 14.59375 45.125 \r\nQ 17.4375 49.078125 21 51.046875 \r\nQ 24.5625 53.03125 29.640625 53.03125 \r\nQ 36.28125 53.03125 41.359375 49.609375 \r\nQ 46.4375 46.1875 49.015625 39.953125 \r\nQ 51.609375 33.734375 51.609375 26.3125 \r\nQ 51.609375 18.359375 48.75 11.984375 \r\nQ 45.90625 5.609375 40.453125 2.21875 \r\nQ 35.015625 -1.171875 29 -1.171875 \r\nQ 24.609375 -1.171875 21.109375 0.6875 \r\nQ 17.625 2.546875 15.375 5.375 \r\nL 15.375 -19.875 \r\nz\r\nM 14.546875 25.640625 \r\nQ 14.546875 15.625 18.59375 10.84375 \r\nQ 22.65625 6.0625 28.421875 6.0625 \r\nQ 34.28125 6.0625 38.453125 11.015625 \r\nQ 42.625 15.96875 42.625 26.375 \r\nQ 42.625 36.28125 38.546875 41.203125 \r\nQ 34.46875 46.140625 28.8125 46.140625 \r\nQ 23.1875 46.140625 18.859375 40.890625 \r\nQ 14.546875 35.640625 14.546875 25.640625 \r\nz\r\n\" id=\"ArialMT-112\"/>\r\n     <path d=\"M 40.234375 0 \r\nL 40.234375 6.546875 \r\nQ 35.296875 -1.171875 25.734375 -1.171875 \r\nQ 19.53125 -1.171875 14.328125 2.25 \r\nQ 9.125 5.671875 6.265625 11.796875 \r\nQ 3.421875 17.921875 3.421875 25.875 \r\nQ 3.421875 33.640625 6 39.96875 \r\nQ 8.59375 46.296875 13.765625 49.65625 \r\nQ 18.953125 53.03125 25.34375 53.03125 \r\nQ 30.03125 53.03125 33.6875 51.046875 \r\nQ 37.359375 49.078125 39.65625 45.90625 \r\nL 39.65625 71.578125 \r\nL 48.390625 71.578125 \r\nL 48.390625 0 \r\nz\r\nM 12.453125 25.875 \r\nQ 12.453125 15.921875 16.640625 10.984375 \r\nQ 20.84375 6.0625 26.5625 6.0625 \r\nQ 32.328125 6.0625 36.34375 10.765625 \r\nQ 40.375 15.484375 40.375 25.140625 \r\nQ 40.375 35.796875 36.265625 40.765625 \r\nQ 32.171875 45.75 26.171875 45.75 \r\nQ 20.3125 45.75 16.375 40.96875 \r\nQ 12.453125 36.1875 12.453125 25.875 \r\nz\r\n\" id=\"ArialMT-100\"/>\r\n     <path d=\"M 28.171875 0 \r\nL 0.4375 71.578125 \r\nL 10.6875 71.578125 \r\nL 29.296875 19.578125 \r\nQ 31.546875 13.328125 33.0625 7.859375 \r\nQ 34.71875 13.71875 36.921875 19.578125 \r\nL 56.25 71.578125 \r\nL 65.921875 71.578125 \r\nL 37.890625 0 \r\nz\r\n\" id=\"ArialMT-86\"/>\r\n     <path d=\"M 3.171875 21.484375 \r\nL 3.171875 30.328125 \r\nL 30.171875 30.328125 \r\nL 30.171875 21.484375 \r\nz\r\n\" id=\"ArialMT-45\"/>\r\n     <path d=\"M 6.59375 0 \r\nL 6.59375 51.859375 \r\nL 14.453125 51.859375 \r\nL 14.453125 44.578125 \r\nQ 16.890625 48.390625 20.9375 50.703125 \r\nQ 25 53.03125 30.171875 53.03125 \r\nQ 35.9375 53.03125 39.625 50.640625 \r\nQ 43.3125 48.25 44.828125 43.953125 \r\nQ 50.984375 53.03125 60.84375 53.03125 \r\nQ 68.5625 53.03125 72.703125 48.75 \r\nQ 76.859375 44.484375 76.859375 35.59375 \r\nL 76.859375 0 \r\nL 68.109375 0 \r\nL 68.109375 32.671875 \r\nQ 68.109375 37.9375 67.25 40.25 \r\nQ 66.40625 42.578125 64.15625 43.984375 \r\nQ 61.921875 45.40625 58.890625 45.40625 \r\nQ 53.421875 45.40625 49.796875 41.765625 \r\nQ 46.1875 38.140625 46.1875 30.125 \r\nL 46.1875 0 \r\nL 37.40625 0 \r\nL 37.40625 33.6875 \r\nQ 37.40625 39.546875 35.25 42.46875 \r\nQ 33.109375 45.40625 28.21875 45.40625 \r\nQ 24.515625 45.40625 21.359375 43.453125 \r\nQ 18.21875 41.5 16.796875 37.734375 \r\nQ 15.375 33.984375 15.375 26.90625 \r\nL 15.375 0 \r\nz\r\n\" id=\"ArialMT-109\"/>\r\n    </defs>\r\n    <g style=\"fill:#262626;\" transform=\"translate(168.822656 15.935625)scale(0.12 -0.12)\">\r\n     <use xlink:href=\"#ArialMT-80\"/>\r\n     <use x=\"66.699219\" xlink:href=\"#ArialMT-114\"/>\r\n     <use x=\"100\" xlink:href=\"#ArialMT-111\"/>\r\n     <use x=\"155.615234\" xlink:href=\"#ArialMT-98\"/>\r\n     <use x=\"211.230469\" xlink:href=\"#ArialMT-97\"/>\r\n     <use x=\"266.845703\" xlink:href=\"#ArialMT-98\"/>\r\n     <use x=\"322.460938\" xlink:href=\"#ArialMT-105\"/>\r\n     <use x=\"344.677734\" xlink:href=\"#ArialMT-108\"/>\r\n     <use x=\"366.894531\" xlink:href=\"#ArialMT-105\"/>\r\n     <use x=\"389.111328\" xlink:href=\"#ArialMT-116\"/>\r\n     <use x=\"416.894531\" xlink:href=\"#ArialMT-121\"/>\r\n     <use x=\"466.894531\" xlink:href=\"#ArialMT-32\"/>\r\n     <use x=\"494.677734\" xlink:href=\"#ArialMT-68\"/>\r\n     <use x=\"566.894531\" xlink:href=\"#ArialMT-101\"/>\r\n     <use x=\"622.509766\" xlink:href=\"#ArialMT-110\"/>\r\n     <use x=\"678.125\" xlink:href=\"#ArialMT-115\"/>\r\n     <use x=\"728.125\" xlink:href=\"#ArialMT-105\"/>\r\n     <use x=\"750.341797\" xlink:href=\"#ArialMT-116\"/>\r\n     <use x=\"778.125\" xlink:href=\"#ArialMT-121\"/>\r\n     <use x=\"828.125\" xlink:href=\"#ArialMT-32\"/>\r\n     <use x=\"855.908203\" xlink:href=\"#ArialMT-70\"/>\r\n     <use x=\"916.992188\" xlink:href=\"#ArialMT-117\"/>\r\n     <use x=\"972.607422\" xlink:href=\"#ArialMT-110\"/>\r\n     <use x=\"1028.222656\" xlink:href=\"#ArialMT-99\"/>\r\n     <use x=\"1078.222656\" xlink:href=\"#ArialMT-116\"/>\r\n     <use x=\"1106.005859\" xlink:href=\"#ArialMT-105\"/>\r\n     <use x=\"1128.222656\" xlink:href=\"#ArialMT-111\"/>\r\n     <use x=\"1183.837891\" xlink:href=\"#ArialMT-110\"/>\r\n     <use x=\"1239.453125\" xlink:href=\"#ArialMT-32\"/>\r\n     <use x=\"1267.236328\" xlink:href=\"#ArialMT-47\"/>\r\n     <use x=\"1295.019531\" xlink:href=\"#ArialMT-32\"/>\r\n     <use x=\"1322.802734\" xlink:href=\"#ArialMT-68\"/>\r\n     <use x=\"1395.019531\" xlink:href=\"#ArialMT-105\"/>\r\n     <use x=\"1417.236328\" xlink:href=\"#ArialMT-115\"/>\r\n     <use x=\"1467.236328\" xlink:href=\"#ArialMT-116\"/>\r\n     <use x=\"1495.019531\" xlink:href=\"#ArialMT-114\"/>\r\n     <use x=\"1528.320312\" xlink:href=\"#ArialMT-105\"/>\r\n     <use x=\"1550.537109\" xlink:href=\"#ArialMT-98\"/>\r\n     <use x=\"1606.152344\" xlink:href=\"#ArialMT-117\"/>\r\n     <use x=\"1661.767578\" xlink:href=\"#ArialMT-116\"/>\r\n     <use x=\"1689.550781\" xlink:href=\"#ArialMT-105\"/>\r\n     <use x=\"1711.767578\" xlink:href=\"#ArialMT-111\"/>\r\n     <use x=\"1767.382812\" xlink:href=\"#ArialMT-110\"/>\r\n     <use x=\"1822.998047\" xlink:href=\"#ArialMT-32\"/>\r\n     <use x=\"1850.78125\" xlink:href=\"#ArialMT-111\"/>\r\n     <use x=\"1906.396484\" xlink:href=\"#ArialMT-102\"/>\r\n     <use x=\"1934.179688\" xlink:href=\"#ArialMT-32\"/>\r\n     <use x=\"1961.962891\" xlink:href=\"#ArialMT-103\"/>\r\n     <use x=\"2017.578125\" xlink:href=\"#ArialMT-111\"/>\r\n     <use x=\"2073.193359\" xlink:href=\"#ArialMT-97\"/>\r\n     <use x=\"2128.808594\" xlink:href=\"#ArialMT-108\"/>\r\n     <use x=\"2151.025391\" xlink:href=\"#ArialMT-115\"/>\r\n     <use x=\"2201.025391\" xlink:href=\"#ArialMT-32\"/>\r\n     <use x=\"2228.808594\" xlink:href=\"#ArialMT-47\"/>\r\n     <use x=\"2256.591797\" xlink:href=\"#ArialMT-32\"/>\r\n     <use x=\"2284.375\" xlink:href=\"#ArialMT-69\"/>\r\n     <use x=\"2351.074219\" xlink:href=\"#ArialMT-120\"/>\r\n     <use x=\"2401.074219\" xlink:href=\"#ArialMT-112\"/>\r\n     <use x=\"2456.689453\" xlink:href=\"#ArialMT-101\"/>\r\n     <use x=\"2512.304688\" xlink:href=\"#ArialMT-99\"/>\r\n     <use x=\"2562.304688\" xlink:href=\"#ArialMT-116\"/>\r\n     <use x=\"2590.087891\" xlink:href=\"#ArialMT-101\"/>\r\n     <use x=\"2645.703125\" xlink:href=\"#ArialMT-100\"/>\r\n     <use x=\"2701.318359\" xlink:href=\"#ArialMT-32\"/>\r\n     <use x=\"2729.101562\" xlink:href=\"#ArialMT-86\"/>\r\n     <use x=\"2795.691406\" xlink:href=\"#ArialMT-97\"/>\r\n     <use x=\"2851.306641\" xlink:href=\"#ArialMT-108\"/>\r\n     <use x=\"2873.523438\" xlink:href=\"#ArialMT-117\"/>\r\n     <use x=\"2929.138672\" xlink:href=\"#ArialMT-101\"/>\r\n     <use x=\"2984.753906\" xlink:href=\"#ArialMT-32\"/>\r\n     <use x=\"3012.537109\" xlink:href=\"#ArialMT-45\"/>\r\n     <use x=\"3045.837891\" xlink:href=\"#ArialMT-32\"/>\r\n     <use x=\"3073.621094\" xlink:href=\"#ArialMT-108\"/>\r\n     <use x=\"3095.837891\" xlink:href=\"#ArialMT-97\"/>\r\n     <use x=\"3151.453125\" xlink:href=\"#ArialMT-109\"/>\r\n     <use x=\"3234.753906\" xlink:href=\"#ArialMT-98\"/>\r\n     <use x=\"3290.369141\" xlink:href=\"#ArialMT-100\"/>\r\n     <use x=\"3345.984375\" xlink:href=\"#ArialMT-97\"/>\r\n    </g>\r\n   </g>\r\n   <g id=\"legend_1\">\r\n    <g id=\"patch_13\">\r\n     <path d=\"M 545.572188 77.678125 \r\nL 700.007031 77.678125 \r\nQ 702.207031 77.678125 702.207031 75.478125 \r\nL 702.207031 29.635625 \r\nQ 702.207031 27.435625 700.007031 27.435625 \r\nL 545.572188 27.435625 \r\nQ 543.372187 27.435625 543.372187 29.635625 \r\nL 543.372187 75.478125 \r\nQ 543.372187 77.678125 545.572188 77.678125 \r\nz\r\n\" style=\"fill:#eaeaf2;opacity:0.8;stroke:#cccccc;stroke-linejoin:miter;\"/>\r\n    </g>\r\n    <g id=\"line2d_19\"/>\r\n    <g id=\"line2d_20\">\r\n     <g>\r\n      <use style=\"fill:#800000;fill-opacity:0.5;stroke:#800000;stroke-linejoin:miter;stroke-opacity:0.5;\" x=\"558.772187\" xlink:href=\"#m81fc40d993\" y=\"35.859219\"/>\r\n     </g>\r\n    </g>\r\n    <g id=\"text_19\">\r\n     <!-- PDF -->\r\n     <g style=\"fill:#262626;\" transform=\"translate(578.572187 39.709219)scale(0.11 -0.11)\">\r\n      <use xlink:href=\"#ArialMT-80\"/>\r\n      <use x=\"66.699219\" xlink:href=\"#ArialMT-68\"/>\r\n      <use x=\"138.916016\" xlink:href=\"#ArialMT-70\"/>\r\n     </g>\r\n    </g>\r\n    <g id=\"line2d_21\">\r\n     <path d=\"M 547.772187 51.553125 \r\nL 569.772187 51.553125 \r\n\" style=\"fill:none;stroke:#daa520;stroke-linecap:round;stroke-width:4;\"/>\r\n    </g>\r\n    <g id=\"line2d_22\"/>\r\n    <g id=\"text_20\">\r\n     <!-- lambda / expected value -->\r\n     <defs>\r\n      <path d=\"M 21 0 \r\nL 1.265625 51.859375 \r\nL 10.546875 51.859375 \r\nL 21.6875 20.796875 \r\nQ 23.484375 15.765625 25 10.359375 \r\nQ 26.171875 14.453125 28.265625 20.21875 \r\nL 39.796875 51.859375 \r\nL 48.828125 51.859375 \r\nL 29.203125 0 \r\nz\r\n\" id=\"ArialMT-118\"/>\r\n     </defs>\r\n     <g style=\"fill:#262626;\" transform=\"translate(578.572187 55.403125)scale(0.11 -0.11)\">\r\n      <use xlink:href=\"#ArialMT-108\"/>\r\n      <use x=\"22.216797\" xlink:href=\"#ArialMT-97\"/>\r\n      <use x=\"77.832031\" xlink:href=\"#ArialMT-109\"/>\r\n      <use x=\"161.132812\" xlink:href=\"#ArialMT-98\"/>\r\n      <use x=\"216.748047\" xlink:href=\"#ArialMT-100\"/>\r\n      <use x=\"272.363281\" xlink:href=\"#ArialMT-97\"/>\r\n      <use x=\"327.978516\" xlink:href=\"#ArialMT-32\"/>\r\n      <use x=\"355.761719\" xlink:href=\"#ArialMT-47\"/>\r\n      <use x=\"383.544922\" xlink:href=\"#ArialMT-32\"/>\r\n      <use x=\"411.328125\" xlink:href=\"#ArialMT-101\"/>\r\n      <use x=\"466.943359\" xlink:href=\"#ArialMT-120\"/>\r\n      <use x=\"516.943359\" xlink:href=\"#ArialMT-112\"/>\r\n      <use x=\"572.558594\" xlink:href=\"#ArialMT-101\"/>\r\n      <use x=\"628.173828\" xlink:href=\"#ArialMT-99\"/>\r\n      <use x=\"678.173828\" xlink:href=\"#ArialMT-116\"/>\r\n      <use x=\"705.957031\" xlink:href=\"#ArialMT-101\"/>\r\n      <use x=\"761.572266\" xlink:href=\"#ArialMT-100\"/>\r\n      <use x=\"817.1875\" xlink:href=\"#ArialMT-32\"/>\r\n      <use x=\"844.970703\" xlink:href=\"#ArialMT-118\"/>\r\n      <use x=\"894.970703\" xlink:href=\"#ArialMT-97\"/>\r\n      <use x=\"950.585938\" xlink:href=\"#ArialMT-108\"/>\r\n      <use x=\"972.802734\" xlink:href=\"#ArialMT-117\"/>\r\n      <use x=\"1028.417969\" xlink:href=\"#ArialMT-101\"/>\r\n     </g>\r\n    </g>\r\n    <g id=\"patch_14\">\r\n     <path d=\"M 547.772187 70.962969 \r\nL 569.772187 70.962969 \r\nL 569.772187 63.262969 \r\nL 547.772187 63.262969 \r\nz\r\n\" style=\"fill:#add8e6;stroke:#ffffff;stroke-linejoin:miter;stroke-width:0.4;\"/>\r\n    </g>\r\n    <g id=\"text_21\">\r\n     <!-- dense goal Histogramm -->\r\n     <defs>\r\n      <path d=\"M 8.015625 0 \r\nL 8.015625 71.578125 \r\nL 17.484375 71.578125 \r\nL 17.484375 42.1875 \r\nL 54.6875 42.1875 \r\nL 54.6875 71.578125 \r\nL 64.15625 71.578125 \r\nL 64.15625 0 \r\nL 54.6875 0 \r\nL 54.6875 33.734375 \r\nL 17.484375 33.734375 \r\nL 17.484375 0 \r\nz\r\n\" id=\"ArialMT-72\"/>\r\n     </defs>\r\n     <g style=\"fill:#262626;\" transform=\"translate(578.572187 70.962969)scale(0.11 -0.11)\">\r\n      <use xlink:href=\"#ArialMT-100\"/>\r\n      <use x=\"55.615234\" xlink:href=\"#ArialMT-101\"/>\r\n      <use x=\"111.230469\" xlink:href=\"#ArialMT-110\"/>\r\n      <use x=\"166.845703\" xlink:href=\"#ArialMT-115\"/>\r\n      <use x=\"216.845703\" xlink:href=\"#ArialMT-101\"/>\r\n      <use x=\"272.460938\" xlink:href=\"#ArialMT-32\"/>\r\n      <use x=\"300.244141\" xlink:href=\"#ArialMT-103\"/>\r\n      <use x=\"355.859375\" xlink:href=\"#ArialMT-111\"/>\r\n      <use x=\"411.474609\" xlink:href=\"#ArialMT-97\"/>\r\n      <use x=\"467.089844\" xlink:href=\"#ArialMT-108\"/>\r\n      <use x=\"489.306641\" xlink:href=\"#ArialMT-32\"/>\r\n      <use x=\"517.089844\" xlink:href=\"#ArialMT-72\"/>\r\n      <use x=\"589.306641\" xlink:href=\"#ArialMT-105\"/>\r\n      <use x=\"611.523438\" xlink:href=\"#ArialMT-115\"/>\r\n      <use x=\"661.523438\" xlink:href=\"#ArialMT-116\"/>\r\n      <use x=\"689.306641\" xlink:href=\"#ArialMT-111\"/>\r\n      <use x=\"744.921875\" xlink:href=\"#ArialMT-103\"/>\r\n      <use x=\"800.537109\" xlink:href=\"#ArialMT-114\"/>\r\n      <use x=\"833.837891\" xlink:href=\"#ArialMT-97\"/>\r\n      <use x=\"889.453125\" xlink:href=\"#ArialMT-109\"/>\r\n      <use x=\"972.753906\" xlink:href=\"#ArialMT-109\"/>\r\n     </g>\r\n    </g>\r\n   </g>\r\n  </g>\r\n </g>\r\n <defs>\r\n  <clipPath id=\"paca29a353b\">\r\n   <rect height=\"380.52\" width=\"669.6\" x=\"38.107031\" y=\"21.935625\"/>\r\n  </clipPath>\r\n </defs>\r\n</svg>\r\n",
      "image/png": "[encoded data removed]"
     },
     "metadata": {}
    }
   ],
   "source": [
    "plt.figure(figsize=(12,7)) \n",
    "\n",
    "# Plot histogram of goals\n",
    "plt.hist(home_matches['goals_home'], \n",
    "         bins=6, density=True, \n",
    "         histtype='bar', color='lightblue',\n",
    "         edgecolor='white', linewidth=0.4,\n",
    "         label='dense goal Histogramm')\n",
    "\n",
    "# Create Poission distriution for calculated lambda value\n",
    "t = np.arange(0, 10, 0.1)\n",
    "d = np.exp(-lambda_home)*np.power(lambda_home, t)/factorial(t)\n",
    "plt.plot(t, d, 'bs', color='maroon', alpha=0.5, label='PDF')\n",
    "\n",
    "# Plot lambda value as vertical line\n",
    "plt.axvline(x=lambda_home, color='goldenrod', lw=4, label='lambda / expected value')\n",
    "\n",
    "# Visuals\n",
    "plt.title(\"Probability Density Function / Distribution of goals / Expected Value - lambda\")\n",
    "#plt.ylabel(\"Number of Games\")\n",
    "plt.xlabel(\"Goals\") \n",
    "plt.legend(loc='upper right')\n",
    "plt.grid(color='black', linestyle='-', linewidth=0.25, alpha=0.3)\n",
    "\n",
    "plt.show()"
   ]
  },
  {
   "cell_type": "markdown",
   "metadata": {},
   "source": [
    "## Automate Lambda Calculation"
   ]
  },
  {
   "cell_type": "code",
   "execution_count": 30,
   "metadata": {},
   "outputs": [],
   "source": [
    "def calculate_lambda(team_id):\n",
    "    # Get all the home match data for a specific team\n",
    "    home_matches = train_set.loc[(train_set['home_id'] == team_id)]\n",
    "\n",
    "    # Get all the away match data for a specific team\n",
    "    away_matches = train_set.loc[(train_set['away_id'] == team_id)]\n",
    "\n",
    "    lambda_home = home_matches['goals_home'].sum() / len(home_matches['goals_home'])\n",
    "\n",
    "    lambda_away = away_matches['goals_away'].sum() / len(away_matches['goals_away'])\n",
    "    \n",
    "    lambda_h = (\"UPDATE `team_statistics` SET `lambda_home` = {} WHERE `team_id` = {};\").format(lambda_home, team_id)\n",
    "    lambda_a = (\"UPDATE `team_statistics` SET `lambda_away` = {} WHERE `team_id` = {};\").format(lambda_away, team_id)\n",
    "\n",
    "    con.execute(lambda_h)\n",
    "    con.execute(lambda_a)"
   ]
  },
  {
   "cell_type": "code",
   "execution_count": 31,
   "metadata": {},
   "outputs": [],
   "source": [
    "# Calculating for all teams the lambda for home and away and store it in the table \"team_statistics\"\n",
    "for team_id in unique_team_ids:\n",
    "    calculate_lambda(team_id)"
   ]
  },
  {
   "cell_type": "markdown",
   "metadata": {},
   "source": [
    "## Show all Lambda Values per Team"
   ]
  },
  {
   "cell_type": "code",
   "execution_count": 32,
   "metadata": {},
   "outputs": [
    {
     "output_type": "execute_result",
     "data": {
      "text/plain": "    team_id                  team_name  lambda_home  lambda_away\n0         2        TSG 1899 Hoffenheim      1.60000     2.400000\n1         3        Bayer 04 Leverkusen      1.93333     2.176470\n2         4    BV Borussia 09 Dortmund      3.05882     2.000000\n3         5          FC Bayern München      2.88235     2.437500\n4         6              FC Schalke 04      1.00000     1.333330\n5         8                Hannover 96      1.00000     1.000000\n6         9                 Hertha BSC      1.76923     1.187500\n7        10              VfB Stuttgart      1.31250     0.666667\n8        11              VfL Wolfsburg      2.06250     1.357140\n9        12           SV Werder Bremen      2.06667     1.375000\n10       14             1. FC Nürnberg      1.00000     0.562500\n11       15            1. FSV Mainz 05      1.62500     1.000000\n12       16                FC Augsburg      1.93750     1.000000\n13       17                SC Freiburg      1.85714     0.866667\n14       18   Borussia Mönchengladbach      1.84615     1.538460\n15       19        Eintracht Frankfurt      2.00000     1.647060\n16       24  TSV Fortuna 95 Düsseldorf      1.58824     1.428570\n17      721                 RB Leipzig      2.12500     1.600000",
      "text/html": "<div>\n<style scoped>\n    .dataframe tbody tr th:only-of-type {\n        vertical-align: middle;\n    }\n\n    .dataframe tbody tr th {\n        vertical-align: top;\n    }\n\n    .dataframe thead th {\n        text-align: right;\n    }\n</style>\n<table border=\"1\" class=\"dataframe\">\n  <thead>\n    <tr style=\"text-align: right;\">\n      <th></th>\n      <th>team_id</th>\n      <th>team_name</th>\n      <th>lambda_home</th>\n      <th>lambda_away</th>\n    </tr>\n  </thead>\n  <tbody>\n    <tr>\n      <th>0</th>\n      <td>2</td>\n      <td>TSG 1899 Hoffenheim</td>\n      <td>1.60000</td>\n      <td>2.400000</td>\n    </tr>\n    <tr>\n      <th>1</th>\n      <td>3</td>\n      <td>Bayer 04 Leverkusen</td>\n      <td>1.93333</td>\n      <td>2.176470</td>\n    </tr>\n    <tr>\n      <th>2</th>\n      <td>4</td>\n      <td>BV Borussia 09 Dortmund</td>\n      <td>3.05882</td>\n      <td>2.000000</td>\n    </tr>\n    <tr>\n      <th>3</th>\n      <td>5</td>\n      <td>FC Bayern München</td>\n      <td>2.88235</td>\n      <td>2.437500</td>\n    </tr>\n    <tr>\n      <th>4</th>\n      <td>6</td>\n      <td>FC Schalke 04</td>\n      <td>1.00000</td>\n      <td>1.333330</td>\n    </tr>\n    <tr>\n      <th>5</th>\n      <td>8</td>\n      <td>Hannover 96</td>\n      <td>1.00000</td>\n      <td>1.000000</td>\n    </tr>\n    <tr>\n      <th>6</th>\n      <td>9</td>\n      <td>Hertha BSC</td>\n      <td>1.76923</td>\n      <td>1.187500</td>\n    </tr>\n    <tr>\n      <th>7</th>\n      <td>10</td>\n      <td>VfB Stuttgart</td>\n      <td>1.31250</td>\n      <td>0.666667</td>\n    </tr>\n    <tr>\n      <th>8</th>\n      <td>11</td>\n      <td>VfL Wolfsburg</td>\n      <td>2.06250</td>\n      <td>1.357140</td>\n    </tr>\n    <tr>\n      <th>9</th>\n      <td>12</td>\n      <td>SV Werder Bremen</td>\n      <td>2.06667</td>\n      <td>1.375000</td>\n    </tr>\n    <tr>\n      <th>10</th>\n      <td>14</td>\n      <td>1. FC Nürnberg</td>\n      <td>1.00000</td>\n      <td>0.562500</td>\n    </tr>\n    <tr>\n      <th>11</th>\n      <td>15</td>\n      <td>1. FSV Mainz 05</td>\n      <td>1.62500</td>\n      <td>1.000000</td>\n    </tr>\n    <tr>\n      <th>12</th>\n      <td>16</td>\n      <td>FC Augsburg</td>\n      <td>1.93750</td>\n      <td>1.000000</td>\n    </tr>\n    <tr>\n      <th>13</th>\n      <td>17</td>\n      <td>SC Freiburg</td>\n      <td>1.85714</td>\n      <td>0.866667</td>\n    </tr>\n    <tr>\n      <th>14</th>\n      <td>18</td>\n      <td>Borussia Mönchengladbach</td>\n      <td>1.84615</td>\n      <td>1.538460</td>\n    </tr>\n    <tr>\n      <th>15</th>\n      <td>19</td>\n      <td>Eintracht Frankfurt</td>\n      <td>2.00000</td>\n      <td>1.647060</td>\n    </tr>\n    <tr>\n      <th>16</th>\n      <td>24</td>\n      <td>TSV Fortuna 95 Düsseldorf</td>\n      <td>1.58824</td>\n      <td>1.428570</td>\n    </tr>\n    <tr>\n      <th>17</th>\n      <td>721</td>\n      <td>RB Leipzig</td>\n      <td>2.12500</td>\n      <td>1.600000</td>\n    </tr>\n  </tbody>\n</table>\n</div>"
     },
     "metadata": {},
     "execution_count": 32
    }
   ],
   "source": [
    "all_lambda = pd.read_sql_table('team_statistics', con=con)\n",
    "all_lambda"
   ]
  },
  {
   "cell_type": "markdown",
   "metadata": {},
   "source": [
    "## Findings\n",
    "Due to the lack of available data (Corona Virus) the error rate of the function might be too high. We see that that fit is somehow \"ok-ish\". If there would be more data the function would also be more accurate. As the goal of this challenge is NOT to have a perfect betting system, instead of that, just to figure out how it could work, I will continue with this approach. As I follow the rule to not repeat myself I will construct a function to extract the lambda values for each team in an easy manner.\n",
    "\n",
    "As it is visible we have for every team different performances for matches at home and matches away. Also teams like FC Bayern München have quite a high performance compared to a team like SC Freiburg. Those two teams are most of the season somewhere at the top (FC Bayern München) respectively in the lower range (SC Freiburg). This indicates that the performance measure might actually work out"
   ]
  },
  {
   "cell_type": "markdown",
   "metadata": {},
   "source": [
    "# Create a performance model for probability model\n",
    "In order to calculate the outcome of a match between two teams I will let both teams play virtually a couple of tousand times to see how many times each team will winn or how many times we will see a draw. In order to do so I will proceed with following steps:\n",
    "- Check which team is playing at home and away\n",
    "- Load the respective lambdas for each team\n",
    "- Perform a Monte Carlo Simulation several tousand times with a Poission distribution\n",
    "- --> The Poission distribution will calculate how many goals each team will socre\n",
    "- --> The goals are rounded to integers\n",
    "- Evaulate the results:\n",
    "- --> The team with more goals will win\n",
    "- --> The team with less goals will lose\n",
    "- --> If both teams have same amount of goals, it's a draw"
   ]
  },
  {
   "cell_type": "markdown",
   "metadata": {},
   "source": [
    "## Testsimulation\n",
    "Before creating the function, I will build it step by step with some pre defined examples"
   ]
  },
  {
   "cell_type": "code",
   "execution_count": 40,
   "metadata": {},
   "outputs": [
    {
     "output_type": "stream",
     "name": "stdout",
     "text": "3.05882\n0.5625\n"
    }
   ],
   "source": [
    "# Fetching lambda values for home and away team\n",
    "team_id_home = 4\n",
    "data = 'SELECT lambda_home FROM sportwetten.team_statistics WHERE team_id = %i' % team_id_home\n",
    "data_df = pd.read_sql(data, con=con)\n",
    "lambda_home_team = data_df['lambda_home'][0]\n",
    "print(lambda_home_team)\n",
    "\n",
    "team_id_away = 14\n",
    "data = 'SELECT lambda_away FROM sportwetten.team_statistics WHERE team_id = %i' % team_id_away\n",
    "data_df = pd.read_sql(data, con=con)\n",
    "lambda_away_team = data_df['lambda_away'][0]\n",
    "print(lambda_away_team)"
   ]
  },
  {
   "cell_type": "code",
   "execution_count": 41,
   "metadata": {},
   "outputs": [
    {
     "output_type": "stream",
     "name": "stdout",
     "text": "4\n2\n"
    }
   ],
   "source": [
    "# Check what would be the output based on a random poission distribution\n",
    "goals_home = round(np.random.poisson(lambda_home_team))\n",
    "print(goals_home)\n",
    "\n",
    "goals_away = round(np.random.poisson(lambda_away_team))\n",
    "print(goals_away)"
   ]
  },
  {
   "cell_type": "code",
   "execution_count": 42,
   "metadata": {},
   "outputs": [],
   "source": [
    "# Setting the counting values at zero\n",
    "win_home = 0\n",
    "win_away = 0\n",
    "draw = 0"
   ]
  },
  {
   "cell_type": "code",
   "execution_count": 43,
   "metadata": {},
   "outputs": [],
   "source": [
    "# Implement logic to count end result of matches\n",
    "if goals_home > goals_away:\n",
    "    win_home += 1\n",
    "elif goals_home < goals_away:\n",
    "    win_away += 1\n",
    "else:\n",
    "    draw += 1"
   ]
  },
  {
   "cell_type": "code",
   "execution_count": 44,
   "metadata": {},
   "outputs": [
    {
     "output_type": "stream",
     "name": "stdout",
     "text": "0\n1\n0\n"
    }
   ],
   "source": [
    "# Print the counting values to see if the result machtes with counting\n",
    "print(win_away)\n",
    "print(win_home)\n",
    "print(draw)"
   ]
  },
  {
   "cell_type": "markdown",
   "metadata": {},
   "source": [
    "## Create Match prediction probability function"
   ]
  },
  {
   "cell_type": "code",
   "execution_count": 45,
   "metadata": {},
   "outputs": [],
   "source": [
    "def match_prediction_prob (team_away_id, team_home_id, iterrations):\n",
    "\n",
    "    # Fetch lambda value for home and away team\n",
    "    data = 'SELECT lambda_home FROM sportwetten.team_statistics WHERE team_id = %i' % team_home_id\n",
    "    data_df = pd.read_sql(data, con=con)\n",
    "    lambda_home_team = data_df['lambda_home'][0]\n",
    "\n",
    "    data = 'SELECT lambda_away FROM sportwetten.team_statistics WHERE team_id = %i' % team_away_id\n",
    "    data_df = pd.read_sql(data, con=con)\n",
    "    lambda_away_team = data_df['lambda_away'][0]\n",
    "\n",
    "    # Setting counting values at zero\n",
    "    win_home = 0\n",
    "    win_away = 0\n",
    "    draw = 0\n",
    "    attempts = 0\n",
    "\n",
    "    # calculate the number of steps for interactive visualisation\n",
    "    steps = 10\n",
    "    lenght_df = int((iterrations/steps))\n",
    "\n",
    "    # create an empty DataFrame to be filled for interactive visualisation\n",
    "    feature_list = ['matches', 'wins_home', 'wins_away', 'draws']\n",
    "    df_viz = pd.DataFrame(0, index=np.arange(lenght_df), columns=feature_list)\n",
    "\n",
    "\n",
    "    for n in range(iterrations):\n",
    "        goals_home = np.random.poisson(lambda_home_team)\n",
    "        goals_away = np.random.poisson(lambda_away_team)\n",
    "\n",
    "        if goals_home > goals_away:\n",
    "            win_home += 1\n",
    "        elif goals_home < goals_away:\n",
    "            win_away += 1\n",
    "        else:\n",
    "            draw += 1\n",
    "        i = n+1\n",
    "\n",
    "        if i % 10 == 0:\n",
    "            i_int = int(i)\n",
    "            step_index = int(i/steps)\n",
    "            df_viz.at[i/steps, 'matches'] = i_int\n",
    "            df_viz.at[i/steps, 'wins_home'] = win_home / (n+1)\n",
    "            df_viz.at[i/steps, 'wins_away'] = win_away / (n+1)\n",
    "            df_viz.at[i/steps, 'draws'] = draw/ (n+1)\n",
    "    df_viz.matches = df_viz.matches.astype(int)\n",
    "    return df_viz\n"
   ]
  },
  {
   "cell_type": "code",
   "execution_count": 47,
   "metadata": {
    "tags": [
     "outputPrepend",
     "outputPrepend",
     "outputPrepend",
     "outputPrepend",
     "outputPrepend",
     "outputPrepend",
     "outputPrepend",
     "outputPrepend",
     "outputPrepend",
     "outputPrepend",
     "outputPrepend",
     "outputPrepend",
     "outputPrepend",
     "outputPrepend",
     "outputPrepend",
     "outputPrepend",
     "outputPrepend",
     "outputPrepend",
     "outputPrepend",
     "outputPrepend",
     "outputPrepend",
     "outputPrepend",
     "outputPrepend",
     "outputPrepend",
     "outputPrepend",
     "outputPrepend",
     "outputPrepend",
     "outputPrepend",
     "outputPrepend",
     "outputPrepend",
     "outputPrepend",
     "outputPrepend",
     "outputPrepend",
     "outputPrepend",
     "outputPrepend",
     "outputPrepend",
     "outputPrepend",
     "outputPrepend",
     "outputPrepend",
     "outputPrepend",
     "outputPrepend",
     "outputPrepend",
     "outputPrepend",
     "outputPrepend",
     "outputPrepend",
     "outputPrepend",
     "outputPrepend",
     "outputPrepend",
     "outputPrepend",
     "outputPrepend",
     "outputPrepend",
     "outputPrepend",
     "outputPrepend",
     "outputPrepend",
     "outputPrepend",
     "outputPrepend",
     "outputPrepend",
     "outputPrepend"
    ]
   },
   "outputs": [
    {
     "output_type": "execute_result",
     "data": {
      "text/plain": "   matches  wins_home  wins_away     draws\n0        0      0.000   0.000000  0.000000\n1       10      0.100   0.600000  0.300000\n2       20      0.200   0.600000  0.200000\n3       30      0.200   0.533333  0.266667\n4       40      0.175   0.625000  0.200000",
      "text/html": "<div>\n<style scoped>\n    .dataframe tbody tr th:only-of-type {\n        vertical-align: middle;\n    }\n\n    .dataframe tbody tr th {\n        vertical-align: top;\n    }\n\n    .dataframe thead th {\n        text-align: right;\n    }\n</style>\n<table border=\"1\" class=\"dataframe\">\n  <thead>\n    <tr style=\"text-align: right;\">\n      <th></th>\n      <th>matches</th>\n      <th>wins_home</th>\n      <th>wins_away</th>\n      <th>draws</th>\n    </tr>\n  </thead>\n  <tbody>\n    <tr>\n      <th>0</th>\n      <td>0</td>\n      <td>0.000</td>\n      <td>0.000000</td>\n      <td>0.000000</td>\n    </tr>\n    <tr>\n      <th>1</th>\n      <td>10</td>\n      <td>0.100</td>\n      <td>0.600000</td>\n      <td>0.300000</td>\n    </tr>\n    <tr>\n      <th>2</th>\n      <td>20</td>\n      <td>0.200</td>\n      <td>0.600000</td>\n      <td>0.200000</td>\n    </tr>\n    <tr>\n      <th>3</th>\n      <td>30</td>\n      <td>0.200</td>\n      <td>0.533333</td>\n      <td>0.266667</td>\n    </tr>\n    <tr>\n      <th>4</th>\n      <td>40</td>\n      <td>0.175</td>\n      <td>0.625000</td>\n      <td>0.200000</td>\n    </tr>\n  </tbody>\n</table>\n</div>"
     },
     "metadata": {},
     "execution_count": 47
    }
   ],
   "source": [
    "predictions = match_prediction_prob(4,14,5000)\n",
    "predictions.head(5)"
   ]
  },
  {
   "cell_type": "markdown",
   "metadata": {},
   "source": [
    "# Create interactive visualisation\n",
    "It would be nice to see some race bars how the probabilities evolve over time (number of matches). In this chapter I am going to show you how i built the Interactive visualisation and create an mp4 video that is able to display it\n",
    "\n",
    "As there are not many possibilities from library perspective, I had to lean heavily on the work of Ted Petrou. Following things have been done by myself:\n",
    "- Adapting Data to fit into the production\n",
    "- Adapt styling\n",
    "- Adapt description within the visualisations\n",
    "\n",
    "The link to the work of Ted can be found here:\n",
    "\n",
    "https://medium.com/dunder-data/create-a-bar-chart-race-animation-in-python-with-matplotlib-477ed1590096"
   ]
  },
  {
   "cell_type": "code",
   "execution_count": 48,
   "metadata": {},
   "outputs": [],
   "source": [
    "def interactive_prediction (home_id, away_id, attempts):\n",
    "    # Load data with the help of the previously created function\n",
    "    data = match_prediction_prob(home_id, away_id, attempts).set_index('matches')\n",
    "\n",
    "    # Load team name\n",
    "    query_home = 'SELECT team_name FROM sportwetten.team_statistics WHERE team_id = %i' % home_id\n",
    "    home_team_name = pd.read_sql(query_home, con=con)\n",
    "    home_team_name = home_team_name.team_name[0]\n",
    "\n",
    "    query_away = 'SELECT team_name FROM sportwetten.team_statistics WHERE team_id = %i' % away_id\n",
    "    away_team_name = pd.read_sql(query_away, con=con)\n",
    "    away_team_name = away_team_name.team_name[0]\n",
    "\n",
    "    # Get the last index of the DataFrame\n",
    "    last = data.index[-1]\n",
    "    data = data.reset_index()\n",
    "\n",
    "    # Create a step to make sure every possible lenght of data can match the function\n",
    "    df2 = data.loc[0:last]\n",
    "    df2 = df2.reset_index()\n",
    "\n",
    "    # Prolong the Frame to create space for intrapolation\n",
    "    df2.index = df2.index * 5\n",
    "    last_index = df2.index[-1] + 1\n",
    "    df_expanded = df2.reindex(range(last_index))\n",
    "\n",
    "    # Fill up the new created cells with NaN\n",
    "    df_expanded['matches'] = df_expanded['matches'].fillna(method='ffill')\n",
    "    df_expanded = df_expanded.set_index('matches')\n",
    "\n",
    "    # Drop the old index columns, as this would only make a messy visualisation\n",
    "    df_expanded = df_expanded.drop(columns=['index'])\n",
    "\n",
    "    # Intrapolate linearly from one step to the next\n",
    "    df_expanded = df_expanded.interpolate()\n",
    "\n",
    "    # Create a ranking to make sure the colors remain at the same values\n",
    "    df_rank_expanded = df_expanded.rank(axis=1, method='first')\n",
    "    df_rank_expanded = df_rank_expanded.interpolate()\n",
    "\n",
    "    # Define styling for the visualisation of the axles\n",
    "    def nice_axes(ax):\n",
    "        ax.set_facecolor('.2')\n",
    "        ax.tick_params(labelsize=7, length=0)\n",
    "        ax.grid(True, axis='x', color='grey')\n",
    "        ax.set_axisbelow(True)\n",
    "        [spine.set_visible(False) for spine in ax.spines.values()]\n",
    "\n",
    "    # For every loop of pictures that is created the graphic must be cleared\n",
    "    def init():\n",
    "        ax.clear()\n",
    "        nice_axes(ax)\n",
    "\n",
    "    # Loops through all rows of DataFrame to create a \"video\"\n",
    "    def update(i):\n",
    "        for bar in ax.containers:\n",
    "            bar.remove()\n",
    "        y = df_rank_expanded.iloc[i]\n",
    "\n",
    "        width = df_expanded.iloc[i]\n",
    "        labels = df_expanded.columns\n",
    "        ax.barh(y=y, width=width, color=colors, tick_label=labels)\n",
    "        date_str = df_expanded.index[i]\n",
    "        ax.tick_params(labelsize=6)\n",
    "        ax.set_title('Who wins the match? Probability calculation between \\n %s (Home) and %s (Away) after %i matches' % (home_team_name, away_team_name, date_str), fontsize=6)\n",
    "        \n",
    "    fig = plt.Figure( dpi=144)\n",
    "    colors = plt.cm.tab10(range(3))\n",
    "    ax = fig.add_subplot()\n",
    "\n",
    "    # Use the animation library to put all the picutres into a slideshow which can appear as vides\n",
    "    anim2 = FuncAnimation(fig=fig, func=update, init_func=init, frames=len(df_expanded), \n",
    "                        interval=50, repeat=False)\n",
    "    \n",
    "    # Safe the created video\n",
    "    anim2.save('%s vs %s.mp4' % (home_team_name, away_team_name))"
   ]
  },
  {
   "cell_type": "markdown",
   "metadata": {},
   "source": [
    "In order to create a racebar plot, please use the function bellow. You need to put in 3 different inputs:\n",
    "- 1st is the home team id\n",
    "- 2nd is the away team id\n",
    "- 3rd is the amount of matches that should be play against\n",
    "\n",
    "Once the calculation is done, you can find the video in the working directory of this file with the naming: Home_Team vs Away_Team.mp4"
   ]
  },
  {
   "cell_type": "code",
   "execution_count": 49,
   "metadata": {},
   "outputs": [],
   "source": [
    "# This is an example production with team 4 and 14 and 1000 matches\n",
    "interactive_prediction(4,14,1000)"
   ]
  },
  {
   "cell_type": "markdown",
   "metadata": {},
   "source": [
    "# Load past betting quotes\n",
    "## Download Data for season 2018/2019"
   ]
  },
  {
   "cell_type": "code",
   "execution_count": 50,
   "metadata": {
    "tags": [
     "outputPrepend",
     "outputPrepend",
     "outputPrepend",
     "outputPrepend",
     "outputPrepend",
     "outputPrepend",
     "outputPrepend",
     "outputPrepend",
     "outputPrepend",
     "outputPrepend",
     "outputPrepend",
     "outputPrepend",
     "outputPrepend",
     "outputPrepend",
     "outputPrepend",
     "outputPrepend",
     "outputPrepend",
     "outputPrepend",
     "outputPrepend",
     "outputPrepend",
     "outputPrepend",
     "outputPrepend",
     "outputPrepend",
     "outputPrepend",
     "outputPrepend",
     "outputPrepend",
     "outputPrepend",
     "outputPrepend",
     "outputPrepend",
     "outputPrepend",
     "outputPrepend",
     "outputPrepend",
     "outputPrepend",
     "outputPrepend",
     "outputPrepend",
     "outputPrepend",
     "outputPrepend",
     "outputPrepend",
     "outputPrepend",
     "outputPrepend",
     "outputPrepend",
     "outputPrepend",
     "outputPrepend",
     "outputPrepend",
     "outputPrepend",
     "outputPrepend",
     "outputPrepend",
     "outputPrepend",
     "outputPrepend",
     "outputPrepend",
     "outputPrepend",
     "outputPrepend",
     "outputPrepend",
     "outputPrepend",
     "outputPrepend",
     "outputPrepend",
     "outputPrepend"
    ]
   },
   "outputs": [
    {
     "output_type": "execute_result",
     "data": {
      "text/plain": "  Div        Date            HomeTeam    AwayTeam  FTHG  FTAG FTR  HTHG  HTAG  \\\n0  D1  24/08/2018       Bayern Munich  Hoffenheim     3     1   H     1     0   \n1  D1  25/08/2018  Fortuna Dusseldorf    Augsburg     1     2   A     1     0   \n\n  HTR  ...  BbAv<2.5  BbAH  BbAHh  BbMxAHH  BbAvAHH  BbMxAHA  BbAvAHA  PSCH  \\\n0   H  ...      3.55    22   -2.0     1.92     1.87     2.05     1.99  1.23   \n1   H  ...      1.76    20    0.0     1.80     1.76     2.17     2.11  2.74   \n\n   PSCD   PSCA  \n0  7.15  14.10  \n1  3.33   2.78  \n\n[2 rows x 61 columns]",
      "text/html": "<div>\n<style scoped>\n    .dataframe tbody tr th:only-of-type {\n        vertical-align: middle;\n    }\n\n    .dataframe tbody tr th {\n        vertical-align: top;\n    }\n\n    .dataframe thead th {\n        text-align: right;\n    }\n</style>\n<table border=\"1\" class=\"dataframe\">\n  <thead>\n    <tr style=\"text-align: right;\">\n      <th></th>\n      <th>Div</th>\n      <th>Date</th>\n      <th>HomeTeam</th>\n      <th>AwayTeam</th>\n      <th>FTHG</th>\n      <th>FTAG</th>\n      <th>FTR</th>\n      <th>HTHG</th>\n      <th>HTAG</th>\n      <th>HTR</th>\n      <th>...</th>\n      <th>BbAv&lt;2.5</th>\n      <th>BbAH</th>\n      <th>BbAHh</th>\n      <th>BbMxAHH</th>\n      <th>BbAvAHH</th>\n      <th>BbMxAHA</th>\n      <th>BbAvAHA</th>\n      <th>PSCH</th>\n      <th>PSCD</th>\n      <th>PSCA</th>\n    </tr>\n  </thead>\n  <tbody>\n    <tr>\n      <th>0</th>\n      <td>D1</td>\n      <td>24/08/2018</td>\n      <td>Bayern Munich</td>\n      <td>Hoffenheim</td>\n      <td>3</td>\n      <td>1</td>\n      <td>H</td>\n      <td>1</td>\n      <td>0</td>\n      <td>H</td>\n      <td>...</td>\n      <td>3.55</td>\n      <td>22</td>\n      <td>-2.0</td>\n      <td>1.92</td>\n      <td>1.87</td>\n      <td>2.05</td>\n      <td>1.99</td>\n      <td>1.23</td>\n      <td>7.15</td>\n      <td>14.10</td>\n    </tr>\n    <tr>\n      <th>1</th>\n      <td>D1</td>\n      <td>25/08/2018</td>\n      <td>Fortuna Dusseldorf</td>\n      <td>Augsburg</td>\n      <td>1</td>\n      <td>2</td>\n      <td>A</td>\n      <td>1</td>\n      <td>0</td>\n      <td>H</td>\n      <td>...</td>\n      <td>1.76</td>\n      <td>20</td>\n      <td>0.0</td>\n      <td>1.80</td>\n      <td>1.76</td>\n      <td>2.17</td>\n      <td>2.11</td>\n      <td>2.74</td>\n      <td>3.33</td>\n      <td>2.78</td>\n    </tr>\n  </tbody>\n</table>\n<p>2 rows × 61 columns</p>\n</div>"
     },
     "metadata": {},
     "execution_count": 50
    }
   ],
   "source": [
    "# Download the data from the website and safe into CSV File\n",
    "url = requests.get('https://www.football-data.co.uk/germanym.php').text\n",
    "dirs = 'mmz4281/1819/D1.csv'\n",
    "\n",
    "soup = bs(url)\n",
    "for link in soup.findAll(\"a\"):\n",
    "    current_link = link.get(\"href\")\n",
    "    if current_link.endswith((dirs)):\n",
    "        response = requests.get('http://www.football-data.co.uk/%s' % current_link, stream=True)\n",
    "        fn = current_link.split('/')[0] + '_' + current_link.split('/')[1] + '_' + current_link.split('/')[2]\n",
    "        with open (fn, \"wb\") as handle:\n",
    "            for data in response.iter_content():\n",
    "                handle.write(data)\n",
    "\n",
    "betting_history = pd.read_csv('mmz4281_1819_D1.csv')\n",
    "betting_history.head(2)"
   ]
  },
  {
   "cell_type": "code",
   "execution_count": 51,
   "metadata": {},
   "outputs": [
    {
     "output_type": "execute_result",
     "data": {
      "text/plain": "  Div       Date            HomeTeam    AwayTeam  FTHG  FTAG FTR  HTHG  HTAG  \\\n0  D1 2018-08-24       Bayern Munich  Hoffenheim     3     1   H     1     0   \n1  D1 2018-08-25  Fortuna Dusseldorf    Augsburg     1     2   A     1     0   \n\n  HTR  ...  BbAv<2.5  BbAH  BbAHh  BbMxAHH  BbAvAHH  BbMxAHA  BbAvAHA  PSCH  \\\n0   H  ...      3.55    22   -2.0     1.92     1.87     2.05     1.99  1.23   \n1   H  ...      1.76    20    0.0     1.80     1.76     2.17     2.11  2.74   \n\n   PSCD   PSCA  \n0  7.15  14.10  \n1  3.33   2.78  \n\n[2 rows x 61 columns]",
      "text/html": "<div>\n<style scoped>\n    .dataframe tbody tr th:only-of-type {\n        vertical-align: middle;\n    }\n\n    .dataframe tbody tr th {\n        vertical-align: top;\n    }\n\n    .dataframe thead th {\n        text-align: right;\n    }\n</style>\n<table border=\"1\" class=\"dataframe\">\n  <thead>\n    <tr style=\"text-align: right;\">\n      <th></th>\n      <th>Div</th>\n      <th>Date</th>\n      <th>HomeTeam</th>\n      <th>AwayTeam</th>\n      <th>FTHG</th>\n      <th>FTAG</th>\n      <th>FTR</th>\n      <th>HTHG</th>\n      <th>HTAG</th>\n      <th>HTR</th>\n      <th>...</th>\n      <th>BbAv&lt;2.5</th>\n      <th>BbAH</th>\n      <th>BbAHh</th>\n      <th>BbMxAHH</th>\n      <th>BbAvAHH</th>\n      <th>BbMxAHA</th>\n      <th>BbAvAHA</th>\n      <th>PSCH</th>\n      <th>PSCD</th>\n      <th>PSCA</th>\n    </tr>\n  </thead>\n  <tbody>\n    <tr>\n      <th>0</th>\n      <td>D1</td>\n      <td>2018-08-24</td>\n      <td>Bayern Munich</td>\n      <td>Hoffenheim</td>\n      <td>3</td>\n      <td>1</td>\n      <td>H</td>\n      <td>1</td>\n      <td>0</td>\n      <td>H</td>\n      <td>...</td>\n      <td>3.55</td>\n      <td>22</td>\n      <td>-2.0</td>\n      <td>1.92</td>\n      <td>1.87</td>\n      <td>2.05</td>\n      <td>1.99</td>\n      <td>1.23</td>\n      <td>7.15</td>\n      <td>14.10</td>\n    </tr>\n    <tr>\n      <th>1</th>\n      <td>D1</td>\n      <td>2018-08-25</td>\n      <td>Fortuna Dusseldorf</td>\n      <td>Augsburg</td>\n      <td>1</td>\n      <td>2</td>\n      <td>A</td>\n      <td>1</td>\n      <td>0</td>\n      <td>H</td>\n      <td>...</td>\n      <td>1.76</td>\n      <td>20</td>\n      <td>0.0</td>\n      <td>1.80</td>\n      <td>1.76</td>\n      <td>2.17</td>\n      <td>2.11</td>\n      <td>2.74</td>\n      <td>3.33</td>\n      <td>2.78</td>\n    </tr>\n  </tbody>\n</table>\n<p>2 rows × 61 columns</p>\n</div>"
     },
     "metadata": {},
     "execution_count": 51
    }
   ],
   "source": [
    "# Transform the Date into the same format as Date from previous data\n",
    "betting_history['Date'] = pd.to_datetime(betting_history['Date'])\n",
    "betting_history.head(2)"
   ]
  },
  {
   "cell_type": "markdown",
   "metadata": {},
   "source": [
    "### As it can be seen above, the data is full of not fully understandable columns and data. \n",
    "### In order to understand it one can check the notes which can be found here:\n",
    "https://www.football-data.co.uk/notes.txt"
   ]
  },
  {
   "cell_type": "markdown",
   "metadata": {},
   "source": [
    "The Data that we need is:\n",
    "- Team Name in order to align Name and ID with the data we already have\n",
    "- Which team is Home and which is away\n",
    "- Score after Full Time\n",
    "- Date in order to find the matchday\n",
    "- Betting History for:\n",
    "    - Win Home\n",
    "    - Win Away\n",
    "    - Draw\n",
    "\n",
    "For the history data that means we will keep:\n",
    "\n",
    "- 'Date' for the Date\n",
    "- HomeTeam for home_name\n",
    "- AwayTeam for away_name\n",
    "- FTHG (FullTimeHomeGoal) for goals_home\n",
    "- FTAG (FullTimeAwayGoal) for goals_away\n",
    "- Betting History from Bet & Win:\n",
    "    - BWH (Bet&Win home win odds) for home_victory_real\n",
    "    - BWA (Bet&Win away win odds) for away_victory_real\n",
    "    - BWD (Bet&Win draw odds) for draw_real"
   ]
  },
  {
   "cell_type": "code",
   "execution_count": 52,
   "metadata": {},
   "outputs": [
    {
     "output_type": "execute_result",
     "data": {
      "text/plain": "          Date            HomeTeam       AwayTeam  FTHG  FTAG   BWH    BWA  \\\n0   2018-08-24       Bayern Munich     Hoffenheim     3     1  1.20  11.50   \n1   2018-08-25  Fortuna Dusseldorf       Augsburg     1     2  2.40   3.00   \n2   2018-08-25            Freiburg  Ein Frankfurt     0     2  2.35   3.20   \n3   2018-08-25              Hertha       Nurnberg     1     0  2.05   3.70   \n4   2018-08-25          M'gladbach     Leverkusen     2     0  2.85   2.40   \n..         ...                 ...            ...   ...   ...   ...    ...   \n301 2019-05-18               Mainz     Hoffenheim     4     2  4.33   1.62   \n302 2019-05-18          M'gladbach       Dortmund     0     2  2.95   2.15   \n303 2019-05-18          Schalke 04      Stuttgart     0     0  1.62   5.00   \n304 2019-05-18       Werder Bremen     RB Leipzig     2     1  2.65   2.45   \n305 2019-05-18           Wolfsburg       Augsburg     8     1  1.45   6.25   \n\n      BWD  \n0    7.50  \n1    3.30  \n2    3.20  \n3    3.40  \n4    3.50  \n..    ...  \n301  5.00  \n302  4.10  \n303  4.33  \n304  3.80  \n305  5.00  \n\n[306 rows x 8 columns]",
      "text/html": "<div>\n<style scoped>\n    .dataframe tbody tr th:only-of-type {\n        vertical-align: middle;\n    }\n\n    .dataframe tbody tr th {\n        vertical-align: top;\n    }\n\n    .dataframe thead th {\n        text-align: right;\n    }\n</style>\n<table border=\"1\" class=\"dataframe\">\n  <thead>\n    <tr style=\"text-align: right;\">\n      <th></th>\n      <th>Date</th>\n      <th>HomeTeam</th>\n      <th>AwayTeam</th>\n      <th>FTHG</th>\n      <th>FTAG</th>\n      <th>BWH</th>\n      <th>BWA</th>\n      <th>BWD</th>\n    </tr>\n  </thead>\n  <tbody>\n    <tr>\n      <th>0</th>\n      <td>2018-08-24</td>\n      <td>Bayern Munich</td>\n      <td>Hoffenheim</td>\n      <td>3</td>\n      <td>1</td>\n      <td>1.20</td>\n      <td>11.50</td>\n      <td>7.50</td>\n    </tr>\n    <tr>\n      <th>1</th>\n      <td>2018-08-25</td>\n      <td>Fortuna Dusseldorf</td>\n      <td>Augsburg</td>\n      <td>1</td>\n      <td>2</td>\n      <td>2.40</td>\n      <td>3.00</td>\n      <td>3.30</td>\n    </tr>\n    <tr>\n      <th>2</th>\n      <td>2018-08-25</td>\n      <td>Freiburg</td>\n      <td>Ein Frankfurt</td>\n      <td>0</td>\n      <td>2</td>\n      <td>2.35</td>\n      <td>3.20</td>\n      <td>3.20</td>\n    </tr>\n    <tr>\n      <th>3</th>\n      <td>2018-08-25</td>\n      <td>Hertha</td>\n      <td>Nurnberg</td>\n      <td>1</td>\n      <td>0</td>\n      <td>2.05</td>\n      <td>3.70</td>\n      <td>3.40</td>\n    </tr>\n    <tr>\n      <th>4</th>\n      <td>2018-08-25</td>\n      <td>M'gladbach</td>\n      <td>Leverkusen</td>\n      <td>2</td>\n      <td>0</td>\n      <td>2.85</td>\n      <td>2.40</td>\n      <td>3.50</td>\n    </tr>\n    <tr>\n      <th>...</th>\n      <td>...</td>\n      <td>...</td>\n      <td>...</td>\n      <td>...</td>\n      <td>...</td>\n      <td>...</td>\n      <td>...</td>\n      <td>...</td>\n    </tr>\n    <tr>\n      <th>301</th>\n      <td>2019-05-18</td>\n      <td>Mainz</td>\n      <td>Hoffenheim</td>\n      <td>4</td>\n      <td>2</td>\n      <td>4.33</td>\n      <td>1.62</td>\n      <td>5.00</td>\n    </tr>\n    <tr>\n      <th>302</th>\n      <td>2019-05-18</td>\n      <td>M'gladbach</td>\n      <td>Dortmund</td>\n      <td>0</td>\n      <td>2</td>\n      <td>2.95</td>\n      <td>2.15</td>\n      <td>4.10</td>\n    </tr>\n    <tr>\n      <th>303</th>\n      <td>2019-05-18</td>\n      <td>Schalke 04</td>\n      <td>Stuttgart</td>\n      <td>0</td>\n      <td>0</td>\n      <td>1.62</td>\n      <td>5.00</td>\n      <td>4.33</td>\n    </tr>\n    <tr>\n      <th>304</th>\n      <td>2019-05-18</td>\n      <td>Werder Bremen</td>\n      <td>RB Leipzig</td>\n      <td>2</td>\n      <td>1</td>\n      <td>2.65</td>\n      <td>2.45</td>\n      <td>3.80</td>\n    </tr>\n    <tr>\n      <th>305</th>\n      <td>2019-05-18</td>\n      <td>Wolfsburg</td>\n      <td>Augsburg</td>\n      <td>8</td>\n      <td>1</td>\n      <td>1.45</td>\n      <td>6.25</td>\n      <td>5.00</td>\n    </tr>\n  </tbody>\n</table>\n<p>306 rows × 8 columns</p>\n</div>"
     },
     "metadata": {},
     "execution_count": 52
    }
   ],
   "source": [
    "# Filter out the needed columns\n",
    "betting_history = betting_history.filter(['Date', 'HomeTeam', 'AwayTeam', 'FTHG', 'FTAG', 'BWH', 'BWA', 'BWD'], axis=1)\n",
    "betting_history"
   ]
  },
  {
   "cell_type": "markdown",
   "metadata": {},
   "source": [
    "## Transform the betting data into usable format to compare to prior data set\n",
    "In order to reuse the set the easiest way to do so is to have the same format of the date (already done) and give every team the same ID as before, as alligning the names is too much effort and comparing numbers is easier than comparing strings"
   ]
  },
  {
   "cell_type": "code",
   "execution_count": 53,
   "metadata": {},
   "outputs": [
    {
     "output_type": "execute_result",
     "data": {
      "text/plain": "        date           home_name   away_name  goals_home  goals_away  \\\n0 2018-08-24       Bayern Munich  Hoffenheim           3           1   \n1 2018-08-25  Fortuna Dusseldorf    Augsburg           1           2   \n\n   home_victory_real  away_victory_real  draw_real home_id away_id  \n0                1.2               11.5        7.5                  \n1                2.4                3.0        3.3                  ",
      "text/html": "<div>\n<style scoped>\n    .dataframe tbody tr th:only-of-type {\n        vertical-align: middle;\n    }\n\n    .dataframe tbody tr th {\n        vertical-align: top;\n    }\n\n    .dataframe thead th {\n        text-align: right;\n    }\n</style>\n<table border=\"1\" class=\"dataframe\">\n  <thead>\n    <tr style=\"text-align: right;\">\n      <th></th>\n      <th>date</th>\n      <th>home_name</th>\n      <th>away_name</th>\n      <th>goals_home</th>\n      <th>goals_away</th>\n      <th>home_victory_real</th>\n      <th>away_victory_real</th>\n      <th>draw_real</th>\n      <th>home_id</th>\n      <th>away_id</th>\n    </tr>\n  </thead>\n  <tbody>\n    <tr>\n      <th>0</th>\n      <td>2018-08-24</td>\n      <td>Bayern Munich</td>\n      <td>Hoffenheim</td>\n      <td>3</td>\n      <td>1</td>\n      <td>1.2</td>\n      <td>11.5</td>\n      <td>7.5</td>\n      <td></td>\n      <td></td>\n    </tr>\n    <tr>\n      <th>1</th>\n      <td>2018-08-25</td>\n      <td>Fortuna Dusseldorf</td>\n      <td>Augsburg</td>\n      <td>1</td>\n      <td>2</td>\n      <td>2.4</td>\n      <td>3.0</td>\n      <td>3.3</td>\n      <td></td>\n      <td></td>\n    </tr>\n  </tbody>\n</table>\n</div>"
     },
     "metadata": {},
     "execution_count": 53
    }
   ],
   "source": [
    "# First rename columns for easier understanding\n",
    "betting_history = betting_history.rename(columns={\n",
    "    'HomeTeam': 'home_name',\n",
    "    'AwayTeam': 'away_name',\n",
    "    'FTHG' : 'goals_home', \n",
    "    'FTAG' : 'goals_away',\n",
    "    'BWH' : 'home_victory_real',\n",
    "    'BWA' : 'away_victory_real',\n",
    "    'BWD' : 'draw_real',\n",
    "    'Date' : 'date'\n",
    "    })\n",
    "\n",
    "# Adding columns for the IDs\n",
    "betting_history['home_id'] = ''\n",
    "betting_history['away_id'] = ''\n",
    "\n",
    "betting_history.head(2)"
   ]
  },
  {
   "cell_type": "markdown",
   "metadata": {},
   "source": [
    "## Team ID Alignment\n",
    "The data in regards to IDs is taken from the team_statistics table from the DataBase. The solution is not the nicest one. Hardcoding such work is not recommendet. From a coding perspective it still did make sense as the numbers are easier to compare and to align"
   ]
  },
  {
   "cell_type": "code",
   "execution_count": 54,
   "metadata": {},
   "outputs": [],
   "source": [
    "# Adding Team IDs for home team\n",
    "betting_history.loc[betting_history['home_name'] == 'Bayern Munich', 'home_id'] = 5\n",
    "betting_history.loc[betting_history['home_name'] == 'Fortuna Dusseldorf', 'home_id'] = 24\n",
    "betting_history.loc[betting_history['home_name'] == 'Freiburg', 'home_id'] = 17\n",
    "betting_history.loc[betting_history['home_name'] == 'Hertha', 'home_id'] = 9\n",
    "betting_history.loc[betting_history['home_name'] == \"M'gladbach\", 'home_id'] = 18\n",
    "betting_history.loc[betting_history['home_name'] == 'Werder Bremen', 'home_id'] = 12\n",
    "betting_history.loc[betting_history['home_name'] == 'Wolfsburg', 'home_id'] = 11\n",
    "betting_history.loc[betting_history['home_name'] == 'Dortmund', 'home_id'] = 4\n",
    "betting_history.loc[betting_history['home_name'] == 'Mainz', 'home_id'] = 15\n",
    "betting_history.loc[betting_history['home_name'] == 'Hannover', 'home_id'] = 8\n",
    "betting_history.loc[betting_history['home_name'] == 'Augsburg', 'home_id'] = 16\n",
    "betting_history.loc[betting_history['home_name'] == 'Ein Frankfurt', 'home_id'] = 19\n",
    "betting_history.loc[betting_history['home_name'] == 'Hoffenheim', 'home_id'] = 2\n",
    "betting_history.loc[betting_history['home_name'] == 'Leverkusen', 'home_id'] = 3\n",
    "betting_history.loc[betting_history['home_name'] == 'Nurnberg', 'home_id'] = 14\n",
    "betting_history.loc[betting_history['home_name'] == 'Stuttgart', 'home_id'] = 10\n",
    "betting_history.loc[betting_history['home_name'] == 'RB Leipzig', 'home_id'] = 721\n",
    "betting_history.loc[betting_history['home_name'] == 'Schalke 04', 'home_id'] = 6"
   ]
  },
  {
   "cell_type": "code",
   "execution_count": 55,
   "metadata": {},
   "outputs": [],
   "source": [
    "# Adding Team IDs for away team\n",
    "betting_history.loc[betting_history['away_name'] == 'Bayern Munich', 'away_id'] = 5\n",
    "betting_history.loc[betting_history['away_name'] == 'Fortuna Dusseldorf', 'away_id'] = 24\n",
    "betting_history.loc[betting_history['away_name'] == 'Freiburg', 'away_id'] = 17\n",
    "betting_history.loc[betting_history['away_name'] == 'Hertha', 'away_id'] = 9\n",
    "betting_history.loc[betting_history['away_name'] == \"M'gladbach\", 'away_id'] = 18\n",
    "betting_history.loc[betting_history['away_name'] == 'Werder Bremen', 'away_id'] = 12\n",
    "betting_history.loc[betting_history['away_name'] == 'Wolfsburg', 'away_id'] = 11\n",
    "betting_history.loc[betting_history['away_name'] == 'Dortmund', 'away_id'] = 4\n",
    "betting_history.loc[betting_history['away_name'] == 'Mainz', 'away_id'] = 15\n",
    "betting_history.loc[betting_history['away_name'] == 'Hannover', 'away_id'] = 8\n",
    "betting_history.loc[betting_history['away_name'] == 'Augsburg', 'away_id'] = 16\n",
    "betting_history.loc[betting_history['away_name'] == 'Ein Frankfurt', 'away_id'] = 19\n",
    "betting_history.loc[betting_history['away_name'] == 'Hoffenheim', 'away_id'] = 2\n",
    "betting_history.loc[betting_history['away_name'] == 'Leverkusen', 'away_id'] = 3\n",
    "betting_history.loc[betting_history['away_name'] == 'Nurnberg', 'away_id'] = 14\n",
    "betting_history.loc[betting_history['away_name'] == 'Stuttgart', 'away_id'] = 10\n",
    "betting_history.loc[betting_history['away_name'] == 'RB Leipzig', 'away_id'] = 721\n",
    "betting_history.loc[betting_history['away_name'] == 'Schalke 04', 'away_id'] = 6"
   ]
  },
  {
   "cell_type": "code",
   "execution_count": 56,
   "metadata": {},
   "outputs": [
    {
     "output_type": "execute_result",
     "data": {
      "text/plain": "        date           home_name   away_name  goals_home  goals_away  \\\n0 2018-08-24       Bayern Munich  Hoffenheim           3           1   \n1 2018-08-25  Fortuna Dusseldorf    Augsburg           1           2   \n\n   home_victory_real  away_victory_real  draw_real home_id away_id  \n0                1.2               11.5        7.5       5       2  \n1                2.4                3.0        3.3      24      16  ",
      "text/html": "<div>\n<style scoped>\n    .dataframe tbody tr th:only-of-type {\n        vertical-align: middle;\n    }\n\n    .dataframe tbody tr th {\n        vertical-align: top;\n    }\n\n    .dataframe thead th {\n        text-align: right;\n    }\n</style>\n<table border=\"1\" class=\"dataframe\">\n  <thead>\n    <tr style=\"text-align: right;\">\n      <th></th>\n      <th>date</th>\n      <th>home_name</th>\n      <th>away_name</th>\n      <th>goals_home</th>\n      <th>goals_away</th>\n      <th>home_victory_real</th>\n      <th>away_victory_real</th>\n      <th>draw_real</th>\n      <th>home_id</th>\n      <th>away_id</th>\n    </tr>\n  </thead>\n  <tbody>\n    <tr>\n      <th>0</th>\n      <td>2018-08-24</td>\n      <td>Bayern Munich</td>\n      <td>Hoffenheim</td>\n      <td>3</td>\n      <td>1</td>\n      <td>1.2</td>\n      <td>11.5</td>\n      <td>7.5</td>\n      <td>5</td>\n      <td>2</td>\n    </tr>\n    <tr>\n      <th>1</th>\n      <td>2018-08-25</td>\n      <td>Fortuna Dusseldorf</td>\n      <td>Augsburg</td>\n      <td>1</td>\n      <td>2</td>\n      <td>2.4</td>\n      <td>3.0</td>\n      <td>3.3</td>\n      <td>24</td>\n      <td>16</td>\n    </tr>\n  </tbody>\n</table>\n</div>"
     },
     "metadata": {},
     "execution_count": 56
    }
   ],
   "source": [
    "betting_history.head(2)"
   ]
  },
  {
   "cell_type": "markdown",
   "metadata": {},
   "source": [
    "# Store History Betting Data into Database and calculate model quotes\n",
    "## Update all historical Quotes"
   ]
  },
  {
   "cell_type": "code",
   "execution_count": 57,
   "metadata": {},
   "outputs": [
    {
     "output_type": "execute_result",
     "data": {
      "text/plain": "   match_id       date  goals_home  goals_away  home_id  away_id  \\\n0    235699 2018-08-31           0           0        8        4   \n1    235705 2018-09-16           1           1       12       14   \n\n          home_name                away_name home_victory_pred  \\\n0       Hannover 96  BV Borussia 09 Dortmund              None   \n1  SV Werder Bremen           1. FC Nürnberg              None   \n\n  away_victory_pred draw_pred home_victory_real away_victory_real draw_real  \n0              None      None              None              None      None  \n1              None      None              None              None      None  ",
      "text/html": "<div>\n<style scoped>\n    .dataframe tbody tr th:only-of-type {\n        vertical-align: middle;\n    }\n\n    .dataframe tbody tr th {\n        vertical-align: top;\n    }\n\n    .dataframe thead th {\n        text-align: right;\n    }\n</style>\n<table border=\"1\" class=\"dataframe\">\n  <thead>\n    <tr style=\"text-align: right;\">\n      <th></th>\n      <th>match_id</th>\n      <th>date</th>\n      <th>goals_home</th>\n      <th>goals_away</th>\n      <th>home_id</th>\n      <th>away_id</th>\n      <th>home_name</th>\n      <th>away_name</th>\n      <th>home_victory_pred</th>\n      <th>away_victory_pred</th>\n      <th>draw_pred</th>\n      <th>home_victory_real</th>\n      <th>away_victory_real</th>\n      <th>draw_real</th>\n    </tr>\n  </thead>\n  <tbody>\n    <tr>\n      <th>0</th>\n      <td>235699</td>\n      <td>2018-08-31</td>\n      <td>0</td>\n      <td>0</td>\n      <td>8</td>\n      <td>4</td>\n      <td>Hannover 96</td>\n      <td>BV Borussia 09 Dortmund</td>\n      <td>None</td>\n      <td>None</td>\n      <td>None</td>\n      <td>None</td>\n      <td>None</td>\n      <td>None</td>\n    </tr>\n    <tr>\n      <th>1</th>\n      <td>235705</td>\n      <td>2018-09-16</td>\n      <td>1</td>\n      <td>1</td>\n      <td>12</td>\n      <td>14</td>\n      <td>SV Werder Bremen</td>\n      <td>1. FC Nürnberg</td>\n      <td>None</td>\n      <td>None</td>\n      <td>None</td>\n      <td>None</td>\n      <td>None</td>\n      <td>None</td>\n    </tr>\n  </tbody>\n</table>\n</div>"
     },
     "metadata": {},
     "execution_count": 57
    }
   ],
   "source": [
    "# Load all MAtch_Ids as they work as primary key from the betting statistics\n",
    "betting_data = 'SELECT * FROM sportwetten.betting_data'\n",
    "betting_data = pd.read_sql(betting_data, con=con)\n",
    "betting_data.head(2)"
   ]
  },
  {
   "cell_type": "code",
   "execution_count": 58,
   "metadata": {
    "tags": [
     "outputPrepend"
    ]
   },
   "outputs": [],
   "source": [
    "for i in range(len(betting_data)) : \n",
    "    # Get IDs and date of playing teams\n",
    "    home_id = betting_data.loc[i, 'home_id']\n",
    "    away_id = betting_data.loc[i, 'away_id']\n",
    "\n",
    "    # Get historical betting quotes\n",
    "    home_victory_real = betting_history.loc[(betting_history['home_id'] == home_id) & (betting_history['away_id'] == away_id), 'home_victory_real'].values\n",
    "    away_victory_real = betting_history.loc[(betting_history['home_id'] == home_id) & (betting_history['away_id'] == away_id), 'away_victory_real'].values\n",
    "    draw_real = betting_history.loc[(betting_history['home_id'] == home_id) & (betting_history['away_id'] == away_id), 'draw_real'].values\n",
    "\n",
    "    # Update frame with quotes\n",
    "    betting_data.loc[(betting_data['home_id'] == home_id) & (betting_data['away_id'] == away_id), 'home_victory_real'] =  home_victory_real[0]\n",
    "    betting_data.loc[(betting_data['home_id'] == home_id) & (betting_data['away_id'] == away_id), 'away_victory_real'] =  away_victory_real[0]\n",
    "    betting_data.loc[(betting_data['home_id'] == home_id) & (betting_data['away_id'] == away_id), 'draw_real'] =  draw_real[0]\n"
   ]
  },
  {
   "cell_type": "code",
   "execution_count": 59,
   "metadata": {},
   "outputs": [
    {
     "output_type": "execute_result",
     "data": {
      "text/plain": "   match_id       date  goals_home  goals_away  home_id  away_id  \\\n0    235699 2018-08-31           0           0        8        4   \n1    235705 2018-09-16           1           1       12       14   \n\n          home_name                away_name home_victory_pred  \\\n0       Hannover 96  BV Borussia 09 Dortmund              None   \n1  SV Werder Bremen           1. FC Nürnberg              None   \n\n  away_victory_pred draw_pred home_victory_real away_victory_real draw_real  \n0              None      None               5.5              1.57      4.33  \n1              None      None              1.67                 5         4  ",
      "text/html": "<div>\n<style scoped>\n    .dataframe tbody tr th:only-of-type {\n        vertical-align: middle;\n    }\n\n    .dataframe tbody tr th {\n        vertical-align: top;\n    }\n\n    .dataframe thead th {\n        text-align: right;\n    }\n</style>\n<table border=\"1\" class=\"dataframe\">\n  <thead>\n    <tr style=\"text-align: right;\">\n      <th></th>\n      <th>match_id</th>\n      <th>date</th>\n      <th>goals_home</th>\n      <th>goals_away</th>\n      <th>home_id</th>\n      <th>away_id</th>\n      <th>home_name</th>\n      <th>away_name</th>\n      <th>home_victory_pred</th>\n      <th>away_victory_pred</th>\n      <th>draw_pred</th>\n      <th>home_victory_real</th>\n      <th>away_victory_real</th>\n      <th>draw_real</th>\n    </tr>\n  </thead>\n  <tbody>\n    <tr>\n      <th>0</th>\n      <td>235699</td>\n      <td>2018-08-31</td>\n      <td>0</td>\n      <td>0</td>\n      <td>8</td>\n      <td>4</td>\n      <td>Hannover 96</td>\n      <td>BV Borussia 09 Dortmund</td>\n      <td>None</td>\n      <td>None</td>\n      <td>None</td>\n      <td>5.5</td>\n      <td>1.57</td>\n      <td>4.33</td>\n    </tr>\n    <tr>\n      <th>1</th>\n      <td>235705</td>\n      <td>2018-09-16</td>\n      <td>1</td>\n      <td>1</td>\n      <td>12</td>\n      <td>14</td>\n      <td>SV Werder Bremen</td>\n      <td>1. FC Nürnberg</td>\n      <td>None</td>\n      <td>None</td>\n      <td>None</td>\n      <td>1.67</td>\n      <td>5</td>\n      <td>4</td>\n    </tr>\n  </tbody>\n</table>\n</div>"
     },
     "metadata": {},
     "execution_count": 59
    }
   ],
   "source": [
    "betting_data.head(2)"
   ]
  },
  {
   "cell_type": "markdown",
   "metadata": {},
   "source": [
    "## Update all model quotes\n",
    "The betting quotes are calculated as follow:\n",
    "\n",
    "100 / probability of event = quote"
   ]
  },
  {
   "cell_type": "code",
   "execution_count": 60,
   "metadata": {},
   "outputs": [],
   "source": [
    "for i in range(len(betting_data)) : \n",
    "    # Get IDs and date of playing teams\n",
    "    home_id = betting_data.loc[i, 'home_id']\n",
    "    away_id = betting_data.loc[i, 'away_id']\n",
    "\n",
    "    # Get predicted betting quotes with probability function\n",
    "    df = match_prediction_prob(home_id, away_id, 1000)\n",
    "    home_victory_pred = df['wins_home'].iloc[-1]\n",
    "    away_victory_pred = df['wins_away'].iloc[-1]\n",
    "    draw_pred = df['draws'].iloc[-1]\n",
    "\n",
    "    # Update frame with quotes\n",
    "    betting_data.loc[(betting_data['home_id'] == home_id) & (betting_data['away_id'] == away_id), 'home_victory_pred'] = 1 / home_victory_pred\n",
    "    betting_data.loc[(betting_data['home_id'] == home_id) & (betting_data['away_id'] == away_id), 'away_victory_pred'] =  1 / away_victory_pred\n",
    "    betting_data.loc[(betting_data['home_id'] == home_id) & (betting_data['away_id'] == away_id), 'draw_pred'] =  1 / draw_pred"
   ]
  },
  {
   "cell_type": "code",
   "execution_count": 61,
   "metadata": {},
   "outputs": [
    {
     "output_type": "execute_result",
     "data": {
      "text/plain": "   match_id       date  goals_home  goals_away  home_id  away_id  \\\n0    235699 2018-08-31           0           0        8        4   \n1    235705 2018-09-16           1           1       12       14   \n2    235728 2018-09-25           1           0       17        6   \n3    235733 2018-09-29           1           0        6       15   \n4    235753 2018-10-21           1           1        9       17   \n5    235763 2018-10-26           3           1       17       18   \n6    235769 2018-11-03           0           3        9      721   \n7    235770 2018-11-04           3           0       18       24   \n8    235789 2018-11-23           2           0        3       10   \n9    235794 2018-12-02           1           2       19       11   \n\n                  home_name                  away_name home_victory_pred  \\\n0               Hannover 96    BV Borussia 09 Dortmund           1.27877   \n1          SV Werder Bremen             1. FC Nürnberg           4.06504   \n2               SC Freiburg              FC Schalke 04           2.71739   \n3             FC Schalke 04            1. FSV Mainz 05           2.25225   \n4                Hertha BSC                SC Freiburg           1.89036   \n5               SC Freiburg   Borussia Mönchengladbach           1.58479   \n6                Hertha BSC                 RB Leipzig           1.70648   \n7  Borussia Mönchengladbach  TSV Fortuna 95 Düsseldorf           2.51256   \n8       Bayer 04 Leverkusen              VfB Stuttgart           4.90196   \n9       Eintracht Frankfurt              VfL Wolfsburg           2.10526   \n\n  away_victory_pred draw_pred home_victory_real away_victory_real draw_real  \n0           11.4943   7.63359               5.5              1.57      4.33  \n1           2.08768   3.63636              1.67                 5         4  \n2           3.15457    3.1746               3.4               2.2       3.3  \n3             3.125   4.23729              1.65               5.5       3.8  \n4             3.861   4.71698              1.87               4.2       3.6  \n5           6.32911   4.73934               3.4               2.1       3.6  \n6           4.71698    4.9505               3.3               2.2       3.4  \n7           2.49377   4.97512               1.4                 8      4.75  \n8           1.77305   4.31034              1.55              5.75      4.33  \n9            3.1746    4.7619              1.85               4.2       3.7  ",
      "text/html": "<div>\n<style scoped>\n    .dataframe tbody tr th:only-of-type {\n        vertical-align: middle;\n    }\n\n    .dataframe tbody tr th {\n        vertical-align: top;\n    }\n\n    .dataframe thead th {\n        text-align: right;\n    }\n</style>\n<table border=\"1\" class=\"dataframe\">\n  <thead>\n    <tr style=\"text-align: right;\">\n      <th></th>\n      <th>match_id</th>\n      <th>date</th>\n      <th>goals_home</th>\n      <th>goals_away</th>\n      <th>home_id</th>\n      <th>away_id</th>\n      <th>home_name</th>\n      <th>away_name</th>\n      <th>home_victory_pred</th>\n      <th>away_victory_pred</th>\n      <th>draw_pred</th>\n      <th>home_victory_real</th>\n      <th>away_victory_real</th>\n      <th>draw_real</th>\n    </tr>\n  </thead>\n  <tbody>\n    <tr>\n      <th>0</th>\n      <td>235699</td>\n      <td>2018-08-31</td>\n      <td>0</td>\n      <td>0</td>\n      <td>8</td>\n      <td>4</td>\n      <td>Hannover 96</td>\n      <td>BV Borussia 09 Dortmund</td>\n      <td>1.27877</td>\n      <td>11.4943</td>\n      <td>7.63359</td>\n      <td>5.5</td>\n      <td>1.57</td>\n      <td>4.33</td>\n    </tr>\n    <tr>\n      <th>1</th>\n      <td>235705</td>\n      <td>2018-09-16</td>\n      <td>1</td>\n      <td>1</td>\n      <td>12</td>\n      <td>14</td>\n      <td>SV Werder Bremen</td>\n      <td>1. FC Nürnberg</td>\n      <td>4.06504</td>\n      <td>2.08768</td>\n      <td>3.63636</td>\n      <td>1.67</td>\n      <td>5</td>\n      <td>4</td>\n    </tr>\n    <tr>\n      <th>2</th>\n      <td>235728</td>\n      <td>2018-09-25</td>\n      <td>1</td>\n      <td>0</td>\n      <td>17</td>\n      <td>6</td>\n      <td>SC Freiburg</td>\n      <td>FC Schalke 04</td>\n      <td>2.71739</td>\n      <td>3.15457</td>\n      <td>3.1746</td>\n      <td>3.4</td>\n      <td>2.2</td>\n      <td>3.3</td>\n    </tr>\n    <tr>\n      <th>3</th>\n      <td>235733</td>\n      <td>2018-09-29</td>\n      <td>1</td>\n      <td>0</td>\n      <td>6</td>\n      <td>15</td>\n      <td>FC Schalke 04</td>\n      <td>1. FSV Mainz 05</td>\n      <td>2.25225</td>\n      <td>3.125</td>\n      <td>4.23729</td>\n      <td>1.65</td>\n      <td>5.5</td>\n      <td>3.8</td>\n    </tr>\n    <tr>\n      <th>4</th>\n      <td>235753</td>\n      <td>2018-10-21</td>\n      <td>1</td>\n      <td>1</td>\n      <td>9</td>\n      <td>17</td>\n      <td>Hertha BSC</td>\n      <td>SC Freiburg</td>\n      <td>1.89036</td>\n      <td>3.861</td>\n      <td>4.71698</td>\n      <td>1.87</td>\n      <td>4.2</td>\n      <td>3.6</td>\n    </tr>\n    <tr>\n      <th>5</th>\n      <td>235763</td>\n      <td>2018-10-26</td>\n      <td>3</td>\n      <td>1</td>\n      <td>17</td>\n      <td>18</td>\n      <td>SC Freiburg</td>\n      <td>Borussia Mönchengladbach</td>\n      <td>1.58479</td>\n      <td>6.32911</td>\n      <td>4.73934</td>\n      <td>3.4</td>\n      <td>2.1</td>\n      <td>3.6</td>\n    </tr>\n    <tr>\n      <th>6</th>\n      <td>235769</td>\n      <td>2018-11-03</td>\n      <td>0</td>\n      <td>3</td>\n      <td>9</td>\n      <td>721</td>\n      <td>Hertha BSC</td>\n      <td>RB Leipzig</td>\n      <td>1.70648</td>\n      <td>4.71698</td>\n      <td>4.9505</td>\n      <td>3.3</td>\n      <td>2.2</td>\n      <td>3.4</td>\n    </tr>\n    <tr>\n      <th>7</th>\n      <td>235770</td>\n      <td>2018-11-04</td>\n      <td>3</td>\n      <td>0</td>\n      <td>18</td>\n      <td>24</td>\n      <td>Borussia Mönchengladbach</td>\n      <td>TSV Fortuna 95 Düsseldorf</td>\n      <td>2.51256</td>\n      <td>2.49377</td>\n      <td>4.97512</td>\n      <td>1.4</td>\n      <td>8</td>\n      <td>4.75</td>\n    </tr>\n    <tr>\n      <th>8</th>\n      <td>235789</td>\n      <td>2018-11-23</td>\n      <td>2</td>\n      <td>0</td>\n      <td>3</td>\n      <td>10</td>\n      <td>Bayer 04 Leverkusen</td>\n      <td>VfB Stuttgart</td>\n      <td>4.90196</td>\n      <td>1.77305</td>\n      <td>4.31034</td>\n      <td>1.55</td>\n      <td>5.75</td>\n      <td>4.33</td>\n    </tr>\n    <tr>\n      <th>9</th>\n      <td>235794</td>\n      <td>2018-12-02</td>\n      <td>1</td>\n      <td>2</td>\n      <td>19</td>\n      <td>11</td>\n      <td>Eintracht Frankfurt</td>\n      <td>VfL Wolfsburg</td>\n      <td>2.10526</td>\n      <td>3.1746</td>\n      <td>4.7619</td>\n      <td>1.85</td>\n      <td>4.2</td>\n      <td>3.7</td>\n    </tr>\n  </tbody>\n</table>\n</div>"
     },
     "metadata": {},
     "execution_count": 61
    }
   ],
   "source": [
    "betting_data.head(10)"
   ]
  },
  {
   "cell_type": "code",
   "execution_count": 62,
   "metadata": {},
   "outputs": [],
   "source": [
    "#Safe DataFrame back into Database\n",
    "#Drop all Data from Database\n",
    "delet_rows = text(\"\"\"\n",
    "DELETE FROM sportwetten.betting_data;\n",
    "\"\"\")\n",
    "con.execute(delet_rows)\n",
    "\n",
    "#Send Data to Database\n",
    "betting_data.to_sql(con=con, name='betting_data', if_exists='replace')"
   ]
  },
  {
   "cell_type": "markdown",
   "metadata": {},
   "source": [
    "# Evaluation\n",
    "In order to evaluate my model I will compare the actual results (stored in betting data) with the quotes from history and my predicted model quotes. The lowest quote signals the highest probability of the event. Example: If away_victory is the lowst quote out of the three (away_victory, home_victory & draw) then most probably the away team will winn. As seen above in the table I do not agree all the time with the historical bett quotes. \n",
    "The comparison will proceed as follow: \n",
    "- 1st: Check what was the outcome of the match? Home victory, Away victory or draw\n",
    "- 2nd: Check what has the model predicted\n",
    "- 3rd: Check what the historical qutoes have predicted\n",
    "- 4th: Check which of the two have predicted the future better"
   ]
  },
  {
   "cell_type": "code",
   "execution_count": 67,
   "metadata": {},
   "outputs": [
    {
     "output_type": "stream",
     "name": "stdout",
     "text": "Out of 31 matches, the build model has done 10 times a correct prediction\nOut of 31 matches, the historical betting quotes have done 13 times a correct prediction\n"
    }
   ],
   "source": [
    "# Set the counter to zero\n",
    "hits_prediction_of_model = 0\n",
    "hits_prediction_of_historical = 0\n",
    "\n",
    "for i in range(len(betting_data)) : \n",
    "    # Get the results of the match\n",
    "    goals_home = betting_data.loc[i, 'goals_home']\n",
    "    goals_away = betting_data.loc[i, 'goals_away']\n",
    "\n",
    "    # Get predicted values\n",
    "    home_victory_pred = betting_data.loc[i, 'home_victory_pred']\n",
    "    away_victory_pred = betting_data.loc[i, 'away_victory_pred']\n",
    "    draw_pred = betting_data.loc[i, 'draw_pred']\n",
    "\n",
    "    # Get historical values\n",
    "    home_victory_real = betting_data.loc[i, 'home_victory_real']\n",
    "    away_victory_real = betting_data.loc[i, 'away_victory_pred']\n",
    "    draw_real = betting_data.loc[i, 'draw_real']\n",
    "\n",
    "    if goals_away == goals_home:\n",
    "        if draw_pred > home_victory_pred and draw_pred > away_victory_pred:\n",
    "            hits_prediction_of_model += 1\n",
    "        if draw_real > home_victory_real and draw_pred > away_victory_pred:\n",
    "            hits_prediction_of_historical += 1\n",
    "\n",
    "    if goals_away > goals_home:\n",
    "        if away_victory_pred > draw_pred and away_victory_pred > home_victory_pred:\n",
    "            hits_prediction_of_model += 1\n",
    "        if away_victory_real > draw_real and away_victory_real > home_victory_real:\n",
    "            hits_prediction_of_historical += 1\n",
    "\n",
    "    if goals_away < goals_home:\n",
    "        if home_victory_pred > draw_pred and home_victory_pred > away_victory_pred:\n",
    "            hits_prediction_of_model += 1\n",
    "        if home_victory_real > draw_real and home_victory_real > away_victory_real:\n",
    "            hits_prediction_of_historical += 1\n",
    "\n",
    "print(\"Out of %i matches, the build model has done %i times a correct prediction\" % (len(betting_data), hits_prediction_of_model))\n",
    "print(\"Out of %i matches, the historical betting quotes have done %i times a correct prediction\" % (len(betting_data), hits_prediction_of_historical))"
   ]
  },
  {
   "cell_type": "markdown",
   "metadata": {},
   "source": [
    "# Final Findings\n",
    "First of all, it is clear, that building a prediction model only based on the amount of goals is not really a good model at all. However I am still surprised that it was able to predict almost the same amout of correct matches as the historical betting data. But have I cheated somehow to achieve this?\n",
    "\n",
    "I think so!\n",
    "\n",
    "Predicting past football matches based on the scored goals from relative future events is not possible. This immediatelly leads to the point, where this kind of model is not able to predict anything at the beginning of the season as it takes some datapoints before being able to predict an outcome. \n",
    "\n",
    "Furthermore, every season is different, new players are bought or sold, same goes for the half time of the season, there is a lot of movement in the team structure which leads to different performance outputs."
   ]
  }
 ],
 "metadata": {
  "kernelspec": {
   "display_name": "Python 3",
   "language": "python",
   "name": "python3"
  },
  "language_info": {
   "codemirror_mode": {
    "name": "ipython",
    "version": 3
   },
   "file_extension": ".py",
   "mimetype": "text/x-python",
   "name": "python",
   "nbconvert_exporter": "python",
   "pygments_lexer": "ipython3",
   "version": "3.7.6-final"
  }
 },
 "nbformat": 4,
 "nbformat_minor": 2
}