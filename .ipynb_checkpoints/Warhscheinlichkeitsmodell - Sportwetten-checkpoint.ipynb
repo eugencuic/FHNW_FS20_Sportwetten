{
 "cells": [
  {
   "cell_type": "code",
   "execution_count": null,
   "metadata": {},
   "outputs": [],
   "source": [
    "'''\n",
    "Football Daten: https://sportmonks.com/docs/football/2.0/leagues/a/get-all-leagues/6\n",
    "\n",
    "Check status codes if you want to have ocnditions based on the returns:\n",
    "    https://en.wikipedia.org/wiki/List_of_HTTP_status_codes\n",
    "\n",
    "'''\n"
   ]
  },
  {
   "cell_type": "code",
   "execution_count": 1,
   "metadata": {},
   "outputs": [],
   "source": [
    "import http.client\n",
    "import requests\n",
    "import json\n",
    "import pandas as pd\n",
    "from pandas.io.json import json_normalize\n",
    "\n",
    "\n"
   ]
  },
  {
   "cell_type": "markdown",
   "metadata": {},
   "source": [
    " tTestcell\n",
    "\n"
   ]
  },
  {
   "cell_type": "code",
   "execution_count": 30,
   "metadata": {},
   "outputs": [
    {
     "data": {
      "text/plain": [
       "{'data': [{'id': 271,\n",
       "   'active': True,\n",
       "   'type': 'domestic',\n",
       "   'legacy_id': 43,\n",
       "   'country_id': 320,\n",
       "   'logo_path': 'https://cdn.sportmonks.com/images/soccer/leagues/271.png',\n",
       "   'name': 'Superliga',\n",
       "   'is_cup': False,\n",
       "   'current_season_id': 16020,\n",
       "   'current_round_id': None,\n",
       "   'current_stage_id': 77443801,\n",
       "   'live_standings': True,\n",
       "   'coverage': {'predictions': True,\n",
       "    'topscorer_goals': True,\n",
       "    'topscorer_assists': True,\n",
       "    'topscorer_cards': True}},\n",
       "  {'id': 501,\n",
       "   'active': True,\n",
       "   'type': 'domestic',\n",
       "   'legacy_id': 66,\n",
       "   'country_id': 1161,\n",
       "   'logo_path': 'https://cdn.sportmonks.com/images/soccer/leagues/501.png',\n",
       "   'name': 'Premiership',\n",
       "   'is_cup': False,\n",
       "   'current_season_id': 16222,\n",
       "   'current_round_id': 173673,\n",
       "   'current_stage_id': 77444704,\n",
       "   'live_standings': True,\n",
       "   'coverage': {'predictions': True,\n",
       "    'topscorer_goals': True,\n",
       "    'topscorer_assists': True,\n",
       "    'topscorer_cards': True}},\n",
       "  {'id': 513,\n",
       "   'active': True,\n",
       "   'type': 'domestic',\n",
       "   'legacy_id': None,\n",
       "   'country_id': 1161,\n",
       "   'logo_path': 'https://cdn.sportmonks.com/images/soccer/leagues/1/513.png',\n",
       "   'name': 'Premiership Play-Offs',\n",
       "   'is_cup': False,\n",
       "   'current_season_id': 15936,\n",
       "   'current_round_id': None,\n",
       "   'current_stage_id': None,\n",
       "   'live_standings': False,\n",
       "   'coverage': {'predictions': True,\n",
       "    'topscorer_goals': True,\n",
       "    'topscorer_assists': True,\n",
       "    'topscorer_cards': True}},\n",
       "  {'id': 1659,\n",
       "   'active': True,\n",
       "   'type': 'domestic',\n",
       "   'legacy_id': None,\n",
       "   'country_id': 320,\n",
       "   'logo_path': 'https://cdn.sportmonks.com/images//soccer/leagues/27/1659.png',\n",
       "   'name': 'Superliga Play-offs',\n",
       "   'is_cup': False,\n",
       "   'current_season_id': 15949,\n",
       "   'current_round_id': None,\n",
       "   'current_stage_id': None,\n",
       "   'live_standings': False,\n",
       "   'coverage': {'predictions': True,\n",
       "    'topscorer_goals': True,\n",
       "    'topscorer_assists': True,\n",
       "    'topscorer_cards': True}}],\n",
       " 'meta': {'subscription': {'started_at': {'date': '2017-03-20 21:02:56.000000',\n",
       "    'timezone_type': 3,\n",
       "    'timezone': 'UTC'},\n",
       "   'trial_ends_at': None,\n",
       "   'ends_at': None},\n",
       "  'plan': {'name': 'Free Plan', 'price': '0.00', 'request_limit': '3,1'},\n",
       "  'sports': [{'id': 1, 'name': 'Soccer', 'current': True},\n",
       "   {'id': 6, 'name': 'Cricket', 'current': False}],\n",
       "  'pagination': {'total': 4,\n",
       "   'count': 4,\n",
       "   'per_page': 100,\n",
       "   'current_page': 1,\n",
       "   'total_pages': 1,\n",
       "   'links': {}}}}"
      ]
     },
     "execution_count": 30,
     "metadata": {},
     "output_type": "execute_result"
    }
   ],
   "source": [
    "myUrl= 'https://soccer.sportmonks.com/api/v2.0/'\n",
    "myToken = 'EE7VO38kKLaw36IPLaz65tyXMsWwI0U66BOrsWIRwa9yfRJgxZgTx4IWOvGK'\n",
    "timezone = 'Europe/Amsterdam'\n",
    "\n",
    "\n",
    "response_seasons = requests.get(myUrl + \"leagues?api_token={}&tz={}\".format(myToken, timezone))\n",
    "response_seasons.json()\n",
    "\n"
   ]
  },
  {
   "cell_type": "code",
   "execution_count": 8,
   "metadata": {},
   "outputs": [
    {
     "data": {
      "text/plain": [
       "{'data': {'standings': [],\n",
       "  'rounds': [],\n",
       "  'groups': {},\n",
       "  'statusCode': '200',\n",
       "  'errorCode': '0',\n",
       "  'statusReason': 'OK'}}"
      ]
     },
     "execution_count": 8,
     "metadata": {},
     "output_type": "execute_result"
    }
   ],
   "source": [
    "response_season_16_17 = requests.get(myUrl + \"leagues/16-17/seasons/bundesliga\", headers=headers)\n",
    "response_season_16_17.json()"
   ]
  },
  {
   "cell_type": "code",
   "execution_count": null,
   "metadata": {},
   "outputs": [],
   "source": [
    "for c in response.json()['competitions']:\n",
    "    print (c['area']['name'] + \" - \" + c['name'] + c['code'])"
   ]
  }
 ],
 "metadata": {
  "kernelspec": {
   "display_name": "Python 3",
   "language": "python",
   "name": "python3"
  },
  "language_info": {
   "codemirror_mode": {
    "name": "ipython",
    "version": 3
   },
   "file_extension": ".py",
   "mimetype": "text/x-python",
   "name": "python",
   "nbconvert_exporter": "python",
   "pygments_lexer": "ipython3",
   "version": "3.7.6"
  }
 },
 "nbformat": 4,
 "nbformat_minor": 2
}
